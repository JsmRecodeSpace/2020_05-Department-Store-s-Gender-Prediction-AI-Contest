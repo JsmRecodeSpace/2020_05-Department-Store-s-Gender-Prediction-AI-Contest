{
 "cells": [
  {
   "cell_type": "code",
   "execution_count": 1,
   "metadata": {},
   "outputs": [],
   "source": [
    "import pandas as pd\n",
    "\n",
    "from scipy.stats.mstats import gmean\n",
    "\n",
    "import seaborn as sns\n",
    "import matplotlib.pylab as plt\n",
    "\n",
    "%matplotlib inline"
   ]
  },
  {
   "cell_type": "code",
   "execution_count": 1,
   "metadata": {},
   "outputs": [
    {
     "name": "stdout",
     "output_type": "stream",
     "text": [
      "C:\\Users\\john9\\Downloads\\3학년 2학기\\머신러닝\\과제\\5차\\Data\n"
     ]
    }
   ],
   "source": [
    "cd C:\\Users\\john9\\Downloads\\3학년 2학기\\머신러닝\\과제\\5차\\Data"
   ]
  },
  {
   "cell_type": "code",
   "execution_count": 4,
   "metadata": {},
   "outputs": [],
   "source": [
    "IDtest = pd.read_csv('X_test.csv', encoding='cp949').cust_id.unique()"
   ]
  },
  {
   "cell_type": "code",
   "execution_count": 5,
   "metadata": {},
   "outputs": [
    {
     "name": "stdout",
     "output_type": "stream",
     "text": [
      "C:\\Users\\john9\\Downloads\\3학년 2학기\\머신러닝\\과제\\5차\\Submission\\4차제출()\n"
     ]
    }
   ],
   "source": [
    "cd C:\\Users\\john9\\Downloads\\3학년 2학기\\머신러닝\\과제\\5차\\Submission\\4차제출()"
   ]
  },
  {
   "cell_type": "code",
   "execution_count": 3,
   "metadata": {},
   "outputs": [],
   "source": [
    "#f1\n",
    "dnn_f1 = pd.read_csv('DNN_F1_En4_submit_06151434.csv').gender\n",
    "\n",
    "#f2\n",
    "dnn_f2 = pd.read_csv('DNN_F2_En4_submit_06151731.csv').gender\n",
    "\n",
    "#f3\n",
    "dnn_f4 = pd.read_csv('DNN_F4_En2_submit_06151748.csv').gender\n",
    "\n",
    "#f4\n",
    "dnn_w2v = pd.read_csv('DNN_F5_En3_submit_06151815.csv').gender\n",
    "\n",
    "#f5\n",
    "dae_dnn = pd.read_csv('DAE(GN+DO)&DNN_En4_submit_06152131.csv').gender\n",
    "\n",
    "#f6\n",
    "conv1d = pd.read_csv('ConV1d_p3.5n1_submit_06152225.csv').gender"
   ]
  },
  {
   "cell_type": "code",
   "execution_count": 4,
   "metadata": {
    "scrolled": true
   },
   "outputs": [
    {
     "data": {
      "text/html": [
       "<div>\n",
       "<style scoped>\n",
       "    .dataframe tbody tr th:only-of-type {\n",
       "        vertical-align: middle;\n",
       "    }\n",
       "\n",
       "    .dataframe tbody tr th {\n",
       "        vertical-align: top;\n",
       "    }\n",
       "\n",
       "    .dataframe thead th {\n",
       "        text-align: right;\n",
       "    }\n",
       "</style>\n",
       "<table border=\"1\" class=\"dataframe\">\n",
       "  <thead>\n",
       "    <tr style=\"text-align: right;\">\n",
       "      <th></th>\n",
       "      <th>F1</th>\n",
       "      <th>F2</th>\n",
       "      <th>F3</th>\n",
       "      <th>F4</th>\n",
       "      <th>F5</th>\n",
       "      <th>F6</th>\n",
       "    </tr>\n",
       "  </thead>\n",
       "  <tbody>\n",
       "    <tr>\n",
       "      <th>0</th>\n",
       "      <td>0.885944</td>\n",
       "      <td>0.776216</td>\n",
       "      <td>0.872474</td>\n",
       "      <td>0.719566</td>\n",
       "      <td>0.707979</td>\n",
       "      <td>0.731400</td>\n",
       "    </tr>\n",
       "    <tr>\n",
       "      <th>1</th>\n",
       "      <td>0.254493</td>\n",
       "      <td>0.315922</td>\n",
       "      <td>0.184694</td>\n",
       "      <td>0.492481</td>\n",
       "      <td>0.183419</td>\n",
       "      <td>0.092896</td>\n",
       "    </tr>\n",
       "    <tr>\n",
       "      <th>2</th>\n",
       "      <td>0.184366</td>\n",
       "      <td>0.164296</td>\n",
       "      <td>0.141308</td>\n",
       "      <td>0.337431</td>\n",
       "      <td>0.283403</td>\n",
       "      <td>0.177583</td>\n",
       "    </tr>\n",
       "    <tr>\n",
       "      <th>3</th>\n",
       "      <td>0.177560</td>\n",
       "      <td>0.292863</td>\n",
       "      <td>0.166898</td>\n",
       "      <td>0.464332</td>\n",
       "      <td>0.259559</td>\n",
       "      <td>0.142461</td>\n",
       "    </tr>\n",
       "    <tr>\n",
       "      <th>4</th>\n",
       "      <td>0.294655</td>\n",
       "      <td>0.350272</td>\n",
       "      <td>0.251933</td>\n",
       "      <td>0.458719</td>\n",
       "      <td>0.437457</td>\n",
       "      <td>0.271659</td>\n",
       "    </tr>\n",
       "    <tr>\n",
       "      <th>...</th>\n",
       "      <td>...</td>\n",
       "      <td>...</td>\n",
       "      <td>...</td>\n",
       "      <td>...</td>\n",
       "      <td>...</td>\n",
       "      <td>...</td>\n",
       "    </tr>\n",
       "    <tr>\n",
       "      <th>2477</th>\n",
       "      <td>0.824949</td>\n",
       "      <td>0.638202</td>\n",
       "      <td>0.620539</td>\n",
       "      <td>0.452727</td>\n",
       "      <td>0.550888</td>\n",
       "      <td>0.713539</td>\n",
       "    </tr>\n",
       "    <tr>\n",
       "      <th>2478</th>\n",
       "      <td>0.266689</td>\n",
       "      <td>0.373475</td>\n",
       "      <td>0.349302</td>\n",
       "      <td>0.338296</td>\n",
       "      <td>0.438822</td>\n",
       "      <td>0.302715</td>\n",
       "    </tr>\n",
       "    <tr>\n",
       "      <th>2479</th>\n",
       "      <td>0.794305</td>\n",
       "      <td>0.765560</td>\n",
       "      <td>0.756555</td>\n",
       "      <td>0.951072</td>\n",
       "      <td>0.766003</td>\n",
       "      <td>0.621871</td>\n",
       "    </tr>\n",
       "    <tr>\n",
       "      <th>2480</th>\n",
       "      <td>0.489096</td>\n",
       "      <td>0.599993</td>\n",
       "      <td>0.364993</td>\n",
       "      <td>0.225966</td>\n",
       "      <td>0.386596</td>\n",
       "      <td>0.493707</td>\n",
       "    </tr>\n",
       "    <tr>\n",
       "      <th>2481</th>\n",
       "      <td>0.447739</td>\n",
       "      <td>0.473956</td>\n",
       "      <td>0.486933</td>\n",
       "      <td>0.579597</td>\n",
       "      <td>0.560114</td>\n",
       "      <td>0.671034</td>\n",
       "    </tr>\n",
       "  </tbody>\n",
       "</table>\n",
       "<p>2482 rows × 6 columns</p>\n",
       "</div>"
      ],
      "text/plain": [
       "            F1        F2        F3        F4        F5        F6\n",
       "0     0.885944  0.776216  0.872474  0.719566  0.707979  0.731400\n",
       "1     0.254493  0.315922  0.184694  0.492481  0.183419  0.092896\n",
       "2     0.184366  0.164296  0.141308  0.337431  0.283403  0.177583\n",
       "3     0.177560  0.292863  0.166898  0.464332  0.259559  0.142461\n",
       "4     0.294655  0.350272  0.251933  0.458719  0.437457  0.271659\n",
       "...        ...       ...       ...       ...       ...       ...\n",
       "2477  0.824949  0.638202  0.620539  0.452727  0.550888  0.713539\n",
       "2478  0.266689  0.373475  0.349302  0.338296  0.438822  0.302715\n",
       "2479  0.794305  0.765560  0.756555  0.951072  0.766003  0.621871\n",
       "2480  0.489096  0.599993  0.364993  0.225966  0.386596  0.493707\n",
       "2481  0.447739  0.473956  0.486933  0.579597  0.560114  0.671034\n",
       "\n",
       "[2482 rows x 6 columns]"
      ]
     },
     "execution_count": 4,
     "metadata": {},
     "output_type": "execute_result"
    }
   ],
   "source": [
    "pred_sex = pd.concat([dnn_f1,dnn_f2,dnn_f4,dnn_w2v,dae_dnn,conv1d],axis=1)\n",
    "pred_sex.columns = ['F1','F2','F3','F4','F5','F6']\n",
    "pred_sex"
   ]
  },
  {
   "cell_type": "code",
   "execution_count": 5,
   "metadata": {},
   "outputs": [
    {
     "data": {
      "image/png": "[encoded data removed]",
      "text/plain": [
       "<Figure size 432x432 with 2 Axes>"
      ]
     },
     "metadata": {
      "needs_background": "light"
     },
     "output_type": "display_data"
    }
   ],
   "source": [
    "plt.figure(figsize=(6,6))\n",
    "sns.heatmap(pred_sex.corr(), annot=True, cmap='RdYlGn', linewidths=0.2)\n",
    "plt.show()"
   ]
  },
  {
   "cell_type": "code",
   "execution_count": 7,
   "metadata": {},
   "outputs": [],
   "source": [
    "IDtest = range(3500, 5982)"
   ]
  },
  {
   "cell_type": "code",
   "execution_count": 8,
   "metadata": {},
   "outputs": [
    {
     "name": "stdout",
     "output_type": "stream",
     "text": [
      "'Submission.csv' is ready to submit.\n"
     ]
    }
   ],
   "source": [
    "Sub = gmean([dnn_f1,dnn_f2,dnn_f4,dnn_w2v,dae_dnn,conv1d])\n",
    "\n",
    "fname = f\"Submission.csv\"\n",
    "submissions = pd.concat([pd.Series(IDtest, name=\"cust_id\"), pd.Series(Sub, name=\"gender\")] ,axis=1)\n",
    "submissions.to_csv(fname, index=False)\n",
    "print(f\"'{fname}' is ready to submit.\")"
   ]
  },
  {
   "cell_type": "markdown",
   "metadata": {},
   "source": [
    "위에 코드를 수정없이 그대로 돌린 csv파일"
   ]
  },
  {
   "cell_type": "code",
   "execution_count": 9,
   "metadata": {},
   "outputs": [
    {
     "data": {
      "text/html": [
       "<div>\n",
       "<style scoped>\n",
       "    .dataframe tbody tr th:only-of-type {\n",
       "        vertical-align: middle;\n",
       "    }\n",
       "\n",
       "    .dataframe tbody tr th {\n",
       "        vertical-align: top;\n",
       "    }\n",
       "\n",
       "    .dataframe thead th {\n",
       "        text-align: right;\n",
       "    }\n",
       "</style>\n",
       "<table border=\"1\" class=\"dataframe\">\n",
       "  <thead>\n",
       "    <tr style=\"text-align: right;\">\n",
       "      <th></th>\n",
       "      <th>cust_id</th>\n",
       "      <th>gender</th>\n",
       "    </tr>\n",
       "  </thead>\n",
       "  <tbody>\n",
       "    <tr>\n",
       "      <th>0</th>\n",
       "      <td>3500</td>\n",
       "      <td>0.779049</td>\n",
       "    </tr>\n",
       "    <tr>\n",
       "      <th>1</th>\n",
       "      <td>3501</td>\n",
       "      <td>0.223489</td>\n",
       "    </tr>\n",
       "    <tr>\n",
       "      <th>2</th>\n",
       "      <td>3502</td>\n",
       "      <td>0.204288</td>\n",
       "    </tr>\n",
       "    <tr>\n",
       "      <th>3</th>\n",
       "      <td>3503</td>\n",
       "      <td>0.230252</td>\n",
       "    </tr>\n",
       "    <tr>\n",
       "      <th>4</th>\n",
       "      <td>3504</td>\n",
       "      <td>0.335160</td>\n",
       "    </tr>\n",
       "    <tr>\n",
       "      <th>...</th>\n",
       "      <td>...</td>\n",
       "      <td>...</td>\n",
       "    </tr>\n",
       "    <tr>\n",
       "      <th>2477</th>\n",
       "      <td>5977</td>\n",
       "      <td>0.622413</td>\n",
       "    </tr>\n",
       "    <tr>\n",
       "      <th>2478</th>\n",
       "      <td>5978</td>\n",
       "      <td>0.340681</td>\n",
       "    </tr>\n",
       "    <tr>\n",
       "      <th>2479</th>\n",
       "      <td>5979</td>\n",
       "      <td>0.770002</td>\n",
       "    </tr>\n",
       "    <tr>\n",
       "      <th>2480</th>\n",
       "      <td>5980</td>\n",
       "      <td>0.408099</td>\n",
       "    </tr>\n",
       "    <tr>\n",
       "      <th>2481</th>\n",
       "      <td>5981</td>\n",
       "      <td>0.531369</td>\n",
       "    </tr>\n",
       "  </tbody>\n",
       "</table>\n",
       "<p>2482 rows × 2 columns</p>\n",
       "</div>"
      ],
      "text/plain": [
       "      cust_id    gender\n",
       "0        3500  0.779049\n",
       "1        3501  0.223489\n",
       "2        3502  0.204288\n",
       "3        3503  0.230252\n",
       "4        3504  0.335160\n",
       "...       ...       ...\n",
       "2477     5977  0.622413\n",
       "2478     5978  0.340681\n",
       "2479     5979  0.770002\n",
       "2480     5980  0.408099\n",
       "2481     5981  0.531369\n",
       "\n",
       "[2482 rows x 2 columns]"
      ]
     },
     "execution_count": 9,
     "metadata": {},
     "output_type": "execute_result"
    }
   ],
   "source": [
    "pd.read_csv('Submission.csv')"
   ]
  },
  {
   "cell_type": "markdown",
   "metadata": {},
   "source": [
    "그룹과제2 1등한 csv파일"
   ]
  },
  {
   "cell_type": "code",
   "execution_count": 10,
   "metadata": {},
   "outputs": [
    {
     "data": {
      "text/html": [
       "<div>\n",
       "<style scoped>\n",
       "    .dataframe tbody tr th:only-of-type {\n",
       "        vertical-align: middle;\n",
       "    }\n",
       "\n",
       "    .dataframe tbody tr th {\n",
       "        vertical-align: top;\n",
       "    }\n",
       "\n",
       "    .dataframe thead th {\n",
       "        text-align: right;\n",
       "    }\n",
       "</style>\n",
       "<table border=\"1\" class=\"dataframe\">\n",
       "  <thead>\n",
       "    <tr style=\"text-align: right;\">\n",
       "      <th></th>\n",
       "      <th>cust_id</th>\n",
       "      <th>gender</th>\n",
       "    </tr>\n",
       "  </thead>\n",
       "  <tbody>\n",
       "    <tr>\n",
       "      <th>0</th>\n",
       "      <td>3500</td>\n",
       "      <td>0.783190</td>\n",
       "    </tr>\n",
       "    <tr>\n",
       "      <th>1</th>\n",
       "      <td>3501</td>\n",
       "      <td>0.249035</td>\n",
       "    </tr>\n",
       "    <tr>\n",
       "      <th>2</th>\n",
       "      <td>3502</td>\n",
       "      <td>0.206842</td>\n",
       "    </tr>\n",
       "    <tr>\n",
       "      <th>3</th>\n",
       "      <td>3503</td>\n",
       "      <td>0.242358</td>\n",
       "    </tr>\n",
       "    <tr>\n",
       "      <th>4</th>\n",
       "      <td>3504</td>\n",
       "      <td>0.341752</td>\n",
       "    </tr>\n",
       "    <tr>\n",
       "      <th>...</th>\n",
       "      <td>...</td>\n",
       "      <td>...</td>\n",
       "    </tr>\n",
       "    <tr>\n",
       "      <th>2477</th>\n",
       "      <td>5977</td>\n",
       "      <td>0.616425</td>\n",
       "    </tr>\n",
       "    <tr>\n",
       "      <th>2478</th>\n",
       "      <td>5978</td>\n",
       "      <td>0.344216</td>\n",
       "    </tr>\n",
       "    <tr>\n",
       "      <th>2479</th>\n",
       "      <td>5979</td>\n",
       "      <td>0.785444</td>\n",
       "    </tr>\n",
       "    <tr>\n",
       "      <th>2480</th>\n",
       "      <td>5980</td>\n",
       "      <td>0.402934</td>\n",
       "    </tr>\n",
       "    <tr>\n",
       "      <th>2481</th>\n",
       "      <td>5981</td>\n",
       "      <td>0.523529</td>\n",
       "    </tr>\n",
       "  </tbody>\n",
       "</table>\n",
       "<p>2482 rows × 2 columns</p>\n",
       "</div>"
      ],
      "text/plain": [
       "      cust_id    gender\n",
       "0        3500  0.783190\n",
       "1        3501  0.249035\n",
       "2        3502  0.206842\n",
       "3        3503  0.242358\n",
       "4        3504  0.341752\n",
       "...       ...       ...\n",
       "2477     5977  0.616425\n",
       "2478     5978  0.344216\n",
       "2479     5979  0.785444\n",
       "2480     5980  0.402934\n",
       "2481     5981  0.523529\n",
       "\n",
       "[2482 rows x 2 columns]"
      ]
     },
     "execution_count": 10,
     "metadata": {},
     "output_type": "execute_result"
    }
   ],
   "source": [
    "pd.read_csv('yj8055.csv')"
   ]
  }
 ],
 "metadata": {
  "kernelspec": {
   "display_name": "Python 3",
   "language": "python",
   "name": "python3"
  },
  "language_info": {
   "codemirror_mode": {
    "name": "ipython",
    "version": 3
   },
   "file_extension": ".py",
   "mimetype": "text/x-python",
   "name": "python",
   "nbconvert_exporter": "python",
   "pygments_lexer": "ipython3",
   "version": "3.7.6"
  }
 },
 "nbformat": 4,
 "nbformat_minor": 4
}
