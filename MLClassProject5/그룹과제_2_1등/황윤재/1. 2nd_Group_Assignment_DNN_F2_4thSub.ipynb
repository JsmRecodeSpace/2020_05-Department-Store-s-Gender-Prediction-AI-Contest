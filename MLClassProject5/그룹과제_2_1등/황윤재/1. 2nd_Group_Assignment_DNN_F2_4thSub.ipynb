{
 "cells": [
  {
   "cell_type": "markdown",
   "metadata": {},
   "source": [
    " ##  0. Importing Packages"
   ]
  },
  {
   "cell_type": "code",
   "execution_count": 3,
   "metadata": {
    "scrolled": true
   },
   "outputs": [],
   "source": [
    "%run import_modules.py \n",
    "import warnings\n",
    "import time\n",
    "import pandas as pd\n",
    "import numpy as np\n",
    "import os \n",
    "warnings.filterwarnings('ignore')\n",
    "pd.set_option('display.max_columns', 50, 'display.max_rows', 200)\n",
    "\n",
    "\n",
    "import matplotlib.pylab as plt\n",
    "%matplotlib inline\n",
    "\n",
    "from sklearn.preprocessing import MinMaxScaler, OneHotEncoder \n",
    "from sklearn.model_selection import train_test_split, StratifiedKFold\n",
    "from sklearn.cluster import KMeans\n",
    "from sklearn.decomposition import PCA\n",
    "\n",
    "import tensorflow as tf\n",
    "\n",
    "# Tensorflow warning off\n",
    "os.environ['TF_CPP_MIN_LOG_LEVEL'] = '3' \n",
    "\n",
    "#tf.logging.set_verbosity(tf.logging.ERROR)\n",
    "# import logging\n",
    "# logger = tf.get_logger()\n",
    "# logger.setLevel(logging.ERROR)\n",
    "\n",
    "#from tensorflow import set_random_seed         ##tf.random.set_seed(1)\n",
    "import keras \n",
    "from keras import backend as K\n",
    "from keras.layers import * #Input, Dense\n",
    "from keras.models import * #Model\n",
    "from keras.optimizers import *\n",
    "from keras.initializers import *\n",
    "from keras.regularizers import *\n",
    "from keras.utils.np_utils import *\n",
    "from keras.utils.vis_utils import * #model_to_dot\n",
    "from keras.callbacks import EarlyStopping\n",
    "\n",
    "from scipy.stats.mstats import gmean"
   ]
  },
  {
   "cell_type": "code",
   "execution_count": 4,
   "metadata": {},
   "outputs": [
    {
     "name": "stdout",
     "output_type": "stream",
     "text": [
      "C:\\Users\\john9\\Downloads\\3학년 2학기\\머신러닝\\과제\\5차\\Data\n"
     ]
    }
   ],
   "source": [
    "cd C:\\Users\\john9\\Downloads\\3학년 2학기\\머신러닝\\과제\\5차\\Data"
   ]
  },
  {
   "cell_type": "markdown",
   "metadata": {},
   "source": [
    "## 1. Reading Data"
   ]
  },
  {
   "cell_type": "code",
   "execution_count": 5,
   "metadata": {},
   "outputs": [],
   "source": [
    "myseed = 56 #anchoring\n",
    "\n",
    "#to_remove = ['휴면(이탈)여부','화장품품목구매여부', '디자이너품목구매여부', '시티웨어품목구매여부', #Target Features to remove\n",
    "             #'구매상품종류1_cat', '내점일수_cat', '총구매액_cat','최대구매액_cat','내점당구매액_cat','행사상품구매총액_cat']\n",
    "\n",
    "target_remove = ['내점당구매건수','최근3개월_구매금액', '최근3개월_구매건수', '최근6개월_구매금액', #Target Features to remove\n",
    "                 '최근6개월_구매건수', '최근12개월_구매금액', '최근12개월_구매건수','구매상품종류1',\n",
    "                 '구매상품종류2','내점일수','내점당구매액','휴면(이탈)여부','화장품품목구매건수', '디자이너품목구매건수',\n",
    "                 '시티웨어품목구매건수', '수산품품목구매건수','가공식품품목구매건수','행사상품구매건수','농산물품목구매건수',\n",
    "                 '축산가공품목구매건수','시티웨어품목구매여부']\n",
    "raw_feature = pd.read_csv('Raw_feature_continuos+categorical_before_Encoding.csv',encoding='cp949', index_col=0) #F2\n",
    "raw_feature_label = pd.read_csv('Raw_feature_labelencoding+categorical_before_Encoding.csv',encoding='cp949', index_col=0) #F1\n",
    "raw_feature_label_c = pd.read_csv('Raw_feature_labelencoding+categorical_before_Encoding_cleansed.csv',encoding='cp949', index_col=0) #F1_Cleansed\n",
    "\n",
    "y_train = pd.read_csv('y_train.csv').gender # y_train\n",
    "IDtest = pd.read_csv('X_test.csv', encoding='cp949').cust_id.unique() #target ID for prediction\n",
    "\n",
    "# Train, Test (F1)\n",
    "train = raw_feature[:3500]\n",
    "test = raw_feature[3500:]\n",
    "\n",
    "#Feature Segregation\n",
    "cat_features = list(raw_feature.select_dtypes(include=['object']).columns)\n",
    "num_features = [c for c in raw_feature.columns.tolist() if c not in cat_features]\n",
    "\n",
    "bool_features = raw_feature.select_dtypes(include=['bool'])\n",
    "for col in bool_features:\n",
    "    raw_feature[col] = raw_feature[col].astype(float)\n",
    "\n",
    "if len(cat_features) > 0:\n",
    "    raw_feature = pd.concat([raw_feature[num_features], pd.get_dummies(raw_feature[cat_features])], axis=1)"
   ]
  },
  {
   "cell_type": "code",
   "execution_count": 6,
   "metadata": {},
   "outputs": [],
   "source": [
    "feature_continuous = raw_feature.iloc[:,:67]\n",
    "to_PCA = raw_feature.iloc[:,67:]"
   ]
  },
  {
   "cell_type": "code",
   "execution_count": 8,
   "metadata": {},
   "outputs": [
    {
     "data": {
      "text/plain": [
       "(5982, 111)"
      ]
     },
     "execution_count": 8,
     "metadata": {},
     "output_type": "execute_result"
    }
   ],
   "source": [
    "to_PCA.shape"
   ]
  },
  {
   "cell_type": "markdown",
   "metadata": {},
   "source": [
    "* ### Reduce Dimensionality using Autoencoder"
   ]
  },
  {
   "cell_type": "code",
   "execution_count": 18,
   "metadata": {
    "scrolled": true
   },
   "outputs": [
    {
     "name": "stdout",
     "output_type": "stream",
     "text": [
      "Model: \"model_10\"\n",
      "_________________________________________________________________\n",
      "Layer (type)                 Output Shape              Param #   \n",
      "=================================================================\n",
      "input_10 (InputLayer)        (None, 111)               0         \n",
      "_________________________________________________________________\n",
      "dropout_10 (Dropout)         (None, 111)               0         \n",
      "_________________________________________________________________\n",
      "dense_84 (Dense)             (None, 64)                7168      \n",
      "_________________________________________________________________\n",
      "dense_85 (Dense)             (None, 32)                2080      \n",
      "_________________________________________________________________\n",
      "dense_86 (Dense)             (None, 16)                528       \n",
      "_________________________________________________________________\n",
      "dense_87 (Dense)             (None, 8)                 136       \n",
      "_________________________________________________________________\n",
      "dense_89 (Dense)             (None, 8)                 72        \n",
      "_________________________________________________________________\n",
      "dense_90 (Dense)             (None, 16)                144       \n",
      "_________________________________________________________________\n",
      "dense_91 (Dense)             (None, 32)                544       \n",
      "_________________________________________________________________\n",
      "dense_92 (Dense)             (None, 64)                2112      \n",
      "_________________________________________________________________\n",
      "dense_93 (Dense)             (None, 111)               7215      \n",
      "=================================================================\n",
      "Total params: 19,999\n",
      "Trainable params: 19,999\n",
      "Non-trainable params: 0\n",
      "_________________________________________________________________\n",
      "Train on 4187 samples, validate on 1795 samples\n",
      "Epoch 1/1000\n",
      "4187/4187 [==============================] - 0s 61us/step - loss: 0.0503 - val_loss: 0.0450\n",
      "Epoch 2/1000\n",
      "4187/4187 [==============================] - 0s 20us/step - loss: 0.0414 - val_loss: 0.0389\n",
      "Epoch 3/1000\n",
      "4187/4187 [==============================] - 0s 20us/step - loss: 0.0383 - val_loss: 0.0376\n",
      "Epoch 4/1000\n",
      "4187/4187 [==============================] - 0s 17us/step - loss: 0.0369 - val_loss: 0.0363\n",
      "Epoch 5/1000\n",
      "4187/4187 [==============================] - 0s 16us/step - loss: 0.0358 - val_loss: 0.0354\n",
      "Epoch 6/1000\n",
      "4187/4187 [==============================] - 0s 16us/step - loss: 0.0351 - val_loss: 0.0348\n",
      "Epoch 7/1000\n",
      "4187/4187 [==============================] - 0s 18us/step - loss: 0.0345 - val_loss: 0.0341\n",
      "Epoch 8/1000\n",
      "4187/4187 [==============================] - 0s 18us/step - loss: 0.0337 - val_loss: 0.0334\n",
      "Epoch 9/1000\n",
      "4187/4187 [==============================] - 0s 16us/step - loss: 0.0331 - val_loss: 0.0328\n",
      "Epoch 10/1000\n",
      "4187/4187 [==============================] - 0s 17us/step - loss: 0.0326 - val_loss: 0.0325\n",
      "Epoch 11/1000\n",
      "4187/4187 [==============================] - 0s 16us/step - loss: 0.0323 - val_loss: 0.0321\n",
      "Epoch 12/1000\n",
      "4187/4187 [==============================] - 0s 18us/step - loss: 0.0319 - val_loss: 0.0318\n",
      "Epoch 13/1000\n",
      "4187/4187 [==============================] - 0s 17us/step - loss: 0.0316 - val_loss: 0.0314\n",
      "Epoch 14/1000\n",
      "4187/4187 [==============================] - 0s 18us/step - loss: 0.0312 - val_loss: 0.0310\n",
      "Epoch 15/1000\n",
      "4187/4187 [==============================] - 0s 18us/step - loss: 0.0309 - val_loss: 0.0307\n",
      "Epoch 16/1000\n",
      "4187/4187 [==============================] - 0s 19us/step - loss: 0.0305 - val_loss: 0.0304\n",
      "Epoch 17/1000\n",
      "4187/4187 [==============================] - 0s 19us/step - loss: 0.0302 - val_loss: 0.0301\n",
      "Epoch 18/1000\n",
      "4187/4187 [==============================] - 0s 19us/step - loss: 0.0299 - val_loss: 0.0297\n",
      "Epoch 19/1000\n",
      "4187/4187 [==============================] - 0s 17us/step - loss: 0.0296 - val_loss: 0.0295\n",
      "Epoch 20/1000\n",
      "4187/4187 [==============================] - 0s 18us/step - loss: 0.0293 - val_loss: 0.0292\n",
      "Epoch 21/1000\n",
      "4187/4187 [==============================] - 0s 19us/step - loss: 0.0290 - val_loss: 0.0290\n",
      "Epoch 22/1000\n",
      "4187/4187 [==============================] - 0s 18us/step - loss: 0.0289 - val_loss: 0.0288\n",
      "Epoch 23/1000\n",
      "4187/4187 [==============================] - 0s 18us/step - loss: 0.0287 - val_loss: 0.0286\n",
      "Epoch 24/1000\n",
      "4187/4187 [==============================] - 0s 17us/step - loss: 0.0285 - val_loss: 0.0285\n",
      "Epoch 25/1000\n",
      "4187/4187 [==============================] - 0s 18us/step - loss: 0.0284 - val_loss: 0.0284\n",
      "Epoch 26/1000\n",
      "4187/4187 [==============================] - 0s 18us/step - loss: 0.0282 - val_loss: 0.0282\n",
      "Epoch 27/1000\n",
      "4187/4187 [==============================] - 0s 19us/step - loss: 0.0280 - val_loss: 0.0280\n",
      "Epoch 28/1000\n",
      "4187/4187 [==============================] - 0s 19us/step - loss: 0.0278 - val_loss: 0.0278\n",
      "Epoch 29/1000\n",
      "4187/4187 [==============================] - 0s 18us/step - loss: 0.0277 - val_loss: 0.0276\n",
      "Epoch 30/1000\n",
      "4187/4187 [==============================] - 0s 18us/step - loss: 0.0274 - val_loss: 0.0275\n",
      "Epoch 31/1000\n",
      "4187/4187 [==============================] - 0s 18us/step - loss: 0.0273 - val_loss: 0.0273\n",
      "Epoch 32/1000\n",
      "4187/4187 [==============================] - 0s 18us/step - loss: 0.0271 - val_loss: 0.0272\n",
      "Epoch 33/1000\n",
      "4187/4187 [==============================] - 0s 17us/step - loss: 0.0270 - val_loss: 0.0271\n",
      "Epoch 34/1000\n",
      "4187/4187 [==============================] - 0s 18us/step - loss: 0.0269 - val_loss: 0.0270\n",
      "Epoch 35/1000\n",
      "4187/4187 [==============================] - 0s 18us/step - loss: 0.0268 - val_loss: 0.0268\n",
      "Epoch 36/1000\n",
      "4187/4187 [==============================] - 0s 18us/step - loss: 0.0267 - val_loss: 0.0268\n",
      "Epoch 37/1000\n",
      "4187/4187 [==============================] - 0s 18us/step - loss: 0.0266 - val_loss: 0.0266\n",
      "Epoch 38/1000\n",
      "4187/4187 [==============================] - 0s 17us/step - loss: 0.0265 - val_loss: 0.0266\n",
      "Epoch 39/1000\n",
      "4187/4187 [==============================] - 0s 19us/step - loss: 0.0264 - val_loss: 0.0265\n",
      "Epoch 40/1000\n",
      "4187/4187 [==============================] - 0s 18us/step - loss: 0.0263 - val_loss: 0.0264\n",
      "Epoch 41/1000\n",
      "4187/4187 [==============================] - 0s 18us/step - loss: 0.0262 - val_loss: 0.0263\n",
      "Epoch 42/1000\n",
      "4187/4187 [==============================] - 0s 18us/step - loss: 0.0262 - val_loss: 0.0263\n",
      "Epoch 43/1000\n",
      "4187/4187 [==============================] - 0s 18us/step - loss: 0.0260 - val_loss: 0.0262\n",
      "Epoch 44/1000\n",
      "4187/4187 [==============================] - 0s 18us/step - loss: 0.0260 - val_loss: 0.0261\n",
      "Epoch 45/1000\n",
      "4187/4187 [==============================] - 0s 18us/step - loss: 0.0259 - val_loss: 0.0261\n",
      "Epoch 46/1000\n",
      "4187/4187 [==============================] - 0s 19us/step - loss: 0.0258 - val_loss: 0.0260\n",
      "Epoch 47/1000\n",
      "4187/4187 [==============================] - 0s 19us/step - loss: 0.0258 - val_loss: 0.0260\n",
      "Epoch 48/1000\n",
      "4187/4187 [==============================] - 0s 17us/step - loss: 0.0257 - val_loss: 0.0259\n",
      "Epoch 49/1000\n",
      "4187/4187 [==============================] - 0s 18us/step - loss: 0.0257 - val_loss: 0.0259\n",
      "Epoch 50/1000\n",
      "4187/4187 [==============================] - 0s 18us/step - loss: 0.0256 - val_loss: 0.0258\n",
      "Epoch 51/1000\n",
      "4187/4187 [==============================] - 0s 19us/step - loss: 0.0256 - val_loss: 0.0258\n",
      "Epoch 52/1000\n",
      "4187/4187 [==============================] - 0s 18us/step - loss: 0.0255 - val_loss: 0.0258\n",
      "Epoch 53/1000\n",
      "4187/4187 [==============================] - 0s 18us/step - loss: 0.0255 - val_loss: 0.0257\n",
      "Epoch 54/1000\n",
      "4187/4187 [==============================] - 0s 21us/step - loss: 0.0254 - val_loss: 0.0257\n",
      "Epoch 55/1000\n",
      "4187/4187 [==============================] - 0s 19us/step - loss: 0.0254 - val_loss: 0.0256\n",
      "Epoch 56/1000\n",
      "4187/4187 [==============================] - 0s 19us/step - loss: 0.0254 - val_loss: 0.0256\n",
      "Epoch 57/1000\n",
      "4187/4187 [==============================] - 0s 18us/step - loss: 0.0253 - val_loss: 0.0256\n",
      "Epoch 58/1000\n",
      "4187/4187 [==============================] - 0s 18us/step - loss: 0.0253 - val_loss: 0.0256\n",
      "Epoch 59/1000\n",
      "4187/4187 [==============================] - 0s 17us/step - loss: 0.0253 - val_loss: 0.0255\n",
      "Epoch 60/1000\n",
      "4187/4187 [==============================] - 0s 19us/step - loss: 0.0252 - val_loss: 0.0254\n"
     ]
    },
    {
     "name": "stdout",
     "output_type": "stream",
     "text": [
      "Epoch 61/1000\n",
      "4187/4187 [==============================] - 0s 19us/step - loss: 0.0251 - val_loss: 0.0254\n",
      "Epoch 62/1000\n",
      "4187/4187 [==============================] - 0s 18us/step - loss: 0.0251 - val_loss: 0.0254\n",
      "Epoch 63/1000\n",
      "4187/4187 [==============================] - 0s 18us/step - loss: 0.0251 - val_loss: 0.0253\n",
      "Epoch 64/1000\n",
      "4187/4187 [==============================] - 0s 19us/step - loss: 0.0250 - val_loss: 0.0252\n",
      "Epoch 65/1000\n",
      "4187/4187 [==============================] - 0s 18us/step - loss: 0.0249 - val_loss: 0.0252\n",
      "Epoch 66/1000\n",
      "4187/4187 [==============================] - 0s 19us/step - loss: 0.0249 - val_loss: 0.0251\n",
      "Epoch 67/1000\n",
      "4187/4187 [==============================] - 0s 18us/step - loss: 0.0248 - val_loss: 0.0251\n",
      "Epoch 68/1000\n",
      "4187/4187 [==============================] - 0s 18us/step - loss: 0.0247 - val_loss: 0.0250\n",
      "Epoch 69/1000\n",
      "4187/4187 [==============================] - 0s 18us/step - loss: 0.0247 - val_loss: 0.0249\n",
      "Epoch 70/1000\n",
      "4187/4187 [==============================] - 0s 18us/step - loss: 0.0245 - val_loss: 0.0249\n",
      "Epoch 71/1000\n",
      "4187/4187 [==============================] - 0s 18us/step - loss: 0.0245 - val_loss: 0.0248\n",
      "Epoch 72/1000\n",
      "4187/4187 [==============================] - 0s 18us/step - loss: 0.0244 - val_loss: 0.0248\n",
      "Epoch 73/1000\n",
      "4187/4187 [==============================] - 0s 18us/step - loss: 0.0243 - val_loss: 0.0246\n",
      "Epoch 74/1000\n",
      "4187/4187 [==============================] - 0s 19us/step - loss: 0.0242 - val_loss: 0.0246\n",
      "Epoch 75/1000\n",
      "4187/4187 [==============================] - 0s 18us/step - loss: 0.0242 - val_loss: 0.0245\n",
      "Epoch 76/1000\n",
      "4187/4187 [==============================] - 0s 18us/step - loss: 0.0241 - val_loss: 0.0245\n",
      "Epoch 77/1000\n",
      "4187/4187 [==============================] - 0s 18us/step - loss: 0.0240 - val_loss: 0.0244\n",
      "Epoch 78/1000\n",
      "4187/4187 [==============================] - 0s 17us/step - loss: 0.0240 - val_loss: 0.0244\n",
      "Epoch 79/1000\n",
      "4187/4187 [==============================] - 0s 19us/step - loss: 0.0240 - val_loss: 0.0243\n",
      "Epoch 80/1000\n",
      "4187/4187 [==============================] - 0s 18us/step - loss: 0.0239 - val_loss: 0.0242\n",
      "Epoch 81/1000\n",
      "4187/4187 [==============================] - 0s 19us/step - loss: 0.0238 - val_loss: 0.0242\n",
      "Epoch 82/1000\n",
      "4187/4187 [==============================] - 0s 20us/step - loss: 0.0238 - val_loss: 0.0242\n",
      "Epoch 83/1000\n",
      "4187/4187 [==============================] - 0s 18us/step - loss: 0.0238 - val_loss: 0.0241\n",
      "Epoch 84/1000\n",
      "4187/4187 [==============================] - 0s 19us/step - loss: 0.0238 - val_loss: 0.0241\n",
      "Epoch 85/1000\n",
      "4187/4187 [==============================] - 0s 18us/step - loss: 0.0236 - val_loss: 0.0240\n",
      "Epoch 86/1000\n",
      "4187/4187 [==============================] - 0s 18us/step - loss: 0.0236 - val_loss: 0.0239\n",
      "Epoch 87/1000\n",
      "4187/4187 [==============================] - 0s 21us/step - loss: 0.0235 - val_loss: 0.0239\n",
      "Epoch 88/1000\n",
      "4187/4187 [==============================] - 0s 18us/step - loss: 0.0235 - val_loss: 0.0239\n",
      "Epoch 89/1000\n",
      "4187/4187 [==============================] - 0s 17us/step - loss: 0.0234 - val_loss: 0.0238\n",
      "Epoch 90/1000\n",
      "4187/4187 [==============================] - 0s 18us/step - loss: 0.0234 - val_loss: 0.0237\n",
      "Epoch 91/1000\n",
      "4187/4187 [==============================] - 0s 18us/step - loss: 0.0234 - val_loss: 0.0237\n",
      "Epoch 92/1000\n",
      "4187/4187 [==============================] - 0s 17us/step - loss: 0.0234 - val_loss: 0.0237\n",
      "Epoch 93/1000\n",
      "4187/4187 [==============================] - 0s 19us/step - loss: 0.0233 - val_loss: 0.0237\n",
      "Epoch 94/1000\n",
      "4187/4187 [==============================] - 0s 18us/step - loss: 0.0232 - val_loss: 0.0237\n",
      "Epoch 95/1000\n",
      "4187/4187 [==============================] - 0s 18us/step - loss: 0.0232 - val_loss: 0.0236\n",
      "Epoch 96/1000\n",
      "4187/4187 [==============================] - 0s 20us/step - loss: 0.0231 - val_loss: 0.0236\n",
      "Epoch 97/1000\n",
      "4187/4187 [==============================] - 0s 18us/step - loss: 0.0231 - val_loss: 0.0235\n",
      "Epoch 98/1000\n",
      "4187/4187 [==============================] - 0s 18us/step - loss: 0.0230 - val_loss: 0.0235\n",
      "Epoch 99/1000\n",
      "4187/4187 [==============================] - 0s 19us/step - loss: 0.0231 - val_loss: 0.0234\n",
      "Epoch 100/1000\n",
      "4187/4187 [==============================] - 0s 19us/step - loss: 0.0230 - val_loss: 0.0235\n",
      "Epoch 101/1000\n",
      "4187/4187 [==============================] - 0s 18us/step - loss: 0.0230 - val_loss: 0.0234\n",
      "Epoch 102/1000\n",
      "4187/4187 [==============================] - 0s 20us/step - loss: 0.0231 - val_loss: 0.0233\n",
      "Epoch 103/1000\n",
      "4187/4187 [==============================] - 0s 18us/step - loss: 0.0229 - val_loss: 0.0233\n",
      "Epoch 104/1000\n",
      "4187/4187 [==============================] - 0s 18us/step - loss: 0.0229 - val_loss: 0.0233\n",
      "Epoch 105/1000\n",
      "4187/4187 [==============================] - 0s 19us/step - loss: 0.0228 - val_loss: 0.0233\n",
      "Epoch 106/1000\n",
      "4187/4187 [==============================] - 0s 18us/step - loss: 0.0228 - val_loss: 0.0232\n",
      "Epoch 107/1000\n",
      "4187/4187 [==============================] - 0s 18us/step - loss: 0.0228 - val_loss: 0.0232\n",
      "Epoch 108/1000\n",
      "4187/4187 [==============================] - 0s 19us/step - loss: 0.0228 - val_loss: 0.0231\n",
      "Epoch 109/1000\n",
      "4187/4187 [==============================] - 0s 18us/step - loss: 0.0227 - val_loss: 0.0231\n",
      "Epoch 110/1000\n",
      "4187/4187 [==============================] - 0s 20us/step - loss: 0.0227 - val_loss: 0.0231\n",
      "Epoch 111/1000\n",
      "4187/4187 [==============================] - 0s 19us/step - loss: 0.0228 - val_loss: 0.0232\n",
      "Epoch 112/1000\n",
      "4187/4187 [==============================] - 0s 18us/step - loss: 0.0227 - val_loss: 0.0230\n",
      "Epoch 113/1000\n",
      "4187/4187 [==============================] - 0s 17us/step - loss: 0.0227 - val_loss: 0.0230\n",
      "Epoch 114/1000\n",
      "4187/4187 [==============================] - 0s 19us/step - loss: 0.0226 - val_loss: 0.0230\n",
      "Epoch 115/1000\n",
      "4187/4187 [==============================] - 0s 19us/step - loss: 0.0225 - val_loss: 0.0229\n",
      "Epoch 116/1000\n",
      "4187/4187 [==============================] - 0s 19us/step - loss: 0.0226 - val_loss: 0.0230\n",
      "Epoch 117/1000\n",
      "4187/4187 [==============================] - 0s 18us/step - loss: 0.0225 - val_loss: 0.0230\n",
      "Epoch 118/1000\n",
      "4187/4187 [==============================] - 0s 18us/step - loss: 0.0226 - val_loss: 0.0229\n",
      "Epoch 119/1000\n",
      "4187/4187 [==============================] - 0s 18us/step - loss: 0.0224 - val_loss: 0.0229\n",
      "Epoch 120/1000\n",
      "4187/4187 [==============================] - 0s 18us/step - loss: 0.0224 - val_loss: 0.0229\n",
      "Epoch 121/1000\n",
      "4187/4187 [==============================] - 0s 18us/step - loss: 0.0224 - val_loss: 0.0228\n",
      "Epoch 122/1000\n",
      "4187/4187 [==============================] - 0s 17us/step - loss: 0.0224 - val_loss: 0.0228\n",
      "Epoch 123/1000\n",
      "4187/4187 [==============================] - 0s 18us/step - loss: 0.0223 - val_loss: 0.0228\n",
      "Epoch 124/1000\n",
      "4187/4187 [==============================] - 0s 19us/step - loss: 0.0224 - val_loss: 0.0228\n",
      "Epoch 125/1000\n",
      "4187/4187 [==============================] - 0s 18us/step - loss: 0.0223 - val_loss: 0.0228\n",
      "Epoch 126/1000\n",
      "4187/4187 [==============================] - 0s 18us/step - loss: 0.0223 - val_loss: 0.0227\n",
      "Epoch 127/1000\n",
      "4187/4187 [==============================] - 0s 18us/step - loss: 0.0223 - val_loss: 0.0227\n",
      "Epoch 128/1000\n",
      "4187/4187 [==============================] - 0s 18us/step - loss: 0.0222 - val_loss: 0.0227\n",
      "Epoch 129/1000\n",
      "4187/4187 [==============================] - 0s 18us/step - loss: 0.0223 - val_loss: 0.0227\n",
      "Epoch 130/1000\n",
      "4187/4187 [==============================] - 0s 18us/step - loss: 0.0222 - val_loss: 0.0226\n",
      "Epoch 131/1000\n",
      "4187/4187 [==============================] - 0s 18us/step - loss: 0.0222 - val_loss: 0.0226\n",
      "Epoch 132/1000\n",
      "4187/4187 [==============================] - 0s 19us/step - loss: 0.0221 - val_loss: 0.0226\n",
      "Epoch 133/1000\n",
      "4187/4187 [==============================] - 0s 18us/step - loss: 0.0221 - val_loss: 0.0226\n",
      "Epoch 134/1000\n",
      "4187/4187 [==============================] - 0s 20us/step - loss: 0.0221 - val_loss: 0.0226\n",
      "Epoch 135/1000\n",
      "4187/4187 [==============================] - 0s 19us/step - loss: 0.0221 - val_loss: 0.0225\n",
      "Epoch 136/1000\n",
      "4187/4187 [==============================] - 0s 18us/step - loss: 0.0221 - val_loss: 0.0225\n",
      "Epoch 137/1000\n",
      "4187/4187 [==============================] - 0s 18us/step - loss: 0.0220 - val_loss: 0.0225\n"
     ]
    },
    {
     "name": "stdout",
     "output_type": "stream",
     "text": [
      "Epoch 138/1000\n",
      "4187/4187 [==============================] - 0s 19us/step - loss: 0.0220 - val_loss: 0.0225\n",
      "Epoch 139/1000\n",
      "4187/4187 [==============================] - 0s 17us/step - loss: 0.0220 - val_loss: 0.0225\n",
      "Epoch 140/1000\n",
      "4187/4187 [==============================] - 0s 18us/step - loss: 0.0220 - val_loss: 0.0225\n",
      "Epoch 141/1000\n",
      "4187/4187 [==============================] - 0s 19us/step - loss: 0.0220 - val_loss: 0.0224\n",
      "Epoch 142/1000\n",
      "4187/4187 [==============================] - 0s 18us/step - loss: 0.0219 - val_loss: 0.0225\n",
      "Epoch 143/1000\n",
      "4187/4187 [==============================] - 0s 18us/step - loss: 0.0219 - val_loss: 0.0225\n",
      "Epoch 144/1000\n",
      "4187/4187 [==============================] - 0s 19us/step - loss: 0.0219 - val_loss: 0.0224\n",
      "Epoch 145/1000\n",
      "4187/4187 [==============================] - 0s 18us/step - loss: 0.0218 - val_loss: 0.0224\n",
      "Epoch 146/1000\n",
      "4187/4187 [==============================] - 0s 19us/step - loss: 0.0219 - val_loss: 0.0224\n",
      "Epoch 147/1000\n",
      "4187/4187 [==============================] - 0s 18us/step - loss: 0.0218 - val_loss: 0.0224\n",
      "Epoch 148/1000\n",
      "4187/4187 [==============================] - 0s 18us/step - loss: 0.0218 - val_loss: 0.0223\n",
      "Epoch 149/1000\n",
      "4187/4187 [==============================] - 0s 18us/step - loss: 0.0218 - val_loss: 0.0223\n",
      "Epoch 150/1000\n",
      "4187/4187 [==============================] - 0s 19us/step - loss: 0.0219 - val_loss: 0.0223\n",
      "Epoch 151/1000\n",
      "4187/4187 [==============================] - 0s 17us/step - loss: 0.0218 - val_loss: 0.0223\n",
      "Epoch 152/1000\n",
      "4187/4187 [==============================] - 0s 19us/step - loss: 0.0218 - val_loss: 0.0223\n",
      "Epoch 153/1000\n",
      "4187/4187 [==============================] - 0s 19us/step - loss: 0.0218 - val_loss: 0.0223\n",
      "Epoch 154/1000\n",
      "4187/4187 [==============================] - 0s 19us/step - loss: 0.0218 - val_loss: 0.0223\n",
      "Epoch 155/1000\n",
      "4187/4187 [==============================] - 0s 19us/step - loss: 0.0218 - val_loss: 0.0223\n",
      "Epoch 156/1000\n",
      "4187/4187 [==============================] - 0s 17us/step - loss: 0.0218 - val_loss: 0.0223\n",
      "Epoch 157/1000\n",
      "4187/4187 [==============================] - 0s 18us/step - loss: 0.0218 - val_loss: 0.0223\n",
      "Epoch 158/1000\n",
      "4187/4187 [==============================] - 0s 18us/step - loss: 0.0218 - val_loss: 0.0222\n",
      "Epoch 159/1000\n",
      "4187/4187 [==============================] - 0s 18us/step - loss: 0.0217 - val_loss: 0.0223\n",
      "Epoch 160/1000\n",
      "4187/4187 [==============================] - 0s 18us/step - loss: 0.0217 - val_loss: 0.0222\n",
      "Epoch 161/1000\n",
      "4187/4187 [==============================] - 0s 18us/step - loss: 0.0216 - val_loss: 0.0222\n",
      "Epoch 162/1000\n",
      "4187/4187 [==============================] - 0s 18us/step - loss: 0.0217 - val_loss: 0.0222\n",
      "Epoch 163/1000\n",
      "4187/4187 [==============================] - 0s 17us/step - loss: 0.0216 - val_loss: 0.0222\n",
      "Epoch 164/1000\n",
      "4187/4187 [==============================] - 0s 18us/step - loss: 0.0216 - val_loss: 0.0221\n",
      "Epoch 165/1000\n",
      "4187/4187 [==============================] - 0s 19us/step - loss: 0.0217 - val_loss: 0.0222\n",
      "Epoch 166/1000\n",
      "4187/4187 [==============================] - 0s 19us/step - loss: 0.0216 - val_loss: 0.0221\n",
      "Epoch 167/1000\n",
      "4187/4187 [==============================] - 0s 17us/step - loss: 0.0215 - val_loss: 0.0221\n",
      "Epoch 168/1000\n",
      "4187/4187 [==============================] - 0s 18us/step - loss: 0.0216 - val_loss: 0.0221\n",
      "Epoch 169/1000\n",
      "4187/4187 [==============================] - 0s 18us/step - loss: 0.0216 - val_loss: 0.0221\n",
      "Epoch 170/1000\n",
      "4187/4187 [==============================] - 0s 20us/step - loss: 0.0216 - val_loss: 0.0221\n",
      "Epoch 171/1000\n",
      "4187/4187 [==============================] - 0s 20us/step - loss: 0.0215 - val_loss: 0.0221\n",
      "Epoch 172/1000\n",
      "4187/4187 [==============================] - 0s 18us/step - loss: 0.0215 - val_loss: 0.0220\n",
      "Epoch 173/1000\n",
      "4187/4187 [==============================] - 0s 17us/step - loss: 0.0215 - val_loss: 0.0221\n",
      "Epoch 174/1000\n",
      "4187/4187 [==============================] - 0s 18us/step - loss: 0.0214 - val_loss: 0.0220\n",
      "Epoch 175/1000\n",
      "4187/4187 [==============================] - 0s 20us/step - loss: 0.0214 - val_loss: 0.0220\n",
      "Epoch 176/1000\n",
      "4187/4187 [==============================] - 0s 18us/step - loss: 0.0215 - val_loss: 0.0219\n",
      "Epoch 177/1000\n",
      "4187/4187 [==============================] - 0s 19us/step - loss: 0.0214 - val_loss: 0.0219\n",
      "Epoch 178/1000\n",
      "4187/4187 [==============================] - 0s 18us/step - loss: 0.0214 - val_loss: 0.0220\n",
      "Epoch 179/1000\n",
      "4187/4187 [==============================] - 0s 18us/step - loss: 0.0214 - val_loss: 0.0219\n",
      "Epoch 180/1000\n",
      "4187/4187 [==============================] - 0s 18us/step - loss: 0.0214 - val_loss: 0.0219\n",
      "Epoch 181/1000\n",
      "4187/4187 [==============================] - 0s 19us/step - loss: 0.0214 - val_loss: 0.0219\n",
      "Epoch 182/1000\n",
      "4187/4187 [==============================] - 0s 18us/step - loss: 0.0213 - val_loss: 0.0219\n",
      "Epoch 183/1000\n",
      "4187/4187 [==============================] - 0s 18us/step - loss: 0.0213 - val_loss: 0.0219\n",
      "Epoch 184/1000\n",
      "4187/4187 [==============================] - 0s 18us/step - loss: 0.0213 - val_loss: 0.0220\n",
      "Epoch 185/1000\n",
      "4187/4187 [==============================] - 0s 18us/step - loss: 0.0213 - val_loss: 0.0219\n",
      "Epoch 186/1000\n",
      "4187/4187 [==============================] - 0s 19us/step - loss: 0.0213 - val_loss: 0.0218\n",
      "Epoch 187/1000\n",
      "4187/4187 [==============================] - 0s 18us/step - loss: 0.0213 - val_loss: 0.0219\n",
      "Epoch 188/1000\n",
      "4187/4187 [==============================] - 0s 18us/step - loss: 0.0213 - val_loss: 0.0218\n",
      "Epoch 189/1000\n",
      "4187/4187 [==============================] - 0s 18us/step - loss: 0.0212 - val_loss: 0.0218\n",
      "Epoch 190/1000\n",
      "4187/4187 [==============================] - 0s 18us/step - loss: 0.0212 - val_loss: 0.0218\n",
      "Epoch 191/1000\n",
      "4187/4187 [==============================] - 0s 19us/step - loss: 0.0212 - val_loss: 0.0218\n",
      "Epoch 192/1000\n",
      "4187/4187 [==============================] - 0s 18us/step - loss: 0.0212 - val_loss: 0.0218\n",
      "Epoch 193/1000\n",
      "4187/4187 [==============================] - 0s 18us/step - loss: 0.0212 - val_loss: 0.0218\n",
      "Epoch 194/1000\n",
      "4187/4187 [==============================] - 0s 18us/step - loss: 0.0212 - val_loss: 0.0217\n",
      "Epoch 195/1000\n",
      "4187/4187 [==============================] - 0s 19us/step - loss: 0.0211 - val_loss: 0.0217\n",
      "Epoch 196/1000\n",
      "4187/4187 [==============================] - 0s 18us/step - loss: 0.0211 - val_loss: 0.0217\n",
      "Epoch 197/1000\n",
      "4187/4187 [==============================] - 0s 18us/step - loss: 0.0212 - val_loss: 0.0217\n",
      "Epoch 198/1000\n",
      "4187/4187 [==============================] - 0s 18us/step - loss: 0.0211 - val_loss: 0.0217\n",
      "Epoch 199/1000\n",
      "4187/4187 [==============================] - 0s 19us/step - loss: 0.0211 - val_loss: 0.0217\n",
      "Epoch 200/1000\n",
      "4187/4187 [==============================] - 0s 17us/step - loss: 0.0211 - val_loss: 0.0216\n",
      "Epoch 201/1000\n",
      "4187/4187 [==============================] - 0s 18us/step - loss: 0.0211 - val_loss: 0.0217\n",
      "Epoch 202/1000\n",
      "4187/4187 [==============================] - 0s 21us/step - loss: 0.0211 - val_loss: 0.0217\n",
      "Epoch 203/1000\n",
      "4187/4187 [==============================] - 0s 18us/step - loss: 0.0211 - val_loss: 0.0217\n",
      "Epoch 204/1000\n",
      "4187/4187 [==============================] - ETA: 0s - loss: 0.021 - 0s 18us/step - loss: 0.0211 - val_loss: 0.0216\n",
      "Epoch 205/1000\n",
      "4187/4187 [==============================] - 0s 18us/step - loss: 0.0210 - val_loss: 0.0216\n",
      "Epoch 206/1000\n",
      "4187/4187 [==============================] - 0s 19us/step - loss: 0.0210 - val_loss: 0.0216\n",
      "Epoch 207/1000\n",
      "4187/4187 [==============================] - 0s 19us/step - loss: 0.0210 - val_loss: 0.0216\n",
      "Epoch 208/1000\n",
      "4187/4187 [==============================] - 0s 18us/step - loss: 0.0210 - val_loss: 0.0216\n",
      "Epoch 209/1000\n",
      "4187/4187 [==============================] - 0s 18us/step - loss: 0.0210 - val_loss: 0.0216\n",
      "Epoch 210/1000\n",
      "4187/4187 [==============================] - 0s 19us/step - loss: 0.0210 - val_loss: 0.0216\n",
      "Epoch 211/1000\n",
      "4187/4187 [==============================] - 0s 19us/step - loss: 0.0210 - val_loss: 0.0215\n",
      "Epoch 212/1000\n",
      "4187/4187 [==============================] - 0s 19us/step - loss: 0.0210 - val_loss: 0.0216\n",
      "Epoch 213/1000\n",
      "4187/4187 [==============================] - 0s 18us/step - loss: 0.0209 - val_loss: 0.0216\n",
      "Epoch 214/1000\n"
     ]
    },
    {
     "name": "stdout",
     "output_type": "stream",
     "text": [
      "4187/4187 [==============================] - 0s 18us/step - loss: 0.0209 - val_loss: 0.0215\n",
      "Epoch 215/1000\n",
      "4187/4187 [==============================] - 0s 19us/step - loss: 0.0210 - val_loss: 0.0215\n",
      "Epoch 216/1000\n",
      "4187/4187 [==============================] - 0s 19us/step - loss: 0.0209 - val_loss: 0.0215\n",
      "Epoch 217/1000\n",
      "4187/4187 [==============================] - 0s 19us/step - loss: 0.0209 - val_loss: 0.0215\n",
      "Epoch 218/1000\n",
      "4187/4187 [==============================] - 0s 18us/step - loss: 0.0210 - val_loss: 0.0215\n",
      "Epoch 219/1000\n",
      "4187/4187 [==============================] - 0s 19us/step - loss: 0.0209 - val_loss: 0.0215\n",
      "Epoch 220/1000\n",
      "4187/4187 [==============================] - 0s 18us/step - loss: 0.0209 - val_loss: 0.0215\n",
      "Epoch 221/1000\n",
      "4187/4187 [==============================] - 0s 17us/step - loss: 0.0209 - val_loss: 0.0215\n",
      "Epoch 222/1000\n",
      "4187/4187 [==============================] - 0s 18us/step - loss: 0.0208 - val_loss: 0.0214\n",
      "Epoch 223/1000\n",
      "4187/4187 [==============================] - 0s 18us/step - loss: 0.0208 - val_loss: 0.0215\n",
      "Epoch 224/1000\n",
      "4187/4187 [==============================] - 0s 18us/step - loss: 0.0209 - val_loss: 0.0215\n",
      "Epoch 225/1000\n",
      "4187/4187 [==============================] - 0s 18us/step - loss: 0.0208 - val_loss: 0.0214\n",
      "Epoch 226/1000\n",
      "4187/4187 [==============================] - 0s 19us/step - loss: 0.0208 - val_loss: 0.0215\n",
      "Epoch 227/1000\n",
      "4187/4187 [==============================] - 0s 19us/step - loss: 0.0208 - val_loss: 0.0214\n",
      "Epoch 228/1000\n",
      "4187/4187 [==============================] - 0s 18us/step - loss: 0.0208 - val_loss: 0.0214\n",
      "Epoch 229/1000\n",
      "4187/4187 [==============================] - 0s 19us/step - loss: 0.0208 - val_loss: 0.0214\n",
      "Epoch 230/1000\n",
      "4187/4187 [==============================] - 0s 18us/step - loss: 0.0208 - val_loss: 0.0214\n",
      "Epoch 231/1000\n",
      "4187/4187 [==============================] - 0s 19us/step - loss: 0.0207 - val_loss: 0.0215\n",
      "Epoch 232/1000\n",
      "4187/4187 [==============================] - 0s 19us/step - loss: 0.0207 - val_loss: 0.0214\n",
      "Epoch 233/1000\n",
      "4187/4187 [==============================] - 0s 18us/step - loss: 0.0208 - val_loss: 0.0215\n",
      "Epoch 234/1000\n",
      "4187/4187 [==============================] - 0s 19us/step - loss: 0.0207 - val_loss: 0.0213\n",
      "Epoch 235/1000\n",
      "4187/4187 [==============================] - 0s 18us/step - loss: 0.0207 - val_loss: 0.0214\n",
      "Epoch 236/1000\n",
      "4187/4187 [==============================] - 0s 19us/step - loss: 0.0207 - val_loss: 0.0214\n",
      "Epoch 237/1000\n",
      "4187/4187 [==============================] - 0s 18us/step - loss: 0.0206 - val_loss: 0.0213\n",
      "Epoch 238/1000\n",
      "4187/4187 [==============================] - 0s 18us/step - loss: 0.0206 - val_loss: 0.0213\n",
      "Epoch 239/1000\n",
      "4187/4187 [==============================] - 0s 18us/step - loss: 0.0207 - val_loss: 0.0214\n",
      "Epoch 240/1000\n",
      "4187/4187 [==============================] - 0s 18us/step - loss: 0.0206 - val_loss: 0.0214\n",
      "Epoch 241/1000\n",
      "4187/4187 [==============================] - 0s 18us/step - loss: 0.0207 - val_loss: 0.0214\n",
      "Epoch 242/1000\n",
      "4187/4187 [==============================] - 0s 18us/step - loss: 0.0207 - val_loss: 0.0213\n"
     ]
    },
    {
     "data": {
      "image/png": "[encoded data removed]",
      "text/plain": [
       "<Figure size 432x288 with 1 Axes>"
      ]
     },
     "metadata": {
      "needs_background": "light"
     },
     "output_type": "display_data"
    }
   ],
   "source": [
    "train_pca, test_pca = train_test_split(to_PCA, test_size=0.3, random_state=myseed)\n",
    "\n",
    "# Define the number of features\n",
    "max_features = to_PCA.shape[1]\n",
    "\n",
    "# Define the encoder dimension\n",
    "encoding_dim = 4\n",
    "\n",
    "### Dropout rate\n",
    "noise_level = 0.01\n",
    "\n",
    "# Input Layer\n",
    "input_dim = Input(shape = (max_features, ))\n",
    "\n",
    "# Encoder Layers\n",
    "noise = Dropout(noise_level)(input_dim)\n",
    "encoded1 = Dense(64, activation = 'relu')(noise)\n",
    "encoded2 = Dense(32, activation = 'relu')(encoded1)\n",
    "encoded3 = Dense(16, activation = 'relu')(encoded2)\n",
    "encoded4 = Dense(8, activation = 'relu')(encoded3)\n",
    "encoded5 = Dense(encoding_dim, activation = 'relu')(encoded4)\n",
    "\n",
    "# Decoder Layers\n",
    "decoded1 = Dense(8, activation = 'relu')(encoded4)\n",
    "decoded2 = Dense(16, activation = 'relu')(decoded1)\n",
    "decoded3 = Dense(32, activation = 'relu')(decoded2)\n",
    "decoded4 = Dense(64, activation = 'relu')(decoded3)\n",
    "decoded5 = Dense(max_features, activation = 'linear')(decoded4)\n",
    "\n",
    "# Combine Encoder and Deocder layers\n",
    "autoencoder = Model(inputs = input_dim, outputs = decoded5)\n",
    "autoencoder.summary()\n",
    "\n",
    "# Compile the model\n",
    "autoencoder.compile(optimizer = 'adam', loss = 'mse')\n",
    "\n",
    "callbacks = [keras.callbacks.EarlyStopping(monitor='val_loss',\n",
    "                                           patience=5),\n",
    "             keras.callbacks.ModelCheckpoint(filepath='best_model.h5',\n",
    "                                             monitor='val_loss',\n",
    "                                             save_best_only=True)]\n",
    "\n",
    "# Train the model\n",
    "history = autoencoder.fit(train_pca,train_pca, epochs=1000, batch_size=128, \n",
    "                          shuffle=True, validation_data=(test_pca,test_pca), callbacks = callbacks, verbose=1)\n",
    "\n",
    "#print(f'DAE learning curve {i+1}/{N}')\n",
    "plt.plot(history.history[\"loss\"], label=\"train loss\")\n",
    "plt.plot(history.history[\"val_loss\"], label=\"validation loss\")\n",
    "plt.legend()\n",
    "plt.title(\"Loss\")\n",
    "plt.show()"
   ]
  },
  {
   "cell_type": "code",
   "execution_count": 23,
   "metadata": {},
   "outputs": [
    {
     "name": "stdout",
     "output_type": "stream",
     "text": [
      "(4187, 4) (1795, 4)\n"
     ]
    },
    {
     "data": {
      "text/plain": [
       "(5982, 71)"
      ]
     },
     "execution_count": 23,
     "metadata": {},
     "output_type": "execute_result"
    }
   ],
   "source": [
    "# Use a middle Bottleneck Layer to Reduce Dimension\n",
    "hidden_act = [encoded5] #[encoded1, encoded2, encoded3, decoded1, decoded2]\n",
    "for ix, act in enumerate(hidden_act):\n",
    "    model = Model(inputs=input_dim, outputs=act)\n",
    "    if ix == 0: \n",
    "        to_pca_train = model.predict(train_pca)\n",
    "        to_pca_test = model.predict(test_pca)\n",
    "    else:\n",
    "        to_pca_train = np.hstack([to_pca_train, model.predict(train_pca)])\n",
    "        to_pca_test = np.hstack([to_pca_test, model.predict(test_pca)])\n",
    "        \n",
    "print(to_pca_train.shape, to_pca_test.shape)\n",
    "auto_encoded = pd.concat([pd.DataFrame(to_pca_train),pd.DataFrame(to_pca_test)], ignore_index=True)\n",
    "\n",
    "train_test = pd.concat([feature_continuous, auto_encoded], axis=1)\n",
    "train_test.shape"
   ]
  },
  {
   "cell_type": "markdown",
   "metadata": {},
   "source": [
    "## 2. Data Preprocessing  "
   ]
  },
  {
   "cell_type": "markdown",
   "metadata": {},
   "source": [
    "   * Removing Outliers"
   ]
  },
  {
   "cell_type": "code",
   "execution_count": 26,
   "metadata": {},
   "outputs": [],
   "source": [
    "train_test.iloc[:,1:] = train_test.iloc[:,1:].apply(lambda x: x.clip(x.quantile(.05), x.quantile(.95)), axis=0)"
   ]
  },
  {
   "cell_type": "markdown",
   "metadata": {},
   "source": [
    "* Convert to Log"
   ]
  },
  {
   "cell_type": "code",
   "execution_count": 27,
   "metadata": {},
   "outputs": [],
   "source": [
    "train_test.iloc[:,1:] = np.log1p(train_test.iloc[:,1:])"
   ]
  },
  {
   "cell_type": "markdown",
   "metadata": {},
   "source": [
    "* MinMax Scaling"
   ]
  },
  {
   "cell_type": "code",
   "execution_count": 28,
   "metadata": {
    "scrolled": true
   },
   "outputs": [
    {
     "name": "stdout",
     "output_type": "stream",
     "text": [
      "(5982, 70)\n"
     ]
    },
    {
     "data": {
      "text/html": [
       "<div>\n",
       "<style scoped>\n",
       "    .dataframe tbody tr th:only-of-type {\n",
       "        vertical-align: middle;\n",
       "    }\n",
       "\n",
       "    .dataframe tbody tr th {\n",
       "        vertical-align: top;\n",
       "    }\n",
       "\n",
       "    .dataframe thead th {\n",
       "        text-align: right;\n",
       "    }\n",
       "</style>\n",
       "<table border=\"1\" class=\"dataframe\">\n",
       "  <thead>\n",
       "    <tr style=\"text-align: right;\">\n",
       "      <th></th>\n",
       "      <th>0</th>\n",
       "      <th>1</th>\n",
       "      <th>2</th>\n",
       "      <th>3</th>\n",
       "      <th>4</th>\n",
       "      <th>5</th>\n",
       "      <th>6</th>\n",
       "      <th>7</th>\n",
       "      <th>8</th>\n",
       "      <th>9</th>\n",
       "      <th>10</th>\n",
       "      <th>11</th>\n",
       "      <th>12</th>\n",
       "      <th>13</th>\n",
       "      <th>14</th>\n",
       "      <th>15</th>\n",
       "      <th>16</th>\n",
       "      <th>17</th>\n",
       "      <th>18</th>\n",
       "      <th>19</th>\n",
       "      <th>20</th>\n",
       "      <th>21</th>\n",
       "      <th>22</th>\n",
       "      <th>23</th>\n",
       "      <th>24</th>\n",
       "      <th>...</th>\n",
       "      <th>45</th>\n",
       "      <th>46</th>\n",
       "      <th>47</th>\n",
       "      <th>48</th>\n",
       "      <th>49</th>\n",
       "      <th>50</th>\n",
       "      <th>51</th>\n",
       "      <th>52</th>\n",
       "      <th>53</th>\n",
       "      <th>54</th>\n",
       "      <th>55</th>\n",
       "      <th>56</th>\n",
       "      <th>57</th>\n",
       "      <th>58</th>\n",
       "      <th>59</th>\n",
       "      <th>60</th>\n",
       "      <th>61</th>\n",
       "      <th>62</th>\n",
       "      <th>63</th>\n",
       "      <th>64</th>\n",
       "      <th>65</th>\n",
       "      <th>66</th>\n",
       "      <th>67</th>\n",
       "      <th>68</th>\n",
       "      <th>69</th>\n",
       "    </tr>\n",
       "  </thead>\n",
       "  <tbody>\n",
       "    <tr>\n",
       "      <th>0</th>\n",
       "      <td>0.748471</td>\n",
       "      <td>0.737205</td>\n",
       "      <td>0.540804</td>\n",
       "      <td>0.670263</td>\n",
       "      <td>0.778327</td>\n",
       "      <td>0.794153</td>\n",
       "      <td>0.856635</td>\n",
       "      <td>0.635428</td>\n",
       "      <td>0.675847</td>\n",
       "      <td>0.610726</td>\n",
       "      <td>0.130397</td>\n",
       "      <td>0.562558</td>\n",
       "      <td>0.553500</td>\n",
       "      <td>0.182864</td>\n",
       "      <td>0.896593</td>\n",
       "      <td>0.630930</td>\n",
       "      <td>0.660441</td>\n",
       "      <td>0.714432</td>\n",
       "      <td>0.919302</td>\n",
       "      <td>0.769432</td>\n",
       "      <td>0.914385</td>\n",
       "      <td>0.824831</td>\n",
       "      <td>0.748471</td>\n",
       "      <td>0.737205</td>\n",
       "      <td>1.0</td>\n",
       "      <td>...</td>\n",
       "      <td>1.000000</td>\n",
       "      <td>0.000000</td>\n",
       "      <td>1.0</td>\n",
       "      <td>1.0</td>\n",
       "      <td>1.0</td>\n",
       "      <td>1.0</td>\n",
       "      <td>1.0</td>\n",
       "      <td>1.0</td>\n",
       "      <td>1.0</td>\n",
       "      <td>0.0</td>\n",
       "      <td>1.0</td>\n",
       "      <td>0.0</td>\n",
       "      <td>0.29761</td>\n",
       "      <td>0.658319</td>\n",
       "      <td>0.747222</td>\n",
       "      <td>0.892919</td>\n",
       "      <td>0.407251</td>\n",
       "      <td>0.0759</td>\n",
       "      <td>0.419903</td>\n",
       "      <td>0.07304</td>\n",
       "      <td>0.133640</td>\n",
       "      <td>0.932496</td>\n",
       "      <td>0.669490</td>\n",
       "      <td>0.0</td>\n",
       "      <td>0.992609</td>\n",
       "    </tr>\n",
       "    <tr>\n",
       "      <th>1</th>\n",
       "      <td>0.263093</td>\n",
       "      <td>0.140989</td>\n",
       "      <td>0.485768</td>\n",
       "      <td>0.385027</td>\n",
       "      <td>0.109185</td>\n",
       "      <td>0.120413</td>\n",
       "      <td>0.158079</td>\n",
       "      <td>0.111893</td>\n",
       "      <td>0.162077</td>\n",
       "      <td>0.000000</td>\n",
       "      <td>0.000000</td>\n",
       "      <td>0.000000</td>\n",
       "      <td>1.000000</td>\n",
       "      <td>0.000000</td>\n",
       "      <td>0.718332</td>\n",
       "      <td>0.315465</td>\n",
       "      <td>0.378652</td>\n",
       "      <td>0.178121</td>\n",
       "      <td>0.779620</td>\n",
       "      <td>0.320106</td>\n",
       "      <td>0.758602</td>\n",
       "      <td>0.277059</td>\n",
       "      <td>0.263093</td>\n",
       "      <td>0.140989</td>\n",
       "      <td>1.0</td>\n",
       "      <td>...</td>\n",
       "      <td>0.000000</td>\n",
       "      <td>0.000000</td>\n",
       "      <td>0.0</td>\n",
       "      <td>0.0</td>\n",
       "      <td>0.0</td>\n",
       "      <td>0.0</td>\n",
       "      <td>0.0</td>\n",
       "      <td>0.0</td>\n",
       "      <td>0.0</td>\n",
       "      <td>0.0</td>\n",
       "      <td>0.0</td>\n",
       "      <td>0.0</td>\n",
       "      <td>1.00000</td>\n",
       "      <td>0.648438</td>\n",
       "      <td>0.000000</td>\n",
       "      <td>0.000000</td>\n",
       "      <td>0.000000</td>\n",
       "      <td>1.0000</td>\n",
       "      <td>0.000000</td>\n",
       "      <td>1.00000</td>\n",
       "      <td>0.000000</td>\n",
       "      <td>1.000000</td>\n",
       "      <td>0.295840</td>\n",
       "      <td>0.0</td>\n",
       "      <td>0.517200</td>\n",
       "    </tr>\n",
       "    <tr>\n",
       "      <th>2</th>\n",
       "      <td>0.319589</td>\n",
       "      <td>0.186377</td>\n",
       "      <td>0.510306</td>\n",
       "      <td>0.339591</td>\n",
       "      <td>0.000000</td>\n",
       "      <td>0.120413</td>\n",
       "      <td>0.158079</td>\n",
       "      <td>0.111893</td>\n",
       "      <td>0.162077</td>\n",
       "      <td>0.000000</td>\n",
       "      <td>0.000000</td>\n",
       "      <td>0.000000</td>\n",
       "      <td>0.000000</td>\n",
       "      <td>1.000000</td>\n",
       "      <td>0.000000</td>\n",
       "      <td>0.000000</td>\n",
       "      <td>0.472303</td>\n",
       "      <td>0.323657</td>\n",
       "      <td>0.000000</td>\n",
       "      <td>0.000000</td>\n",
       "      <td>0.000000</td>\n",
       "      <td>0.000000</td>\n",
       "      <td>0.319589</td>\n",
       "      <td>0.186377</td>\n",
       "      <td>0.0</td>\n",
       "      <td>...</td>\n",
       "      <td>0.000000</td>\n",
       "      <td>0.000000</td>\n",
       "      <td>0.0</td>\n",
       "      <td>0.0</td>\n",
       "      <td>0.0</td>\n",
       "      <td>0.0</td>\n",
       "      <td>0.0</td>\n",
       "      <td>0.0</td>\n",
       "      <td>0.0</td>\n",
       "      <td>0.0</td>\n",
       "      <td>0.0</td>\n",
       "      <td>0.0</td>\n",
       "      <td>0.00000</td>\n",
       "      <td>1.000000</td>\n",
       "      <td>0.000000</td>\n",
       "      <td>0.000000</td>\n",
       "      <td>0.000000</td>\n",
       "      <td>1.0000</td>\n",
       "      <td>0.000000</td>\n",
       "      <td>1.00000</td>\n",
       "      <td>0.000000</td>\n",
       "      <td>0.000000</td>\n",
       "      <td>0.452523</td>\n",
       "      <td>0.0</td>\n",
       "      <td>0.150247</td>\n",
       "    </tr>\n",
       "    <tr>\n",
       "      <th>3</th>\n",
       "      <td>0.545867</td>\n",
       "      <td>0.633301</td>\n",
       "      <td>0.344163</td>\n",
       "      <td>0.528688</td>\n",
       "      <td>0.680135</td>\n",
       "      <td>0.698298</td>\n",
       "      <td>0.758654</td>\n",
       "      <td>0.621273</td>\n",
       "      <td>0.662482</td>\n",
       "      <td>0.398549</td>\n",
       "      <td>0.669851</td>\n",
       "      <td>0.251173</td>\n",
       "      <td>0.185641</td>\n",
       "      <td>0.184425</td>\n",
       "      <td>0.000000</td>\n",
       "      <td>0.000000</td>\n",
       "      <td>0.337146</td>\n",
       "      <td>0.433933</td>\n",
       "      <td>0.707006</td>\n",
       "      <td>0.371632</td>\n",
       "      <td>0.732113</td>\n",
       "      <td>0.496623</td>\n",
       "      <td>0.545867</td>\n",
       "      <td>0.633301</td>\n",
       "      <td>0.0</td>\n",
       "      <td>...</td>\n",
       "      <td>0.477121</td>\n",
       "      <td>0.477121</td>\n",
       "      <td>1.0</td>\n",
       "      <td>1.0</td>\n",
       "      <td>1.0</td>\n",
       "      <td>1.0</td>\n",
       "      <td>0.0</td>\n",
       "      <td>0.0</td>\n",
       "      <td>0.0</td>\n",
       "      <td>1.0</td>\n",
       "      <td>1.0</td>\n",
       "      <td>1.0</td>\n",
       "      <td>0.00000</td>\n",
       "      <td>0.627296</td>\n",
       "      <td>0.000000</td>\n",
       "      <td>0.000000</td>\n",
       "      <td>0.222153</td>\n",
       "      <td>0.0000</td>\n",
       "      <td>0.295456</td>\n",
       "      <td>0.00000</td>\n",
       "      <td>0.227031</td>\n",
       "      <td>0.000000</td>\n",
       "      <td>0.687028</td>\n",
       "      <td>0.0</td>\n",
       "      <td>0.004006</td>\n",
       "    </tr>\n",
       "    <tr>\n",
       "      <th>4</th>\n",
       "      <td>0.628744</td>\n",
       "      <td>0.140989</td>\n",
       "      <td>1.000000</td>\n",
       "      <td>0.800032</td>\n",
       "      <td>0.109185</td>\n",
       "      <td>0.205847</td>\n",
       "      <td>0.270238</td>\n",
       "      <td>0.111893</td>\n",
       "      <td>1.000000</td>\n",
       "      <td>0.000000</td>\n",
       "      <td>0.415037</td>\n",
       "      <td>0.000000</td>\n",
       "      <td>0.881069</td>\n",
       "      <td>0.000000</td>\n",
       "      <td>0.000000</td>\n",
       "      <td>0.000000</td>\n",
       "      <td>0.984778</td>\n",
       "      <td>0.178121</td>\n",
       "      <td>0.915325</td>\n",
       "      <td>0.253678</td>\n",
       "      <td>0.890648</td>\n",
       "      <td>0.219564</td>\n",
       "      <td>0.628744</td>\n",
       "      <td>0.140989</td>\n",
       "      <td>1.0</td>\n",
       "      <td>...</td>\n",
       "      <td>0.000000</td>\n",
       "      <td>0.000000</td>\n",
       "      <td>0.0</td>\n",
       "      <td>0.0</td>\n",
       "      <td>0.0</td>\n",
       "      <td>0.0</td>\n",
       "      <td>1.0</td>\n",
       "      <td>0.0</td>\n",
       "      <td>0.0</td>\n",
       "      <td>0.0</td>\n",
       "      <td>0.0</td>\n",
       "      <td>0.0</td>\n",
       "      <td>0.00000</td>\n",
       "      <td>0.859492</td>\n",
       "      <td>0.000000</td>\n",
       "      <td>0.000000</td>\n",
       "      <td>0.768658</td>\n",
       "      <td>0.0000</td>\n",
       "      <td>0.736966</td>\n",
       "      <td>0.00000</td>\n",
       "      <td>0.025130</td>\n",
       "      <td>0.824081</td>\n",
       "      <td>0.229415</td>\n",
       "      <td>0.0</td>\n",
       "      <td>0.852339</td>\n",
       "    </tr>\n",
       "  </tbody>\n",
       "</table>\n",
       "<p>5 rows × 70 columns</p>\n",
       "</div>"
      ],
      "text/plain": [
       "         0         1         2         3         4         5         6   \\\n",
       "0  0.748471  0.737205  0.540804  0.670263  0.778327  0.794153  0.856635   \n",
       "1  0.263093  0.140989  0.485768  0.385027  0.109185  0.120413  0.158079   \n",
       "2  0.319589  0.186377  0.510306  0.339591  0.000000  0.120413  0.158079   \n",
       "3  0.545867  0.633301  0.344163  0.528688  0.680135  0.698298  0.758654   \n",
       "4  0.628744  0.140989  1.000000  0.800032  0.109185  0.205847  0.270238   \n",
       "\n",
       "         7         8         9         10        11        12        13  \\\n",
       "0  0.635428  0.675847  0.610726  0.130397  0.562558  0.553500  0.182864   \n",
       "1  0.111893  0.162077  0.000000  0.000000  0.000000  1.000000  0.000000   \n",
       "2  0.111893  0.162077  0.000000  0.000000  0.000000  0.000000  1.000000   \n",
       "3  0.621273  0.662482  0.398549  0.669851  0.251173  0.185641  0.184425   \n",
       "4  0.111893  1.000000  0.000000  0.415037  0.000000  0.881069  0.000000   \n",
       "\n",
       "         14        15        16        17        18        19        20  \\\n",
       "0  0.896593  0.630930  0.660441  0.714432  0.919302  0.769432  0.914385   \n",
       "1  0.718332  0.315465  0.378652  0.178121  0.779620  0.320106  0.758602   \n",
       "2  0.000000  0.000000  0.472303  0.323657  0.000000  0.000000  0.000000   \n",
       "3  0.000000  0.000000  0.337146  0.433933  0.707006  0.371632  0.732113   \n",
       "4  0.000000  0.000000  0.984778  0.178121  0.915325  0.253678  0.890648   \n",
       "\n",
       "         21        22        23   24  ...        45        46   47   48   49  \\\n",
       "0  0.824831  0.748471  0.737205  1.0  ...  1.000000  0.000000  1.0  1.0  1.0   \n",
       "1  0.277059  0.263093  0.140989  1.0  ...  0.000000  0.000000  0.0  0.0  0.0   \n",
       "2  0.000000  0.319589  0.186377  0.0  ...  0.000000  0.000000  0.0  0.0  0.0   \n",
       "3  0.496623  0.545867  0.633301  0.0  ...  0.477121  0.477121  1.0  1.0  1.0   \n",
       "4  0.219564  0.628744  0.140989  1.0  ...  0.000000  0.000000  0.0  0.0  0.0   \n",
       "\n",
       "    50   51   52   53   54   55   56       57        58        59        60  \\\n",
       "0  1.0  1.0  1.0  1.0  0.0  1.0  0.0  0.29761  0.658319  0.747222  0.892919   \n",
       "1  0.0  0.0  0.0  0.0  0.0  0.0  0.0  1.00000  0.648438  0.000000  0.000000   \n",
       "2  0.0  0.0  0.0  0.0  0.0  0.0  0.0  0.00000  1.000000  0.000000  0.000000   \n",
       "3  1.0  0.0  0.0  0.0  1.0  1.0  1.0  0.00000  0.627296  0.000000  0.000000   \n",
       "4  0.0  1.0  0.0  0.0  0.0  0.0  0.0  0.00000  0.859492  0.000000  0.000000   \n",
       "\n",
       "         61      62        63       64        65        66        67   68  \\\n",
       "0  0.407251  0.0759  0.419903  0.07304  0.133640  0.932496  0.669490  0.0   \n",
       "1  0.000000  1.0000  0.000000  1.00000  0.000000  1.000000  0.295840  0.0   \n",
       "2  0.000000  1.0000  0.000000  1.00000  0.000000  0.000000  0.452523  0.0   \n",
       "3  0.222153  0.0000  0.295456  0.00000  0.227031  0.000000  0.687028  0.0   \n",
       "4  0.768658  0.0000  0.736966  0.00000  0.025130  0.824081  0.229415  0.0   \n",
       "\n",
       "         69  \n",
       "0  0.992609  \n",
       "1  0.517200  \n",
       "2  0.150247  \n",
       "3  0.004006  \n",
       "4  0.852339  \n",
       "\n",
       "[5 rows x 70 columns]"
      ]
     },
     "execution_count": 28,
     "metadata": {},
     "output_type": "execute_result"
    }
   ],
   "source": [
    "train_test = train_test.set_index('cust_id')\n",
    "X_train = train_test[:3500]\n",
    "X_test = train_test[3500:]\n",
    "\n",
    "scaler = MinMaxScaler()\n",
    "\n",
    "X_train = pd.DataFrame(scaler.fit_transform(X_train))\n",
    "X_test = pd.DataFrame(scaler.transform(X_test))\n",
    "\n",
    "train_test = pd.concat([X_train, X_test], ignore_index=True)\n",
    "print(train_test.shape)\n",
    "train_test.head()"
   ]
  },
  {
   "cell_type": "markdown",
   "metadata": {},
   "source": [
    "## 3. Build Models"
   ]
  },
  {
   "cell_type": "markdown",
   "metadata": {},
   "source": [
    "<font color='tomato'><font color=\"#CC3D3D\"><p>\n",
    "## try 3 -> 사용\n",
    "- for 문을 이용하여 random seed를 적용해 10번 수행\n",
    "- Dense units 수를 64와 16으로 늘림"
   ]
  },
  {
   "cell_type": "code",
   "execution_count": 70,
   "metadata": {
    "scrolled": true
   },
   "outputs": [
    {
     "name": "stderr",
     "output_type": "stream",
     "text": [
      "\r",
      "  0%|                                                                                           | 0/20 [00:00<?, ?it/s]"
     ]
    },
    {
     "name": "stdout",
     "output_type": "stream",
     "text": [
      "Model: \"model_281\"\n",
      "__________________________________________________________________________________________________\n",
      "Layer (type)                    Output Shape         Param #     Connected to                     \n",
      "==================================================================================================\n",
      "input_281 (InputLayer)          (None, 70)           0                                            \n",
      "__________________________________________________________________________________________________\n",
      "dense_1458 (Dense)              (None, 32)           2272        input_281[0][0]                  \n",
      "__________________________________________________________________________________________________\n",
      "dropout_584 (Dropout)           (None, 32)           0           dense_1458[0][0]                 \n",
      "__________________________________________________________________________________________________\n",
      "dense_1459 (Dense)              (None, 32)           1056        dropout_584[0][0]                \n",
      "__________________________________________________________________________________________________\n",
      "add_539 (Add)                   (None, 32)           0           dense_1459[0][0]                 \n",
      "                                                                 dropout_584[0][0]                \n",
      "__________________________________________________________________________________________________\n",
      "dense_1460 (Dense)              (None, 16)           528         add_539[0][0]                    \n",
      "__________________________________________________________________________________________________\n",
      "dropout_585 (Dropout)           (None, 16)           0           dense_1460[0][0]                 \n",
      "__________________________________________________________________________________________________\n",
      "dense_1461 (Dense)              (None, 16)           272         dropout_585[0][0]                \n",
      "__________________________________________________________________________________________________\n",
      "add_540 (Add)                   (None, 16)           0           dense_1461[0][0]                 \n",
      "                                                                 dropout_585[0][0]                \n",
      "__________________________________________________________________________________________________\n",
      "dense_1462 (Dense)              (None, 1)            17          add_540[0][0]                    \n",
      "==================================================================================================\n",
      "Total params: 4,145\n",
      "Trainable params: 4,145\n",
      "Non-trainable params: 0\n",
      "__________________________________________________________________________________________________\n",
      "AUC 0.7471582911036037\n"
     ]
    },
    {
     "data": {
      "image/png": "[encoded data removed]",
      "text/plain": [
       "<Figure size 432x288 with 1 Axes>"
      ]
     },
     "metadata": {
      "needs_background": "light"
     },
     "output_type": "display_data"
    },
    {
     "name": "stderr",
     "output_type": "stream",
     "text": [
      "\r",
      "  5%|████▏                                                                              | 1/20 [00:06<02:00,  6.35s/it]"
     ]
    },
    {
     "name": "stdout",
     "output_type": "stream",
     "text": [
      "Model: \"model_282\"\n",
      "__________________________________________________________________________________________________\n",
      "Layer (type)                    Output Shape         Param #     Connected to                     \n",
      "==================================================================================================\n",
      "input_282 (InputLayer)          (None, 70)           0                                            \n",
      "__________________________________________________________________________________________________\n",
      "dense_1463 (Dense)              (None, 32)           2272        input_282[0][0]                  \n",
      "__________________________________________________________________________________________________\n",
      "dropout_586 (Dropout)           (None, 32)           0           dense_1463[0][0]                 \n",
      "__________________________________________________________________________________________________\n",
      "dense_1464 (Dense)              (None, 32)           1056        dropout_586[0][0]                \n",
      "__________________________________________________________________________________________________\n",
      "add_541 (Add)                   (None, 32)           0           dense_1464[0][0]                 \n",
      "                                                                 dropout_586[0][0]                \n",
      "__________________________________________________________________________________________________\n",
      "dense_1465 (Dense)              (None, 16)           528         add_541[0][0]                    \n",
      "__________________________________________________________________________________________________\n",
      "dropout_587 (Dropout)           (None, 16)           0           dense_1465[0][0]                 \n",
      "__________________________________________________________________________________________________\n",
      "dense_1466 (Dense)              (None, 16)           272         dropout_587[0][0]                \n",
      "__________________________________________________________________________________________________\n",
      "add_542 (Add)                   (None, 16)           0           dense_1466[0][0]                 \n",
      "                                                                 dropout_587[0][0]                \n",
      "__________________________________________________________________________________________________\n",
      "dense_1467 (Dense)              (None, 1)            17          add_542[0][0]                    \n",
      "==================================================================================================\n",
      "Total params: 4,145\n",
      "Trainable params: 4,145\n",
      "Non-trainable params: 0\n",
      "__________________________________________________________________________________________________\n",
      "AUC 0.7493574586203351\n"
     ]
    },
    {
     "data": {
      "image/png": "[encoded data removed]",
      "text/plain": [
       "<Figure size 432x288 with 1 Axes>"
      ]
     },
     "metadata": {
      "needs_background": "light"
     },
     "output_type": "display_data"
    },
    {
     "name": "stderr",
     "output_type": "stream",
     "text": [
      "\r",
      " 10%|████████▎                                                                          | 2/20 [00:15<02:11,  7.33s/it]"
     ]
    },
    {
     "name": "stdout",
     "output_type": "stream",
     "text": [
      "Model: \"model_283\"\n",
      "__________________________________________________________________________________________________\n",
      "Layer (type)                    Output Shape         Param #     Connected to                     \n",
      "==================================================================================================\n",
      "input_283 (InputLayer)          (None, 70)           0                                            \n",
      "__________________________________________________________________________________________________\n",
      "dense_1468 (Dense)              (None, 32)           2272        input_283[0][0]                  \n",
      "__________________________________________________________________________________________________\n",
      "dropout_588 (Dropout)           (None, 32)           0           dense_1468[0][0]                 \n",
      "__________________________________________________________________________________________________\n",
      "dense_1469 (Dense)              (None, 32)           1056        dropout_588[0][0]                \n",
      "__________________________________________________________________________________________________\n",
      "add_543 (Add)                   (None, 32)           0           dense_1469[0][0]                 \n",
      "                                                                 dropout_588[0][0]                \n",
      "__________________________________________________________________________________________________\n",
      "dense_1470 (Dense)              (None, 16)           528         add_543[0][0]                    \n",
      "__________________________________________________________________________________________________\n",
      "dropout_589 (Dropout)           (None, 16)           0           dense_1470[0][0]                 \n",
      "__________________________________________________________________________________________________\n",
      "dense_1471 (Dense)              (None, 16)           272         dropout_589[0][0]                \n",
      "__________________________________________________________________________________________________\n",
      "add_544 (Add)                   (None, 16)           0           dense_1471[0][0]                 \n",
      "                                                                 dropout_589[0][0]                \n",
      "__________________________________________________________________________________________________\n",
      "dense_1472 (Dense)              (None, 1)            17          add_544[0][0]                    \n",
      "==================================================================================================\n",
      "Total params: 4,145\n",
      "Trainable params: 4,145\n",
      "Non-trainable params: 0\n",
      "__________________________________________________________________________________________________\n",
      "AUC 0.7916697106954996\n"
     ]
    },
    {
     "data": {
      "image/png": "[encoded data removed]",
      "text/plain": [
       "<Figure size 432x288 with 1 Axes>"
      ]
     },
     "metadata": {
      "needs_background": "light"
     },
     "output_type": "display_data"
    },
    {
     "name": "stderr",
     "output_type": "stream",
     "text": [
      "\r",
      " 15%|████████████▍                                                                      | 3/20 [00:23<02:04,  7.34s/it]"
     ]
    },
    {
     "name": "stdout",
     "output_type": "stream",
     "text": [
      "Model: \"model_284\"\n",
      "__________________________________________________________________________________________________\n",
      "Layer (type)                    Output Shape         Param #     Connected to                     \n",
      "==================================================================================================\n",
      "input_284 (InputLayer)          (None, 70)           0                                            \n",
      "__________________________________________________________________________________________________\n",
      "dense_1473 (Dense)              (None, 32)           2272        input_284[0][0]                  \n",
      "__________________________________________________________________________________________________\n",
      "dropout_590 (Dropout)           (None, 32)           0           dense_1473[0][0]                 \n",
      "__________________________________________________________________________________________________\n",
      "dense_1474 (Dense)              (None, 32)           1056        dropout_590[0][0]                \n",
      "__________________________________________________________________________________________________\n",
      "add_545 (Add)                   (None, 32)           0           dense_1474[0][0]                 \n",
      "                                                                 dropout_590[0][0]                \n",
      "__________________________________________________________________________________________________\n",
      "dense_1475 (Dense)              (None, 16)           528         add_545[0][0]                    \n",
      "__________________________________________________________________________________________________\n",
      "dropout_591 (Dropout)           (None, 16)           0           dense_1475[0][0]                 \n",
      "__________________________________________________________________________________________________\n",
      "dense_1476 (Dense)              (None, 16)           272         dropout_591[0][0]                \n",
      "__________________________________________________________________________________________________\n",
      "add_546 (Add)                   (None, 16)           0           dense_1476[0][0]                 \n",
      "                                                                 dropout_591[0][0]                \n",
      "__________________________________________________________________________________________________\n",
      "dense_1477 (Dense)              (None, 1)            17          add_546[0][0]                    \n",
      "==================================================================================================\n",
      "Total params: 4,145\n",
      "Trainable params: 4,145\n",
      "Non-trainable params: 0\n",
      "__________________________________________________________________________________________________\n",
      "AUC 0.7775159496940977\n"
     ]
    },
    {
     "data": {
      "image/png": "[encoded data removed]",
      "text/plain": [
       "<Figure size 432x288 with 1 Axes>"
      ]
     },
     "metadata": {
      "needs_background": "light"
     },
     "output_type": "display_data"
    },
    {
     "name": "stderr",
     "output_type": "stream",
     "text": [
      "\r",
      " 20%|████████████████▌                                                                  | 4/20 [00:30<01:56,  7.30s/it]"
     ]
    },
    {
     "name": "stdout",
     "output_type": "stream",
     "text": [
      "Model: \"model_285\"\n",
      "__________________________________________________________________________________________________\n",
      "Layer (type)                    Output Shape         Param #     Connected to                     \n",
      "==================================================================================================\n",
      "input_285 (InputLayer)          (None, 70)           0                                            \n",
      "__________________________________________________________________________________________________\n",
      "dense_1478 (Dense)              (None, 32)           2272        input_285[0][0]                  \n",
      "__________________________________________________________________________________________________\n",
      "dropout_592 (Dropout)           (None, 32)           0           dense_1478[0][0]                 \n",
      "__________________________________________________________________________________________________\n",
      "dense_1479 (Dense)              (None, 32)           1056        dropout_592[0][0]                \n",
      "__________________________________________________________________________________________________\n",
      "add_547 (Add)                   (None, 32)           0           dense_1479[0][0]                 \n",
      "                                                                 dropout_592[0][0]                \n",
      "__________________________________________________________________________________________________\n",
      "dense_1480 (Dense)              (None, 16)           528         add_547[0][0]                    \n",
      "__________________________________________________________________________________________________\n",
      "dropout_593 (Dropout)           (None, 16)           0           dense_1480[0][0]                 \n",
      "__________________________________________________________________________________________________\n",
      "dense_1481 (Dense)              (None, 16)           272         dropout_593[0][0]                \n",
      "__________________________________________________________________________________________________\n",
      "add_548 (Add)                   (None, 16)           0           dense_1481[0][0]                 \n",
      "                                                                 dropout_593[0][0]                \n",
      "__________________________________________________________________________________________________\n",
      "dense_1482 (Dense)              (None, 1)            17          add_548[0][0]                    \n",
      "==================================================================================================\n",
      "Total params: 4,145\n",
      "Trainable params: 4,145\n",
      "Non-trainable params: 0\n",
      "__________________________________________________________________________________________________\n",
      "AUC 0.7258738355346809\n"
     ]
    },
    {
     "data": {
      "image/png": "[encoded data removed]",
      "text/plain": [
       "<Figure size 432x288 with 1 Axes>"
      ]
     },
     "metadata": {
      "needs_background": "light"
     },
     "output_type": "display_data"
    },
    {
     "name": "stderr",
     "output_type": "stream",
     "text": [
      "\r",
      " 25%|████████████████████▊                                                              | 5/20 [00:37<01:50,  7.34s/it]"
     ]
    },
    {
     "name": "stdout",
     "output_type": "stream",
     "text": [
      "Model: \"model_286\"\n",
      "__________________________________________________________________________________________________\n",
      "Layer (type)                    Output Shape         Param #     Connected to                     \n",
      "==================================================================================================\n",
      "input_286 (InputLayer)          (None, 70)           0                                            \n",
      "__________________________________________________________________________________________________\n",
      "dense_1483 (Dense)              (None, 32)           2272        input_286[0][0]                  \n",
      "__________________________________________________________________________________________________\n",
      "dropout_594 (Dropout)           (None, 32)           0           dense_1483[0][0]                 \n",
      "__________________________________________________________________________________________________\n",
      "dense_1484 (Dense)              (None, 32)           1056        dropout_594[0][0]                \n",
      "__________________________________________________________________________________________________\n",
      "add_549 (Add)                   (None, 32)           0           dense_1484[0][0]                 \n",
      "                                                                 dropout_594[0][0]                \n",
      "__________________________________________________________________________________________________\n",
      "dense_1485 (Dense)              (None, 16)           528         add_549[0][0]                    \n",
      "__________________________________________________________________________________________________\n",
      "dropout_595 (Dropout)           (None, 16)           0           dense_1485[0][0]                 \n",
      "__________________________________________________________________________________________________\n",
      "dense_1486 (Dense)              (None, 16)           272         dropout_595[0][0]                \n",
      "__________________________________________________________________________________________________\n",
      "add_550 (Add)                   (None, 16)           0           dense_1486[0][0]                 \n",
      "                                                                 dropout_595[0][0]                \n",
      "__________________________________________________________________________________________________\n",
      "dense_1487 (Dense)              (None, 1)            17          add_550[0][0]                    \n",
      "==================================================================================================\n",
      "Total params: 4,145\n",
      "Trainable params: 4,145\n",
      "Non-trainable params: 0\n",
      "__________________________________________________________________________________________________\n",
      "AUC 0.7900722789115646\n"
     ]
    },
    {
     "data": {
      "image/png": "[encoded data removed]",
      "text/plain": [
       "<Figure size 432x288 with 1 Axes>"
      ]
     },
     "metadata": {
      "needs_background": "light"
     },
     "output_type": "display_data"
    },
    {
     "name": "stderr",
     "output_type": "stream",
     "text": [
      "\r",
      " 30%|████████████████████████▉                                                          | 6/20 [00:48<01:54,  8.16s/it]"
     ]
    },
    {
     "name": "stdout",
     "output_type": "stream",
     "text": [
      "Model: \"model_287\"\n",
      "__________________________________________________________________________________________________\n",
      "Layer (type)                    Output Shape         Param #     Connected to                     \n",
      "==================================================================================================\n",
      "input_287 (InputLayer)          (None, 70)           0                                            \n",
      "__________________________________________________________________________________________________\n",
      "dense_1488 (Dense)              (None, 32)           2272        input_287[0][0]                  \n",
      "__________________________________________________________________________________________________\n",
      "dropout_596 (Dropout)           (None, 32)           0           dense_1488[0][0]                 \n",
      "__________________________________________________________________________________________________\n",
      "dense_1489 (Dense)              (None, 32)           1056        dropout_596[0][0]                \n",
      "__________________________________________________________________________________________________\n",
      "add_551 (Add)                   (None, 32)           0           dense_1489[0][0]                 \n",
      "                                                                 dropout_596[0][0]                \n",
      "__________________________________________________________________________________________________\n",
      "dense_1490 (Dense)              (None, 16)           528         add_551[0][0]                    \n",
      "__________________________________________________________________________________________________\n",
      "dropout_597 (Dropout)           (None, 16)           0           dense_1490[0][0]                 \n",
      "__________________________________________________________________________________________________\n",
      "dense_1491 (Dense)              (None, 16)           272         dropout_597[0][0]                \n",
      "__________________________________________________________________________________________________\n",
      "add_552 (Add)                   (None, 16)           0           dense_1491[0][0]                 \n",
      "                                                                 dropout_597[0][0]                \n",
      "__________________________________________________________________________________________________\n",
      "dense_1492 (Dense)              (None, 1)            17          add_552[0][0]                    \n",
      "==================================================================================================\n",
      "Total params: 4,145\n",
      "Trainable params: 4,145\n",
      "Non-trainable params: 0\n",
      "__________________________________________________________________________________________________\n",
      "AUC 0.7621416083916083\n"
     ]
    },
    {
     "data": {
      "image/png": "[encoded data removed]",
      "text/plain": [
       "<Figure size 432x288 with 1 Axes>"
      ]
     },
     "metadata": {
      "needs_background": "light"
     },
     "output_type": "display_data"
    },
    {
     "name": "stderr",
     "output_type": "stream",
     "text": [
      "\r",
      " 35%|█████████████████████████████                                                      | 7/20 [00:56<01:48,  8.33s/it]"
     ]
    },
    {
     "name": "stdout",
     "output_type": "stream",
     "text": [
      "Model: \"model_288\"\n",
      "__________________________________________________________________________________________________\n",
      "Layer (type)                    Output Shape         Param #     Connected to                     \n",
      "==================================================================================================\n",
      "input_288 (InputLayer)          (None, 70)           0                                            \n",
      "__________________________________________________________________________________________________\n",
      "dense_1493 (Dense)              (None, 32)           2272        input_288[0][0]                  \n",
      "__________________________________________________________________________________________________\n",
      "dropout_598 (Dropout)           (None, 32)           0           dense_1493[0][0]                 \n",
      "__________________________________________________________________________________________________\n",
      "dense_1494 (Dense)              (None, 32)           1056        dropout_598[0][0]                \n",
      "__________________________________________________________________________________________________\n",
      "add_553 (Add)                   (None, 32)           0           dense_1494[0][0]                 \n",
      "                                                                 dropout_598[0][0]                \n",
      "__________________________________________________________________________________________________\n",
      "dense_1495 (Dense)              (None, 16)           528         add_553[0][0]                    \n",
      "__________________________________________________________________________________________________\n",
      "dropout_599 (Dropout)           (None, 16)           0           dense_1495[0][0]                 \n",
      "__________________________________________________________________________________________________\n",
      "dense_1496 (Dense)              (None, 16)           272         dropout_599[0][0]                \n",
      "__________________________________________________________________________________________________\n",
      "add_554 (Add)                   (None, 16)           0           dense_1496[0][0]                 \n",
      "                                                                 dropout_599[0][0]                \n",
      "__________________________________________________________________________________________________\n",
      "dense_1497 (Dense)              (None, 1)            17          add_554[0][0]                    \n",
      "==================================================================================================\n",
      "Total params: 4,145\n",
      "Trainable params: 4,145\n",
      "Non-trainable params: 0\n",
      "__________________________________________________________________________________________________\n",
      "AUC 0.7481802721088435\n"
     ]
    },
    {
     "data": {
      "image/png": "[encoded data removed]",
      "text/plain": [
       "<Figure size 432x288 with 1 Axes>"
      ]
     },
     "metadata": {
      "needs_background": "light"
     },
     "output_type": "display_data"
    },
    {
     "name": "stderr",
     "output_type": "stream",
     "text": [
      "\r",
      " 40%|█████████████████████████████████▏                                                 | 8/20 [01:04<01:39,  8.26s/it]"
     ]
    },
    {
     "name": "stdout",
     "output_type": "stream",
     "text": [
      "Model: \"model_289\"\n",
      "__________________________________________________________________________________________________\n",
      "Layer (type)                    Output Shape         Param #     Connected to                     \n",
      "==================================================================================================\n",
      "input_289 (InputLayer)          (None, 70)           0                                            \n",
      "__________________________________________________________________________________________________\n",
      "dense_1498 (Dense)              (None, 32)           2272        input_289[0][0]                  \n",
      "__________________________________________________________________________________________________\n",
      "dropout_600 (Dropout)           (None, 32)           0           dense_1498[0][0]                 \n",
      "__________________________________________________________________________________________________\n",
      "dense_1499 (Dense)              (None, 32)           1056        dropout_600[0][0]                \n",
      "__________________________________________________________________________________________________\n",
      "add_555 (Add)                   (None, 32)           0           dense_1499[0][0]                 \n",
      "                                                                 dropout_600[0][0]                \n",
      "__________________________________________________________________________________________________\n",
      "dense_1500 (Dense)              (None, 16)           528         add_555[0][0]                    \n",
      "__________________________________________________________________________________________________\n",
      "dropout_601 (Dropout)           (None, 16)           0           dense_1500[0][0]                 \n",
      "__________________________________________________________________________________________________\n",
      "dense_1501 (Dense)              (None, 16)           272         dropout_601[0][0]                \n",
      "__________________________________________________________________________________________________\n",
      "add_556 (Add)                   (None, 16)           0           dense_1501[0][0]                 \n",
      "                                                                 dropout_601[0][0]                \n",
      "__________________________________________________________________________________________________\n",
      "dense_1502 (Dense)              (None, 1)            17          add_556[0][0]                    \n",
      "==================================================================================================\n",
      "Total params: 4,145\n",
      "Trainable params: 4,145\n",
      "Non-trainable params: 0\n",
      "__________________________________________________________________________________________________\n",
      "AUC 0.7646434763108185\n"
     ]
    },
    {
     "data": {
      "image/png": "[encoded data removed]",
      "text/plain": [
       "<Figure size 432x288 with 1 Axes>"
      ]
     },
     "metadata": {
      "needs_background": "light"
     },
     "output_type": "display_data"
    },
    {
     "name": "stderr",
     "output_type": "stream",
     "text": [
      "\r",
      " 45%|█████████████████████████████████████▎                                             | 9/20 [01:13<01:31,  8.31s/it]"
     ]
    },
    {
     "name": "stdout",
     "output_type": "stream",
     "text": [
      "Model: \"model_290\"\n",
      "__________________________________________________________________________________________________\n",
      "Layer (type)                    Output Shape         Param #     Connected to                     \n",
      "==================================================================================================\n",
      "input_290 (InputLayer)          (None, 70)           0                                            \n",
      "__________________________________________________________________________________________________\n",
      "dense_1503 (Dense)              (None, 32)           2272        input_290[0][0]                  \n",
      "__________________________________________________________________________________________________\n",
      "dropout_602 (Dropout)           (None, 32)           0           dense_1503[0][0]                 \n",
      "__________________________________________________________________________________________________\n",
      "dense_1504 (Dense)              (None, 32)           1056        dropout_602[0][0]                \n",
      "__________________________________________________________________________________________________\n",
      "add_557 (Add)                   (None, 32)           0           dense_1504[0][0]                 \n",
      "                                                                 dropout_602[0][0]                \n",
      "__________________________________________________________________________________________________\n",
      "dense_1505 (Dense)              (None, 16)           528         add_557[0][0]                    \n",
      "__________________________________________________________________________________________________\n",
      "dropout_603 (Dropout)           (None, 16)           0           dense_1505[0][0]                 \n",
      "__________________________________________________________________________________________________\n",
      "dense_1506 (Dense)              (None, 16)           272         dropout_603[0][0]                \n",
      "__________________________________________________________________________________________________\n",
      "add_558 (Add)                   (None, 16)           0           dense_1506[0][0]                 \n",
      "                                                                 dropout_603[0][0]                \n",
      "__________________________________________________________________________________________________\n",
      "dense_1507 (Dense)              (None, 1)            17          add_558[0][0]                    \n",
      "==================================================================================================\n",
      "Total params: 4,145\n",
      "Trainable params: 4,145\n",
      "Non-trainable params: 0\n",
      "__________________________________________________________________________________________________\n",
      "AUC 0.7769329908053733\n"
     ]
    },
    {
     "data": {
      "image/png": "[encoded data removed]",
      "text/plain": [
       "<Figure size 432x288 with 1 Axes>"
      ]
     },
     "metadata": {
      "needs_background": "light"
     },
     "output_type": "display_data"
    },
    {
     "name": "stderr",
     "output_type": "stream",
     "text": [
      "\r",
      " 50%|█████████████████████████████████████████                                         | 10/20 [01:21<01:21,  8.14s/it]"
     ]
    },
    {
     "name": "stdout",
     "output_type": "stream",
     "text": [
      "Model: \"model_291\"\n",
      "__________________________________________________________________________________________________\n",
      "Layer (type)                    Output Shape         Param #     Connected to                     \n",
      "==================================================================================================\n",
      "input_291 (InputLayer)          (None, 70)           0                                            \n",
      "__________________________________________________________________________________________________\n",
      "dense_1508 (Dense)              (None, 32)           2272        input_291[0][0]                  \n",
      "__________________________________________________________________________________________________\n",
      "dropout_604 (Dropout)           (None, 32)           0           dense_1508[0][0]                 \n",
      "__________________________________________________________________________________________________\n",
      "dense_1509 (Dense)              (None, 32)           1056        dropout_604[0][0]                \n",
      "__________________________________________________________________________________________________\n",
      "add_559 (Add)                   (None, 32)           0           dense_1509[0][0]                 \n",
      "                                                                 dropout_604[0][0]                \n",
      "__________________________________________________________________________________________________\n",
      "dense_1510 (Dense)              (None, 16)           528         add_559[0][0]                    \n",
      "__________________________________________________________________________________________________\n",
      "dropout_605 (Dropout)           (None, 16)           0           dense_1510[0][0]                 \n",
      "__________________________________________________________________________________________________\n",
      "dense_1511 (Dense)              (None, 16)           272         dropout_605[0][0]                \n",
      "__________________________________________________________________________________________________\n",
      "add_560 (Add)                   (None, 16)           0           dense_1511[0][0]                 \n",
      "                                                                 dropout_605[0][0]                \n",
      "__________________________________________________________________________________________________\n",
      "dense_1512 (Dense)              (None, 1)            17          add_560[0][0]                    \n",
      "==================================================================================================\n",
      "Total params: 4,145\n",
      "Trainable params: 4,145\n",
      "Non-trainable params: 0\n",
      "__________________________________________________________________________________________________\n",
      "AUC 0.7723867159708744\n"
     ]
    },
    {
     "data": {
      "image/png": "[encoded data removed]",
      "text/plain": [
       "<Figure size 432x288 with 1 Axes>"
      ]
     },
     "metadata": {
      "needs_background": "light"
     },
     "output_type": "display_data"
    },
    {
     "name": "stderr",
     "output_type": "stream",
     "text": [
      "\r",
      " 55%|█████████████████████████████████████████████                                     | 11/20 [01:30<01:16,  8.53s/it]"
     ]
    },
    {
     "name": "stdout",
     "output_type": "stream",
     "text": [
      "Model: \"model_292\"\n",
      "__________________________________________________________________________________________________\n",
      "Layer (type)                    Output Shape         Param #     Connected to                     \n",
      "==================================================================================================\n",
      "input_292 (InputLayer)          (None, 70)           0                                            \n",
      "__________________________________________________________________________________________________\n",
      "dense_1513 (Dense)              (None, 32)           2272        input_292[0][0]                  \n",
      "__________________________________________________________________________________________________\n",
      "dropout_606 (Dropout)           (None, 32)           0           dense_1513[0][0]                 \n",
      "__________________________________________________________________________________________________\n",
      "dense_1514 (Dense)              (None, 32)           1056        dropout_606[0][0]                \n",
      "__________________________________________________________________________________________________\n",
      "add_561 (Add)                   (None, 32)           0           dense_1514[0][0]                 \n",
      "                                                                 dropout_606[0][0]                \n",
      "__________________________________________________________________________________________________\n",
      "dense_1515 (Dense)              (None, 16)           528         add_561[0][0]                    \n",
      "__________________________________________________________________________________________________\n",
      "dropout_607 (Dropout)           (None, 16)           0           dense_1515[0][0]                 \n",
      "__________________________________________________________________________________________________\n",
      "dense_1516 (Dense)              (None, 16)           272         dropout_607[0][0]                \n",
      "__________________________________________________________________________________________________\n",
      "add_562 (Add)                   (None, 16)           0           dense_1516[0][0]                 \n",
      "                                                                 dropout_607[0][0]                \n",
      "__________________________________________________________________________________________________\n",
      "dense_1517 (Dense)              (None, 1)            17          add_562[0][0]                    \n",
      "==================================================================================================\n",
      "Total params: 4,145\n",
      "Trainable params: 4,145\n",
      "Non-trainable params: 0\n",
      "__________________________________________________________________________________________________\n",
      "AUC 0.7865276649835811\n"
     ]
    },
    {
     "data": {
      "image/png": "[encoded data removed]",
      "text/plain": [
       "<Figure size 432x288 with 1 Axes>"
      ]
     },
     "metadata": {
      "needs_background": "light"
     },
     "output_type": "display_data"
    },
    {
     "name": "stderr",
     "output_type": "stream",
     "text": [
      "\r",
      " 60%|█████████████████████████████████████████████████▏                                | 12/20 [01:39<01:09,  8.72s/it]"
     ]
    },
    {
     "name": "stdout",
     "output_type": "stream",
     "text": [
      "Model: \"model_293\"\n",
      "__________________________________________________________________________________________________\n",
      "Layer (type)                    Output Shape         Param #     Connected to                     \n",
      "==================================================================================================\n",
      "input_293 (InputLayer)          (None, 70)           0                                            \n",
      "__________________________________________________________________________________________________\n",
      "dense_1518 (Dense)              (None, 32)           2272        input_293[0][0]                  \n",
      "__________________________________________________________________________________________________\n",
      "dropout_608 (Dropout)           (None, 32)           0           dense_1518[0][0]                 \n",
      "__________________________________________________________________________________________________\n",
      "dense_1519 (Dense)              (None, 32)           1056        dropout_608[0][0]                \n",
      "__________________________________________________________________________________________________\n",
      "add_563 (Add)                   (None, 32)           0           dense_1519[0][0]                 \n",
      "                                                                 dropout_608[0][0]                \n",
      "__________________________________________________________________________________________________\n",
      "dense_1520 (Dense)              (None, 16)           528         add_563[0][0]                    \n",
      "__________________________________________________________________________________________________\n",
      "dropout_609 (Dropout)           (None, 16)           0           dense_1520[0][0]                 \n",
      "__________________________________________________________________________________________________\n",
      "dense_1521 (Dense)              (None, 16)           272         dropout_609[0][0]                \n",
      "__________________________________________________________________________________________________\n",
      "add_564 (Add)                   (None, 16)           0           dense_1521[0][0]                 \n",
      "                                                                 dropout_609[0][0]                \n",
      "__________________________________________________________________________________________________\n",
      "dense_1522 (Dense)              (None, 1)            17          add_564[0][0]                    \n",
      "==================================================================================================\n",
      "Total params: 4,145\n",
      "Trainable params: 4,145\n",
      "Non-trainable params: 0\n",
      "__________________________________________________________________________________________________\n",
      "AUC 0.7695076989806983\n"
     ]
    },
    {
     "data": {
      "image/png": "[encoded data removed]",
      "text/plain": [
       "<Figure size 432x288 with 1 Axes>"
      ]
     },
     "metadata": {
      "needs_background": "light"
     },
     "output_type": "display_data"
    },
    {
     "name": "stderr",
     "output_type": "stream",
     "text": [
      "\r",
      " 65%|█████████████████████████████████████████████████████▎                            | 13/20 [01:45<00:55,  7.94s/it]"
     ]
    },
    {
     "name": "stdout",
     "output_type": "stream",
     "text": [
      "Model: \"model_294\"\n",
      "__________________________________________________________________________________________________\n",
      "Layer (type)                    Output Shape         Param #     Connected to                     \n",
      "==================================================================================================\n",
      "input_294 (InputLayer)          (None, 70)           0                                            \n",
      "__________________________________________________________________________________________________\n",
      "dense_1523 (Dense)              (None, 32)           2272        input_294[0][0]                  \n",
      "__________________________________________________________________________________________________\n",
      "dropout_610 (Dropout)           (None, 32)           0           dense_1523[0][0]                 \n",
      "__________________________________________________________________________________________________\n",
      "dense_1524 (Dense)              (None, 32)           1056        dropout_610[0][0]                \n",
      "__________________________________________________________________________________________________\n",
      "add_565 (Add)                   (None, 32)           0           dense_1524[0][0]                 \n",
      "                                                                 dropout_610[0][0]                \n",
      "__________________________________________________________________________________________________\n",
      "dense_1525 (Dense)              (None, 16)           528         add_565[0][0]                    \n",
      "__________________________________________________________________________________________________\n",
      "dropout_611 (Dropout)           (None, 16)           0           dense_1525[0][0]                 \n",
      "__________________________________________________________________________________________________\n",
      "dense_1526 (Dense)              (None, 16)           272         dropout_611[0][0]                \n",
      "__________________________________________________________________________________________________\n",
      "add_566 (Add)                   (None, 16)           0           dense_1526[0][0]                 \n",
      "                                                                 dropout_611[0][0]                \n",
      "__________________________________________________________________________________________________\n",
      "dense_1527 (Dense)              (None, 1)            17          add_566[0][0]                    \n",
      "==================================================================================================\n",
      "Total params: 4,145\n",
      "Trainable params: 4,145\n",
      "Non-trainable params: 0\n",
      "__________________________________________________________________________________________________\n",
      "AUC 0.763599036275408\n"
     ]
    },
    {
     "data": {
      "image/png": "[encoded data removed]",
      "text/plain": [
       "<Figure size 432x288 with 1 Axes>"
      ]
     },
     "metadata": {
      "needs_background": "light"
     },
     "output_type": "display_data"
    },
    {
     "name": "stderr",
     "output_type": "stream",
     "text": [
      "\r",
      " 70%|█████████████████████████████████████████████████████████▍                        | 14/20 [01:52<00:45,  7.59s/it]"
     ]
    },
    {
     "name": "stdout",
     "output_type": "stream",
     "text": [
      "Model: \"model_295\"\n",
      "__________________________________________________________________________________________________\n",
      "Layer (type)                    Output Shape         Param #     Connected to                     \n",
      "==================================================================================================\n",
      "input_295 (InputLayer)          (None, 70)           0                                            \n",
      "__________________________________________________________________________________________________\n",
      "dense_1528 (Dense)              (None, 32)           2272        input_295[0][0]                  \n",
      "__________________________________________________________________________________________________\n",
      "dropout_612 (Dropout)           (None, 32)           0           dense_1528[0][0]                 \n",
      "__________________________________________________________________________________________________\n",
      "dense_1529 (Dense)              (None, 32)           1056        dropout_612[0][0]                \n",
      "__________________________________________________________________________________________________\n",
      "add_567 (Add)                   (None, 32)           0           dense_1529[0][0]                 \n",
      "                                                                 dropout_612[0][0]                \n",
      "__________________________________________________________________________________________________\n",
      "dense_1530 (Dense)              (None, 16)           528         add_567[0][0]                    \n",
      "__________________________________________________________________________________________________\n",
      "dropout_613 (Dropout)           (None, 16)           0           dense_1530[0][0]                 \n",
      "__________________________________________________________________________________________________\n",
      "dense_1531 (Dense)              (None, 16)           272         dropout_613[0][0]                \n",
      "__________________________________________________________________________________________________\n",
      "add_568 (Add)                   (None, 16)           0           dense_1531[0][0]                 \n",
      "                                                                 dropout_613[0][0]                \n",
      "__________________________________________________________________________________________________\n",
      "dense_1532 (Dense)              (None, 1)            17          add_568[0][0]                    \n",
      "==================================================================================================\n",
      "Total params: 4,145\n",
      "Trainable params: 4,145\n",
      "Non-trainable params: 0\n",
      "__________________________________________________________________________________________________\n",
      "AUC 0.762249175371083\n"
     ]
    },
    {
     "data": {
      "image/png": "[encoded data removed]",
      "text/plain": [
       "<Figure size 432x288 with 1 Axes>"
      ]
     },
     "metadata": {
      "needs_background": "light"
     },
     "output_type": "display_data"
    },
    {
     "name": "stderr",
     "output_type": "stream",
     "text": [
      "\r",
      " 75%|█████████████████████████████████████████████████████████████▌                    | 15/20 [02:02<00:41,  8.27s/it]"
     ]
    },
    {
     "name": "stdout",
     "output_type": "stream",
     "text": [
      "Model: \"model_296\"\n",
      "__________________________________________________________________________________________________\n",
      "Layer (type)                    Output Shape         Param #     Connected to                     \n",
      "==================================================================================================\n",
      "input_296 (InputLayer)          (None, 70)           0                                            \n",
      "__________________________________________________________________________________________________\n",
      "dense_1533 (Dense)              (None, 32)           2272        input_296[0][0]                  \n",
      "__________________________________________________________________________________________________\n",
      "dropout_614 (Dropout)           (None, 32)           0           dense_1533[0][0]                 \n",
      "__________________________________________________________________________________________________\n",
      "dense_1534 (Dense)              (None, 32)           1056        dropout_614[0][0]                \n",
      "__________________________________________________________________________________________________\n",
      "add_569 (Add)                   (None, 32)           0           dense_1534[0][0]                 \n",
      "                                                                 dropout_614[0][0]                \n",
      "__________________________________________________________________________________________________\n",
      "dense_1535 (Dense)              (None, 16)           528         add_569[0][0]                    \n",
      "__________________________________________________________________________________________________\n",
      "dropout_615 (Dropout)           (None, 16)           0           dense_1535[0][0]                 \n",
      "__________________________________________________________________________________________________\n",
      "dense_1536 (Dense)              (None, 16)           272         dropout_615[0][0]                \n",
      "__________________________________________________________________________________________________\n",
      "add_570 (Add)                   (None, 16)           0           dense_1536[0][0]                 \n",
      "                                                                 dropout_615[0][0]                \n",
      "__________________________________________________________________________________________________\n",
      "dense_1537 (Dense)              (None, 1)            17          add_570[0][0]                    \n",
      "==================================================================================================\n",
      "Total params: 4,145\n",
      "Trainable params: 4,145\n",
      "Non-trainable params: 0\n",
      "__________________________________________________________________________________________________\n",
      "AUC 0.7819841763405196\n"
     ]
    },
    {
     "data": {
      "image/png": "[encoded data removed]",
      "text/plain": [
       "<Figure size 432x288 with 1 Axes>"
      ]
     },
     "metadata": {
      "needs_background": "light"
     },
     "output_type": "display_data"
    },
    {
     "name": "stderr",
     "output_type": "stream",
     "text": [
      "\r",
      " 80%|█████████████████████████████████████████████████████████████████▌                | 16/20 [02:09<00:31,  7.84s/it]"
     ]
    },
    {
     "name": "stdout",
     "output_type": "stream",
     "text": [
      "Model: \"model_297\"\n",
      "__________________________________________________________________________________________________\n",
      "Layer (type)                    Output Shape         Param #     Connected to                     \n",
      "==================================================================================================\n",
      "input_297 (InputLayer)          (None, 70)           0                                            \n",
      "__________________________________________________________________________________________________\n",
      "dense_1538 (Dense)              (None, 32)           2272        input_297[0][0]                  \n",
      "__________________________________________________________________________________________________\n",
      "dropout_616 (Dropout)           (None, 32)           0           dense_1538[0][0]                 \n",
      "__________________________________________________________________________________________________\n",
      "dense_1539 (Dense)              (None, 32)           1056        dropout_616[0][0]                \n",
      "__________________________________________________________________________________________________\n",
      "add_571 (Add)                   (None, 32)           0           dense_1539[0][0]                 \n",
      "                                                                 dropout_616[0][0]                \n",
      "__________________________________________________________________________________________________\n",
      "dense_1540 (Dense)              (None, 16)           528         add_571[0][0]                    \n",
      "__________________________________________________________________________________________________\n",
      "dropout_617 (Dropout)           (None, 16)           0           dense_1540[0][0]                 \n",
      "__________________________________________________________________________________________________\n",
      "dense_1541 (Dense)              (None, 16)           272         dropout_617[0][0]                \n",
      "__________________________________________________________________________________________________\n",
      "add_572 (Add)                   (None, 16)           0           dense_1541[0][0]                 \n",
      "                                                                 dropout_617[0][0]                \n",
      "__________________________________________________________________________________________________\n",
      "dense_1542 (Dense)              (None, 1)            17          add_572[0][0]                    \n",
      "==================================================================================================\n",
      "Total params: 4,145\n",
      "Trainable params: 4,145\n",
      "Non-trainable params: 0\n",
      "__________________________________________________________________________________________________\n",
      "AUC 0.7534575591216217\n"
     ]
    },
    {
     "data": {
      "image/png": "[encoded data removed]",
      "text/plain": [
       "<Figure size 432x288 with 1 Axes>"
      ]
     },
     "metadata": {
      "needs_background": "light"
     },
     "output_type": "display_data"
    },
    {
     "name": "stderr",
     "output_type": "stream",
     "text": [
      "\r",
      " 85%|█████████████████████████████████████████████████████████████████████▋            | 17/20 [02:16<00:22,  7.58s/it]"
     ]
    },
    {
     "name": "stdout",
     "output_type": "stream",
     "text": [
      "Model: \"model_298\"\n",
      "__________________________________________________________________________________________________\n",
      "Layer (type)                    Output Shape         Param #     Connected to                     \n",
      "==================================================================================================\n",
      "input_298 (InputLayer)          (None, 70)           0                                            \n",
      "__________________________________________________________________________________________________\n",
      "dense_1543 (Dense)              (None, 32)           2272        input_298[0][0]                  \n",
      "__________________________________________________________________________________________________\n",
      "dropout_618 (Dropout)           (None, 32)           0           dense_1543[0][0]                 \n",
      "__________________________________________________________________________________________________\n",
      "dense_1544 (Dense)              (None, 32)           1056        dropout_618[0][0]                \n",
      "__________________________________________________________________________________________________\n",
      "add_573 (Add)                   (None, 32)           0           dense_1544[0][0]                 \n",
      "                                                                 dropout_618[0][0]                \n",
      "__________________________________________________________________________________________________\n",
      "dense_1545 (Dense)              (None, 16)           528         add_573[0][0]                    \n",
      "__________________________________________________________________________________________________\n",
      "dropout_619 (Dropout)           (None, 16)           0           dense_1545[0][0]                 \n",
      "__________________________________________________________________________________________________\n",
      "dense_1546 (Dense)              (None, 16)           272         dropout_619[0][0]                \n",
      "__________________________________________________________________________________________________\n",
      "add_574 (Add)                   (None, 16)           0           dense_1546[0][0]                 \n",
      "                                                                 dropout_619[0][0]                \n",
      "__________________________________________________________________________________________________\n",
      "dense_1547 (Dense)              (None, 1)            17          add_574[0][0]                    \n",
      "==================================================================================================\n",
      "Total params: 4,145\n",
      "Trainable params: 4,145\n",
      "Non-trainable params: 0\n",
      "__________________________________________________________________________________________________\n",
      "AUC 0.7471582911036037\n"
     ]
    },
    {
     "data": {
      "image/png": "[encoded data removed]",
      "text/plain": [
       "<Figure size 432x288 with 1 Axes>"
      ]
     },
     "metadata": {
      "needs_background": "light"
     },
     "output_type": "display_data"
    },
    {
     "name": "stderr",
     "output_type": "stream",
     "text": [
      "\r",
      " 90%|█████████████████████████████████████████████████████████████████████████▊        | 18/20 [02:22<00:14,  7.13s/it]"
     ]
    },
    {
     "name": "stdout",
     "output_type": "stream",
     "text": [
      "Model: \"model_299\"\n",
      "__________________________________________________________________________________________________\n",
      "Layer (type)                    Output Shape         Param #     Connected to                     \n",
      "==================================================================================================\n",
      "input_299 (InputLayer)          (None, 70)           0                                            \n",
      "__________________________________________________________________________________________________\n",
      "dense_1548 (Dense)              (None, 32)           2272        input_299[0][0]                  \n",
      "__________________________________________________________________________________________________\n",
      "dropout_620 (Dropout)           (None, 32)           0           dense_1548[0][0]                 \n",
      "__________________________________________________________________________________________________\n",
      "dense_1549 (Dense)              (None, 32)           1056        dropout_620[0][0]                \n",
      "__________________________________________________________________________________________________\n",
      "add_575 (Add)                   (None, 32)           0           dense_1549[0][0]                 \n",
      "                                                                 dropout_620[0][0]                \n",
      "__________________________________________________________________________________________________\n",
      "dense_1550 (Dense)              (None, 16)           528         add_575[0][0]                    \n",
      "__________________________________________________________________________________________________\n",
      "dropout_621 (Dropout)           (None, 16)           0           dense_1550[0][0]                 \n",
      "__________________________________________________________________________________________________\n",
      "dense_1551 (Dense)              (None, 16)           272         dropout_621[0][0]                \n",
      "__________________________________________________________________________________________________\n",
      "add_576 (Add)                   (None, 16)           0           dense_1551[0][0]                 \n",
      "                                                                 dropout_621[0][0]                \n",
      "__________________________________________________________________________________________________\n",
      "dense_1552 (Dense)              (None, 1)            17          add_576[0][0]                    \n",
      "==================================================================================================\n",
      "Total params: 4,145\n",
      "Trainable params: 4,145\n",
      "Non-trainable params: 0\n",
      "__________________________________________________________________________________________________\n",
      "AUC 0.7493745930571262\n"
     ]
    },
    {
     "data": {
      "image/png": "[encoded data removed]",
      "text/plain": [
       "<Figure size 432x288 with 1 Axes>"
      ]
     },
     "metadata": {
      "needs_background": "light"
     },
     "output_type": "display_data"
    },
    {
     "name": "stderr",
     "output_type": "stream",
     "text": [
      "\r",
      " 95%|█████████████████████████████████████████████████████████████████████████████▉    | 19/20 [02:30<00:07,  7.52s/it]"
     ]
    },
    {
     "name": "stdout",
     "output_type": "stream",
     "text": [
      "Model: \"model_300\"\n",
      "__________________________________________________________________________________________________\n",
      "Layer (type)                    Output Shape         Param #     Connected to                     \n",
      "==================================================================================================\n",
      "input_300 (InputLayer)          (None, 70)           0                                            \n",
      "__________________________________________________________________________________________________\n",
      "dense_1553 (Dense)              (None, 32)           2272        input_300[0][0]                  \n",
      "__________________________________________________________________________________________________\n",
      "dropout_622 (Dropout)           (None, 32)           0           dense_1553[0][0]                 \n",
      "__________________________________________________________________________________________________\n",
      "dense_1554 (Dense)              (None, 32)           1056        dropout_622[0][0]                \n",
      "__________________________________________________________________________________________________\n",
      "add_577 (Add)                   (None, 32)           0           dense_1554[0][0]                 \n",
      "                                                                 dropout_622[0][0]                \n",
      "__________________________________________________________________________________________________\n",
      "dense_1555 (Dense)              (None, 16)           528         add_577[0][0]                    \n",
      "__________________________________________________________________________________________________\n",
      "dropout_623 (Dropout)           (None, 16)           0           dense_1555[0][0]                 \n",
      "__________________________________________________________________________________________________\n",
      "dense_1556 (Dense)              (None, 16)           272         dropout_623[0][0]                \n",
      "__________________________________________________________________________________________________\n",
      "add_578 (Add)                   (None, 16)           0           dense_1556[0][0]                 \n",
      "                                                                 dropout_623[0][0]                \n",
      "__________________________________________________________________________________________________\n",
      "dense_1557 (Dense)              (None, 1)            17          add_578[0][0]                    \n",
      "==================================================================================================\n",
      "Total params: 4,145\n",
      "Trainable params: 4,145\n",
      "Non-trainable params: 0\n",
      "__________________________________________________________________________________________________\n",
      "AUC 0.7916971069549971\n"
     ]
    },
    {
     "data": {
      "image/png": "[encoded data removed]",
      "text/plain": [
       "<Figure size 432x288 with 1 Axes>"
      ]
     },
     "metadata": {
      "needs_background": "light"
     },
     "output_type": "display_data"
    },
    {
     "name": "stderr",
     "output_type": "stream",
     "text": [
      "100%|██████████████████████████████████████████████████████████████████████████████████| 20/20 [02:37<00:00,  7.89s/it]\n"
     ]
    }
   ],
   "source": [
    "# Define the number of features\n",
    "max_features = X_train.shape[1]\n",
    "# Define the Model architecture\n",
    "N = 20\n",
    "p = 3.5\n",
    "preds = []\n",
    "aucs = []\n",
    "\n",
    "for i in tqdm(range(N)):    \n",
    "    SEED = np.random.randint(1, 10000)              \n",
    "    random.seed(SEED)       \n",
    "    np.random.seed(SEED)     \n",
    "    if tf.__version__[0] < '2':  \n",
    "        tf.set_random_seed(SEED)\n",
    "    else:\n",
    "        tf.random.set_seed(SEED)\n",
    "        \n",
    "    # Define the Model architecture\n",
    "\n",
    "    in_dnn = Input(shape=(X_train.shape[1],)) \n",
    "    x = Dense(32, activation='elu', input_shape=(max_features,), kernel_regularizer=l2(0.01), kernel_initializer='he_normal')(in_dnn) \n",
    "    x = Dropout(0.15)(x)\n",
    "    x1 = Dense(32, kernel_regularizer=l2(0.01), kernel_initializer='he_normal')(x)\n",
    "    x = Add()([x1, x])\n",
    "    x = Dense(16, activation='elu', kernel_initializer='he_normal')(x)\n",
    "    x = Dropout(0.1)(x)\n",
    "    x1 = Dense(16, kernel_initializer='he_normal')(x)\n",
    "    x = Add()([x1, x])\n",
    "    #x = PReLU()(x)\n",
    "    #x = BatchNormalization()(x)\n",
    "    #x = Dropout(0.1)(x)\n",
    "    #x = Dense(4, activation='relu', kernel_initializer='he_normal')(x)\n",
    "    out_dnn = Dense(1, activation='sigmoid')(x)\n",
    "\n",
    "    model = Model(in_dnn, out_dnn)\n",
    "    model.summary()\n",
    "\n",
    "    # Train the Model\n",
    "    model.compile(optimizer='adam', loss='binary_crossentropy', metrics=['acc',tf.keras.metrics.AUC()])\n",
    "\n",
    "    train_x, valid_x, train_y, valid_y = train_test_split(X_train, y_train, test_size=0.2)\n",
    "    \n",
    "    callbacks = [keras.callbacks.EarlyStopping(monitor='val_loss',\n",
    "                                               patience=10),\n",
    "                 keras.callbacks.ModelCheckpoint(filepath='best_model2.h5',\n",
    "                                                 monitor='val_loss',\n",
    "                                                 save_best_only=True)]\n",
    "\n",
    "    history = model.fit(train_x, train_y, epochs=100, batch_size=64, \n",
    "                        validation_data=(valid_x,valid_y), callbacks=callbacks, verbose=0)\n",
    "    \n",
    "    auc = roc_auc_score(valid_y, model.predict(valid_x).flatten())\n",
    "    aucs.append(auc)\n",
    "    print('AUC', auc)\n",
    "    preds.append(model.predict(X_test).flatten())  \n",
    "    \n",
    "    plt.plot(history.history[\"loss\"], label=\"train loss\")\n",
    "    plt.plot(history.history[\"val_loss\"], label=\"validation loss\")\n",
    "    plt.legend()\n",
    "    plt.title(\"Loss\")\n",
    "    plt.show()"
   ]
  },
  {
   "cell_type": "code",
   "execution_count": 71,
   "metadata": {},
   "outputs": [
    {
     "name": "stdout",
     "output_type": "stream",
     "text": [
      "\n",
      "Validation Summary:\n",
      "19    0.791697\n",
      "2     0.791670\n",
      "5     0.790072\n",
      "11    0.786528\n",
      "15    0.781984\n",
      "3     0.777516\n",
      "9     0.776933\n",
      "10    0.772387\n",
      "12    0.769508\n",
      "8     0.764643\n",
      "13    0.763599\n",
      "14    0.762249\n",
      "6     0.762142\n",
      "16    0.753458\n",
      "18    0.749375\n",
      "1     0.749357\n",
      "7     0.748180\n",
      "17    0.747158\n",
      "0     0.747158\n",
      "4     0.725874\n",
      "dtype: float64\n",
      "mean=0.76557, std=0.018\n"
     ]
    }
   ],
   "source": [
    "print('\\nValidation Summary:')\n",
    "aucs = pd.Series(aucs)\n",
    "print(aucs.sort_values(ascending=False))\n",
    "print('mean={:.5f}, std={:.3f}'.format(aucs.mean(), aucs.std()))"
   ]
  },
  {
   "cell_type": "code",
   "execution_count": 11,
   "metadata": {
    "scrolled": true
   },
   "outputs": [
    {
     "name": "stdout",
     "output_type": "stream",
     "text": [
      "C:\\Users\\john9\\Downloads\\3학년 2학기\\머신러닝\\과제\\5차\\Submission\n"
     ]
    }
   ],
   "source": [
    "cd C:\\Users\\john9\\Downloads\\3학년 2학기\\머신러닝\\과제\\5차\\Submission"
   ]
  },
  {
   "cell_type": "code",
   "execution_count": 25,
   "metadata": {},
   "outputs": [
    {
     "name": "stdout",
     "output_type": "stream",
     "text": [
      "'DNN_F2_p3.5n5_submit_06132253.csv' is ready to submit.\n"
     ]
    }
   ],
   "source": [
    "from scipy.stats.mstats import gmean\n",
    "# Power mean ensemble\n",
    "THRESHOLD = 0.786  # Use only models whose AUC exceeds this value\n",
    "\n",
    "target_pred = []\n",
    "n = 0\n",
    "for i in range(N):\n",
    "    if aucs.iloc[i] > THRESHOLD:\n",
    "        target_pred.append(preds[i])\n",
    "        n += 1\n",
    "pred = gmean(target_pred)\n",
    "\n",
    "# Make a submission file\n",
    "t = pd.Timestamp.now()\n",
    "fname = f\"DNN_F1_En{n}_submit_{t.month:02}{t.day:02}{t.hour:02}{t.minute:02}.csv\"\n",
    "submissions = pd.concat([pd.Series(IDtest, name=\"cust_id\"), pd.Series(pred, name=\"gender\")] ,axis=1)\n",
    "submissions.to_csv(fname, index=False)\n",
    "print(f\"'{fname}' is ready to submit.\")"
   ]
  },
  {
   "cell_type": "code",
   "execution_count": 13,
   "metadata": {},
   "outputs": [
    {
     "name": "stdout",
     "output_type": "stream",
     "text": [
      "'NN_submission_F2_06102158.csv' is ready to submit.\n"
     ]
    }
   ],
   "source": [
    "# pred = model.predict(X_test)[:,0]\n",
    "# t = pd.Timestamp.now()\n",
    "# fname = f\"NN_submission_F2_{t.month:02}{t.day:02}{t.hour:02}{t.minute:02}.csv\"\n",
    "# submissions = pd.concat([pd.Series(IDtest, name=\"cust_id\"), pd.Series(pred, name=\"gender\")] ,axis=1)\n",
    "# submissions.to_csv(fname, index=False)\n",
    "# print(f\"'{fname}' is ready to submit.\")"
   ]
  }
 ],
 "metadata": {
  "kernelspec": {
   "display_name": "Python 3",
   "language": "python",
   "name": "python3"
  },
  "language_info": {
   "codemirror_mode": {
    "name": "ipython",
    "version": 3
   },
   "file_extension": ".py",
   "mimetype": "text/x-python",
   "name": "python",
   "nbconvert_exporter": "python",
   "pygments_lexer": "ipython3",
   "version": "3.7.7"
  }
 },
 "nbformat": 4,
 "nbformat_minor": 4
}
