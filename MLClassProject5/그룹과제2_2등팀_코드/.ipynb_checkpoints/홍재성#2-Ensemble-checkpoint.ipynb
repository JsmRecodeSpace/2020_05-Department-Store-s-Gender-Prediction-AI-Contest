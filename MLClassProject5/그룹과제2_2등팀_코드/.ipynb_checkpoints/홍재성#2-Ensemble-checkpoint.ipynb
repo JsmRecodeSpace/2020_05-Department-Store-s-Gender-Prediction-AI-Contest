{
 "cells": [
  {
   "cell_type": "code",
   "execution_count": 1,
   "metadata": {},
   "outputs": [],
   "source": [
    "%run import_modules.py"
   ]
  },
  {
   "cell_type": "code",
   "execution_count": 2,
   "metadata": {},
   "outputs": [],
   "source": [
    "sub1 = pd.read_csv(\"홍재성#0_DAE.csv\")\n",
    "sub2 = pd.read_csv(\"홍재성#0_DNN.csv\")\n",
    "sub3 = pd.read_csv(\"홍재성#1_1.csv\")\n",
    "sub4 = pd.read_csv('홍재성#1_2.csv')\n",
    "sub5 = pd.read_csv('홍재성#2.csv')\n",
    "\n",
    "sub0 =gmean([sub1[\"gender\"],sub2[\"gender\"],sub3[\"gender\"],sub4['gender'],sub5['gender']])\n",
    "sub0 =  pd.concat([pd.Series(range(3500,5982), name=\"cust_id\"), pd.Series(sub0, name=\"gender\")] ,axis=1)\n",
    "sub0.to_csv(\"홍재성_submission.csv\", index=False)"
   ]
  },
  {
   "cell_type": "code",
   "execution_count": null,
   "metadata": {},
   "outputs": [],
   "source": [
    "pd.read_csv('홍재성_submission.csv)"
   ]
  }
 ],
 "metadata": {
  "kernelspec": {
   "display_name": "Python 3",
   "language": "python",
   "name": "python3"
  },
  "language_info": {
   "codemirror_mode": {
    "name": "ipython",
    "version": 3
   },
   "file_extension": ".py",
   "mimetype": "text/x-python",
   "name": "python",
   "nbconvert_exporter": "python",
   "pygments_lexer": "ipython3",
   "version": "3.7.6"
  }
 },
 "nbformat": 4,
 "nbformat_minor": 4
}
