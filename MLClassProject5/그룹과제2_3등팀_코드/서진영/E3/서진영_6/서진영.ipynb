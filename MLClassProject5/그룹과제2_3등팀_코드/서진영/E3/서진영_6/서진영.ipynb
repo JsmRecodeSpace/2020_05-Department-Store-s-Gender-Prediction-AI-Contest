{
 "cells": [
  {
   "cell_type": "markdown",
   "metadata": {},
   "source": [
    "## 주요 변동사항\n",
    "\n",
    "### 가. 피처\n",
    "\n",
    "* w2v 기법을 사용하여 변수 생성하였습니다. 자체 성능평가 결과 성능이 우수한 딥러닝 모델으로 학습시켰습니다.\n",
    "\n",
    "* smoothing 인코딩한 변수를 추가해보고 가우시안 노이즈 기법을 사용하였으나 성능이 개선되지 않았습니다.\n",
    "* 이상치 제거 및 다양한 정규화 기법을 적용하였으며 MinmaxScaler()를 사용하였습니다.\n",
    "\n",
    "### 나. 파이프라인\n",
    "\n",
    "* 딥러닝 모델과 데이터 셋의 관계를 확인하기 위해서 동일한 파라미터를 가진 모델 5개와 5개의 개별 데이터 셋을 준비하였습니다.\n",
    "* StratifiedKFold(cv = 7)를 사용하였으며, 안정적인 튜닝을 위하여 Stratify한 train_test_split을 사용하여 데이터 셋을 train, valid, test로 나누어 학습시키고 k-fold한 결과를 종합하여 제출하였습니다."
   ]
  },
  {
   "cell_type": "code",
   "execution_count": 1,
   "metadata": {},
   "outputs": [],
   "source": [
    "%run import_modules.py  \n",
    "%matplotlib inline\n",
    "\n",
    "# For DNN modeling\n",
    "import tensorflow as tf\n",
    "from tensorflow.keras import backend as K\n",
    "from tensorflow.keras.layers import *\n",
    "from tensorflow.keras.models import *\n",
    "from tensorflow.keras.optimizers import *\n",
    "from tensorflow.keras.initializers import *\n",
    "from tensorflow.keras.regularizers import *\n",
    "from tensorflow.keras.utils import * # model_to_dot, to_categorical\n",
    "from tensorflow.keras.callbacks import EarlyStopping\n",
    "from tensorflow.keras.callbacks import ReduceLROnPlateau\n",
    "from tensorflow.keras.preprocessing import sequence\n",
    "from tensorflow.keras.preprocessing.text import *\n",
    "\n",
    "# Tensorflow warning off\n",
    "os.environ['TF_CPP_MIN_LOG_LEVEL'] = '3' "
   ]
  },
  {
   "cell_type": "code",
   "execution_count": 2,
   "metadata": {},
   "outputs": [],
   "source": [
    "SEED = 10334            # seed 숫자를 지정\n",
    "random.seed(SEED)     # Python 고정\n",
    "np.random.seed(SEED)  # numpy 고정\n",
    "tf.random.set_seed(SEED) # Tensorflow 고정"
   ]
  },
  {
   "cell_type": "code",
   "execution_count": null,
   "metadata": {},
   "outputs": [],
   "source": [
    "%%writefile w2v11.py\n",
    "\n",
    "\n",
    "import pandas as pd\n",
    "import numpy as np\n",
    "\n",
    "df_train = pd.read_csv('X_train.csv', encoding='cp949')\n",
    "df_test = pd.read_csv('X_test.csv', encoding='cp949')\n",
    "y_train = pd.read_csv('y_train.csv').gender\n",
    "IDtest = df_test.cust_id.unique()\n",
    "f_data = pd.concat([df_train, df_test]).reset_index(drop=True)\n",
    "\n",
    "### Make corpus\n",
    "p_level = 'gds_grp_nm'  # 상품 분류 수준\n",
    "\n",
    "# oversampling\n",
    "def oversample(x, n, seed=0):\n",
    "    if n == 0:\n",
    "        return list(x)\n",
    "    uw = np.unique(x)\n",
    "    bs = np.array([])\n",
    "    np.random.seed(seed)\n",
    "    for j in range(n):\n",
    "        bs = np.append(bs, np.random.choice(uw, len(uw), replace=False))\n",
    "    return list(bs)\n",
    "\n",
    "X_train = list(df_train.groupby('cust_id')[p_level].agg(oversample, 20))\n",
    "X_test = list(df_test.groupby('cust_id')[p_level].agg(oversample, 20))\n",
    "F_data = list(f_data.groupby('cust_id')[p_level].agg(oversample,20))\n",
    "\n",
    "# Training the Word2Vec model\n",
    "num_features = 100 # 벡터 차원 수\n",
    "min_word_count = 1 # 최소 단어 수\n",
    "context = 5 # 학습 윈도우 크기\n",
    "\n",
    "# 초기화 및 모델 학습\n",
    "from gensim.models import word2vec\n",
    "\n",
    "# 모델 학습\n",
    "w2v = word2vec.Word2Vec(F_data, \n",
    "                        size=num_features, \n",
    "                        min_count=min_word_count,\n",
    "                        window=context,\n",
    "                        seed=0, workers=4, sg=0)\n",
    "\n",
    "# 필요없는 메모리 unload\n",
    "w2v.init_sims(replace=True)\n",
    "\n",
    "vocabs = w2v.wv.vocab.keys()\n",
    "vocab_vectors_list = [w2v.wv[v] for v in vocabs]\n",
    "\n",
    "word_embeddings = pd.DataFrame(w2v.wv.syn0norm[:, :], index=w2v.wv.index2word[:])\n",
    "\n",
    "F = f_data[['cust_id','gds_grp_nm']]\n",
    "\n",
    "train_test = pd.merge(left = F, right = word_embeddings, left_on='gds_grp_nm', right_index=True,how='left')\n",
    "train_test = train_test.drop(['gds_grp_nm'], axis=1)\n",
    "\n",
    "m = pd.DataFrame(train_test['cust_id'].unique())\n",
    "m.rename(columns={0:'cust_id'},inplace=True)\n",
    "\n",
    "for i in range(100) :\n",
    "    s = train_test.groupby('cust_id')[i].agg([\n",
    "        (f'{i}.min',np.min)]).reset_index()\n",
    "    m = pd.merge(left = m,right = s,on='cust_id',how='outer')\n",
    "\n",
    "mx = pd.DataFrame(train_test['cust_id'].unique())\n",
    "mx.rename(columns={0:'cust_id'},inplace=True)\n",
    "\n",
    "for i in range(100) :\n",
    "    s = train_test.groupby('cust_id')[i].agg([\n",
    "        (f'{i}.max',np.max)]).reset_index()\n",
    "    mx = pd.merge(left = mx,right = s,on='cust_id',how='outer')\n",
    "\n",
    "mn = pd.DataFrame(train_test['cust_id'].unique())\n",
    "mn.rename(columns={0:'cust_id'},inplace=True)\n",
    "\n",
    "for i in range(100) :\n",
    "    s = train_test.groupby('cust_id')[i].agg([\n",
    "        (f'{i}.mean',np.mean)]).reset_index()\n",
    "    mn = pd.merge(left = mn,right = s,on='cust_id',how='outer')\n",
    "\n",
    "ss = pd.DataFrame(train_test['cust_id'].unique())\n",
    "ss.rename(columns={0:'cust_id'},inplace=True)\n",
    "\n",
    "for i in range(100) :\n",
    "    s = train_test.groupby('cust_id')[i].agg([\n",
    "        (f'{i}.sum',np.sum)]).reset_index()\n",
    "    ss = pd.merge(left = ss,right = s,on='cust_id',how='outer')\n",
    "\n",
    "st = pd.DataFrame(train_test['cust_id'].unique())\n",
    "st.rename(columns={0:'cust_id'},inplace=True)\n",
    "\n",
    "for i in range(100) :\n",
    "    s = train_test.groupby('cust_id')[i].agg([\n",
    "        (f'{i}.std',np.std)]).reset_index()\n",
    "    st = pd.merge(left = st,right = s,on='cust_id',how='outer')\n",
    "st = st.fillna(0)\n",
    "# 데이터 병합\n",
    "train_test = pd.merge(m,mx, on='cust_id', how='outer')\n",
    "train_test = pd.merge(train_test,mn, on='cust_id', how='outer')\n",
    "train_test = pd.merge(train_test,ss, on ='cust_id', how='outer')\n",
    "train_test = pd.merge(train_test,st, on = 'cust_id', how='outer')\n",
    "\n",
    "train_test.to_csv('w2v0611.csv',index=False)"
   ]
  },
  {
   "cell_type": "code",
   "execution_count": null,
   "metadata": {},
   "outputs": [],
   "source": [
    "import os\n",
    "import subprocess\n",
    "\n",
    "subprocess.run(['python', 'w2v11.py'], env={**os.environ, 'PYTHONHASHSEED': '123'})"
   ]
  },
  {
   "cell_type": "markdown",
   "metadata": {},
   "source": [
    "### Read Data"
   ]
  },
  {
   "cell_type": "code",
   "execution_count": 3,
   "metadata": {},
   "outputs": [],
   "source": [
    "train_test = pd.read_csv('w2v0611.csv', encoding='cp949')\n",
    "# df_train = pd.read_csv('X_train.csv', encoding='cp949')\n",
    "df_test = pd.read_csv('X_test.csv', encoding='cp949')\n",
    "y_train = pd.read_csv('y_train.csv').gender\n",
    "IDtest = df_test.cust_id.unique()"
   ]
  },
  {
   "cell_type": "markdown",
   "metadata": {},
   "source": [
    "### Data PreProcessing"
   ]
  },
  {
   "cell_type": "code",
   "execution_count": 4,
   "metadata": {},
   "outputs": [],
   "source": [
    "train_test.iloc[:,1:] = train_test.iloc[:,1:].apply(lambda x: x.clip(x.quantile(.05), x.quantile(.95)), axis=0)\n",
    "train_test.iloc[:,1:] = train_test.iloc[:,1:] + 1\n",
    "\n",
    "from sklearn.preprocessing import RobustScaler\n",
    "# from sklearn.preprocessing import Normalizer\n",
    "\n",
    "scaler = MinMaxScaler()\n",
    "# scaler = RobustScaler()\n",
    "# scaler = Normalizer()\n",
    "\n",
    "train_test.iloc[:,1:] = scaler.fit_transform(train_test.iloc[:,1:])\n",
    "\n",
    "train_w2v = train_test.query('cust_id not in @IDtest').drop('cust_id', axis=1)\n",
    "test_w2v = train_test.query('cust_id in @IDtest').drop('cust_id', axis=1)\n",
    "\n",
    "train_w2v = np.array(train_w2v)\n",
    "X_test = np.array(test_w2v)"
   ]
  },
  {
   "cell_type": "markdown",
   "metadata": {},
   "source": [
    "### Build Models with W2V"
   ]
  },
  {
   "cell_type": "code",
   "execution_count": 5,
   "metadata": {},
   "outputs": [],
   "source": [
    "folds = StratifiedKFold(n_splits=7,\n",
    "                        shuffle=True, \n",
    "                        random_state=1)\n",
    "\n",
    "index_info = []\n",
    "\n",
    "# cv의 train과 valid index를 저장\n",
    "\n",
    "for fold_, (trn_, val_) in enumerate(folds.split(y_train, y_train)):\n",
    "    \n",
    "    index_info.append([trn_, val_])"
   ]
  },
  {
   "cell_type": "code",
   "execution_count": 6,
   "metadata": {},
   "outputs": [],
   "source": [
    "from tensorflow.keras.callbacks import ReduceLROnPlateau\n",
    "\n",
    "callback_list = [\n",
    "    \n",
    "    EarlyStopping(\n",
    "        \n",
    "        patience = 7\n",
    "    ),\n",
    "    \n",
    "    ReduceLROnPlateau(\n",
    "        \n",
    "        factor = 0.1,\n",
    "        patience = 5,\n",
    "    )\n",
    "]"
   ]
  },
  {
   "cell_type": "code",
   "execution_count": 7,
   "metadata": {
    "scrolled": false
   },
   "outputs": [
    {
     "name": "stderr",
     "output_type": "stream",
     "text": [
      "\r",
      "  0%|                                                                                            | 0/7 [00:00<?, ?it/s]"
     ]
    },
    {
     "data": {
      "image/png": "[encoded data removed]",
      "text/plain": [
       "<Figure size 432x288 with 1 Axes>"
      ]
     },
     "metadata": {
      "needs_background": "light"
     },
     "output_type": "display_data"
    },
    {
     "name": "stdout",
     "output_type": "stream",
     "text": [
      "AUC 0.754799168030551\n"
     ]
    },
    {
     "name": "stderr",
     "output_type": "stream",
     "text": [
      "\r",
      " 14%|████████████                                                                        | 1/7 [00:15<01:35, 15.96s/it]"
     ]
    },
    {
     "data": {
      "image/png": "[encoded data removed]",
      "text/plain": [
       "<Figure size 432x288 with 1 Axes>"
      ]
     },
     "metadata": {
      "needs_background": "light"
     },
     "output_type": "display_data"
    },
    {
     "name": "stderr",
     "output_type": "stream",
     "text": [
      "\r",
      " 29%|████████████████████████                                                            | 2/7 [00:33<01:22, 16.57s/it]"
     ]
    },
    {
     "name": "stdout",
     "output_type": "stream",
     "text": [
      "AUC 0.7183834560829243\n"
     ]
    },
    {
     "data": {
      "image/png": "[encoded data removed]",
      "text/plain": [
       "<Figure size 432x288 with 1 Axes>"
      ]
     },
     "metadata": {
      "needs_background": "light"
     },
     "output_type": "display_data"
    },
    {
     "name": "stdout",
     "output_type": "stream",
     "text": [
      "AUC 0.7567171303873432\n"
     ]
    },
    {
     "name": "stderr",
     "output_type": "stream",
     "text": [
      "\r",
      " 43%|████████████████████████████████████                                                | 3/7 [00:45<01:00, 15.18s/it]"
     ]
    },
    {
     "data": {
      "image/png": "[encoded data removed]",
      "text/plain": [
       "<Figure size 432x288 with 1 Axes>"
      ]
     },
     "metadata": {
      "needs_background": "light"
     },
     "output_type": "display_data"
    },
    {
     "name": "stdout",
     "output_type": "stream",
     "text": [
      "AUC 0.765284028914348\n"
     ]
    },
    {
     "name": "stderr",
     "output_type": "stream",
     "text": [
      "\r",
      " 57%|████████████████████████████████████████████████                                    | 4/7 [00:59<00:44, 14.68s/it]"
     ]
    },
    {
     "data": {
      "image/png": "[encoded data removed]",
      "text/plain": [
       "<Figure size 432x288 with 1 Axes>"
      ]
     },
     "metadata": {
      "needs_background": "light"
     },
     "output_type": "display_data"
    },
    {
     "name": "stdout",
     "output_type": "stream",
     "text": [
      "AUC 0.7832105837424986\n"
     ]
    },
    {
     "name": "stderr",
     "output_type": "stream",
     "text": [
      "\r",
      " 71%|████████████████████████████████████████████████████████████                        | 5/7 [01:11<00:27, 13.88s/it]"
     ]
    },
    {
     "data": {
      "image/png": "[encoded data removed]",
      "text/plain": [
       "<Figure size 432x288 with 1 Axes>"
      ]
     },
     "metadata": {
      "needs_background": "light"
     },
     "output_type": "display_data"
    },
    {
     "name": "stdout",
     "output_type": "stream",
     "text": [
      "AUC 0.7724699945444626\n"
     ]
    },
    {
     "name": "stderr",
     "output_type": "stream",
     "text": [
      "\r",
      " 86%|████████████████████████████████████████████████████████████████████████            | 6/7 [01:27<00:14, 14.58s/it]"
     ]
    },
    {
     "data": {
      "image/png": "[encoded data removed]",
      "text/plain": [
       "<Figure size 432x288 with 1 Axes>"
      ]
     },
     "metadata": {
      "needs_background": "light"
     },
     "output_type": "display_data"
    },
    {
     "name": "stdout",
     "output_type": "stream",
     "text": [
      "AUC 0.7471784642662304\n"
     ]
    },
    {
     "name": "stderr",
     "output_type": "stream",
     "text": [
      "100%|████████████████████████████████████████████████████████████████████████████████████| 7/7 [01:43<00:00, 14.84s/it]"
     ]
    },
    {
     "name": "stdout",
     "output_type": "stream",
     "text": [
      "\n",
      "Validation Summary:\n",
      "4    0.783211\n",
      "5    0.772470\n",
      "3    0.765284\n",
      "2    0.756717\n",
      "0    0.754799\n",
      "6    0.747178\n",
      "1    0.718383\n",
      "dtype: float64\n",
      "mean=0.75686, std=0.021\n"
     ]
    },
    {
     "name": "stderr",
     "output_type": "stream",
     "text": [
      "\n"
     ]
    }
   ],
   "source": [
    "N = 7\n",
    "p = 3.5\n",
    "preds = []\n",
    "aucs = []\n",
    "\n",
    "n_size = 500 \n",
    "\n",
    "for i in tqdm(range(N)):\n",
    "    \n",
    "    #### STEP 1:  Train, Validation, test 데이터 분할\n",
    "        \n",
    "    fold_ = i\n",
    "\n",
    "    trn_ = index_info[fold_][0]\n",
    "    tst_ = index_info[fold_][1]\n",
    "\n",
    "    trn_x, trn_y = train_w2v[trn_], y_train[trn_]\n",
    "    tst_x, tst_y = train_w2v[tst_], y_train[tst_]\n",
    "\n",
    "    trn_x, val_x, trn_y, val_y = train_test_split(trn_x, trn_y, test_size = n_size, stratify = trn_y)\n",
    "\n",
    "    ##### STEP 2: Build a DNN Model\n",
    "    \n",
    "    # Define the number of features\n",
    "    max_features = trn_x.shape[1]\n",
    "\n",
    "    # Define the model architecture\n",
    "    model = Sequential()\n",
    "    model.add(Dense(64, activation='elu', input_shape=(max_features,), kernel_regularizer=l2(0.02)))\n",
    "    model.add(Dropout(0.35))\n",
    "    model.add(Dense(32, activation='elu'))\n",
    "    model.add(Dropout(0.35))\n",
    "    model.add(Dense(16, activation='elu'))\n",
    "    model.add(Dropout(0.33))\n",
    "    model.add(Dense(1, activation='sigmoid'))\n",
    "\n",
    "    # Train the model\n",
    "\n",
    "    model.compile(optimizer='nadam', loss='binary_crossentropy', metrics=['acc'])\n",
    "    history = model.fit(trn_x, trn_y, epochs=100, validation_data=(val_x, val_y),\n",
    "                          batch_size = 128, callbacks = callback_list, verbose = 0)\n",
    "\n",
    "    plt.plot(history.history[\"loss\"], label=\"train loss\")\n",
    "    plt.plot(history.history[\"val_loss\"], label=\"validation loss\")\n",
    "    plt.legend()\n",
    "    plt.title(\"Loss\")\n",
    "    plt.show()\n",
    "\n",
    "    auc = roc_auc_score(tst_y, model.predict(tst_x).flatten())\n",
    "    aucs.append(auc)\n",
    "    print('AUC', auc)\n",
    "    preds.append(model.predict(X_test).flatten())  \n",
    "\n",
    "### Validate the Models\n",
    "print('\\nValidation Summary:')\n",
    "aucs = pd.Series(aucs)\n",
    "print(aucs.sort_values(ascending=False))\n",
    "print('mean={:.5f}, std={:.3f}'.format(aucs.mean(), aucs.std()))     "
   ]
  },
  {
   "cell_type": "code",
   "execution_count": 8,
   "metadata": {},
   "outputs": [
    {
     "name": "stdout",
     "output_type": "stream",
     "text": [
      "'dae_p3.5n3_submit_06112310.csv' is ready to submit.\n"
     ]
    }
   ],
   "source": [
    "# Power mean ensemble\n",
    "THRESHOLD = 0.76  # Use only models whose AUC exceeds this value\n",
    "\n",
    "pred = 0\n",
    "n = 0\n",
    "for i in range(N):\n",
    "    if aucs.iloc[i] > THRESHOLD:\n",
    "        pred = pred + preds[i]**p \n",
    "        n += 1\n",
    "pred = pred / n    \n",
    "pred = pred**(1/p)\n",
    "\n",
    "# Make a submission file\n",
    "t = pd.Timestamp.now()\n",
    "fname = f\"dae_p{p}n{n}_submit_{t.month:02}{t.day:02}{t.hour:02}{t.minute:02}.csv\"\n",
    "submissions = pd.concat([pd.Series(IDtest, name=\"cust_id\"), pd.Series(pred, name=\"gender\")] ,axis=1)\n",
    "submissions.to_csv(fname, index=False)\n",
    "print(f\"'{fname}' is ready to submit.\")"
   ]
  },
  {
   "cell_type": "code",
   "execution_count": null,
   "metadata": {},
   "outputs": [],
   "source": []
  }
 ],
 "metadata": {
  "kernelspec": {
   "display_name": "Python 3",
   "language": "python",
   "name": "python3"
  },
  "language_info": {
   "codemirror_mode": {
    "name": "ipython",
    "version": 3
   },
   "file_extension": ".py",
   "mimetype": "text/x-python",
   "name": "python",
   "nbconvert_exporter": "python",
   "pygments_lexer": "ipython3",
   "version": "3.6.10"
  }
 },
 "nbformat": 4,
 "nbformat_minor": 4
}
