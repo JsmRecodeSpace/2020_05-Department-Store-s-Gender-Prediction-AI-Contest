{
 "cells": [
  {
   "cell_type": "code",
   "execution_count": 26,
   "metadata": {},
   "outputs": [],
   "source": [
    "import pandas as pd\n",
    "import numpy as np\n",
    "from scipy.stats import gmean"
   ]
  },
  {
   "cell_type": "code",
   "execution_count": 27,
   "metadata": {},
   "outputs": [],
   "source": [
    "sub_1 = pd.read_csv('서진영_D1.csv').gender\n",
    "sub_2 = pd.read_csv('서진영_D2.csv').gender\n",
    "sub_3 = pd.read_csv('서진영_D3.csv').gender\n",
    "sub_4 = pd.read_csv('서진영_D4.csv').gender\n",
    "sub_5 = pd.read_csv('서진영_D5.csv').gender\n",
    "sub_6 = pd.read_csv('서진영_D6.csv').gender\n",
    "sub_7 = pd.read_csv('서진영_D7.csv').gender\n",
    "sub_8 = pd.read_csv('서진영_D8.csv').gender\n",
    "sub_9 = pd.read_csv('서진영_D9.csv').gender\n",
    "sub_10 = pd.read_csv('서진영_D10.csv').gender\n",
    "sub_11 = pd.read_csv('서진영_D11.csv').gender\n",
    "sub_12 = pd.read_csv('서진영_D12.csv').gender"
   ]
  },
  {
   "cell_type": "markdown",
   "metadata": {},
   "source": [
    "### 앙상블_1"
   ]
  },
  {
   "cell_type": "code",
   "execution_count": 28,
   "metadata": {},
   "outputs": [],
   "source": [
    "mean = gmean([sub_9, sub_11, sub_12]); mean\n",
    "\n",
    "ens = pd.DataFrame({'cust_id': range(3500,5982), 'gender' : mean});ens\n",
    "ens.to_csv('서진영_D13.csv')"
   ]
  },
  {
   "cell_type": "markdown",
   "metadata": {},
   "source": [
    "### 앙상블_2"
   ]
  },
  {
   "cell_type": "code",
   "execution_count": 29,
   "metadata": {},
   "outputs": [],
   "source": [
    "mean = gmean([sub_5, sub_6, sub_7]);mean\n",
    "\n",
    "ens = pd.DataFrame({'cust_id': range(3500,5982), 'gender' : mean});ens\n",
    "ens.to_csv('서진영_D14.csv')"
   ]
  },
  {
   "cell_type": "markdown",
   "metadata": {},
   "source": [
    "### 앙상블_3"
   ]
  },
  {
   "cell_type": "code",
   "execution_count": 30,
   "metadata": {},
   "outputs": [],
   "source": [
    "mean = np.mean([sub_3, sub_4],axis = 0); mean\n",
    "\n",
    "ens = pd.DataFrame({'cust_id': range(3500,5982), 'gender' : mean});ens\n",
    "ens.to_csv('서진영_D15.csv') # 미제출"
   ]
  },
  {
   "cell_type": "markdown",
   "metadata": {},
   "source": [
    "### 최종"
   ]
  },
  {
   "cell_type": "code",
   "execution_count": 31,
   "metadata": {},
   "outputs": [],
   "source": [
    "sub_13 = pd.read_csv('서진영_D13.csv').gender\n",
    "sub_14 = pd.read_csv('서진영_D14.csv').gender\n",
    "sub_15 = pd.read_csv('서진영_D15.csv').gender"
   ]
  },
  {
   "cell_type": "code",
   "execution_count": 32,
   "metadata": {},
   "outputs": [
    {
     "data": {
      "text/plain": [
       "array([0.6981419 , 0.1989663 , 0.21338787, ..., 0.70659324, 0.37982   ,\n",
       "       0.55013463])"
      ]
     },
     "execution_count": 32,
     "metadata": {},
     "output_type": "execute_result"
    }
   ],
   "source": [
    "mean = gmean([sub_13, sub_14, sub_15], axis = 0); mean"
   ]
  },
  {
   "cell_type": "code",
   "execution_count": 33,
   "metadata": {},
   "outputs": [],
   "source": [
    "ens = pd.DataFrame({'cust_id': range(3500,5982), 'gender' : mean});ens\n",
    "ens.to_csv('서진영_D16.csv')"
   ]
  }
 ],
 "metadata": {
  "kernelspec": {
   "display_name": "Python 3",
   "language": "python",
   "name": "python3"
  },
  "language_info": {
   "codemirror_mode": {
    "name": "ipython",
    "version": 3
   },
   "file_extension": ".py",
   "mimetype": "text/x-python",
   "name": "python",
   "nbconvert_exporter": "python",
   "pygments_lexer": "ipython3",
   "version": "3.6.10"
  }
 },
 "nbformat": 4,
 "nbformat_minor": 4
}
