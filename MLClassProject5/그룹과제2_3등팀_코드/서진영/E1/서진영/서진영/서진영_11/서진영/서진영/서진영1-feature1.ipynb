{
 "cells": [
  {
   "cell_type": "markdown",
   "metadata": {},
   "source": [
    "### Libraries"
   ]
  },
  {
   "cell_type": "code",
   "execution_count": 1,
   "metadata": {
    "_uuid": "a159c8e50113be1e21e50dfe60bd402d84929a65",
    "colab_type": "text",
    "id": "AcNEX5K8hTQW"
   },
   "outputs": [],
   "source": [
    "# basic \n",
    "import joblib\n",
    "import pandas as pd\n",
    "import numpy as np\n",
    "import datetime, time\n",
    "import warnings\n",
    "warnings.filterwarnings('ignore')\n",
    "pd.set_option('display.max_columns', 50, 'display.max_rows', 200)\n",
    "\n",
    "\n",
    "# plot\n",
    "\n",
    "import seaborn as sns\n",
    "import matplotlib.pylab as plt\n",
    "from matplotlib import font_manager, rc\n",
    "%matplotlib inline\n",
    "\n",
    "import platform\n",
    "your_os = platform.system()\n",
    "if your_os == 'Linux':\n",
    "    rc('font', family='NanumGothic')\n",
    "elif your_os == 'Windows':\n",
    "    ttf = \"c:/Windows/Fonts/malgun.ttf\"\n",
    "    font_name = font_manager.FontProperties(fname=ttf).get_name()\n",
    "    rc('font', family=font_name)\n",
    "elif your_os == 'Darwin':\n",
    "    rc('font', family='AppleGothic')\n",
    "rc('axes', unicode_minus=False)\n",
    "\n",
    "\n",
    "# models\n",
    "import time\n",
    "from tqdm import tqdm\n",
    "from sklearn.model_selection import train_test_split\n",
    "from sklearn.model_selection import cross_val_score\n",
    "from sklearn.metrics import roc_auc_score\n",
    "from sklearn.model_selection import StratifiedKFold, KFold\n",
    "\n",
    "from sklearn.ensemble import RandomForestClassifier\n",
    "from sklearn.neighbors import KNeighborsClassifier\n",
    "from sklearn.linear_model import LogisticRegression\n",
    "from sklearn.svm import SVC\n",
    "from sklearn.ensemble import GradientBoostingClassifier\n",
    "from lightgbm import LGBMClassifier\n",
    "from xgboost import XGBClassifier\n",
    "from sklearn.neural_network import MLPClassifier\n",
    "from sklearn.ensemble import ExtraTreesClassifier\n",
    "\n",
    "from sklearn.model_selection import GridSearchCV, RandomizedSearchCV\n",
    "from bayes_opt import BayesianOptimization\n",
    "from sklearn.ensemble import VotingClassifier\n",
    "from vecstack import StackingTransformer\n",
    "from vecstack import stacking"
   ]
  },
  {
   "cell_type": "markdown",
   "metadata": {
    "_uuid": "a9813ebe8f5d527dfb4fd4bc3834c8547fae9b84",
    "colab": {
     "autoexec": {
      "startup": false,
      "wait_interval": 0
     }
    },
    "colab_type": "code",
    "id": "53OCEl0yhTQb"
   },
   "source": [
    "## Read Transactions & Simple Preprocessing"
   ]
  },
  {
   "cell_type": "markdown",
   "metadata": {},
   "source": [
    "##### Read transactions"
   ]
  },
  {
   "cell_type": "code",
   "execution_count": 2,
   "metadata": {},
   "outputs": [],
   "source": [
    "#bow한 데이터 호출\n",
    "data = joblib.load('bow_data.pkl')\n",
    "locals().update(data)"
   ]
  },
  {
   "cell_type": "code",
   "execution_count": 4,
   "metadata": {},
   "outputs": [],
   "source": [
    "X_train = pd.read_csv('X_train.csv', encoding='cp949')\n",
    "y_train = pd.read_csv('y_train.csv', encoding='cp949')\n",
    "tr = pd.merge(X_train, y_train, on='cust_id')\n",
    "tr = tr[['cust_id', 'gender', 'tran_date', 'store_nm','goods_id','gds_grp_nm','gds_grp_mclas_nm','amount']]\n",
    "\n",
    "X_test = pd.read_csv('X_test.csv', encoding='cp949')\n",
    "tr2 = X_test\n",
    "\n",
    "trs = [tr, tr2]"
   ]
  },
  {
   "cell_type": "code",
   "execution_count": 5,
   "metadata": {},
   "outputs": [],
   "source": [
    "df3=pd.read_csv('X_train_after_corr.csv',encoding='cp949')\n",
    "X_test=pd.read_csv('X_test_after_corr.csv',encoding='cp949')"
   ]
  },
  {
   "cell_type": "markdown",
   "metadata": {},
   "source": [
    "# 구매 다양성이라는 변수추가"
   ]
  },
  {
   "cell_type": "code",
   "execution_count": 6,
   "metadata": {},
   "outputs": [],
   "source": [
    "tu = tr.groupby('cust_id')['gds_grp_mclas_nm'].agg([\n",
    "    ('구매다양성', lambda x: len(x.value_counts())/49)\n",
    "]).reset_index()\n",
    "td=tr2.groupby('cust_id')['gds_grp_mclas_nm'].agg([\n",
    "    ('구매다양성', lambda x: len(x.value_counts())/49)\n",
    "]).reset_index()"
   ]
  },
  {
   "cell_type": "code",
   "execution_count": 7,
   "metadata": {},
   "outputs": [],
   "source": [
    "df3=pd.merge(df3,tu,on='cust_id')\n",
    "X_test=pd.merge(X_test,td,on='cust_id')"
   ]
  },
  {
   "cell_type": "code",
   "execution_count": 8,
   "metadata": {},
   "outputs": [],
   "source": [
    "df3.to_csv('X_train_after_corr.csv',index=False, encoding='cp949')\n",
    "X_test.to_csv('X_test_after_corr.csv', index=False, encoding='cp949')"
   ]
  },
  {
   "cell_type": "markdown",
   "metadata": {},
   "source": [
    "## ────────────────────────────────────────────────────────\n",
    "\n",
    "###  피쳐 전처리"
   ]
  },
  {
   "cell_type": "code",
   "execution_count": 9,
   "metadata": {},
   "outputs": [],
   "source": [
    "# 추가 라이브러리\n",
    "from sklearn.decomposition import PCA\n",
    "from sklearn.feature_selection import SelectPercentile\n",
    "from sklearn.linear_model import LogisticRegression\n",
    "from scipy.stats.mstats import gmean\n",
    "from sklearn.preprocessing import MinMaxScaler"
   ]
  },
  {
   "cell_type": "code",
   "execution_count": 10,
   "metadata": {},
   "outputs": [],
   "source": [
    "train = pd.read_csv('X_train_after_corr.csv',encoding='cp949')\n",
    "y_train = pd.read_csv('y_train.csv', encoding='cp949').gender\n",
    "test = pd.read_csv('X_test_after_corr.csv', encoding='cp949')\n",
    "\n",
    "train_test = pd.concat([train, test], ignore_index=True)\n"
   ]
  },
  {
   "cell_type": "markdown",
   "metadata": {},
   "source": [
    "<font color = 'blue'> 이상치 제거"
   ]
  },
  {
   "cell_type": "code",
   "execution_count": 11,
   "metadata": {},
   "outputs": [],
   "source": [
    "train_test.iloc[:,1:] = train_test.iloc[:,1:].apply(lambda x: x.clip(x.quantile(.05), x.quantile(.95)), axis=0)"
   ]
  },
  {
   "cell_type": "markdown",
   "metadata": {},
   "source": [
    "<font color = 'blue'> 로그변환"
   ]
  },
  {
   "cell_type": "code",
   "execution_count": 12,
   "metadata": {},
   "outputs": [],
   "source": [
    "train_test.iloc[:,1:] = np.log1p(train_test.iloc[:,1:])"
   ]
  },
  {
   "cell_type": "markdown",
   "metadata": {},
   "source": [
    "<font color = 'blue'> MinMaxScaling"
   ]
  },
  {
   "cell_type": "code",
   "execution_count": 13,
   "metadata": {},
   "outputs": [],
   "source": [
    "X_train = train_test[:3500]\n",
    "X_test = train_test[3500:]\n",
    "\n",
    "scaler = MinMaxScaler()\n",
    "\n",
    "X_train = pd.DataFrame(scaler.fit_transform(X_train))\n",
    "X_test = pd.DataFrame(scaler.transform(X_test))\n",
    "\n",
    "train_test = pd.concat([X_train, X_test], ignore_index=True)"
   ]
  },
  {
   "cell_type": "markdown",
   "metadata": {},
   "source": [
    "<font color = 'blue'> PCA"
   ]
  },
  {
   "cell_type": "code",
   "execution_count": 14,
   "metadata": {},
   "outputs": [],
   "source": [
    "max_col = train_test.shape[1]\n",
    "pca = PCA(n_components=max_col, random_state=0).fit(train_test)\n",
    "\n",
    "cumsum = np.cumsum(pca.explained_variance_ratio_)\n",
    "num_col = np.argmax(cumsum >= 0.99) + 1\n",
    "\n",
    "# num_col 이 1이었기 때문에 num_col은 max_col이 되었다\n",
    "\n",
    "if num_col == 1:\n",
    "    num_col = max_col\n",
    "\n",
    "pca = PCA(n_components = num_col, random_state=0).fit_transform(train_test)\n",
    "train_test = pd.DataFrame(pca)"
   ]
  },
  {
   "cell_type": "markdown",
   "metadata": {},
   "source": [
    "# pca한 데이터와 bow데이터를 병합"
   ]
  },
  {
   "cell_type": "code",
   "execution_count": 15,
   "metadata": {
    "scrolled": true
   },
   "outputs": [],
   "source": [
    "cp=pd.DataFrame({'cust_id':np.arange(0,5982)})"
   ]
  },
  {
   "cell_type": "code",
   "execution_count": 16,
   "metadata": {
    "scrolled": true
   },
   "outputs": [],
   "source": [
    "cx=pd.concat([X_train_bow_sel,X_test_bow_sel])\n",
    "cx['cust_id']=cp['cust_id']\n",
    "train_test['cust_id']=cp['cust_id']\n",
    "cx=pd.merge(cp,cx,on='cust_id')\n",
    "train_test=pd.merge(cp,train_test,on='cust_id')"
   ]
  },
  {
   "cell_type": "code",
   "execution_count": 17,
   "metadata": {},
   "outputs": [],
   "source": [
    "train_test=pd.merge(train_test,cx,on='cust_id')\n",
    "train_test=train_test[train_test.columns[1:]]"
   ]
  },
  {
   "cell_type": "code",
   "execution_count": 18,
   "metadata": {},
   "outputs": [],
   "source": [
    "X_train = train_test[:3500]\n",
    "X_test = train_test[3500:]"
   ]
  },
  {
   "cell_type": "markdown",
   "metadata": {},
   "source": [
    "<font color = 'blue'> Select Features\n",
    "    - 여러 모델을 사용하여 가장 잘나온 p를 선택"
   ]
  },
  {
   "cell_type": "code",
   "execution_count": 19,
   "metadata": {},
   "outputs": [],
   "source": [
    "logreg = LogisticRegression(random_state=0, n_jobs=-1)\n",
    "rf = RandomForestClassifier(random_state=0, n_jobs=-1)\n",
    "extra = ExtraTreesClassifier(random_state=0, n_jobs=-1)\n",
    "gbm = GradientBoostingClassifier(random_state=0)\n",
    "lgbm = LGBMClassifier(random_state=0 ,n_jobs=-1)\n",
    "xgb = XGBClassifier(random_state=0 ,n_jobs=-1)\n",
    "\n",
    "models = [logreg, rf, extra, gbm, lgbm, xgb]"
   ]
  },
  {
   "cell_type": "code",
   "execution_count": 20,
   "metadata": {
    "scrolled": false
   },
   "outputs": [
    {
     "name": "stderr",
     "output_type": "stream",
     "text": [
      "100%|██████████████████████████████████████████████████████████████████████████████████| 75/75 [04:06<00:00,  3.28s/it]\n",
      "No handles with labels found to put in legend.\n",
      "  0%|                                                                                           | 0/75 [00:00<?, ?it/s]"
     ]
    },
    {
     "name": "stdout",
     "output_type": "stream",
     "text": [
      "LogisticRegression (25, 0.7677449922831097)\n"
     ]
    },
    {
     "name": "stderr",
     "output_type": "stream",
     "text": [
      "100%|██████████████████████████████████████████████████████████████████████████████████| 75/75 [07:05<00:00,  5.67s/it]\n",
      "No handles with labels found to put in legend.\n",
      "  0%|                                                                                           | 0/75 [00:00<?, ?it/s]"
     ]
    },
    {
     "name": "stdout",
     "output_type": "stream",
     "text": [
      "RandomForestClassifier (39, 0.7547513251577882)\n"
     ]
    },
    {
     "name": "stderr",
     "output_type": "stream",
     "text": [
      "100%|██████████████████████████████████████████████████████████████████████████████████| 75/75 [03:53<00:00,  3.11s/it]\n",
      "No handles with labels found to put in legend.\n",
      "  0%|                                                                                           | 0/75 [00:00<?, ?it/s]"
     ]
    },
    {
     "name": "stdout",
     "output_type": "stream",
     "text": [
      "ExtraTreesClassifier (44, 0.752643088426154)\n"
     ]
    },
    {
     "name": "stderr",
     "output_type": "stream",
     "text": [
      "100%|██████████████████████████████████████████████████████████████████████████████████| 75/75 [57:53<00:00, 46.31s/it]\n",
      "No handles with labels found to put in legend.\n",
      "  0%|                                                                                           | 0/75 [00:00<?, ?it/s]"
     ]
    },
    {
     "name": "stdout",
     "output_type": "stream",
     "text": [
      "GradientBoostingClassifier (24, 0.7586185605701699)\n"
     ]
    },
    {
     "name": "stderr",
     "output_type": "stream",
     "text": [
      "100%|██████████████████████████████████████████████████████████████████████████████████| 75/75 [10:23<00:00,  8.31s/it]\n",
      "No handles with labels found to put in legend.\n",
      "  0%|                                                                                           | 0/75 [00:00<?, ?it/s]"
     ]
    },
    {
     "name": "stdout",
     "output_type": "stream",
     "text": [
      "LGBMClassifier (53, 0.7511469424111346)\n"
     ]
    },
    {
     "name": "stderr",
     "output_type": "stream",
     "text": [
      "100%|██████████████████████████████████████████████████████████████████████████████████| 75/75 [16:52<00:00, 13.49s/it]\n",
      "No handles with labels found to put in legend.\n"
     ]
    },
    {
     "name": "stdout",
     "output_type": "stream",
     "text": [
      "XGBClassifier (37, 0.7443506828704686)\n"
     ]
    },
    {
     "data": {
      "image/png": "[encoded data removed]",
      "text/plain": [
       "<Figure size 432x288 with 1 Axes>"
      ]
     },
     "metadata": {
      "needs_background": "light"
     },
     "output_type": "display_data"
    }
   ],
   "source": [
    "# 6개의 모델을 이용해서 가장 잘나온 p를 뽑을 것임\n",
    "for model in models:\n",
    "    \n",
    "    cv_scores = []\n",
    "    \n",
    "    # 퍼센타일을 5~100프로 모두 살피기\n",
    "    for percentile in tqdm(range(5,80)):\n",
    "    \n",
    "        X_new = SelectPercentile(percentile = percentile).fit_transform(X_train,y_train)\n",
    "       \n",
    "        # cross_val_score 5번의 평균값\n",
    "        cv_score = cross_val_score(model, X_new, y_train, scoring='roc_auc', cv=5).mean()\n",
    "        \n",
    "        cv_scores.append((percentile, cv_score))\n",
    "        \n",
    "    # 베스트 percentile과 점수 출력\n",
    "    best_score = cv_scores[np.argmax([score for _, score in cv_scores])]\n",
    "    print(model.__class__.__name__, best_score)\n",
    "    \n",
    "    # 모델별 percentile에 따른 성능 그림\n",
    "    plt.plot([p for p,_ in cv_scores], [score for _, score in cv_scores])\n",
    "    plt.xlabel('Percent of features')\n",
    "    plt.legend(loc=0)\n",
    "    plt.grid()"
   ]
  },
  {
   "cell_type": "code",
   "execution_count": 21,
   "metadata": {
    "scrolled": true
   },
   "outputs": [
    {
     "name": "stderr",
     "output_type": "stream",
     "text": [
      " 17%|██████████████                                                                      | 1/6 [00:03<00:19,  3.96s/it]"
     ]
    },
    {
     "name": "stdout",
     "output_type": "stream",
     "text": [
      "[0.7567323  0.71411543 0.77528256 0.76392792 0.76748853] 0.7555093481896876\n"
     ]
    },
    {
     "name": "stderr",
     "output_type": "stream",
     "text": [
      "\r",
      " 33%|████████████████████████████                                                        | 2/6 [00:05<00:12,  3.20s/it]"
     ]
    },
    {
     "name": "stdout",
     "output_type": "stream",
     "text": [
      "[0.77334227 0.72591381 0.78925616 0.77615265 0.76787948] 0.7665088737580946\n"
     ]
    },
    {
     "name": "stderr",
     "output_type": "stream",
     "text": [
      "\r",
      " 50%|██████████████████████████████████████████                                          | 3/6 [00:07<00:08,  2.91s/it]"
     ]
    },
    {
     "name": "stdout",
     "output_type": "stream",
     "text": [
      "[0.76712984 0.73105602 0.79310195 0.77397743 0.76439568] 0.7659321846114401\n"
     ]
    },
    {
     "name": "stderr",
     "output_type": "stream",
     "text": [
      "\r",
      " 67%|████████████████████████████████████████████████████████                            | 4/6 [00:09<00:05,  2.73s/it]"
     ]
    },
    {
     "name": "stdout",
     "output_type": "stream",
     "text": [
      "[0.76831316 0.73448417 0.78976951 0.77650938 0.76516889] 0.7668490238175977\n"
     ]
    },
    {
     "name": "stderr",
     "output_type": "stream",
     "text": [
      "\r",
      " 83%|██████████████████████████████████████████████████████████████████████              | 5/6 [00:12<00:02,  2.79s/it]"
     ]
    },
    {
     "name": "stdout",
     "output_type": "stream",
     "text": [
      "[0.77262879 0.73742506 0.7806597  0.77751869 0.7600344 ] 0.7656533294727534\n"
     ]
    },
    {
     "name": "stderr",
     "output_type": "stream",
     "text": [
      "100%|████████████████████████████████████████████████████████████████████████████████████| 6/6 [00:18<00:00,  3.04s/it]\n",
      "No handles with labels found to put in legend.\n",
      "  0%|                                                                                            | 0/6 [00:00<?, ?it/s]"
     ]
    },
    {
     "name": "stdout",
     "output_type": "stream",
     "text": [
      "[0.777684   0.73205663 0.7766486  0.77114965 0.74230261] 0.7599682968875255\n",
      "LogisticRegression (34, 0.7668490238175977)\n"
     ]
    },
    {
     "name": "stderr",
     "output_type": "stream",
     "text": [
      "\r",
      " 17%|██████████████                                                                      | 1/6 [00:03<00:16,  3.21s/it]"
     ]
    },
    {
     "name": "stdout",
     "output_type": "stream",
     "text": [
      "[0.7277758  0.70434    0.76655994 0.73099512 0.75527349] 0.7369888675569147\n"
     ]
    },
    {
     "name": "stderr",
     "output_type": "stream",
     "text": [
      "\r",
      " 33%|████████████████████████████                                                        | 2/6 [00:07<00:14,  3.57s/it]"
     ]
    },
    {
     "name": "stdout",
     "output_type": "stream",
     "text": [
      "[0.73829515 0.7223247  0.7781582  0.73703352 0.75217629] 0.745597573328963\n"
     ]
    },
    {
     "name": "stderr",
     "output_type": "stream",
     "text": [
      "\r",
      " 50%|██████████████████████████████████████████                                          | 3/6 [00:12<00:11,  3.98s/it]"
     ]
    },
    {
     "name": "stdout",
     "output_type": "stream",
     "text": [
      "[0.72924624 0.73384465 0.79592538 0.75670185 0.75130317] 0.7534042591671695\n"
     ]
    },
    {
     "name": "stderr",
     "output_type": "stream",
     "text": [
      "\r",
      " 67%|████████████████████████████████████████████████████████                            | 4/6 [00:17<00:08,  4.28s/it]"
     ]
    },
    {
     "name": "stdout",
     "output_type": "stream",
     "text": [
      "[0.72471744 0.72017558 0.79419826 0.74002662 0.7438447 ] 0.7445925204991242\n"
     ]
    },
    {
     "name": "stderr",
     "output_type": "stream",
     "text": [
      "\r",
      " 83%|██████████████████████████████████████████████████████████████████████              | 5/6 [00:23<00:04,  4.80s/it]"
     ]
    },
    {
     "name": "stdout",
     "output_type": "stream",
     "text": [
      "[0.74770079 0.71691711 0.79436357 0.74670889 0.74596018] 0.7503301091780281\n"
     ]
    },
    {
     "name": "stderr",
     "output_type": "stream",
     "text": [
      "100%|████████████████████████████████████████████████████████████████████████████████████| 6/6 [00:30<00:00,  5.04s/it]\n",
      "No handles with labels found to put in legend.\n",
      "  0%|                                                                                            | 0/6 [00:00<?, ?it/s]"
     ]
    },
    {
     "name": "stdout",
     "output_type": "stream",
     "text": [
      "[0.73317469 0.72177219 0.77835397 0.7278193  0.74068668] 0.7403613667396629\n",
      "RandomForestClassifier (32, 0.7534042591671695)\n"
     ]
    },
    {
     "name": "stderr",
     "output_type": "stream",
     "text": [
      "\r",
      " 17%|██████████████                                                                      | 1/6 [00:02<00:11,  2.35s/it]"
     ]
    },
    {
     "name": "stdout",
     "output_type": "stream",
     "text": [
      "[0.73950022 0.70781599 0.75950353 0.73197832 0.74559529] 0.7368786698370692\n"
     ]
    },
    {
     "name": "stderr",
     "output_type": "stream",
     "text": [
      "\r",
      " 33%|████████████████████████████                                                        | 2/6 [00:04<00:09,  2.44s/it]"
     ]
    },
    {
     "name": "stdout",
     "output_type": "stream",
     "text": [
      "[0.73870409 0.71914888 0.78166465 0.74288051 0.74438334] 0.7453562949632927\n"
     ]
    },
    {
     "name": "stderr",
     "output_type": "stream",
     "text": [
      "\r",
      " 50%|██████████████████████████████████████████                                          | 3/6 [00:07<00:07,  2.59s/it]"
     ]
    },
    {
     "name": "stdout",
     "output_type": "stream",
     "text": [
      "[0.72638801 0.7242824  0.79089193 0.73373154 0.74392723] 0.7438442206002428\n"
     ]
    },
    {
     "name": "stderr",
     "output_type": "stream",
     "text": [
      "\r",
      " 67%|████████████████████████████████████████████████████████                            | 4/6 [00:10<00:05,  2.70s/it]"
     ]
    },
    {
     "name": "stdout",
     "output_type": "stream",
     "text": [
      "[0.72975524 0.73199137 0.78954329 0.74252378 0.74758479] 0.7482796944790027\n"
     ]
    },
    {
     "name": "stderr",
     "output_type": "stream",
     "text": [
      "\r",
      " 83%|██████████████████████████████████████████████████████████████████████              | 5/6 [00:13<00:02,  2.82s/it]"
     ]
    },
    {
     "name": "stdout",
     "output_type": "stream",
     "text": [
      "[0.72672734 0.73514979 0.78045523 0.74117079 0.74780199] 0.7462610266266128\n"
     ]
    },
    {
     "name": "stderr",
     "output_type": "stream",
     "text": [
      "100%|████████████████████████████████████████████████████████████████████████████████████| 6/6 [00:17<00:00,  2.89s/it]\n",
      "No handles with labels found to put in legend.\n",
      "  0%|                                                                                            | 0/6 [00:00<?, ?it/s]"
     ]
    },
    {
     "name": "stdout",
     "output_type": "stream",
     "text": [
      "[0.7213154  0.73662023 0.77286807 0.72255962 0.73206405] 0.7370854737537619\n",
      "ExtraTreesClassifier (34, 0.7482796944790027)\n"
     ]
    },
    {
     "name": "stderr",
     "output_type": "stream",
     "text": [
      "\r",
      " 17%|██████████████                                                                      | 1/6 [00:09<00:49,  9.81s/it]"
     ]
    },
    {
     "name": "stdout",
     "output_type": "stream",
     "text": [
      "[0.74567784 0.72011033 0.77095388 0.73303112 0.75950445] 0.7458555232800025\n"
     ]
    },
    {
     "name": "stderr",
     "output_type": "stream",
     "text": [
      "\r",
      " 33%|████████████████████████████                                                        | 2/6 [00:32<00:54, 13.55s/it]"
     ]
    },
    {
     "name": "stdout",
     "output_type": "stream",
     "text": [
      "[0.7527821  0.72576589 0.78016375 0.75807223 0.75631603] 0.7546200021356929\n"
     ]
    },
    {
     "name": "stderr",
     "output_type": "stream",
     "text": [
      "\r",
      " 50%|██████████████████████████████████████████                                          | 3/6 [01:08<01:01, 20.35s/it]"
     ]
    },
    {
     "name": "stdout",
     "output_type": "stream",
     "text": [
      "[0.75290392 0.73621564 0.7786324  0.76085651 0.7541267 ] 0.756547034447476\n"
     ]
    },
    {
     "name": "stderr",
     "output_type": "stream",
     "text": [
      "\r",
      " 67%|████████████████████████████████████████████████████████                            | 4/6 [01:46<00:51, 25.57s/it]"
     ]
    },
    {
     "name": "stdout",
     "output_type": "stream",
     "text": [
      "[0.74920605 0.72608783 0.78688082 0.7587161  0.75724562] 0.7556272833395798\n"
     ]
    },
    {
     "name": "stderr",
     "output_type": "stream",
     "text": [
      "\r",
      " 83%|██████████████████████████████████████████████████████████████████████              | 5/6 [02:32<00:31, 31.74s/it]"
     ]
    },
    {
     "name": "stdout",
     "output_type": "stream",
     "text": [
      "[0.75010224 0.72898522 0.78270441 0.75339117 0.74358841] 0.7517542859726061\n"
     ]
    },
    {
     "name": "stderr",
     "output_type": "stream",
     "text": [
      "100%|████████████████████████████████████████████████████████████████████████████████████| 6/6 [03:52<00:00, 38.71s/it]\n",
      "No handles with labels found to put in legend.\n",
      "  0%|                                                                                            | 0/6 [00:00<?, ?it/s]"
     ]
    },
    {
     "name": "stdout",
     "output_type": "stream",
     "text": [
      "[0.76183971 0.72689701 0.77722286 0.74797922 0.73820197] 0.7504281543857114\n",
      "GradientBoostingClassifier (32, 0.756547034447476)\n"
     ]
    },
    {
     "name": "stderr",
     "output_type": "stream",
     "text": [
      "\r",
      " 17%|██████████████                                                                      | 1/6 [00:02<00:10,  2.06s/it]"
     ]
    },
    {
     "name": "stdout",
     "output_type": "stream",
     "text": [
      "[0.7377905  0.70336115 0.75706728 0.72355587 0.74917466] 0.7341898926902526\n"
     ]
    },
    {
     "name": "stderr",
     "output_type": "stream",
     "text": [
      "\r",
      " 33%|████████████████████████████                                                        | 2/6 [00:06<00:10,  2.66s/it]"
     ]
    },
    {
     "name": "stdout",
     "output_type": "stream",
     "text": [
      "[0.73533685 0.71655167 0.77095823 0.74634346 0.74813212] 0.7434644667540512\n"
     ]
    },
    {
     "name": "stderr",
     "output_type": "stream",
     "text": [
      "\r",
      " 50%|██████████████████████████████████████████                                          | 3/6 [00:12<00:11,  3.69s/it]"
     ]
    },
    {
     "name": "stdout",
     "output_type": "stream",
     "text": [
      "[0.73629395 0.72150247 0.77099303 0.75307793 0.74167709] 0.7447088946638946\n"
     ]
    },
    {
     "name": "stderr",
     "output_type": "stream",
     "text": [
      "\r",
      " 67%|████████████████████████████████████████████████████████                            | 4/6 [00:18<00:09,  4.58s/it]"
     ]
    },
    {
     "name": "stdout",
     "output_type": "stream",
     "text": [
      "[0.74033116 0.72248567 0.77557839 0.74701343 0.74132958] 0.7453476433383932\n"
     ]
    },
    {
     "name": "stderr",
     "output_type": "stream",
     "text": [
      "\r",
      " 83%|██████████████████████████████████████████████████████████████████████              | 5/6 [00:27<00:05,  5.72s/it]"
     ]
    },
    {
     "name": "stdout",
     "output_type": "stream",
     "text": [
      "[0.75828976 0.72054537 0.76529396 0.75025015 0.73652523] 0.7461808931190387\n"
     ]
    },
    {
     "name": "stderr",
     "output_type": "stream",
     "text": [
      "100%|████████████████████████████████████████████████████████████████████████████████████| 6/6 [00:40<00:00,  6.75s/it]\n",
      "No handles with labels found to put in legend.\n",
      "  0%|                                                                                            | 0/6 [00:00<?, ?it/s]"
     ]
    },
    {
     "name": "stdout",
     "output_type": "stream",
     "text": [
      "[0.74980641 0.72737556 0.77305514 0.75836806 0.74033048] 0.7497871293668611\n",
      "LGBMClassifier (68, 0.7497871293668611)\n"
     ]
    },
    {
     "name": "stderr",
     "output_type": "stream",
     "text": [
      "\r",
      " 17%|██████████████                                                                      | 1/6 [00:03<00:19,  3.85s/it]"
     ]
    },
    {
     "name": "stdout",
     "output_type": "stream",
     "text": [
      "[0.72554837 0.69835815 0.73605033 0.71208812 0.72335453] 0.7190798995328348\n"
     ]
    },
    {
     "name": "stderr",
     "output_type": "stream",
     "text": [
      "\r",
      " 33%|████████████████████████████                                                        | 2/6 [00:11<00:19,  4.92s/it]"
     ]
    },
    {
     "name": "stdout",
     "output_type": "stream",
     "text": [
      "[0.73012503 0.70257807 0.76646858 0.73840826 0.72324159] 0.7321643058963951\n"
     ]
    },
    {
     "name": "stderr",
     "output_type": "stream",
     "text": [
      "\r",
      " 50%|██████████████████████████████████████████                                          | 3/6 [00:21<00:19,  6.61s/it]"
     ]
    },
    {
     "name": "stdout",
     "output_type": "stream",
     "text": [
      "[0.71998851 0.71544666 0.7647284  0.74037466 0.7405303 ] 0.7362137078030744\n"
     ]
    },
    {
     "name": "stderr",
     "output_type": "stream",
     "text": [
      "\r",
      " 67%|████████████████████████████████████████████████████████                            | 4/6 [00:32<00:15,  7.97s/it]"
     ]
    },
    {
     "name": "stdout",
     "output_type": "stream",
     "text": [
      "[0.73803412 0.71893571 0.75865519 0.74663059 0.74145121] 0.7407413647158452\n"
     ]
    },
    {
     "name": "stderr",
     "output_type": "stream",
     "text": [
      "\r",
      " 83%|██████████████████████████████████████████████████████████████████████              | 5/6 [00:46<00:09,  9.71s/it]"
     ]
    },
    {
     "name": "stdout",
     "output_type": "stream",
     "text": [
      "[0.73399692 0.70758107 0.75638427 0.7258094  0.72229462] 0.7292132549628048\n"
     ]
    },
    {
     "name": "stderr",
     "output_type": "stream",
     "text": [
      "100%|████████████████████████████████████████████████████████████████████████████████████| 6/6 [01:09<00:00, 11.51s/it]\n",
      "No handles with labels found to put in legend.\n"
     ]
    },
    {
     "name": "stdout",
     "output_type": "stream",
     "text": [
      "[0.75083311 0.70631944 0.76461529 0.73611993 0.72980956] 0.7375394679338214\n",
      "XGBClassifier (34, 0.7407413647158452)\n"
     ]
    },
    {
     "data": {
      "image/png": "[encoded data removed]",
      "text/plain": [
       "<Figure size 432x288 with 1 Axes>"
      ]
     },
     "metadata": {
      "needs_background": "light"
     },
     "output_type": "display_data"
    }
   ],
   "source": [
    "# 6개의 모델을 이용해서 가장 잘나온 p를 뽑을 것임\n",
    "\n",
    "new_range = [9, 21, 32, 34, 43, 68]\n",
    "\n",
    "for model in models:\n",
    "    \n",
    "    cv_scores_mean = []\n",
    "    \n",
    "    \n",
    "    # 퍼센타일을 5~100프로 모두 살피기\n",
    "    for percentile in tqdm(new_range):\n",
    "    \n",
    "        X_new = SelectPercentile(percentile = percentile).fit_transform(X_train,y_train)\n",
    "       \n",
    "        # cross_val_score 5번의 평균값\n",
    "        cv_score = cross_val_score(model, X_new, y_train, scoring='roc_auc', cv=5)\n",
    "        \n",
    "        cv_scores_mean.append((percentile, cv_score.mean()))\n",
    "        \n",
    "        print(cv_score, cv_score.mean())\n",
    "        \n",
    "        # 베스트 percentile과 점수 출력\n",
    "    best_score = cv_scores_mean[np.argmax([score for _, score in cv_scores_mean])]\n",
    "    print(model.__class__.__name__, best_score)\n",
    "    \n",
    "    # 모델별 percentile에 따른 성능 그림\n",
    "    plt.plot([p for p,_ in cv_scores_mean], [score for _, score in cv_scores_mean])\n",
    "    plt.xlabel('Percent of features')\n",
    "    plt.legend(loc=0)\n",
    "    plt.grid()"
   ]
  },
  {
   "cell_type": "code",
   "execution_count": 22,
   "metadata": {},
   "outputs": [],
   "source": [
    "select_p = SelectPercentile(percentile = 32).fit(X_train, y_train)\n",
    "X_train = select_p.transform(X_train)\n",
    "X_test = select_p.transform(X_test)"
   ]
  },
  {
   "cell_type": "code",
   "execution_count": 24,
   "metadata": {},
   "outputs": [],
   "source": [
    "X_tr=pd.DataFrame(X_train)\n",
    "X_te=pd.DataFrame(X_test)"
   ]
  },
  {
   "cell_type": "code",
   "execution_count": 25,
   "metadata": {},
   "outputs": [
    {
     "data": {
      "text/plain": [
       "['bow_plus.pkl']"
      ]
     },
     "execution_count": 25,
     "metadata": {},
     "output_type": "execute_result"
    }
   ],
   "source": [
    "bow_plus={\n",
    "    'X_tr':X_tr,\n",
    "    'X_te':X_te\n",
    "}\n",
    "joblib.dump(bow_plus,'bow_plus.pkl')"
   ]
  },
  {
   "cell_type": "markdown",
   "metadata": {
    "_uuid": "8d7c2ed40c79036c15ef7246f0bb3cd15c9472d1"
   },
   "source": [
    "# End"
   ]
  },
  {
   "cell_type": "code",
   "execution_count": null,
   "metadata": {},
   "outputs": [],
   "source": []
  }
 ],
 "metadata": {
  "colab": {
   "default_view": {},
   "name": "Exercises_0418_01_ans.ipynb",
   "provenance": [],
   "version": "0.3.2",
   "views": {}
  },
  "kernelspec": {
   "display_name": "Python 3",
   "language": "python",
   "name": "python3"
  },
  "language_info": {
   "codemirror_mode": {
    "name": "ipython",
    "version": 3
   },
   "file_extension": ".py",
   "mimetype": "text/x-python",
   "name": "python",
   "nbconvert_exporter": "python",
   "pygments_lexer": "ipython3",
   "version": "3.7.6"
  }
 },
 "nbformat": 4,
 "nbformat_minor": 1
}
