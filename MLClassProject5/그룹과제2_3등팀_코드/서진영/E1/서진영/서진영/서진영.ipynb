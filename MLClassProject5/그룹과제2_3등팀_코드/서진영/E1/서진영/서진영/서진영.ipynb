{
 "cells": [
  {
   "cell_type": "code",
   "execution_count": 1,
   "metadata": {},
   "outputs": [],
   "source": [
    "import pandas as pd\n",
    "import numpy as np\n",
    "from scipy.stats import gmean"
   ]
  },
  {
   "cell_type": "code",
   "execution_count": 2,
   "metadata": {},
   "outputs": [],
   "source": [
    "sub_1 = pd.read_csv('서진영_D1.csv').gender\n",
    "sub_2 = pd.read_csv('서진영_D2.csv').gender\n",
    "sub_3 = pd.read_csv('서진영_D3.csv').gender\n",
    "sub_4 = pd.read_csv('서진영_D4.csv').gender\n",
    "sub_5 = pd.read_csv('서진영_D5.csv').gender\n",
    "sub_6 = pd.read_csv('서진영_D6.csv').gender\n",
    "sub_7 = pd.read_csv('서진영_D7.csv').gender\n",
    "sub_8 = pd.read_csv('서진영_D8.csv').gender\n",
    "sub_9 = pd.read_csv('서진영_D9.csv').gender\n",
    "sub_10 = pd.read_csv('서진영_D10.csv').gender\n",
    "sub_11 = pd.read_csv('서진영_D11.csv').gender\n",
    "sub_12 = pd.read_csv('서진영_D12.csv').gender"
   ]
  },
  {
   "cell_type": "markdown",
   "metadata": {},
   "source": [
    "### 최종"
   ]
  },
  {
   "cell_type": "code",
   "execution_count": 3,
   "metadata": {},
   "outputs": [
    {
     "data": {
      "text/plain": [
       "array([0.71794614, 0.26650594, 0.22028481, ..., 0.74083205, 0.44573976,\n",
       "       0.53593414])"
      ]
     },
     "execution_count": 3,
     "metadata": {},
     "output_type": "execute_result"
    }
   ],
   "source": [
    "mean = gmean([sub_9, sub_11, sub_12]); mean"
   ]
  },
  {
   "cell_type": "code",
   "execution_count": 4,
   "metadata": {},
   "outputs": [],
   "source": [
    "ens = pd.DataFrame({'cust_id': range(3500,5982), 'gender' : mean});ens\n",
    "ens.to_csv('서진영_D15.csv')"
   ]
  }
 ],
 "metadata": {
  "kernelspec": {
   "display_name": "Python 3",
   "language": "python",
   "name": "python3"
  },
  "language_info": {
   "codemirror_mode": {
    "name": "ipython",
    "version": 3
   },
   "file_extension": ".py",
   "mimetype": "text/x-python",
   "name": "python",
   "nbconvert_exporter": "python",
   "pygments_lexer": "ipython3",
   "version": "3.6.10"
  }
 },
 "nbformat": 4,
 "nbformat_minor": 4
}
