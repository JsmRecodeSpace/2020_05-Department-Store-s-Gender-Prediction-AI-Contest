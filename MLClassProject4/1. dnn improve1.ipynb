{
 "cells": [
  {
   "cell_type": "markdown",
   "metadata": {},
   "source": [
    "libraries"
   ]
  },
  {
   "cell_type": "code",
   "execution_count": 1,
   "metadata": {},
   "outputs": [
    {
     "name": "stderr",
     "output_type": "stream",
     "text": [
      "Using TensorFlow backend.\n"
     ]
    }
   ],
   "source": [
    "%run import_modules.py  \n",
    "%matplotlib inline\n",
    "\n",
    "# For DNN modeling\n",
    "import tensorflow as tf\n",
    "\n",
    "# Tensorflow warning off\n",
    "os.environ['TF_CPP_MIN_LOG_LEVEL'] = '3' \n",
    "tf.random.set_seed(2020)\n",
    "import keras\n",
    "from keras import backend as K\n",
    "from keras.layers import * #Input, Dense\n",
    "from keras.models import * #Model\n",
    "from keras.optimizers import *\n",
    "from keras.initializers import *\n",
    "from keras.regularizers import *\n",
    "from keras.utils.np_utils import *\n",
    "from keras.utils.vis_utils import * #model_to_dot"
   ]
  },
  {
   "cell_type": "markdown",
   "metadata": {},
   "source": [
    "load data"
   ]
  },
  {
   "cell_type": "code",
   "execution_count": 56,
   "metadata": {},
   "outputs": [],
   "source": [
    "X_train, X_test, y_train, y_test, X_dep, ID_dep = pd.read_pickle('case3_train_test.pkl')\n",
    "\n",
    "X_train.shape, X_test.shape\n",
    "\n",
    "\n",
    "seed = 2020\n",
    "random.seed(seed)\n",
    "np.random.seed(seed)\n",
    "tf.random.set_seed(seed)\n",
    "\n",
    "i = int(round(X_train.shape[0] * 0.8, 0))\n",
    "X_valid, y_valid = X_train[i:], y_train[i:]\n",
    "X_train, y_train = X_train[:i], y_train[:i]"
   ]
  },
  {
   "cell_type": "markdown",
   "metadata": {},
   "source": [
    "model architecture"
   ]
  },
  {
   "cell_type": "code",
   "execution_count": 70,
   "metadata": {},
   "outputs": [
    {
     "name": "stdout",
     "output_type": "stream",
     "text": [
      "Model: \"dnn model\"\n",
      "_________________________________________________________________\n",
      "Layer (type)                 Output Shape              Param #   \n",
      "=================================================================\n",
      "dense_45 (Dense)             (None, 4)                 252       \n",
      "_________________________________________________________________\n",
      "dropout_29 (Dropout)         (None, 4)                 0         \n",
      "_________________________________________________________________\n",
      "dense_46 (Dense)             (None, 32)                160       \n",
      "_________________________________________________________________\n",
      "dropout_30 (Dropout)         (None, 32)                0         \n",
      "_________________________________________________________________\n",
      "dense_47 (Dense)             (None, 4)                 132       \n",
      "_________________________________________________________________\n",
      "dense_48 (Dense)             (None, 1)                 5         \n",
      "=================================================================\n",
      "Total params: 549\n",
      "Trainable params: 549\n",
      "Non-trainable params: 0\n",
      "_________________________________________________________________\n"
     ]
    }
   ],
   "source": [
    "# model architecture\n",
    "model = Sequential(name = 'dnn model')\n",
    "model.add(Dense(4, input_shape=(X_train.shape[1],), activation='relu'))\n",
    "model.add(Dropout(0.2))\n",
    "model.add(Dense(32, activation='relu'))\n",
    "model.add(Dropout(0.2))\n",
    "model.add(Dense(4, activation='relu'))\n",
    "model.add(Dense(1, activation='sigmoid'))\n",
    "\n",
    "# choose the optimizer and the cost function\n",
    "model.compile(loss='binary_crossentropy', optimizer='adam', metrics=['acc'])\n",
    "\n",
    "model.summary()"
   ]
  },
  {
   "cell_type": "markdown",
   "metadata": {},
   "source": [
    "train the model"
   ]
  },
  {
   "cell_type": "code",
   "execution_count": 71,
   "metadata": {},
   "outputs": [],
   "source": [
    "callbacks = [keras.callbacks.EarlyStopping(monitor='val_loss', patience=25)]"
   ]
  },
  {
   "cell_type": "code",
   "execution_count": 72,
   "metadata": {
    "scrolled": true
   },
   "outputs": [
    {
     "name": "stdout",
     "output_type": "stream",
     "text": [
      "Train on 1960 samples, validate on 490 samples\n",
      "Epoch 1/200\n",
      " - 0s - loss: 0.6911 - acc: 0.5740 - val_loss: 0.6848 - val_acc: 0.6245\n",
      "Epoch 2/200\n",
      " - 0s - loss: 0.6818 - acc: 0.6184 - val_loss: 0.6767 - val_acc: 0.6245\n",
      "Epoch 3/200\n",
      " - 0s - loss: 0.6743 - acc: 0.6189 - val_loss: 0.6693 - val_acc: 0.6245\n",
      "Epoch 4/200\n",
      " - 0s - loss: 0.6694 - acc: 0.6173 - val_loss: 0.6613 - val_acc: 0.6245\n",
      "Epoch 5/200\n",
      " - 0s - loss: 0.6641 - acc: 0.6179 - val_loss: 0.6544 - val_acc: 0.6245\n",
      "Epoch 6/200\n",
      " - 0s - loss: 0.6548 - acc: 0.6179 - val_loss: 0.6458 - val_acc: 0.6245\n",
      "Epoch 7/200\n",
      " - 0s - loss: 0.6457 - acc: 0.6179 - val_loss: 0.6349 - val_acc: 0.6245\n",
      "Epoch 8/200\n",
      " - 0s - loss: 0.6345 - acc: 0.6179 - val_loss: 0.6232 - val_acc: 0.6245\n",
      "Epoch 9/200\n",
      " - 0s - loss: 0.6240 - acc: 0.6184 - val_loss: 0.6095 - val_acc: 0.6245\n",
      "Epoch 10/200\n",
      " - 0s - loss: 0.6109 - acc: 0.6219 - val_loss: 0.5903 - val_acc: 0.6245\n",
      "Epoch 11/200\n",
      " - 0s - loss: 0.5902 - acc: 0.6612 - val_loss: 0.5738 - val_acc: 0.7061\n",
      "Epoch 12/200\n",
      " - 0s - loss: 0.5821 - acc: 0.6816 - val_loss: 0.5642 - val_acc: 0.7245\n",
      "Epoch 13/200\n",
      " - 0s - loss: 0.5746 - acc: 0.6923 - val_loss: 0.5579 - val_acc: 0.7265\n",
      "Epoch 14/200\n",
      " - 0s - loss: 0.5630 - acc: 0.7128 - val_loss: 0.5538 - val_acc: 0.7286\n",
      "Epoch 15/200\n",
      " - 0s - loss: 0.5641 - acc: 0.7000 - val_loss: 0.5508 - val_acc: 0.7245\n",
      "Epoch 16/200\n",
      " - 0s - loss: 0.5590 - acc: 0.7041 - val_loss: 0.5488 - val_acc: 0.7306\n",
      "Epoch 17/200\n",
      " - 0s - loss: 0.5490 - acc: 0.7168 - val_loss: 0.5477 - val_acc: 0.7184\n",
      "Epoch 18/200\n",
      " - 0s - loss: 0.5511 - acc: 0.7148 - val_loss: 0.5462 - val_acc: 0.7204\n",
      "Epoch 19/200\n",
      " - 0s - loss: 0.5521 - acc: 0.7082 - val_loss: 0.5464 - val_acc: 0.7265\n",
      "Epoch 20/200\n",
      " - 0s - loss: 0.5393 - acc: 0.7270 - val_loss: 0.5462 - val_acc: 0.7265\n",
      "Epoch 21/200\n",
      " - 0s - loss: 0.5445 - acc: 0.7199 - val_loss: 0.5458 - val_acc: 0.7286\n",
      "Epoch 22/200\n",
      " - 0s - loss: 0.5388 - acc: 0.7276 - val_loss: 0.5466 - val_acc: 0.7224\n",
      "Epoch 23/200\n",
      " - 0s - loss: 0.5418 - acc: 0.7291 - val_loss: 0.5465 - val_acc: 0.7224\n",
      "Epoch 24/200\n",
      " - 0s - loss: 0.5362 - acc: 0.7230 - val_loss: 0.5463 - val_acc: 0.7245\n",
      "Epoch 25/200\n",
      " - 0s - loss: 0.5386 - acc: 0.7327 - val_loss: 0.5455 - val_acc: 0.7224\n",
      "Epoch 26/200\n",
      " - 0s - loss: 0.5315 - acc: 0.7378 - val_loss: 0.5465 - val_acc: 0.7245\n",
      "Epoch 27/200\n",
      " - 0s - loss: 0.5345 - acc: 0.7301 - val_loss: 0.5465 - val_acc: 0.7224\n",
      "Epoch 28/200\n",
      " - 0s - loss: 0.5318 - acc: 0.7393 - val_loss: 0.5466 - val_acc: 0.7184\n",
      "Epoch 29/200\n",
      " - 0s - loss: 0.5372 - acc: 0.7372 - val_loss: 0.5471 - val_acc: 0.7184\n",
      "Epoch 30/200\n",
      " - 0s - loss: 0.5331 - acc: 0.7281 - val_loss: 0.5476 - val_acc: 0.7204\n",
      "Epoch 31/200\n",
      " - 0s - loss: 0.5274 - acc: 0.7372 - val_loss: 0.5482 - val_acc: 0.7163\n",
      "Epoch 32/200\n",
      " - 0s - loss: 0.5275 - acc: 0.7408 - val_loss: 0.5479 - val_acc: 0.7163\n",
      "Epoch 33/200\n",
      " - 0s - loss: 0.5311 - acc: 0.7398 - val_loss: 0.5487 - val_acc: 0.7163\n",
      "Epoch 34/200\n",
      " - 0s - loss: 0.5209 - acc: 0.7434 - val_loss: 0.5493 - val_acc: 0.7163\n",
      "Epoch 35/200\n",
      " - 0s - loss: 0.5270 - acc: 0.7316 - val_loss: 0.5489 - val_acc: 0.7143\n",
      "Epoch 36/200\n",
      " - 0s - loss: 0.5270 - acc: 0.7347 - val_loss: 0.5491 - val_acc: 0.7143\n",
      "Epoch 37/200\n",
      " - 0s - loss: 0.5168 - acc: 0.7408 - val_loss: 0.5497 - val_acc: 0.7163\n",
      "Epoch 38/200\n",
      " - 0s - loss: 0.5198 - acc: 0.7434 - val_loss: 0.5500 - val_acc: 0.7163\n",
      "Epoch 39/200\n",
      " - 0s - loss: 0.5246 - acc: 0.7398 - val_loss: 0.5498 - val_acc: 0.7184\n",
      "Epoch 40/200\n",
      " - 0s - loss: 0.5215 - acc: 0.7408 - val_loss: 0.5493 - val_acc: 0.7143\n",
      "Epoch 41/200\n",
      " - 0s - loss: 0.5195 - acc: 0.7464 - val_loss: 0.5495 - val_acc: 0.7143\n",
      "Epoch 42/200\n",
      " - 0s - loss: 0.5153 - acc: 0.7474 - val_loss: 0.5499 - val_acc: 0.7102\n",
      "Epoch 43/200\n",
      " - 0s - loss: 0.5205 - acc: 0.7439 - val_loss: 0.5491 - val_acc: 0.7143\n",
      "Epoch 44/200\n",
      " - 0s - loss: 0.5264 - acc: 0.7434 - val_loss: 0.5490 - val_acc: 0.7122\n",
      "Epoch 45/200\n",
      " - 0s - loss: 0.5220 - acc: 0.7372 - val_loss: 0.5484 - val_acc: 0.7184\n",
      "Epoch 46/200\n",
      " - 0s - loss: 0.5125 - acc: 0.7505 - val_loss: 0.5495 - val_acc: 0.7204\n",
      "Epoch 47/200\n",
      " - 0s - loss: 0.5085 - acc: 0.7469 - val_loss: 0.5508 - val_acc: 0.7245\n",
      "Epoch 48/200\n",
      " - 0s - loss: 0.5150 - acc: 0.7515 - val_loss: 0.5502 - val_acc: 0.7184\n",
      "Epoch 49/200\n",
      " - 0s - loss: 0.5100 - acc: 0.7551 - val_loss: 0.5505 - val_acc: 0.7204\n",
      "Epoch 50/200\n",
      " - 0s - loss: 0.5168 - acc: 0.7495 - val_loss: 0.5501 - val_acc: 0.7184\n"
     ]
    }
   ],
   "source": [
    "hist = model.fit(X_train, y_train, validation_data=(X_valid, y_valid),\n",
    "                batch_size=64, epochs=200, callbacks=callbacks, verbose=2)"
   ]
  },
  {
   "cell_type": "markdown",
   "metadata": {},
   "source": [
    "visualize training history"
   ]
  },
  {
   "cell_type": "code",
   "execution_count": 73,
   "metadata": {},
   "outputs": [
    {
     "data": {
      "image/png": "[encoded data removed]",
      "text/plain": [
       "<Figure size 432x288 with 1 Axes>"
      ]
     },
     "metadata": {
      "needs_background": "light"
     },
     "output_type": "display_data"
    },
    {
     "data": {
      "image/png": "[encoded data removed]",
      "text/plain": [
       "<Figure size 432x288 with 1 Axes>"
      ]
     },
     "metadata": {
      "needs_background": "light"
     },
     "output_type": "display_data"
    }
   ],
   "source": [
    "plt.plot(hist.history['loss'], label='train loss')\n",
    "plt.plot(hist.history['val_loss'], label='validation loss')\n",
    "plt.legend()\n",
    "plt.xlabel('epoch')\n",
    "plt.title('Loss')\n",
    "plt.show()\n",
    "\n",
    "\n",
    "plt.plot(hist.history['acc'], label='train acc')\n",
    "plt.plot(hist.history['val_acc'], label='validation acc')\n",
    "plt.legend()\n",
    "plt.xlabel('epoch')\n",
    "plt.title('acc')\n",
    "plt.show()"
   ]
  },
  {
   "cell_type": "markdown",
   "metadata": {},
   "source": [
    "evaluate the model performance"
   ]
  },
  {
   "cell_type": "code",
   "execution_count": 74,
   "metadata": {},
   "outputs": [
    {
     "name": "stdout",
     "output_type": "stream",
     "text": [
      "1050/1050 [==============================] - 0s 19us/step\n",
      "[0.5885888252371834, 0.6933333277702332]\n",
      "0.7376566286047577\n"
     ]
    }
   ],
   "source": [
    "print(model.evaluate(X_test, y_test))\n",
    "print(roc_auc_score(y_test, model.predict(X_test)))"
   ]
  },
  {
   "cell_type": "markdown",
   "metadata": {},
   "source": [
    "predict unseen data"
   ]
  },
  {
   "cell_type": "code",
   "execution_count": 44,
   "metadata": {},
   "outputs": [
    {
     "name": "stdout",
     "output_type": "stream",
     "text": [
      "(2482,)\n"
     ]
    }
   ],
   "source": [
    "pred = model.predict(X_dep).flatten()\n",
    "print(pred.shape)\n"
   ]
  },
  {
   "cell_type": "code",
   "execution_count": 54,
   "metadata": {},
   "outputs": [
    {
     "data": {
      "text/html": [
       "<div>\n",
       "<style scoped>\n",
       "    .dataframe tbody tr th:only-of-type {\n",
       "        vertical-align: middle;\n",
       "    }\n",
       "\n",
       "    .dataframe tbody tr th {\n",
       "        vertical-align: top;\n",
       "    }\n",
       "\n",
       "    .dataframe thead th {\n",
       "        text-align: right;\n",
       "    }\n",
       "</style>\n",
       "<table border=\"1\" class=\"dataframe\">\n",
       "  <thead>\n",
       "    <tr style=\"text-align: right;\">\n",
       "      <th></th>\n",
       "      <th>cust_id</th>\n",
       "      <th>gender</th>\n",
       "    </tr>\n",
       "  </thead>\n",
       "  <tbody>\n",
       "    <tr>\n",
       "      <th>0</th>\n",
       "      <td>3500</td>\n",
       "      <td>8.833725e-01</td>\n",
       "    </tr>\n",
       "    <tr>\n",
       "      <th>1</th>\n",
       "      <td>3501</td>\n",
       "      <td>6.258488e-07</td>\n",
       "    </tr>\n",
       "    <tr>\n",
       "      <th>2</th>\n",
       "      <td>3502</td>\n",
       "      <td>2.416034e-01</td>\n",
       "    </tr>\n",
       "    <tr>\n",
       "      <th>3</th>\n",
       "      <td>3503</td>\n",
       "      <td>1.608026e-01</td>\n",
       "    </tr>\n",
       "    <tr>\n",
       "      <th>4</th>\n",
       "      <td>3504</td>\n",
       "      <td>5.221696e-01</td>\n",
       "    </tr>\n",
       "    <tr>\n",
       "      <th>...</th>\n",
       "      <td>...</td>\n",
       "      <td>...</td>\n",
       "    </tr>\n",
       "    <tr>\n",
       "      <th>2477</th>\n",
       "      <td>5977</td>\n",
       "      <td>3.008423e-01</td>\n",
       "    </tr>\n",
       "    <tr>\n",
       "      <th>2478</th>\n",
       "      <td>5978</td>\n",
       "      <td>1.833051e-02</td>\n",
       "    </tr>\n",
       "    <tr>\n",
       "      <th>2479</th>\n",
       "      <td>5979</td>\n",
       "      <td>8.907700e-01</td>\n",
       "    </tr>\n",
       "    <tr>\n",
       "      <th>2480</th>\n",
       "      <td>5980</td>\n",
       "      <td>6.064883e-02</td>\n",
       "    </tr>\n",
       "    <tr>\n",
       "      <th>2481</th>\n",
       "      <td>5981</td>\n",
       "      <td>5.741798e-01</td>\n",
       "    </tr>\n",
       "  </tbody>\n",
       "</table>\n",
       "<p>2482 rows × 2 columns</p>\n",
       "</div>"
      ],
      "text/plain": [
       "      cust_id        gender\n",
       "0        3500  8.833725e-01\n",
       "1        3501  6.258488e-07\n",
       "2        3502  2.416034e-01\n",
       "3        3503  1.608026e-01\n",
       "4        3504  5.221696e-01\n",
       "...       ...           ...\n",
       "2477     5977  3.008423e-01\n",
       "2478     5978  1.833051e-02\n",
       "2479     5979  8.907700e-01\n",
       "2480     5980  6.064883e-02\n",
       "2481     5981  5.741798e-01\n",
       "\n",
       "[2482 rows x 2 columns]"
      ]
     },
     "execution_count": 54,
     "metadata": {},
     "output_type": "execute_result"
    }
   ],
   "source": [
    "# make submissions\n",
    "\n",
    "pd.DataFrame({'cust_id': ID_dep, 'gender': pred})"
   ]
  },
  {
   "cell_type": "markdown",
   "metadata": {},
   "source": [
    "save the model for future use"
   ]
  },
  {
   "cell_type": "code",
   "execution_count": 55,
   "metadata": {},
   "outputs": [],
   "source": [
    "# pickle 형식으로 저장\n",
    "with open('nm_model.pkl', 'wb') as f:\n",
    "    pickle.dump(model, f)"
   ]
  },
  {
   "cell_type": "code",
   "execution_count": 56,
   "metadata": {},
   "outputs": [],
   "source": [
    "# 추후 저장한 모형 불러올 때\n",
    "model = pd.read_pickle('nm_model.pkl')"
   ]
  },
  {
   "cell_type": "code",
   "execution_count": 58,
   "metadata": {},
   "outputs": [],
   "source": [
    "# h5 형식으로 저장\n",
    "model.save('nm_model.h5')"
   ]
  },
  {
   "cell_type": "code",
   "execution_count": 59,
   "metadata": {},
   "outputs": [],
   "source": [
    "# 추후 저장한 모형 불러올 때\n",
    "model = load_model('nm_model.h5')"
   ]
  },
  {
   "cell_type": "markdown",
   "metadata": {},
   "source": [
    "1. libraries, read data     \n",
    "2. data engineering   \n",
    "3. model architecture, choose the optimizer and the cost function, train the model   \n",
    "4. visualize training history, evaluate the model performance   \n",
    "5. predict unseen data, save the model for future use   "
   ]
  },
  {
   "cell_type": "code",
   "execution_count": null,
   "metadata": {},
   "outputs": [],
   "source": []
  },
  {
   "cell_type": "code",
   "execution_count": null,
   "metadata": {},
   "outputs": [],
   "source": []
  },
  {
   "cell_type": "code",
   "execution_count": null,
   "metadata": {},
   "outputs": [],
   "source": []
  }
 ],
 "metadata": {
  "kernelspec": {
   "display_name": "Python 3",
   "language": "python",
   "name": "python3"
  },
  "language_info": {
   "codemirror_mode": {
    "name": "ipython",
    "version": 3
   },
   "file_extension": ".py",
   "mimetype": "text/x-python",
   "name": "python",
   "nbconvert_exporter": "python",
   "pygments_lexer": "ipython3",
   "version": "3.7.6"
  }
 },
 "nbformat": 4,
 "nbformat_minor": 4
}
