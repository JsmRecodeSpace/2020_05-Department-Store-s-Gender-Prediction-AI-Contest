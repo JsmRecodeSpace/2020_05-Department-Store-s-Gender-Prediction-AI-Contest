{
 "cells": [
  {
   "cell_type": "markdown",
   "metadata": {
    "_uuid": "93b41229599509f643f1c1df3b86b3f79b66666f"
   },
   "source": [
    "## This model has the following characteristics:\n",
    "* No feature engineering\n",
    "* Applying Conv2D to raw transactions"
   ]
  },
  {
   "cell_type": "code",
   "execution_count": 1,
   "metadata": {
    "_uuid": "d88d398c3380af284d9519e22f38931c286fa1b3"
   },
   "outputs": [
    {
     "name": "stderr",
     "output_type": "stream",
     "text": [
      "Using TensorFlow backend.\n"
     ]
    }
   ],
   "source": [
    "%run import_modules.py  \n",
    "%matplotlib inline\n",
    "\n",
    "# For DNN modeling\n",
    "import tensorflow as tf\n",
    "\n",
    "# Tensorflow warning off\n",
    "os.environ['TF_CPP_MIN_LOG_LEVEL'] = '3' \n",
    "tf.logging.set_verbosity(tf.logging.ERROR)\n",
    "\n",
    "from tensorflow import set_random_seed\n",
    "import keras\n",
    "from keras import backend as K\n",
    "from keras.layers import * #Input, Dense\n",
    "from keras.models import * #Model\n",
    "from keras.optimizers import *\n",
    "from keras.initializers import *\n",
    "from keras.regularizers import *\n",
    "from keras.utils.np_utils import *\n",
    "from keras.utils.vis_utils import * #model_to_dot\n",
    "from keras.callbacks import EarlyStopping\n",
    "from keras.preprocessing import sequence\n",
    "from keras.preprocessing.text import *"
   ]
  },
  {
   "cell_type": "code",
   "execution_count": 6,
   "metadata": {},
   "outputs": [],
   "source": [
    "# basic \n",
    "\n",
    "import pandas as pd\n",
    "import numpy as np\n",
    "import warnings\n",
    "warnings.filterwarnings('ignore')\n",
    "pd.set_option('display.max_columns', 50, 'display.max_rows', 200)\n",
    "from itertools import combinations\n",
    "\n",
    "# plot\n",
    "\n",
    "import seaborn as sns\n",
    "import matplotlib.pylab as plt\n",
    "from matplotlib import font_manager, rc\n",
    "\n",
    "import platform\n",
    "your_os = platform.system()\n",
    "if your_os == 'Linux':\n",
    "    rc('font', family='NanumGothic')\n",
    "elif your_os == 'Windows':\n",
    "    ttf = \"c:/Windows/Fonts/malgun.ttf\"\n",
    "    font_name = font_manager.FontProperties(fname=ttf).get_name()\n",
    "    rc('font', family=font_name)\n",
    "elif your_os == 'Darwin':\n",
    "    rc('font', family='AppleGothic')\n",
    "rc('axes', unicode_minus=False)\n",
    "\n",
    "\n",
    "# models\n",
    "import time\n",
    "from tqdm import tqdm\n",
    "from sklearn.model_selection import train_test_split\n",
    "from sklearn.model_selection import cross_val_score\n",
    "from sklearn.metrics import roc_auc_score\n",
    "from sklearn.model_selection import StratifiedKFold, KFold\n",
    "\n",
    "from sklearn.preprocessing import OneHotEncoder\n",
    "from sklearn.decomposition import PCA\n",
    "from sklearn.feature_selection import SelectPercentile\n",
    "from scipy.stats.mstats import gmean\n",
    "from sklearn.preprocessing import MinMaxScaler\n",
    "from sklearn.model_selection import ShuffleSplit\n",
    "\n",
    "from sklearn.ensemble import RandomForestClassifier\n",
    "from sklearn.neighbors import KNeighborsClassifier\n",
    "from sklearn.linear_model import LogisticRegression\n",
    "from sklearn.svm import SVC\n",
    "from sklearn.ensemble import GradientBoostingClassifier\n",
    "from lightgbm import LGBMClassifier\n",
    "from xgboost import XGBClassifier\n",
    "from sklearn.neural_network import MLPClassifier\n",
    "from catboost import CatBoostClassifier\n",
    "from sklearn import svm\n",
    "from sklearn.ensemble import ExtraTreesClassifier\n",
    "from catboost import CatBoostClassifier\n",
    "\n",
    "from sklearn.model_selection import GridSearchCV, RandomizedSearchCV\n",
    "from bayes_opt import BayesianOptimization\n",
    "from sklearn.ensemble import VotingClassifier\n",
    "from vecstack import StackingTransformer\n",
    "from vecstack import stacking\n",
    "\n",
    "%run import_modules.py  \n",
    "%matplotlib inline\n",
    "\n",
    "# For DNN modeling\n",
    "import tensorflow as tf\n",
    "\n",
    "# Tensorflow warning off\n",
    "os.environ['TF_CPP_MIN_LOG_LEVEL'] = '3' \n",
    "\n",
    "tf.compat.v1.logging.set_verbosity(tf.compat.v1.logging.ERROR)\n",
    "#  tf.logging.set_verbosity(tf.logging.ERROR) <- logging이 버전업그레이드에서 사용 X라함\n",
    "\n",
    "# from tensorflow import set_random_seed \n",
    "# 위에 코드 안됨에 대한 답변: In Tensoflow2 there is no need to perform\n",
    "# from tensorflow import set_random_seed\n",
    "# in order to run\n",
    "# set_random_seed(x)\n",
    "# (as it was in older version)\n",
    "# Only have to run\n",
    "# import tensorflow\n",
    "# tensorflow.random.set_seed(x)\n",
    "\n",
    "tf.random.set_seed(2020)\n",
    "import keras\n",
    "from keras import backend as K\n",
    "from keras.layers import * #Input, Dense\n",
    "from keras.models import * #Model\n",
    "from keras.optimizers import *\n",
    "from keras.initializers import *\n",
    "from keras.regularizers import *\n",
    "from keras.utils.np_utils import *\n",
    "from keras.utils.vis_utils import * #model_to_dot\n",
    "from keras.callbacks import EarlyStopping"
   ]
  },
  {
   "cell_type": "markdown",
   "metadata": {
    "_uuid": "dd7e3527fd56e5b5855c6846ca226f5f860f725b"
   },
   "source": [
    "### Read Data"
   ]
  },
  {
   "cell_type": "code",
   "execution_count": 33,
   "metadata": {
    "_uuid": "794123064b09797f51add356a676fb6a7aed015d"
   },
   "outputs": [
    {
     "data": {
      "text/html": [
       "<div>\n",
       "<style scoped>\n",
       "    .dataframe tbody tr th:only-of-type {\n",
       "        vertical-align: middle;\n",
       "    }\n",
       "\n",
       "    .dataframe tbody tr th {\n",
       "        vertical-align: top;\n",
       "    }\n",
       "\n",
       "    .dataframe thead th {\n",
       "        text-align: right;\n",
       "    }\n",
       "</style>\n",
       "<table border=\"1\" class=\"dataframe\">\n",
       "  <thead>\n",
       "    <tr style=\"text-align: right;\">\n",
       "      <th></th>\n",
       "      <th>cust_id</th>\n",
       "      <th>tran_date</th>\n",
       "      <th>store_nm</th>\n",
       "      <th>goods_id</th>\n",
       "      <th>gds_grp_nm</th>\n",
       "      <th>gds_grp_mclas_nm</th>\n",
       "      <th>amount</th>\n",
       "    </tr>\n",
       "  </thead>\n",
       "  <tbody>\n",
       "    <tr>\n",
       "      <th>0</th>\n",
       "      <td>3500</td>\n",
       "      <td>2007-01-16 00:00:00</td>\n",
       "      <td>부산본점</td>\n",
       "      <td>735126</td>\n",
       "      <td>기초A</td>\n",
       "      <td>화장품</td>\n",
       "      <td>2465000</td>\n",
       "    </tr>\n",
       "    <tr>\n",
       "      <th>1</th>\n",
       "      <td>3500</td>\n",
       "      <td>2007-01-20 00:00:00</td>\n",
       "      <td>부산본점</td>\n",
       "      <td>443227</td>\n",
       "      <td>비지니스군</td>\n",
       "      <td>셔츠</td>\n",
       "      <td>675000</td>\n",
       "    </tr>\n",
       "    <tr>\n",
       "      <th>2</th>\n",
       "      <td>3500</td>\n",
       "      <td>2007-03-02 00:00:00</td>\n",
       "      <td>부산본점</td>\n",
       "      <td>461257</td>\n",
       "      <td>트래디셔널Ⅱ</td>\n",
       "      <td>트래디셔널</td>\n",
       "      <td>1840000</td>\n",
       "    </tr>\n",
       "    <tr>\n",
       "      <th>3</th>\n",
       "      <td>3500</td>\n",
       "      <td>2007-03-17 00:00:00</td>\n",
       "      <td>부산본점</td>\n",
       "      <td>735126</td>\n",
       "      <td>기초A</td>\n",
       "      <td>화장품</td>\n",
       "      <td>350000</td>\n",
       "    </tr>\n",
       "    <tr>\n",
       "      <th>4</th>\n",
       "      <td>3500</td>\n",
       "      <td>2007-03-17 00:00:00</td>\n",
       "      <td>부산본점</td>\n",
       "      <td>245219</td>\n",
       "      <td>트래디셔널</td>\n",
       "      <td>트래디셔널</td>\n",
       "      <td>5014000</td>\n",
       "    </tr>\n",
       "  </tbody>\n",
       "</table>\n",
       "</div>"
      ],
      "text/plain": [
       "   cust_id            tran_date store_nm  goods_id gds_grp_nm  \\\n",
       "0     3500  2007-01-16 00:00:00     부산본점    735126        기초A   \n",
       "1     3500  2007-01-20 00:00:00     부산본점    443227      비지니스군   \n",
       "2     3500  2007-03-02 00:00:00     부산본점    461257     트래디셔널Ⅱ   \n",
       "3     3500  2007-03-17 00:00:00     부산본점    735126        기초A   \n",
       "4     3500  2007-03-17 00:00:00     부산본점    245219      트래디셔널   \n",
       "\n",
       "  gds_grp_mclas_nm   amount  \n",
       "0              화장품  2465000  \n",
       "1               셔츠   675000  \n",
       "2            트래디셔널  1840000  \n",
       "3              화장품   350000  \n",
       "4            트래디셔널  5014000  "
      ]
     },
     "execution_count": 33,
     "metadata": {},
     "output_type": "execute_result"
    }
   ],
   "source": [
    "df_train = pd.read_csv('X_train.csv', encoding='cp949')\n",
    "df_test = pd.read_csv('X_test.csv', encoding='cp949')\n",
    "y_train = pd.read_csv('y_train.csv').gender\n",
    "IDtest = df_test.cust_id.unique()\n",
    "\n",
    "df_test.head()"
   ]
  },
  {
   "cell_type": "markdown",
   "metadata": {
    "_uuid": "8fdb273f73bbee0a8f11b33be46446b6825e9b6a"
   },
   "source": [
    "### Transform Data"
   ]
  },
  {
   "cell_type": "code",
   "execution_count": 34,
   "metadata": {
    "_uuid": "eca2c78b7747842476b5bf724ecbe9d759cbf3c0"
   },
   "outputs": [
    {
     "data": {
      "text/plain": [
       "((3500, 7, 331, 1), (2482, 7, 331, 1))"
      ]
     },
     "execution_count": 34,
     "metadata": {},
     "output_type": "execute_result"
    }
   ],
   "source": [
    "level = 'gds_grp_nm'\n",
    "items = list(set(df_train[level]) | set(df_test[level]))\n",
    "ncol = len(items)\n",
    "\n",
    "def make_image(df):\n",
    "    x = pd.DataFrame({'cust_id': df.cust_id.unique()})\n",
    "    y = pd.DataFrame({level: items})\n",
    "    z = pd.DataFrame({'week_day': np.arange(7)})\n",
    "    df_pad = (\n",
    "        x.assign(key=1)\n",
    "        .merge(y.assign(key=1), on=\"key\")\n",
    "        .merge(z.assign(key=1), on=\"key\")\n",
    "        .drop(\"key\", axis=1)\n",
    "        .assign(amount=0)\n",
    "    )\n",
    "    df['week_day'] = pd.to_datetime(df.tran_date).dt.weekday\n",
    "    df_all = pd.concat([df, df_pad], sort=False, axis=0)\n",
    "    x = pd.pivot_table(df_all.query('amount >= 0'), \n",
    "                       index=['cust_id','week_day'], columns=level, \n",
    "                       values='amount', aggfunc=np.size, fill_value=0)\n",
    "    x = np.array(x).reshape(-1,7*ncol) - 1\n",
    "    return x.reshape(-1,7,ncol,1)\n",
    "#    x = np.array(x).reshape(-1,7*ncol) - 1\n",
    "#    return (x / x.max(1).reshape(-1,1)).reshape(-1,7,ncol,1)\n",
    "\n",
    "X_train = make_image(df_train)\n",
    "X_test = make_image(df_test)\n",
    "\n",
    "X_train.shape, X_test.shape"
   ]
  },
  {
   "cell_type": "code",
   "execution_count": 35,
   "metadata": {
    "_uuid": "f849836a083a24a5aebf908ba2ffffa7e1cbf529"
   },
   "outputs": [
    {
     "data": {
      "image/png": "[encoded data removed]",
      "text/plain": [
       "<Figure size 1080x576 with 2 Axes>"
      ]
     },
     "metadata": {
      "needs_background": "light"
     },
     "output_type": "display_data"
    }
   ],
   "source": [
    "fig, ax = plt.subplots(figsize=(15,8))\n",
    "sns.heatmap(X_train.reshape(-1,7,ncol)[300], ax=ax)\n",
    "plt.show()"
   ]
  },
  {
   "cell_type": "markdown",
   "metadata": {
    "_uuid": "756511749ed6b1dcd34e791c15f041d4e47f9df4"
   },
   "source": [
    "### Build Models"
   ]
  },
  {
   "cell_type": "code",
   "execution_count": 36,
   "metadata": {
    "_uuid": "5e470379b59e72b66cc024f62ba5ac514f7cf15b",
    "scrolled": true
   },
   "outputs": [
    {
     "name": "stdout",
     "output_type": "stream",
     "text": [
      "Model: \"sequential_8\"\n",
      "_________________________________________________________________\n",
      "Layer (type)                 Output Shape              Param #   \n",
      "=================================================================\n",
      "conv2d_8 (Conv2D)            (None, 7, 331, 1)         2         \n",
      "_________________________________________________________________\n",
      "flatten_8 (Flatten)          (None, 2317)              0         \n",
      "_________________________________________________________________\n",
      "dropout_8 (Dropout)          (None, 2317)              0         \n",
      "_________________________________________________________________\n",
      "dense_7 (Dense)              (None, 1)                 2318      \n",
      "=================================================================\n",
      "Total params: 2,320\n",
      "Trainable params: 2,320\n",
      "Non-trainable params: 0\n",
      "_________________________________________________________________\n",
      "Train on 2800 samples, validate on 700 samples\n",
      "Epoch 1/50\n",
      "2800/2800 [==============================] - 0s 136us/step - loss: 0.6582 - acc: 0.6082 - val_loss: 0.6457 - val_acc: 0.6229\n",
      "Epoch 2/50\n",
      "2800/2800 [==============================] - 0s 104us/step - loss: 0.6397 - acc: 0.6264 - val_loss: 0.6380 - val_acc: 0.6229\n",
      "Epoch 3/50\n",
      "2800/2800 [==============================] - 0s 105us/step - loss: 0.6303 - acc: 0.6257 - val_loss: 0.6322 - val_acc: 0.6229\n",
      "Epoch 4/50\n",
      "2800/2800 [==============================] - 0s 107us/step - loss: 0.6207 - acc: 0.6257 - val_loss: 0.6269 - val_acc: 0.6214\n",
      "Epoch 5/50\n",
      "2800/2800 [==============================] - 0s 104us/step - loss: 0.6123 - acc: 0.6293 - val_loss: 0.6225 - val_acc: 0.6286\n",
      "Epoch 6/50\n",
      "2800/2800 [==============================] - 0s 107us/step - loss: 0.6066 - acc: 0.6404 - val_loss: 0.6188 - val_acc: 0.6329\n",
      "Epoch 7/50\n",
      "2800/2800 [==============================] - 0s 103us/step - loss: 0.5980 - acc: 0.6564 - val_loss: 0.6159 - val_acc: 0.6343\n",
      "Epoch 8/50\n",
      "2800/2800 [==============================] - 0s 109us/step - loss: 0.5902 - acc: 0.6586 - val_loss: 0.6119 - val_acc: 0.6629\n",
      "Epoch 9/50\n",
      "2800/2800 [==============================] - 0s 106us/step - loss: 0.5841 - acc: 0.6675 - val_loss: 0.6092 - val_acc: 0.6657\n",
      "Epoch 10/50\n",
      "2800/2800 [==============================] - 0s 105us/step - loss: 0.5823 - acc: 0.6800 - val_loss: 0.6074 - val_acc: 0.6671\n",
      "Epoch 11/50\n",
      "2800/2800 [==============================] - 0s 103us/step - loss: 0.5771 - acc: 0.6839 - val_loss: 0.6055 - val_acc: 0.6657\n",
      "Epoch 12/50\n",
      "2800/2800 [==============================] - 0s 105us/step - loss: 0.5735 - acc: 0.7039 - val_loss: 0.6041 - val_acc: 0.6586\n",
      "Epoch 13/50\n",
      "2800/2800 [==============================] - 0s 103us/step - loss: 0.5688 - acc: 0.6954 - val_loss: 0.6021 - val_acc: 0.6729\n",
      "Epoch 14/50\n",
      "2800/2800 [==============================] - 0s 105us/step - loss: 0.5676 - acc: 0.7046 - val_loss: 0.6008 - val_acc: 0.6714\n",
      "Epoch 15/50\n",
      "2800/2800 [==============================] - 0s 104us/step - loss: 0.5614 - acc: 0.7032 - val_loss: 0.6000 - val_acc: 0.6757\n",
      "Epoch 16/50\n",
      "2800/2800 [==============================] - 0s 104us/step - loss: 0.5587 - acc: 0.7121 - val_loss: 0.5991 - val_acc: 0.6714\n",
      "Epoch 17/50\n",
      "2800/2800 [==============================] - 0s 104us/step - loss: 0.5537 - acc: 0.7207 - val_loss: 0.5983 - val_acc: 0.6743\n",
      "Epoch 18/50\n",
      "2800/2800 [==============================] - 0s 105us/step - loss: 0.5524 - acc: 0.7146 - val_loss: 0.5974 - val_acc: 0.6714\n",
      "Epoch 19/50\n",
      "2800/2800 [==============================] - 0s 109us/step - loss: 0.5477 - acc: 0.7314 - val_loss: 0.5975 - val_acc: 0.6743\n",
      "Epoch 20/50\n",
      "2800/2800 [==============================] - 0s 105us/step - loss: 0.5425 - acc: 0.7393 - val_loss: 0.5968 - val_acc: 0.6729\n",
      "Epoch 21/50\n",
      "2800/2800 [==============================] - 0s 103us/step - loss: 0.5444 - acc: 0.7371 - val_loss: 0.5965 - val_acc: 0.6757\n",
      "Epoch 22/50\n",
      "2800/2800 [==============================] - 0s 104us/step - loss: 0.5454 - acc: 0.7332 - val_loss: 0.5962 - val_acc: 0.6786\n",
      "Epoch 23/50\n",
      "2800/2800 [==============================] - 0s 104us/step - loss: 0.5378 - acc: 0.7300 - val_loss: 0.5971 - val_acc: 0.6857\n",
      "Epoch 24/50\n",
      "2800/2800 [==============================] - 0s 106us/step - loss: 0.5337 - acc: 0.7314 - val_loss: 0.5973 - val_acc: 0.6757\n",
      "Epoch 25/50\n",
      "2800/2800 [==============================] - 0s 103us/step - loss: 0.5330 - acc: 0.7232 - val_loss: 0.5974 - val_acc: 0.6786\n",
      "Epoch 26/50\n",
      "2800/2800 [==============================] - 0s 107us/step - loss: 0.5303 - acc: 0.7314 - val_loss: 0.5980 - val_acc: 0.6771\n",
      "Epoch 27/50\n",
      "2800/2800 [==============================] - 0s 107us/step - loss: 0.5307 - acc: 0.7382 - val_loss: 0.5977 - val_acc: 0.6800\n",
      "0.7270642201834863\n"
     ]
    },
    {
     "data": {
      "image/png": "[encoded data removed]",
      "text/plain": [
       "<Figure size 432x288 with 1 Axes>"
      ]
     },
     "metadata": {
      "needs_background": "light"
     },
     "output_type": "display_data"
    }
   ],
   "source": [
    "model = Sequential()\n",
    "model.add(Conv2D(1, kernel_size=(1, 1),strides=(1,1), activation='tanh', input_shape=(7,ncol,1)))\n",
    "#model.add(layers.MaxPooling2D(pool_size=(2, 1)))\n",
    "#model.add(layers.Conv2D(1, kernel_size=(1, 1),strides=(1,1), activation='tanh'))\n",
    "model.add(Flatten())\n",
    "model.add(Dropout(0.4))\n",
    "#model.add(layers.Dense(16, activation='tanh'))\n",
    "model.add(Dense(1, activation='sigmoid'))\n",
    "model.summary()\n",
    "\n",
    "model.compile(optimizer='adadelta', loss='binary_crossentropy', metrics=['acc'])\n",
    "#model.compile(optimizer=RMSprop(lr=1e-4), loss='binary_crossentropy', metrics=['acc'])\n",
    "train_x, valid_x, train_y, valid_y = train_test_split(X_train, y_train, test_size=0.2)\n",
    "history = model.fit(train_x, train_y, \n",
    "                    epochs=50, batch_size=128, \n",
    "                    validation_data=(valid_x, valid_y), callbacks=[EarlyStopping(patience=5)])\n",
    "\n",
    "print(roc_auc_score(valid_y, model.predict(valid_x)))\n",
    "\n",
    "plt.plot(history.history[\"loss\"], label=\"train loss\")\n",
    "plt.plot(history.history[\"val_loss\"], label=\"validation loss\")\n",
    "plt.legend()\n",
    "plt.title(\"Loss\")\n",
    "plt.show()"
   ]
  },
  {
   "cell_type": "code",
   "execution_count": 38,
   "metadata": {},
   "outputs": [
    {
     "data": {
      "text/plain": [
       "array([[0.16730952],\n",
       "       [0.56152284],\n",
       "       [0.5458121 ],\n",
       "       ...,\n",
       "       [0.48437077],\n",
       "       [0.40272388],\n",
       "       [0.24233158]], dtype=float32)"
      ]
     },
     "execution_count": 38,
     "metadata": {},
     "output_type": "execute_result"
    }
   ],
   "source": [
    "\n",
    "intermediate_layer_model = Model(inputs=model.input,\n",
    "                                outputs=model.output)\n",
    "intermediate_output = intermediate_layer_model.predict(X_train)\n",
    "intermediate_output"
   ]
  },
  {
   "cell_type": "code",
   "execution_count": 39,
   "metadata": {},
   "outputs": [],
   "source": [
    "X_train_nm = pd.DataFrame(intermediate_output)"
   ]
  },
  {
   "cell_type": "code",
   "execution_count": 40,
   "metadata": {},
   "outputs": [
    {
     "data": {
      "text/plain": [
       "array([[0.6138411 ],\n",
       "       [0.4153191 ],\n",
       "       [0.02055949],\n",
       "       ...,\n",
       "       [0.64749634],\n",
       "       [0.45367432],\n",
       "       [0.42576596]], dtype=float32)"
      ]
     },
     "execution_count": 40,
     "metadata": {},
     "output_type": "execute_result"
    }
   ],
   "source": [
    "\n",
    "intermediate_layer_model = Model(inputs=model.input,\n",
    "                                outputs=model.output)\n",
    "intermediate_output = intermediate_layer_model.predict(X_test)\n",
    "intermediate_output"
   ]
  },
  {
   "cell_type": "code",
   "execution_count": 41,
   "metadata": {
    "scrolled": true
   },
   "outputs": [],
   "source": [
    "X_test_nm = pd.DataFrame(intermediate_output)"
   ]
  },
  {
   "cell_type": "markdown",
   "metadata": {},
   "source": [
    "# 대분류"
   ]
  },
  {
   "cell_type": "markdown",
   "metadata": {
    "_uuid": "dd7e3527fd56e5b5855c6846ca226f5f860f725b"
   },
   "source": [
    "### Read Data"
   ]
  },
  {
   "cell_type": "code",
   "execution_count": 43,
   "metadata": {
    "_uuid": "794123064b09797f51add356a676fb6a7aed015d"
   },
   "outputs": [
    {
     "data": {
      "text/html": [
       "<div>\n",
       "<style scoped>\n",
       "    .dataframe tbody tr th:only-of-type {\n",
       "        vertical-align: middle;\n",
       "    }\n",
       "\n",
       "    .dataframe tbody tr th {\n",
       "        vertical-align: top;\n",
       "    }\n",
       "\n",
       "    .dataframe thead th {\n",
       "        text-align: right;\n",
       "    }\n",
       "</style>\n",
       "<table border=\"1\" class=\"dataframe\">\n",
       "  <thead>\n",
       "    <tr style=\"text-align: right;\">\n",
       "      <th></th>\n",
       "      <th>cust_id</th>\n",
       "      <th>tran_date</th>\n",
       "      <th>store_nm</th>\n",
       "      <th>goods_id</th>\n",
       "      <th>gds_grp_nm</th>\n",
       "      <th>gds_grp_mclas_nm</th>\n",
       "      <th>amount</th>\n",
       "    </tr>\n",
       "  </thead>\n",
       "  <tbody>\n",
       "    <tr>\n",
       "      <th>0</th>\n",
       "      <td>3500</td>\n",
       "      <td>2007-01-16 00:00:00</td>\n",
       "      <td>부산본점</td>\n",
       "      <td>735126</td>\n",
       "      <td>기초A</td>\n",
       "      <td>화장품</td>\n",
       "      <td>2465000</td>\n",
       "    </tr>\n",
       "    <tr>\n",
       "      <th>1</th>\n",
       "      <td>3500</td>\n",
       "      <td>2007-01-20 00:00:00</td>\n",
       "      <td>부산본점</td>\n",
       "      <td>443227</td>\n",
       "      <td>비지니스군</td>\n",
       "      <td>셔츠</td>\n",
       "      <td>675000</td>\n",
       "    </tr>\n",
       "    <tr>\n",
       "      <th>2</th>\n",
       "      <td>3500</td>\n",
       "      <td>2007-03-02 00:00:00</td>\n",
       "      <td>부산본점</td>\n",
       "      <td>461257</td>\n",
       "      <td>트래디셔널Ⅱ</td>\n",
       "      <td>트래디셔널</td>\n",
       "      <td>1840000</td>\n",
       "    </tr>\n",
       "    <tr>\n",
       "      <th>3</th>\n",
       "      <td>3500</td>\n",
       "      <td>2007-03-17 00:00:00</td>\n",
       "      <td>부산본점</td>\n",
       "      <td>735126</td>\n",
       "      <td>기초A</td>\n",
       "      <td>화장품</td>\n",
       "      <td>350000</td>\n",
       "    </tr>\n",
       "    <tr>\n",
       "      <th>4</th>\n",
       "      <td>3500</td>\n",
       "      <td>2007-03-17 00:00:00</td>\n",
       "      <td>부산본점</td>\n",
       "      <td>245219</td>\n",
       "      <td>트래디셔널</td>\n",
       "      <td>트래디셔널</td>\n",
       "      <td>5014000</td>\n",
       "    </tr>\n",
       "  </tbody>\n",
       "</table>\n",
       "</div>"
      ],
      "text/plain": [
       "   cust_id            tran_date store_nm  goods_id gds_grp_nm  \\\n",
       "0     3500  2007-01-16 00:00:00     부산본점    735126        기초A   \n",
       "1     3500  2007-01-20 00:00:00     부산본점    443227      비지니스군   \n",
       "2     3500  2007-03-02 00:00:00     부산본점    461257     트래디셔널Ⅱ   \n",
       "3     3500  2007-03-17 00:00:00     부산본점    735126        기초A   \n",
       "4     3500  2007-03-17 00:00:00     부산본점    245219      트래디셔널   \n",
       "\n",
       "  gds_grp_mclas_nm   amount  \n",
       "0              화장품  2465000  \n",
       "1               셔츠   675000  \n",
       "2            트래디셔널  1840000  \n",
       "3              화장품   350000  \n",
       "4            트래디셔널  5014000  "
      ]
     },
     "execution_count": 43,
     "metadata": {},
     "output_type": "execute_result"
    }
   ],
   "source": [
    "df_train = pd.read_csv('X_train.csv', encoding='cp949')\n",
    "df_test = pd.read_csv('X_test.csv', encoding='cp949')\n",
    "y_train = pd.read_csv('y_train.csv').gender\n",
    "IDtest = df_test.cust_id.unique()\n",
    "\n",
    "df_test.head()"
   ]
  },
  {
   "cell_type": "markdown",
   "metadata": {
    "_uuid": "8fdb273f73bbee0a8f11b33be46446b6825e9b6a"
   },
   "source": [
    "### Transform Data"
   ]
  },
  {
   "cell_type": "code",
   "execution_count": 44,
   "metadata": {
    "_uuid": "eca2c78b7747842476b5bf724ecbe9d759cbf3c0"
   },
   "outputs": [
    {
     "data": {
      "text/plain": [
       "((3500, 7, 49, 1), (2482, 7, 49, 1))"
      ]
     },
     "execution_count": 44,
     "metadata": {},
     "output_type": "execute_result"
    }
   ],
   "source": [
    "level = 'gds_grp_mclas_nm'\n",
    "items = list(set(df_train[level]) | set(df_test[level]))\n",
    "ncol = len(items)\n",
    "\n",
    "def make_image(df):\n",
    "    x = pd.DataFrame({'cust_id': df.cust_id.unique()})\n",
    "    y = pd.DataFrame({level: items})\n",
    "    z = pd.DataFrame({'week_day': np.arange(7)})\n",
    "    df_pad = (\n",
    "        x.assign(key=1)\n",
    "        .merge(y.assign(key=1), on=\"key\")\n",
    "        .merge(z.assign(key=1), on=\"key\")\n",
    "        .drop(\"key\", axis=1)\n",
    "        .assign(amount=0)\n",
    "    )\n",
    "    df['week_day'] = pd.to_datetime(df.tran_date).dt.weekday\n",
    "    df_all = pd.concat([df, df_pad], sort=False, axis=0)\n",
    "    x = pd.pivot_table(df_all.query('amount >= 0'), \n",
    "                       index=['cust_id','week_day'], columns=level, \n",
    "                       values='amount', aggfunc=np.size, fill_value=0)\n",
    "    x = np.array(x).reshape(-1,7*ncol) - 1\n",
    "    return x.reshape(-1,7,ncol,1)\n",
    "#    x = np.array(x).reshape(-1,7*ncol) - 1\n",
    "#    return (x / x.max(1).reshape(-1,1)).reshape(-1,7,ncol,1)\n",
    "\n",
    "X_train = make_image(df_train)\n",
    "X_test = make_image(df_test)\n",
    "\n",
    "X_train.shape, X_test.shape"
   ]
  },
  {
   "cell_type": "code",
   "execution_count": 45,
   "metadata": {
    "_uuid": "f849836a083a24a5aebf908ba2ffffa7e1cbf529"
   },
   "outputs": [
    {
     "data": {
      "image/png": "[encoded data removed]",
      "text/plain": [
       "<Figure size 1080x576 with 2 Axes>"
      ]
     },
     "metadata": {
      "needs_background": "light"
     },
     "output_type": "display_data"
    }
   ],
   "source": [
    "fig, ax = plt.subplots(figsize=(15,8))\n",
    "sns.heatmap(X_train.reshape(-1,7,ncol)[300], ax=ax)\n",
    "plt.show()"
   ]
  },
  {
   "cell_type": "markdown",
   "metadata": {
    "_uuid": "756511749ed6b1dcd34e791c15f041d4e47f9df4"
   },
   "source": [
    "### Build Models"
   ]
  },
  {
   "cell_type": "code",
   "execution_count": 46,
   "metadata": {
    "_uuid": "5e470379b59e72b66cc024f62ba5ac514f7cf15b",
    "scrolled": true
   },
   "outputs": [
    {
     "name": "stdout",
     "output_type": "stream",
     "text": [
      "Model: \"sequential_9\"\n",
      "_________________________________________________________________\n",
      "Layer (type)                 Output Shape              Param #   \n",
      "=================================================================\n",
      "conv2d_9 (Conv2D)            (None, 7, 49, 1)          2         \n",
      "_________________________________________________________________\n",
      "flatten_9 (Flatten)          (None, 343)               0         \n",
      "_________________________________________________________________\n",
      "dropout_9 (Dropout)          (None, 343)               0         \n",
      "_________________________________________________________________\n",
      "dense_8 (Dense)              (None, 1)                 344       \n",
      "=================================================================\n",
      "Total params: 346\n",
      "Trainable params: 346\n",
      "Non-trainable params: 0\n",
      "_________________________________________________________________\n",
      "Train on 2800 samples, validate on 700 samples\n",
      "Epoch 1/50\n",
      "2800/2800 [==============================] - 0s 58us/step - loss: 0.6590 - acc: 0.6050 - val_loss: 0.6592 - val_acc: 0.6000\n",
      "Epoch 2/50\n",
      "2800/2800 [==============================] - 0s 19us/step - loss: 0.6450 - acc: 0.6161 - val_loss: 0.6526 - val_acc: 0.6157\n",
      "Epoch 3/50\n",
      "2800/2800 [==============================] - 0s 19us/step - loss: 0.6371 - acc: 0.6329 - val_loss: 0.6466 - val_acc: 0.6186\n",
      "Epoch 4/50\n",
      "2800/2800 [==============================] - 0s 21us/step - loss: 0.6230 - acc: 0.6332 - val_loss: 0.6424 - val_acc: 0.6243\n",
      "Epoch 5/50\n",
      "2800/2800 [==============================] - 0s 20us/step - loss: 0.6251 - acc: 0.6400 - val_loss: 0.6379 - val_acc: 0.6243\n",
      "Epoch 6/50\n",
      "2800/2800 [==============================] - 0s 21us/step - loss: 0.6120 - acc: 0.6525 - val_loss: 0.6336 - val_acc: 0.6271\n",
      "Epoch 7/50\n",
      "2800/2800 [==============================] - 0s 18us/step - loss: 0.6127 - acc: 0.6493 - val_loss: 0.6303 - val_acc: 0.6286\n",
      "Epoch 8/50\n",
      "2800/2800 [==============================] - 0s 19us/step - loss: 0.6049 - acc: 0.6654 - val_loss: 0.6272 - val_acc: 0.6343\n",
      "Epoch 9/50\n",
      "2800/2800 [==============================] - 0s 21us/step - loss: 0.6029 - acc: 0.6729 - val_loss: 0.6254 - val_acc: 0.6343\n",
      "Epoch 10/50\n",
      "2800/2800 [==============================] - 0s 20us/step - loss: 0.5998 - acc: 0.6561 - val_loss: 0.6227 - val_acc: 0.6357\n",
      "Epoch 11/50\n",
      "2800/2800 [==============================] - 0s 20us/step - loss: 0.5961 - acc: 0.6639 - val_loss: 0.6210 - val_acc: 0.6414\n",
      "Epoch 12/50\n",
      "2800/2800 [==============================] - 0s 20us/step - loss: 0.5899 - acc: 0.6768 - val_loss: 0.6193 - val_acc: 0.6471\n",
      "Epoch 13/50\n",
      "2800/2800 [==============================] - 0s 20us/step - loss: 0.5889 - acc: 0.6754 - val_loss: 0.6174 - val_acc: 0.6514\n",
      "Epoch 14/50\n",
      "2800/2800 [==============================] - 0s 19us/step - loss: 0.5869 - acc: 0.6814 - val_loss: 0.6164 - val_acc: 0.6514\n",
      "Epoch 15/50\n",
      "2800/2800 [==============================] - 0s 20us/step - loss: 0.5849 - acc: 0.6832 - val_loss: 0.6153 - val_acc: 0.6457\n",
      "Epoch 16/50\n",
      "2800/2800 [==============================] - 0s 19us/step - loss: 0.5855 - acc: 0.6904 - val_loss: 0.6142 - val_acc: 0.6514\n",
      "Epoch 17/50\n",
      "2800/2800 [==============================] - 0s 20us/step - loss: 0.5820 - acc: 0.6836 - val_loss: 0.6133 - val_acc: 0.6557\n",
      "Epoch 18/50\n",
      "2800/2800 [==============================] - 0s 20us/step - loss: 0.5830 - acc: 0.6889 - val_loss: 0.6127 - val_acc: 0.6557\n",
      "Epoch 19/50\n",
      "2800/2800 [==============================] - 0s 20us/step - loss: 0.5775 - acc: 0.6893 - val_loss: 0.6117 - val_acc: 0.6586\n",
      "Epoch 20/50\n",
      "2800/2800 [==============================] - 0s 21us/step - loss: 0.5742 - acc: 0.6893 - val_loss: 0.6113 - val_acc: 0.6571\n",
      "Epoch 21/50\n",
      "2800/2800 [==============================] - 0s 18us/step - loss: 0.5761 - acc: 0.6939 - val_loss: 0.6101 - val_acc: 0.6600\n",
      "Epoch 22/50\n",
      "2800/2800 [==============================] - 0s 19us/step - loss: 0.5699 - acc: 0.6979 - val_loss: 0.6096 - val_acc: 0.6629\n",
      "Epoch 23/50\n",
      "2800/2800 [==============================] - 0s 20us/step - loss: 0.5704 - acc: 0.6968 - val_loss: 0.6090 - val_acc: 0.6671\n",
      "Epoch 24/50\n",
      "2800/2800 [==============================] - 0s 22us/step - loss: 0.5733 - acc: 0.6936 - val_loss: 0.6083 - val_acc: 0.6700\n",
      "Epoch 25/50\n",
      "2800/2800 [==============================] - 0s 19us/step - loss: 0.5674 - acc: 0.7104 - val_loss: 0.6087 - val_acc: 0.6700\n",
      "Epoch 26/50\n",
      "2800/2800 [==============================] - 0s 19us/step - loss: 0.5662 - acc: 0.6925 - val_loss: 0.6082 - val_acc: 0.6714\n",
      "Epoch 27/50\n",
      "2800/2800 [==============================] - 0s 19us/step - loss: 0.5647 - acc: 0.7007 - val_loss: 0.6079 - val_acc: 0.6743\n",
      "Epoch 28/50\n",
      "2800/2800 [==============================] - 0s 19us/step - loss: 0.5658 - acc: 0.6989 - val_loss: 0.6077 - val_acc: 0.6757\n",
      "Epoch 29/50\n",
      "2800/2800 [==============================] - 0s 20us/step - loss: 0.5670 - acc: 0.7021 - val_loss: 0.6081 - val_acc: 0.6771\n",
      "Epoch 30/50\n",
      "2800/2800 [==============================] - 0s 21us/step - loss: 0.5605 - acc: 0.6946 - val_loss: 0.6082 - val_acc: 0.6800\n",
      "Epoch 31/50\n",
      "2800/2800 [==============================] - 0s 21us/step - loss: 0.5738 - acc: 0.6936 - val_loss: 0.6084 - val_acc: 0.6771\n",
      "Epoch 32/50\n",
      "2800/2800 [==============================] - 0s 21us/step - loss: 0.5663 - acc: 0.7029 - val_loss: 0.6080 - val_acc: 0.6800\n",
      "Epoch 33/50\n",
      "2800/2800 [==============================] - 0s 20us/step - loss: 0.5596 - acc: 0.7036 - val_loss: 0.6079 - val_acc: 0.6857\n",
      "0.7168344557449147\n"
     ]
    },
    {
     "data": {
      "image/png": "[encoded data removed]",
      "text/plain": [
       "<Figure size 432x288 with 1 Axes>"
      ]
     },
     "metadata": {
      "needs_background": "light"
     },
     "output_type": "display_data"
    }
   ],
   "source": [
    "model = Sequential()\n",
    "model.add(Conv2D(1, kernel_size=(1, 1),strides=(1,1), activation='tanh', input_shape=(7,ncol,1)))\n",
    "#model.add(layers.MaxPooling2D(pool_size=(2, 1)))\n",
    "#model.add(layers.Conv2D(1, kernel_size=(1, 1),strides=(1,1), activation='tanh'))\n",
    "model.add(Flatten())\n",
    "model.add(Dropout(0.4))\n",
    "#model.add(layers.Dense(16, activation='tanh'))\n",
    "model.add(Dense(1, activation='sigmoid'))\n",
    "model.summary()\n",
    "\n",
    "model.compile(optimizer='adadelta', loss='binary_crossentropy', metrics=['acc'])\n",
    "#model.compile(optimizer=RMSprop(lr=1e-4), loss='binary_crossentropy', metrics=['acc'])\n",
    "train_x, valid_x, train_y, valid_y = train_test_split(X_train, y_train, test_size=0.2)\n",
    "history = model.fit(train_x, train_y, \n",
    "                    epochs=50, batch_size=128, \n",
    "                    validation_data=(valid_x, valid_y), callbacks=[EarlyStopping(patience=5)])\n",
    "\n",
    "print(roc_auc_score(valid_y, model.predict(valid_x)))\n",
    "\n",
    "plt.plot(history.history[\"loss\"], label=\"train loss\")\n",
    "plt.plot(history.history[\"val_loss\"], label=\"validation loss\")\n",
    "plt.legend()\n",
    "plt.title(\"Loss\")\n",
    "plt.show()"
   ]
  },
  {
   "cell_type": "code",
   "execution_count": 47,
   "metadata": {},
   "outputs": [
    {
     "data": {
      "text/plain": [
       "array([[0.11899692],\n",
       "       [0.5760154 ],\n",
       "       [0.59567684],\n",
       "       ...,\n",
       "       [0.47445717],\n",
       "       [0.4060193 ],\n",
       "       [0.15802874]], dtype=float32)"
      ]
     },
     "execution_count": 47,
     "metadata": {},
     "output_type": "execute_result"
    }
   ],
   "source": [
    "\n",
    "intermediate_layer_model = Model(inputs=model.input,\n",
    "                                outputs=model.output)\n",
    "intermediate_output = intermediate_layer_model.predict(X_train)\n",
    "intermediate_output"
   ]
  },
  {
   "cell_type": "code",
   "execution_count": 48,
   "metadata": {},
   "outputs": [],
   "source": [
    "X_train_mclas = pd.DataFrame(intermediate_output)"
   ]
  },
  {
   "cell_type": "code",
   "execution_count": 49,
   "metadata": {},
   "outputs": [
    {
     "data": {
      "text/plain": [
       "array([[0.6277454 ],\n",
       "       [0.43648183],\n",
       "       [0.06126493],\n",
       "       ...,\n",
       "       [0.72484535],\n",
       "       [0.3777662 ],\n",
       "       [0.4393708 ]], dtype=float32)"
      ]
     },
     "execution_count": 49,
     "metadata": {},
     "output_type": "execute_result"
    }
   ],
   "source": [
    "\n",
    "intermediate_layer_model = Model(inputs=model.input,\n",
    "                                outputs=model.output)\n",
    "intermediate_output = intermediate_layer_model.predict(X_test)\n",
    "intermediate_output"
   ]
  },
  {
   "cell_type": "code",
   "execution_count": 50,
   "metadata": {
    "scrolled": false
   },
   "outputs": [],
   "source": [
    "X_test_mclas = pd.DataFrame(intermediate_output)"
   ]
  },
  {
   "cell_type": "markdown",
   "metadata": {},
   "source": [
    "# 소분류"
   ]
  },
  {
   "cell_type": "markdown",
   "metadata": {
    "_uuid": "dd7e3527fd56e5b5855c6846ca226f5f860f725b"
   },
   "source": [
    "### Read Data"
   ]
  },
  {
   "cell_type": "code",
   "execution_count": 23,
   "metadata": {
    "_uuid": "794123064b09797f51add356a676fb6a7aed015d"
   },
   "outputs": [
    {
     "data": {
      "text/html": [
       "<div>\n",
       "<style scoped>\n",
       "    .dataframe tbody tr th:only-of-type {\n",
       "        vertical-align: middle;\n",
       "    }\n",
       "\n",
       "    .dataframe tbody tr th {\n",
       "        vertical-align: top;\n",
       "    }\n",
       "\n",
       "    .dataframe thead th {\n",
       "        text-align: right;\n",
       "    }\n",
       "</style>\n",
       "<table border=\"1\" class=\"dataframe\">\n",
       "  <thead>\n",
       "    <tr style=\"text-align: right;\">\n",
       "      <th></th>\n",
       "      <th>cust_id</th>\n",
       "      <th>tran_date</th>\n",
       "      <th>store_nm</th>\n",
       "      <th>goods_id</th>\n",
       "      <th>gds_grp_nm</th>\n",
       "      <th>gds_grp_mclas_nm</th>\n",
       "      <th>amount</th>\n",
       "    </tr>\n",
       "  </thead>\n",
       "  <tbody>\n",
       "    <tr>\n",
       "      <th>0</th>\n",
       "      <td>3500</td>\n",
       "      <td>2007-01-16 00:00:00</td>\n",
       "      <td>부산본점</td>\n",
       "      <td>735126</td>\n",
       "      <td>기초A</td>\n",
       "      <td>화장품</td>\n",
       "      <td>2465000</td>\n",
       "    </tr>\n",
       "    <tr>\n",
       "      <th>1</th>\n",
       "      <td>3500</td>\n",
       "      <td>2007-01-20 00:00:00</td>\n",
       "      <td>부산본점</td>\n",
       "      <td>443227</td>\n",
       "      <td>비지니스군</td>\n",
       "      <td>셔츠</td>\n",
       "      <td>675000</td>\n",
       "    </tr>\n",
       "    <tr>\n",
       "      <th>2</th>\n",
       "      <td>3500</td>\n",
       "      <td>2007-03-02 00:00:00</td>\n",
       "      <td>부산본점</td>\n",
       "      <td>461257</td>\n",
       "      <td>트래디셔널Ⅱ</td>\n",
       "      <td>트래디셔널</td>\n",
       "      <td>1840000</td>\n",
       "    </tr>\n",
       "    <tr>\n",
       "      <th>3</th>\n",
       "      <td>3500</td>\n",
       "      <td>2007-03-17 00:00:00</td>\n",
       "      <td>부산본점</td>\n",
       "      <td>735126</td>\n",
       "      <td>기초A</td>\n",
       "      <td>화장품</td>\n",
       "      <td>350000</td>\n",
       "    </tr>\n",
       "    <tr>\n",
       "      <th>4</th>\n",
       "      <td>3500</td>\n",
       "      <td>2007-03-17 00:00:00</td>\n",
       "      <td>부산본점</td>\n",
       "      <td>245219</td>\n",
       "      <td>트래디셔널</td>\n",
       "      <td>트래디셔널</td>\n",
       "      <td>5014000</td>\n",
       "    </tr>\n",
       "  </tbody>\n",
       "</table>\n",
       "</div>"
      ],
      "text/plain": [
       "   cust_id            tran_date store_nm  goods_id gds_grp_nm  \\\n",
       "0     3500  2007-01-16 00:00:00     부산본점    735126        기초A   \n",
       "1     3500  2007-01-20 00:00:00     부산본점    443227      비지니스군   \n",
       "2     3500  2007-03-02 00:00:00     부산본점    461257     트래디셔널Ⅱ   \n",
       "3     3500  2007-03-17 00:00:00     부산본점    735126        기초A   \n",
       "4     3500  2007-03-17 00:00:00     부산본점    245219      트래디셔널   \n",
       "\n",
       "  gds_grp_mclas_nm   amount  \n",
       "0              화장품  2465000  \n",
       "1               셔츠   675000  \n",
       "2            트래디셔널  1840000  \n",
       "3              화장품   350000  \n",
       "4            트래디셔널  5014000  "
      ]
     },
     "execution_count": 23,
     "metadata": {},
     "output_type": "execute_result"
    }
   ],
   "source": [
    "df_train = pd.read_csv('X_train.csv', encoding='cp949')\n",
    "df_test = pd.read_csv('X_test.csv', encoding='cp949')\n",
    "y_train = pd.read_csv('y_train.csv').gender\n",
    "IDtest = df_test.cust_id.unique()\n",
    "\n",
    "df_test.head()"
   ]
  },
  {
   "cell_type": "markdown",
   "metadata": {
    "_uuid": "8fdb273f73bbee0a8f11b33be46446b6825e9b6a"
   },
   "source": [
    "### Transform Data"
   ]
  },
  {
   "cell_type": "code",
   "execution_count": 24,
   "metadata": {
    "_uuid": "eca2c78b7747842476b5bf724ecbe9d759cbf3c0"
   },
   "outputs": [
    {
     "data": {
      "text/plain": [
       "((3500, 7, 3799, 1), (2482, 7, 3799, 1))"
      ]
     },
     "execution_count": 24,
     "metadata": {},
     "output_type": "execute_result"
    }
   ],
   "source": [
    "level = 'goods_id'\n",
    "items = list(set(df_train[level]) | set(df_test[level]))\n",
    "ncol = len(items)\n",
    "\n",
    "def make_image(df):\n",
    "    x = pd.DataFrame({'cust_id': df.cust_id.unique()})\n",
    "    y = pd.DataFrame({level: items})\n",
    "    z = pd.DataFrame({'week_day': np.arange(7)})\n",
    "    df_pad = (\n",
    "        x.assign(key=1)\n",
    "        .merge(y.assign(key=1), on=\"key\")\n",
    "        .merge(z.assign(key=1), on=\"key\")\n",
    "        .drop(\"key\", axis=1)\n",
    "        .assign(amount=0)\n",
    "    )\n",
    "    df['week_day'] = pd.to_datetime(df.tran_date).dt.weekday\n",
    "    df_all = pd.concat([df, df_pad], sort=False, axis=0)\n",
    "    x = pd.pivot_table(df_all.query('amount >= 0'), \n",
    "                       index=['cust_id','week_day'], columns=level, \n",
    "                       values='amount', aggfunc=np.size, fill_value=0)\n",
    "    x = np.array(x).reshape(-1,7*ncol) - 1\n",
    "    return x.reshape(-1,7,ncol,1)\n",
    "#    x = np.array(x).reshape(-1,7*ncol) - 1\n",
    "#    return (x / x.max(1).reshape(-1,1)).reshape(-1,7,ncol,1)\n",
    "\n",
    "X_train = make_image(df_train)\n",
    "X_test = make_image(df_test)\n",
    "\n",
    "X_train.shape, X_test.shape"
   ]
  },
  {
   "cell_type": "code",
   "execution_count": 25,
   "metadata": {
    "_uuid": "f849836a083a24a5aebf908ba2ffffa7e1cbf529"
   },
   "outputs": [
    {
     "data": {
      "image/png": "[encoded data removed]",
      "text/plain": [
       "<Figure size 1080x576 with 2 Axes>"
      ]
     },
     "metadata": {
      "needs_background": "light"
     },
     "output_type": "display_data"
    }
   ],
   "source": [
    "fig, ax = plt.subplots(figsize=(15,8))\n",
    "sns.heatmap(X_train.reshape(-1,7,ncol)[300], ax=ax)\n",
    "plt.show()"
   ]
  },
  {
   "cell_type": "markdown",
   "metadata": {
    "_uuid": "756511749ed6b1dcd34e791c15f041d4e47f9df4"
   },
   "source": [
    "### Build Models"
   ]
  },
  {
   "cell_type": "code",
   "execution_count": 26,
   "metadata": {
    "_uuid": "5e470379b59e72b66cc024f62ba5ac514f7cf15b",
    "scrolled": true
   },
   "outputs": [
    {
     "name": "stdout",
     "output_type": "stream",
     "text": [
      "Model: \"sequential_7\"\n",
      "_________________________________________________________________\n",
      "Layer (type)                 Output Shape              Param #   \n",
      "=================================================================\n",
      "conv2d_7 (Conv2D)            (None, 7, 3799, 1)        2         \n",
      "_________________________________________________________________\n",
      "flatten_7 (Flatten)          (None, 26593)             0         \n",
      "_________________________________________________________________\n",
      "dropout_7 (Dropout)          (None, 26593)             0         \n",
      "_________________________________________________________________\n",
      "dense_6 (Dense)              (None, 1)                 26594     \n",
      "=================================================================\n",
      "Total params: 26,596\n",
      "Trainable params: 26,596\n",
      "Non-trainable params: 0\n",
      "_________________________________________________________________\n",
      "Train on 2800 samples, validate on 700 samples\n",
      "Epoch 1/50\n",
      "2800/2800 [==============================] - 4s 1ms/step - loss: 0.6661 - acc: 0.6082 - val_loss: 0.6573 - val_acc: 0.6086\n",
      "Epoch 2/50\n",
      "2800/2800 [==============================] - 3s 1ms/step - loss: 0.6408 - acc: 0.6279 - val_loss: 0.6492 - val_acc: 0.6086\n",
      "Epoch 3/50\n",
      "2800/2800 [==============================] - 3s 1ms/step - loss: 0.6281 - acc: 0.6286 - val_loss: 0.6427 - val_acc: 0.6086\n",
      "Epoch 4/50\n",
      "2800/2800 [==============================] - 3s 1ms/step - loss: 0.6166 - acc: 0.6286 - val_loss: 0.6373 - val_acc: 0.6086\n",
      "Epoch 5/50\n",
      "2800/2800 [==============================] - 3s 1ms/step - loss: 0.6072 - acc: 0.6293 - val_loss: 0.6344 - val_acc: 0.6086\n",
      "Epoch 6/50\n",
      "2800/2800 [==============================] - 3s 1ms/step - loss: 0.5970 - acc: 0.6357 - val_loss: 0.6291 - val_acc: 0.6129\n",
      "Epoch 7/50\n",
      "2800/2800 [==============================] - 3s 1ms/step - loss: 0.5851 - acc: 0.6464 - val_loss: 0.6239 - val_acc: 0.6114\n",
      "Epoch 8/50\n",
      "2800/2800 [==============================] - 3s 1ms/step - loss: 0.5765 - acc: 0.6507 - val_loss: 0.6305 - val_acc: 0.6100\n",
      "Epoch 9/50\n",
      "2800/2800 [==============================] - 3s 1ms/step - loss: 0.5681 - acc: 0.6514 - val_loss: 0.6166 - val_acc: 0.6114\n",
      "Epoch 10/50\n",
      "2800/2800 [==============================] - 3s 1ms/step - loss: 0.5590 - acc: 0.6700 - val_loss: 0.6140 - val_acc: 0.6186\n",
      "Epoch 11/50\n",
      "2800/2800 [==============================] - 3s 1ms/step - loss: 0.5543 - acc: 0.6900 - val_loss: 0.6119 - val_acc: 0.6171\n",
      "Epoch 12/50\n",
      "2800/2800 [==============================] - 3s 1ms/step - loss: 0.5474 - acc: 0.6914 - val_loss: 0.6093 - val_acc: 0.6186\n",
      "Epoch 13/50\n",
      "2800/2800 [==============================] - 3s 1ms/step - loss: 0.5399 - acc: 0.7000 - val_loss: 0.6065 - val_acc: 0.6243\n",
      "Epoch 14/50\n",
      "2800/2800 [==============================] - 3s 1ms/step - loss: 0.5345 - acc: 0.7114 - val_loss: 0.6063 - val_acc: 0.6171\n",
      "Epoch 15/50\n",
      "2800/2800 [==============================] - 3s 1ms/step - loss: 0.5302 - acc: 0.7143 - val_loss: 0.6041 - val_acc: 0.6171\n",
      "Epoch 16/50\n",
      "2800/2800 [==============================] - 3s 1ms/step - loss: 0.5222 - acc: 0.7211 - val_loss: 0.6018 - val_acc: 0.6800\n",
      "Epoch 17/50\n",
      "2800/2800 [==============================] - 3s 1ms/step - loss: 0.5192 - acc: 0.7432 - val_loss: 0.6017 - val_acc: 0.6186\n",
      "Epoch 18/50\n",
      "2800/2800 [==============================] - 3s 1ms/step - loss: 0.5130 - acc: 0.7346 - val_loss: 0.5995 - val_acc: 0.6229\n",
      "Epoch 19/50\n",
      "2800/2800 [==============================] - 3s 1ms/step - loss: 0.5101 - acc: 0.7479 - val_loss: 0.5997 - val_acc: 0.6171\n",
      "Epoch 20/50\n",
      "2800/2800 [==============================] - 3s 1ms/step - loss: 0.5055 - acc: 0.7486 - val_loss: 0.5968 - val_acc: 0.6500\n",
      "Epoch 21/50\n",
      "2800/2800 [==============================] - 3s 1ms/step - loss: 0.5001 - acc: 0.7643 - val_loss: 0.5963 - val_acc: 0.6243\n",
      "Epoch 22/50\n",
      "2800/2800 [==============================] - 3s 1ms/step - loss: 0.4963 - acc: 0.7596 - val_loss: 0.5950 - val_acc: 0.6543\n",
      "Epoch 23/50\n",
      "2800/2800 [==============================] - 3s 1ms/step - loss: 0.4901 - acc: 0.7779 - val_loss: 0.5961 - val_acc: 0.6229\n",
      "Epoch 24/50\n",
      "2800/2800 [==============================] - 3s 1ms/step - loss: 0.4873 - acc: 0.7675 - val_loss: 0.5941 - val_acc: 0.6729\n",
      "Epoch 25/50\n",
      "2800/2800 [==============================] - 3s 1ms/step - loss: 0.4826 - acc: 0.7961 - val_loss: 0.5987 - val_acc: 0.6200\n",
      "Epoch 26/50\n",
      "2800/2800 [==============================] - 3s 1ms/step - loss: 0.4850 - acc: 0.7782 - val_loss: 0.5959 - val_acc: 0.6214\n",
      "Epoch 27/50\n",
      "2800/2800 [==============================] - 3s 1ms/step - loss: 0.4757 - acc: 0.7811 - val_loss: 0.5918 - val_acc: 0.6857\n",
      "Epoch 28/50\n",
      "2800/2800 [==============================] - 3s 1ms/step - loss: 0.4753 - acc: 0.7857 - val_loss: 0.5913 - val_acc: 0.6814\n",
      "Epoch 29/50\n",
      "2800/2800 [==============================] - 3s 1ms/step - loss: 0.4696 - acc: 0.7939 - val_loss: 0.5918 - val_acc: 0.6514\n",
      "Epoch 30/50\n",
      "2800/2800 [==============================] - 3s 1ms/step - loss: 0.4674 - acc: 0.8007 - val_loss: 0.5929 - val_acc: 0.6286\n",
      "Epoch 31/50\n",
      "2800/2800 [==============================] - 3s 1ms/step - loss: 0.4658 - acc: 0.7850 - val_loss: 0.5903 - val_acc: 0.6900\n",
      "Epoch 32/50\n",
      "2800/2800 [==============================] - 3s 1ms/step - loss: 0.4646 - acc: 0.8104 - val_loss: 0.5908 - val_acc: 0.6400\n",
      "Epoch 33/50\n",
      "2800/2800 [==============================] - 3s 1ms/step - loss: 0.4562 - acc: 0.8079 - val_loss: 0.5924 - val_acc: 0.6371\n",
      "Epoch 34/50\n",
      "2800/2800 [==============================] - 3s 1ms/step - loss: 0.4560 - acc: 0.8000 - val_loss: 0.5892 - val_acc: 0.6957\n",
      "Epoch 35/50\n",
      "2800/2800 [==============================] - 3s 1ms/step - loss: 0.4531 - acc: 0.8264 - val_loss: 0.5916 - val_acc: 0.6457\n",
      "Epoch 36/50\n",
      "2800/2800 [==============================] - 3s 1ms/step - loss: 0.4514 - acc: 0.8071 - val_loss: 0.5895 - val_acc: 0.6886\n",
      "Epoch 37/50\n",
      "2800/2800 [==============================] - 3s 1ms/step - loss: 0.4463 - acc: 0.8243 - val_loss: 0.5922 - val_acc: 0.6443\n",
      "Epoch 38/50\n",
      "2800/2800 [==============================] - 3s 1ms/step - loss: 0.4480 - acc: 0.8121 - val_loss: 0.5901 - val_acc: 0.6714\n",
      "Epoch 39/50\n",
      "2800/2800 [==============================] - 3s 1ms/step - loss: 0.4440 - acc: 0.8239 - val_loss: 0.5912 - val_acc: 0.6557\n",
      "0.7503598231726123\n"
     ]
    },
    {
     "data": {
      "image/png": "[encoded data removed]",
      "text/plain": [
       "<Figure size 432x288 with 1 Axes>"
      ]
     },
     "metadata": {
      "needs_background": "light"
     },
     "output_type": "display_data"
    }
   ],
   "source": [
    "model = Sequential()\n",
    "model.add(Conv2D(1, kernel_size=(1, 1),strides=(1,1), activation='tanh', input_shape=(7,ncol,1)))\n",
    "#model.add(layers.MaxPooling2D(pool_size=(2, 1)))\n",
    "#model.add(layers.Conv2D(1, kernel_size=(1, 1),strides=(1,1), activation='tanh'))\n",
    "model.add(Flatten())\n",
    "model.add(Dropout(0.4))\n",
    "#model.add(layers.Dense(16, activation='tanh'))\n",
    "model.add(Dense(1, activation='sigmoid'))\n",
    "model.summary()\n",
    "\n",
    "model.compile(optimizer='adadelta', loss='binary_crossentropy', metrics=['acc'])\n",
    "#model.compile(optimizer=RMSprop(lr=1e-4), loss='binary_crossentropy', metrics=['acc'])\n",
    "train_x, valid_x, train_y, valid_y = train_test_split(X_train, y_train, test_size=0.2)\n",
    "history = model.fit(train_x, train_y, \n",
    "                    epochs=50, batch_size=128, \n",
    "                    validation_data=(valid_x, valid_y), callbacks=[EarlyStopping(patience=5)])\n",
    "\n",
    "print(roc_auc_score(valid_y, model.predict(valid_x)))\n",
    "\n",
    "plt.plot(history.history[\"loss\"], label=\"train loss\")\n",
    "plt.plot(history.history[\"val_loss\"], label=\"validation loss\")\n",
    "plt.legend()\n",
    "plt.title(\"Loss\")\n",
    "plt.show()"
   ]
  },
  {
   "cell_type": "code",
   "execution_count": 27,
   "metadata": {},
   "outputs": [
    {
     "data": {
      "text/plain": [
       "array([[0.1021758 ],\n",
       "       [0.47940373],\n",
       "       [0.4967052 ],\n",
       "       ...,\n",
       "       [0.4708066 ],\n",
       "       [0.41716054],\n",
       "       [0.0622539 ]], dtype=float32)"
      ]
     },
     "execution_count": 27,
     "metadata": {},
     "output_type": "execute_result"
    }
   ],
   "source": [
    "\n",
    "intermediate_layer_model = Model(inputs=model.input,\n",
    "                                outputs=model.output)\n",
    "intermediate_output = intermediate_layer_model.predict(X_train)\n",
    "intermediate_output"
   ]
  },
  {
   "cell_type": "code",
   "execution_count": 28,
   "metadata": {},
   "outputs": [],
   "source": [
    "X_train_goods = pd.DataFrame(intermediate_output)"
   ]
  },
  {
   "cell_type": "code",
   "execution_count": 29,
   "metadata": {},
   "outputs": [
    {
     "data": {
      "text/plain": [
       "array([[0.58394307],\n",
       "       [0.34966195],\n",
       "       [0.02990183],\n",
       "       ...,\n",
       "       [0.4606137 ],\n",
       "       [0.40705827],\n",
       "       [0.388725  ]], dtype=float32)"
      ]
     },
     "execution_count": 29,
     "metadata": {},
     "output_type": "execute_result"
    }
   ],
   "source": [
    "\n",
    "intermediate_layer_model = Model(inputs=model.input,\n",
    "                                outputs=model.output)\n",
    "intermediate_output = intermediate_layer_model.predict(X_test)\n",
    "intermediate_output"
   ]
  },
  {
   "cell_type": "code",
   "execution_count": 30,
   "metadata": {
    "scrolled": false
   },
   "outputs": [],
   "source": [
    "X_test_goods = pd.DataFrame(intermediate_output)"
   ]
  },
  {
   "cell_type": "code",
   "execution_count": null,
   "metadata": {},
   "outputs": [],
   "source": []
  },
  {
   "cell_type": "code",
   "execution_count": 51,
   "metadata": {},
   "outputs": [
    {
     "data": {
      "text/html": [
       "<div>\n",
       "<style scoped>\n",
       "    .dataframe tbody tr th:only-of-type {\n",
       "        vertical-align: middle;\n",
       "    }\n",
       "\n",
       "    .dataframe tbody tr th {\n",
       "        vertical-align: top;\n",
       "    }\n",
       "\n",
       "    .dataframe thead th {\n",
       "        text-align: right;\n",
       "    }\n",
       "</style>\n",
       "<table border=\"1\" class=\"dataframe\">\n",
       "  <thead>\n",
       "    <tr style=\"text-align: right;\">\n",
       "      <th></th>\n",
       "      <th>0</th>\n",
       "    </tr>\n",
       "  </thead>\n",
       "  <tbody>\n",
       "    <tr>\n",
       "      <th>0</th>\n",
       "      <td>0.167310</td>\n",
       "    </tr>\n",
       "    <tr>\n",
       "      <th>1</th>\n",
       "      <td>0.561523</td>\n",
       "    </tr>\n",
       "    <tr>\n",
       "      <th>2</th>\n",
       "      <td>0.545812</td>\n",
       "    </tr>\n",
       "    <tr>\n",
       "      <th>3</th>\n",
       "      <td>0.329218</td>\n",
       "    </tr>\n",
       "    <tr>\n",
       "      <th>4</th>\n",
       "      <td>0.438546</td>\n",
       "    </tr>\n",
       "    <tr>\n",
       "      <th>...</th>\n",
       "      <td>...</td>\n",
       "    </tr>\n",
       "    <tr>\n",
       "      <th>3495</th>\n",
       "      <td>0.507663</td>\n",
       "    </tr>\n",
       "    <tr>\n",
       "      <th>3496</th>\n",
       "      <td>0.422339</td>\n",
       "    </tr>\n",
       "    <tr>\n",
       "      <th>3497</th>\n",
       "      <td>0.484371</td>\n",
       "    </tr>\n",
       "    <tr>\n",
       "      <th>3498</th>\n",
       "      <td>0.402724</td>\n",
       "    </tr>\n",
       "    <tr>\n",
       "      <th>3499</th>\n",
       "      <td>0.242332</td>\n",
       "    </tr>\n",
       "  </tbody>\n",
       "</table>\n",
       "<p>3500 rows × 1 columns</p>\n",
       "</div>"
      ],
      "text/plain": [
       "             0\n",
       "0     0.167310\n",
       "1     0.561523\n",
       "2     0.545812\n",
       "3     0.329218\n",
       "4     0.438546\n",
       "...        ...\n",
       "3495  0.507663\n",
       "3496  0.422339\n",
       "3497  0.484371\n",
       "3498  0.402724\n",
       "3499  0.242332\n",
       "\n",
       "[3500 rows x 1 columns]"
      ]
     },
     "metadata": {},
     "output_type": "display_data"
    },
    {
     "data": {
      "text/html": [
       "<div>\n",
       "<style scoped>\n",
       "    .dataframe tbody tr th:only-of-type {\n",
       "        vertical-align: middle;\n",
       "    }\n",
       "\n",
       "    .dataframe tbody tr th {\n",
       "        vertical-align: top;\n",
       "    }\n",
       "\n",
       "    .dataframe thead th {\n",
       "        text-align: right;\n",
       "    }\n",
       "</style>\n",
       "<table border=\"1\" class=\"dataframe\">\n",
       "  <thead>\n",
       "    <tr style=\"text-align: right;\">\n",
       "      <th></th>\n",
       "      <th>0</th>\n",
       "    </tr>\n",
       "  </thead>\n",
       "  <tbody>\n",
       "    <tr>\n",
       "      <th>0</th>\n",
       "      <td>0.118997</td>\n",
       "    </tr>\n",
       "    <tr>\n",
       "      <th>1</th>\n",
       "      <td>0.576015</td>\n",
       "    </tr>\n",
       "    <tr>\n",
       "      <th>2</th>\n",
       "      <td>0.595677</td>\n",
       "    </tr>\n",
       "    <tr>\n",
       "      <th>3</th>\n",
       "      <td>0.333982</td>\n",
       "    </tr>\n",
       "    <tr>\n",
       "      <th>4</th>\n",
       "      <td>0.405885</td>\n",
       "    </tr>\n",
       "    <tr>\n",
       "      <th>...</th>\n",
       "      <td>...</td>\n",
       "    </tr>\n",
       "    <tr>\n",
       "      <th>3495</th>\n",
       "      <td>0.520769</td>\n",
       "    </tr>\n",
       "    <tr>\n",
       "      <th>3496</th>\n",
       "      <td>0.384672</td>\n",
       "    </tr>\n",
       "    <tr>\n",
       "      <th>3497</th>\n",
       "      <td>0.474457</td>\n",
       "    </tr>\n",
       "    <tr>\n",
       "      <th>3498</th>\n",
       "      <td>0.406019</td>\n",
       "    </tr>\n",
       "    <tr>\n",
       "      <th>3499</th>\n",
       "      <td>0.158029</td>\n",
       "    </tr>\n",
       "  </tbody>\n",
       "</table>\n",
       "<p>3500 rows × 1 columns</p>\n",
       "</div>"
      ],
      "text/plain": [
       "             0\n",
       "0     0.118997\n",
       "1     0.576015\n",
       "2     0.595677\n",
       "3     0.333982\n",
       "4     0.405885\n",
       "...        ...\n",
       "3495  0.520769\n",
       "3496  0.384672\n",
       "3497  0.474457\n",
       "3498  0.406019\n",
       "3499  0.158029\n",
       "\n",
       "[3500 rows x 1 columns]"
      ]
     },
     "metadata": {},
     "output_type": "display_data"
    },
    {
     "data": {
      "text/html": [
       "<div>\n",
       "<style scoped>\n",
       "    .dataframe tbody tr th:only-of-type {\n",
       "        vertical-align: middle;\n",
       "    }\n",
       "\n",
       "    .dataframe tbody tr th {\n",
       "        vertical-align: top;\n",
       "    }\n",
       "\n",
       "    .dataframe thead th {\n",
       "        text-align: right;\n",
       "    }\n",
       "</style>\n",
       "<table border=\"1\" class=\"dataframe\">\n",
       "  <thead>\n",
       "    <tr style=\"text-align: right;\">\n",
       "      <th></th>\n",
       "      <th>0</th>\n",
       "    </tr>\n",
       "  </thead>\n",
       "  <tbody>\n",
       "    <tr>\n",
       "      <th>0</th>\n",
       "      <td>0.102176</td>\n",
       "    </tr>\n",
       "    <tr>\n",
       "      <th>1</th>\n",
       "      <td>0.479404</td>\n",
       "    </tr>\n",
       "    <tr>\n",
       "      <th>2</th>\n",
       "      <td>0.496705</td>\n",
       "    </tr>\n",
       "    <tr>\n",
       "      <th>3</th>\n",
       "      <td>0.492453</td>\n",
       "    </tr>\n",
       "    <tr>\n",
       "      <th>4</th>\n",
       "      <td>0.433425</td>\n",
       "    </tr>\n",
       "    <tr>\n",
       "      <th>...</th>\n",
       "      <td>...</td>\n",
       "    </tr>\n",
       "    <tr>\n",
       "      <th>3495</th>\n",
       "      <td>0.509415</td>\n",
       "    </tr>\n",
       "    <tr>\n",
       "      <th>3496</th>\n",
       "      <td>0.572425</td>\n",
       "    </tr>\n",
       "    <tr>\n",
       "      <th>3497</th>\n",
       "      <td>0.470807</td>\n",
       "    </tr>\n",
       "    <tr>\n",
       "      <th>3498</th>\n",
       "      <td>0.417161</td>\n",
       "    </tr>\n",
       "    <tr>\n",
       "      <th>3499</th>\n",
       "      <td>0.062254</td>\n",
       "    </tr>\n",
       "  </tbody>\n",
       "</table>\n",
       "<p>3500 rows × 1 columns</p>\n",
       "</div>"
      ],
      "text/plain": [
       "             0\n",
       "0     0.102176\n",
       "1     0.479404\n",
       "2     0.496705\n",
       "3     0.492453\n",
       "4     0.433425\n",
       "...        ...\n",
       "3495  0.509415\n",
       "3496  0.572425\n",
       "3497  0.470807\n",
       "3498  0.417161\n",
       "3499  0.062254\n",
       "\n",
       "[3500 rows x 1 columns]"
      ]
     },
     "metadata": {},
     "output_type": "display_data"
    }
   ],
   "source": [
    "display(X_train_nm)\n",
    "\n",
    "display(X_train_mclas)\n",
    "\n",
    "display(X_train_goods)\n"
   ]
  },
  {
   "cell_type": "code",
   "execution_count": 68,
   "metadata": {},
   "outputs": [],
   "source": [
    "X_train_cnn2 = pd.concat([X_train_nm, X_train_mclas, X_train_goods], axis=1)\n",
    "X_test_cnn2 = pd.concat([X_test_nm, X_test_mclas, X_test_goods], axis=1)"
   ]
  },
  {
   "cell_type": "code",
   "execution_count": 71,
   "metadata": {},
   "outputs": [],
   "source": [
    "X_train_cnn2.columns=['cnn2_nm', 'cnn2_mclas', 'cnn2_goods']\n",
    "X_test_cnn2.columns=['cnn2_nm', 'cnn2_mclas', 'cnn2_goods']"
   ]
  },
  {
   "cell_type": "code",
   "execution_count": 72,
   "metadata": {
    "scrolled": true
   },
   "outputs": [
    {
     "data": {
      "text/html": [
       "<div>\n",
       "<style scoped>\n",
       "    .dataframe tbody tr th:only-of-type {\n",
       "        vertical-align: middle;\n",
       "    }\n",
       "\n",
       "    .dataframe tbody tr th {\n",
       "        vertical-align: top;\n",
       "    }\n",
       "\n",
       "    .dataframe thead th {\n",
       "        text-align: right;\n",
       "    }\n",
       "</style>\n",
       "<table border=\"1\" class=\"dataframe\">\n",
       "  <thead>\n",
       "    <tr style=\"text-align: right;\">\n",
       "      <th></th>\n",
       "      <th>cnn2_nm</th>\n",
       "      <th>cnn2_mclas</th>\n",
       "      <th>cnn2_goods</th>\n",
       "    </tr>\n",
       "  </thead>\n",
       "  <tbody>\n",
       "    <tr>\n",
       "      <th>0</th>\n",
       "      <td>0.167310</td>\n",
       "      <td>0.118997</td>\n",
       "      <td>0.102176</td>\n",
       "    </tr>\n",
       "    <tr>\n",
       "      <th>1</th>\n",
       "      <td>0.561523</td>\n",
       "      <td>0.576015</td>\n",
       "      <td>0.479404</td>\n",
       "    </tr>\n",
       "    <tr>\n",
       "      <th>2</th>\n",
       "      <td>0.545812</td>\n",
       "      <td>0.595677</td>\n",
       "      <td>0.496705</td>\n",
       "    </tr>\n",
       "    <tr>\n",
       "      <th>3</th>\n",
       "      <td>0.329218</td>\n",
       "      <td>0.333982</td>\n",
       "      <td>0.492453</td>\n",
       "    </tr>\n",
       "    <tr>\n",
       "      <th>4</th>\n",
       "      <td>0.438546</td>\n",
       "      <td>0.405885</td>\n",
       "      <td>0.433425</td>\n",
       "    </tr>\n",
       "    <tr>\n",
       "      <th>...</th>\n",
       "      <td>...</td>\n",
       "      <td>...</td>\n",
       "      <td>...</td>\n",
       "    </tr>\n",
       "    <tr>\n",
       "      <th>3495</th>\n",
       "      <td>0.507663</td>\n",
       "      <td>0.520769</td>\n",
       "      <td>0.509415</td>\n",
       "    </tr>\n",
       "    <tr>\n",
       "      <th>3496</th>\n",
       "      <td>0.422339</td>\n",
       "      <td>0.384672</td>\n",
       "      <td>0.572425</td>\n",
       "    </tr>\n",
       "    <tr>\n",
       "      <th>3497</th>\n",
       "      <td>0.484371</td>\n",
       "      <td>0.474457</td>\n",
       "      <td>0.470807</td>\n",
       "    </tr>\n",
       "    <tr>\n",
       "      <th>3498</th>\n",
       "      <td>0.402724</td>\n",
       "      <td>0.406019</td>\n",
       "      <td>0.417161</td>\n",
       "    </tr>\n",
       "    <tr>\n",
       "      <th>3499</th>\n",
       "      <td>0.242332</td>\n",
       "      <td>0.158029</td>\n",
       "      <td>0.062254</td>\n",
       "    </tr>\n",
       "  </tbody>\n",
       "</table>\n",
       "<p>3500 rows × 3 columns</p>\n",
       "</div>"
      ],
      "text/plain": [
       "       cnn2_nm  cnn2_mclas  cnn2_goods\n",
       "0     0.167310    0.118997    0.102176\n",
       "1     0.561523    0.576015    0.479404\n",
       "2     0.545812    0.595677    0.496705\n",
       "3     0.329218    0.333982    0.492453\n",
       "4     0.438546    0.405885    0.433425\n",
       "...        ...         ...         ...\n",
       "3495  0.507663    0.520769    0.509415\n",
       "3496  0.422339    0.384672    0.572425\n",
       "3497  0.484371    0.474457    0.470807\n",
       "3498  0.402724    0.406019    0.417161\n",
       "3499  0.242332    0.158029    0.062254\n",
       "\n",
       "[3500 rows x 3 columns]"
      ]
     },
     "execution_count": 72,
     "metadata": {},
     "output_type": "execute_result"
    }
   ],
   "source": [
    "X_train_cnn2"
   ]
  },
  {
   "cell_type": "code",
   "execution_count": 76,
   "metadata": {},
   "outputs": [],
   "source": [
    "X_train_cnn2.to_csv('X_train_cnn2.csv', encoding='cp949')\n",
    "X_test_cnn2.to_csv('X_test_cnn2.csv', encoding='cp949')"
   ]
  },
  {
   "cell_type": "code",
   "execution_count": null,
   "metadata": {},
   "outputs": [],
   "source": []
  },
  {
   "cell_type": "code",
   "execution_count": 73,
   "metadata": {},
   "outputs": [],
   "source": [
    "X_train = X_train_cnn2\n",
    "X_test = X_test_cnn2\n",
    "y_train = pd.read_csv('y_train.csv').gender"
   ]
  },
  {
   "cell_type": "code",
   "execution_count": 74,
   "metadata": {},
   "outputs": [
    {
     "name": "stdout",
     "output_type": "stream",
     "text": [
      "DNN learning curve 1/5\n"
     ]
    },
    {
     "data": {
      "image/png": "[encoded data removed]",
      "text/plain": [
       "<Figure size 432x288 with 1 Axes>"
      ]
     },
     "metadata": {
      "needs_background": "light"
     },
     "output_type": "display_data"
    },
    {
     "name": "stdout",
     "output_type": "stream",
     "text": [
      "AUC 0.9297347443650358\n",
      "DNN learning curve 2/5\n"
     ]
    },
    {
     "data": {
      "image/png": "[encoded data removed]",
      "text/plain": [
       "<Figure size 432x288 with 1 Axes>"
      ]
     },
     "metadata": {
      "needs_background": "light"
     },
     "output_type": "display_data"
    },
    {
     "name": "stdout",
     "output_type": "stream",
     "text": [
      "AUC 0.9225966398271115\n",
      "DNN learning curve 3/5\n"
     ]
    },
    {
     "data": {
      "image/png": "[encoded data removed]",
      "text/plain": [
       "<Figure size 432x288 with 1 Axes>"
      ]
     },
     "metadata": {
      "needs_background": "light"
     },
     "output_type": "display_data"
    },
    {
     "name": "stdout",
     "output_type": "stream",
     "text": [
      "AUC 0.933333918893993\n",
      "DNN learning curve 4/5\n"
     ]
    },
    {
     "data": {
      "image/png": "[encoded data removed]",
      "text/plain": [
       "<Figure size 432x288 with 1 Axes>"
      ]
     },
     "metadata": {
      "needs_background": "light"
     },
     "output_type": "display_data"
    },
    {
     "name": "stdout",
     "output_type": "stream",
     "text": [
      "AUC 0.9214861908668308\n",
      "DNN learning curve 5/5\n"
     ]
    },
    {
     "data": {
      "image/png": "[encoded data removed]",
      "text/plain": [
       "<Figure size 432x288 with 1 Axes>"
      ]
     },
     "metadata": {
      "needs_background": "light"
     },
     "output_type": "display_data"
    },
    {
     "name": "stdout",
     "output_type": "stream",
     "text": [
      "AUC 0.9261955235443858\n",
      "\n",
      "Validation Summary:\n",
      "2    0.933334\n",
      "0    0.929735\n",
      "4    0.926196\n",
      "1    0.922597\n",
      "3    0.921486\n",
      "dtype: float64\n",
      "mean=0.92667, std=0.005\n"
     ]
    }
   ],
   "source": [
    "# Set hyper-parameters for power mean ensemble \n",
    "N = 5\n",
    "p = 3.5\n",
    "preds = []\n",
    "aucs = []\n",
    "\n",
    "for i in range(N):\n",
    "    # Define the Model architecture\n",
    "    model = Sequential()\n",
    "    model.add(Dense(32, activation='relu', input_shape=(X_train.shape[1],), kernel_regularizer=l2(0.01)))\n",
    "    model.add(Dropout(0.4))\n",
    "    model.add(Dense(16, activation='relu'))\n",
    "    model.add(Dropout(0.4))\n",
    "    model.add(Dense(1, activation='sigmoid'))\n",
    "\n",
    "    # Train the Model\n",
    "    model.compile(optimizer='adam', loss='binary_crossentropy', metrics=['acc'])  \n",
    "    train_x, valid_x, train_y, valid_y = train_test_split(X_train, y_train, test_size=0.2)\n",
    "    history = model.fit(train_x, train_y, epochs=100, batch_size=64, \n",
    "                        validation_data=(valid_x,valid_y), callbacks=[tf.keras.callbacks.EarlyStopping(patience=5)], verbose=0)\n",
    "\n",
    "\n",
    "    print(f'DNN learning curve {i+1}/{N}')\n",
    "    plt.plot(history.history[\"loss\"], label=\"train loss\")\n",
    "    plt.plot(history.history[\"val_loss\"], label=\"validation loss\")\n",
    "    plt.legend()\n",
    "    plt.title(\"Loss\")\n",
    "    plt.show()\n",
    "    \n",
    "    # Make Prediction\n",
    "    auc = roc_auc_score(valid_y, model.predict(valid_x).flatten())\n",
    "    aucs.append(auc)\n",
    "    print('AUC', auc)\n",
    "    preds.append(model.predict(X_test).flatten())   \n",
    "\n",
    "### Validate the Models\n",
    "print('\\nValidation Summary:')\n",
    "aucs = pd.Series(aucs)\n",
    "print(aucs.sort_values(ascending=False))\n",
    "print('mean={:.5f}, std={:.3f}'.format(aucs.mean(), aucs.std()))   "
   ]
  },
  {
   "cell_type": "code",
   "execution_count": null,
   "metadata": {},
   "outputs": [],
   "source": []
  },
  {
   "cell_type": "code",
   "execution_count": null,
   "metadata": {},
   "outputs": [],
   "source": []
  },
  {
   "cell_type": "code",
   "execution_count": null,
   "metadata": {},
   "outputs": [],
   "source": []
  },
  {
   "cell_type": "code",
   "execution_count": null,
   "metadata": {},
   "outputs": [],
   "source": []
  },
  {
   "cell_type": "code",
   "execution_count": null,
   "metadata": {},
   "outputs": [],
   "source": []
  },
  {
   "cell_type": "code",
   "execution_count": null,
   "metadata": {},
   "outputs": [],
   "source": []
  },
  {
   "cell_type": "code",
   "execution_count": null,
   "metadata": {},
   "outputs": [],
   "source": []
  },
  {
   "cell_type": "code",
   "execution_count": null,
   "metadata": {},
   "outputs": [],
   "source": []
  },
  {
   "cell_type": "markdown",
   "metadata": {
    "_uuid": "842573936f8fbc2fc01cbbd7ca485be6cb3601bb"
   },
   "source": [
    "### Make Submissions"
   ]
  },
  {
   "cell_type": "code",
   "execution_count": 6,
   "metadata": {
    "_uuid": "eea67734e166a59adaef15ecdfc337efc5080b9e"
   },
   "outputs": [
    {
     "name": "stdout",
     "output_type": "stream",
     "text": [
      "'conv2d_submit.csv' is ready to submit.\n"
     ]
    }
   ],
   "source": [
    "pred = model.predict(X_test)[:,0]\n",
    "fname = 'conv2d_submit.csv'\n",
    "submissions = pd.concat([pd.Series(IDtest, name=\"cust_id\"), pd.Series(pred, name=\"gender\")] ,axis=1)\n",
    "submissions.to_csv(fname, index=False)\n",
    "print(\"'{}' is ready to submit.\" .format(fname))"
   ]
  },
  {
   "cell_type": "markdown",
   "metadata": {
    "_uuid": "db6a418af5947fb6d1546dc8949ac55663504f18"
   },
   "source": [
    "## End"
   ]
  }
 ],
 "metadata": {
  "kernelspec": {
   "display_name": "Python 3",
   "language": "python",
   "name": "python3"
  },
  "language_info": {
   "codemirror_mode": {
    "name": "ipython",
    "version": 3
   },
   "file_extension": ".py",
   "mimetype": "text/x-python",
   "name": "python",
   "nbconvert_exporter": "python",
   "pygments_lexer": "ipython3",
   "version": "3.7.6"
  }
 },
 "nbformat": 4,
 "nbformat_minor": 1
}
