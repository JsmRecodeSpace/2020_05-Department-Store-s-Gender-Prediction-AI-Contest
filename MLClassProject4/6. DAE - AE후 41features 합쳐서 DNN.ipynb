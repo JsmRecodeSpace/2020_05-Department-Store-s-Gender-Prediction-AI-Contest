{
 "cells": [
  {
   "cell_type": "markdown",
   "metadata": {},
   "source": [
    "libraries"
   ]
  },
  {
   "cell_type": "code",
   "execution_count": 1,
   "metadata": {},
   "outputs": [
    {
     "name": "stderr",
     "output_type": "stream",
     "text": [
      "Using TensorFlow backend.\n"
     ]
    }
   ],
   "source": [
    "# basic \n",
    "\n",
    "import pandas as pd\n",
    "import numpy as np\n",
    "import warnings\n",
    "warnings.filterwarnings('ignore')\n",
    "pd.set_option('display.max_columns', 50, 'display.max_rows', 200)\n",
    "from itertools import combinations\n",
    "import os\n",
    "\n",
    "# plot\n",
    "\n",
    "import seaborn as sns\n",
    "import matplotlib.pylab as plt\n",
    "from matplotlib import font_manager, rc\n",
    "\n",
    "import platform\n",
    "your_os = platform.system()\n",
    "if your_os == 'Linux':\n",
    "    rc('font', family='NanumGothic')\n",
    "elif your_os == 'Windows':\n",
    "    ttf = \"c:/Windows/Fonts/malgun.ttf\"\n",
    "    font_name = font_manager.FontProperties(fname=ttf).get_name()\n",
    "    rc('font', family=font_name)\n",
    "elif your_os == 'Darwin':\n",
    "    rc('font', family='AppleGothic')\n",
    "rc('axes', unicode_minus=False)\n",
    "\n",
    "\n",
    "# models\n",
    "import time\n",
    "from tqdm import tqdm\n",
    "from sklearn.model_selection import train_test_split\n",
    "from sklearn.model_selection import cross_val_score\n",
    "from sklearn.metrics import roc_auc_score\n",
    "from sklearn.model_selection import StratifiedKFold, KFold\n",
    "\n",
    "from sklearn.preprocessing import OneHotEncoder\n",
    "from sklearn.decomposition import PCA\n",
    "from sklearn.feature_selection import SelectPercentile\n",
    "from scipy.stats.mstats import gmean\n",
    "from sklearn.preprocessing import MinMaxScaler\n",
    "from sklearn.model_selection import ShuffleSplit\n",
    "\n",
    "from sklearn.ensemble import RandomForestClassifier\n",
    "from sklearn.neighbors import KNeighborsClassifier\n",
    "from sklearn.linear_model import LogisticRegression\n",
    "from sklearn.svm import SVC\n",
    "from sklearn.ensemble import GradientBoostingClassifier\n",
    "from lightgbm import LGBMClassifier\n",
    "from xgboost import XGBClassifier\n",
    "from sklearn.neural_network import MLPClassifier\n",
    "from catboost import CatBoostClassifier\n",
    "from sklearn import svm\n",
    "from sklearn.ensemble import ExtraTreesClassifier\n",
    "from catboost import CatBoostClassifier\n",
    "\n",
    "from sklearn.model_selection import GridSearchCV, RandomizedSearchCV\n",
    "from bayes_opt import BayesianOptimization\n",
    "from sklearn.ensemble import VotingClassifier\n",
    "from vecstack import StackingTransformer\n",
    "from vecstack import stacking\n",
    "\n",
    "%run import_modules.py  \n",
    "%matplotlib inline\n",
    "\n",
    "# For DNN modeling\n",
    "import tensorflow as tf\n",
    "\n",
    "# Tensorflow warning off\n",
    "os.environ['TF_CPP_MIN_LOG_LEVEL'] = '3' \n",
    "\n",
    "tf.compat.v1.logging.set_verbosity(tf.compat.v1.logging.ERROR)\n",
    "#  tf.logging.set_verbosity(tf.logging.ERROR) <- logging이 버전업그레이드에서 사용 X라함\n",
    "\n",
    "# from tensorflow import set_random_seed \n",
    "# 위에 코드 안됨에 대한 답변: In Tensoflow2 there is no need to perform\n",
    "# from tensorflow import set_random_seed\n",
    "# in order to run\n",
    "# set_random_seed(x)\n",
    "# (as it was in older version)\n",
    "# Only have to run\n",
    "# import tensorflow\n",
    "# tensorflow.random.set_seed(x)\n",
    "\n",
    "tf.random.set_seed(2020)\n",
    "import keras\n",
    "from keras import backend as K\n",
    "from keras.layers import * #Input, Dense\n",
    "from keras.models import * #Model\n",
    "from keras.optimizers import *\n",
    "from keras.initializers import *\n",
    "from keras.regularizers import *\n",
    "from keras.utils.np_utils import *\n",
    "from keras.utils.vis_utils import * #model_to_dot"
   ]
  },
  {
   "cell_type": "markdown",
   "metadata": {
    "_uuid": "dd7e3527fd56e5b5855c6846ca226f5f860f725b"
   },
   "source": [
    "### Read Data(1)"
   ]
  },
  {
   "cell_type": "code",
   "execution_count": 2,
   "metadata": {},
   "outputs": [],
   "source": [
    "df_train = pd.read_csv('X_train.csv', encoding='cp949')\n",
    "df_test = pd.read_csv('X_test.csv', encoding='cp949')\n",
    "y_train = pd.read_csv('y_train.csv')\n",
    "IDtest = df_test.cust_id.unique()"
   ]
  },
  {
   "cell_type": "code",
   "execution_count": 3,
   "metadata": {},
   "outputs": [],
   "source": [
    "X_train = pd.read_csv('X_train_after_preprocessing.csv',encoding='cp949')\n",
    "X_test = pd.read_csv('X_test_after_preprocessing.csv', encoding='cp949')\n",
    "IDtest = df_test.cust_id.unique()\n",
    "y_train = pd.read_csv('y_train.csv').gender"
   ]
  },
  {
   "cell_type": "markdown",
   "metadata": {},
   "source": [
    "Extract numberical 41 Features from PCA"
   ]
  },
  {
   "cell_type": "code",
   "execution_count": 4,
   "metadata": {},
   "outputs": [],
   "source": [
    "X_train_41 = pd.read_csv('X_train_after_preprocessing41.csv', encoding ='cp949')\n",
    "X_test_41 = pd.read_csv('X_test_after_preprocessing41.csv', encoding ='cp949')"
   ]
  },
  {
   "cell_type": "markdown",
   "metadata": {},
   "source": [
    "Extract AE 128 Features from BOW-features"
   ]
  },
  {
   "cell_type": "code",
   "execution_count": 19,
   "metadata": {},
   "outputs": [
    {
     "data": {
      "text/plain": [
       "((3500, 4179), (2482, 4179))"
      ]
     },
     "execution_count": 19,
     "metadata": {},
     "output_type": "execute_result"
    }
   ],
   "source": [
    "level = 'gds_grp_nm'\n",
    "\n",
    "df_all = pd.concat([df_train, df_test])\n",
    "train1 = pd.pivot_table(df_all, index='cust_id', columns=level, values='amount',\n",
    "                         aggfunc=lambda x: np.where(len(x) >=1, 1, 0), fill_value=0). \\\n",
    "                         reset_index(). \\\n",
    "                         query('cust_id not in @IDtest'). \\\n",
    "                         drop(columns=['cust_id']).values\n",
    "test1 = pd.pivot_table(df_all, index='cust_id', columns=level, values='amount',\n",
    "                         aggfunc=lambda x: np.where(len(x) >=1, 1, 0), fill_value=0). \\\n",
    "                         reset_index(). \\\n",
    "                         query('cust_id in @IDtest'). \\\n",
    "                         drop(columns=['cust_id']).values\n",
    "\n",
    "level = 'gds_grp_mclas_nm'\n",
    "\n",
    "df_all = pd.concat([df_train, df_test])\n",
    "train2 = pd.pivot_table(df_all, index='cust_id', columns=level, values='amount',\n",
    "                         aggfunc=lambda x: np.where(len(x) >=1, 1, 0), fill_value=0). \\\n",
    "                         reset_index(). \\\n",
    "                         query('cust_id not in @IDtest'). \\\n",
    "                         drop(columns=['cust_id']).values\n",
    "test2 = pd.pivot_table(df_all, index='cust_id', columns=level, values='amount',\n",
    "                         aggfunc=lambda x: np.where(len(x) >=1, 1, 0), fill_value=0). \\\n",
    "                         reset_index(). \\\n",
    "                         query('cust_id in @IDtest'). \\\n",
    "                         drop(columns=['cust_id']).values\n",
    "\n",
    "level = 'goods_id'\n",
    "\n",
    "df_all = pd.concat([df_train, df_test])\n",
    "train3 = pd.pivot_table(df_all, index='cust_id', columns=level, values='amount',\n",
    "                         aggfunc=lambda x: np.where(len(x) >=1, 1, 0), fill_value=0). \\\n",
    "                         reset_index(). \\\n",
    "                         query('cust_id not in @IDtest'). \\\n",
    "                         drop(columns=['cust_id']).values\n",
    "test3 = pd.pivot_table(df_all, index='cust_id', columns=level, values='amount',\n",
    "                         aggfunc=lambda x: np.where(len(x) >=1, 1, 0), fill_value=0). \\\n",
    "                         reset_index(). \\\n",
    "                         query('cust_id in @IDtest'). \\\n",
    "                         drop(columns=['cust_id']).values\n",
    "\n",
    "train = np.hstack([train1, train2, train3])\n",
    "test = np.hstack([test1, test2, test3])\n",
    "\n",
    "train.shape, test.shape"
   ]
  },
  {
   "cell_type": "code",
   "execution_count": 20,
   "metadata": {},
   "outputs": [],
   "source": [
    "train_ae = pd.DataFrame(train)\n",
    "test_ae = pd.DataFrame(test)"
   ]
  },
  {
   "cell_type": "code",
   "execution_count": null,
   "metadata": {},
   "outputs": [],
   "source": [
    "# Set hyper-parameters for power mean ensemble \n",
    "N = 10\n",
    "p = 3.5\n",
    "preds = []\n",
    "aucs = []\n",
    "\n",
    "for i in tqdm(range(N)):    \n",
    "    X_train, X_test = train_ae, test_ae\n",
    "\n",
    "    ##### STEP 1: Randomize Seed\n",
    "    SEED = np.random.randint(1, 10000)              \n",
    "    random.seed(SEED)       \n",
    "    np.random.seed(SEED)     \n",
    "    if tf.__version__[0] < '2':  \n",
    "        tf.set_random_seed(SEED)\n",
    "    else:\n",
    "        tf.random.set_seed(SEED)\n",
    "\n",
    "    ##### STEP 2: Build DAE #####\n",
    "    \n",
    "    # Define the encoder dimension\n",
    "    encoding_dim = 128\n",
    "\n",
    "    # Input Layer\n",
    "    input_dim = Input(shape = (X_train.shape[1], ))\n",
    "\n",
    "    # Encoder Layers\n",
    "    noise = Dropout(0.5)(input_dim) # for Denoising\n",
    "    encoded1 = Dense(512, activation = 'relu')(noise)\n",
    "    encoded2 = Dense(256, activation = 'relu')(encoded1)\n",
    "    encoded3 = Dense(128, activation = 'relu')(encoded2)\n",
    "    encoded4 = Dense(encoding_dim, activation = 'relu')(encoded3)\n",
    "\n",
    "    # Decoder Layers\n",
    "    decoded1 = Dense(128, activation = 'relu')(encoded4)\n",
    "    decoded2 = Dense(256, activation = 'relu')(decoded1)\n",
    "    decoded3 = Dense(512, activation = 'relu')(decoded2)\n",
    "    decoded4 = Dense(X_train.shape[1], activation = 'linear')(decoded3)\n",
    "\n",
    "    # Combine Encoder and Deocder layers\n",
    "    autoencoder = Model(inputs = input_dim, outputs = decoded4)\n",
    "\n",
    "    # Compile the model\n",
    "    autoencoder.compile(optimizer = 'adam', loss = 'mse')\n",
    "\n",
    "    # Train the model\n",
    "    history = autoencoder.fit(X_train, X_train, epochs=20, batch_size=64, \n",
    "                              shuffle=True, validation_data=(X_test,X_test), verbose=0)\n",
    "\n",
    "#     print(f'DAE learning curve {i+1}/{N}')\n",
    "#     plt.plot(history.history[\"loss\"], label=\"train loss\")\n",
    "#     plt.plot(history.history[\"val_loss\"], label=\"validation loss\")\n",
    "#     plt.legend()\n",
    "#     plt.title(\"Loss\")\n",
    "#     plt.show()\n",
    "\n",
    "    ##### STEP 3: Reduce Dimension #####\n",
    "        \n",
    "    # Use a middle Bottleneck Layer to Reduce Dimension\n",
    "    model = Model(inputs=input_dim, outputs=encoded4)\n",
    "    X_train = model.predict(X_train)\n",
    "    X_test = model.predict(X_test)\n",
    "\n",
    "    # 128 BOW features + 41 numerical features\n",
    "    X_train = pd.concat([X_train, train_ae], axis=1)\n",
    "    X_test = pd.concat([X_test, test_ae], axis=1)\n",
    "    \n",
    "    \n",
    "    ##### STEP 4: Build a DNN Model\n",
    "\n",
    "    # Define the Model architecture\n",
    "    model = Sequential()\n",
    "    model.add(Dense(64, activation='relu', input_shape=(X_train.shape[1],), kernel_regularizer=l2(0.01)))\n",
    "    model.add(Dropout(0.5))\n",
    "    model.add(Dense(32, activation='relu'))\n",
    "    model.add(Dropout(0.5))\n",
    "    model.add(Dense(1, activation='sigmoid'))\n",
    "\n",
    "    # Train the Model\n",
    "    model.compile(optimizer='adam', loss='binary_crossentropy', metrics=['acc'])\n",
    "    train_x, valid_x, train_y, valid_y = train_test_split(X_train, y_train, test_size=0.2)\n",
    "    history = model.fit(train_x, train_y, epochs=50, batch_size=64, \n",
    "                        validation_data=(valid_x,valid_y), callbacks=[tf.keras.callbacks.EarlyStopping(patience=5)], verbose=0)\n",
    "\n",
    "    print(f'DNN learning curve {i+1}/{N}')\n",
    "    plt.plot(history.history[\"loss\"], label=\"train loss\")\n",
    "    plt.plot(history.history[\"val_loss\"], label=\"validation loss\")\n",
    "    plt.legend()\n",
    "    plt.title(\"Loss\")\n",
    "    plt.show()\n",
    "    \n",
    "    # Make Prediction\n",
    "    auc = roc_auc_score(valid_y, model.predict(valid_x).flatten())\n",
    "    aucs.append(auc)\n",
    "    print('AUC', auc)\n",
    "    preds.append(model.predict(X_test).flatten())   \n",
    "\n",
    "### Validate the Models\n",
    "print('\\nValidation Summary:')\n",
    "aucs = pd.Series(aucs)\n",
    "print(aucs.sort_values(ascending=False))\n",
    "print('mean={:.5f}, std={:.3f}'.format(aucs.mean(), aucs.std()))   "
   ]
  },
  {
   "cell_type": "code",
   "execution_count": null,
   "metadata": {},
   "outputs": [],
   "source": []
  },
  {
   "cell_type": "code",
   "execution_count": null,
   "metadata": {},
   "outputs": [],
   "source": []
  },
  {
   "cell_type": "code",
   "execution_count": null,
   "metadata": {},
   "outputs": [],
   "source": []
  },
  {
   "cell_type": "code",
   "execution_count": null,
   "metadata": {},
   "outputs": [],
   "source": []
  },
  {
   "cell_type": "code",
   "execution_count": null,
   "metadata": {},
   "outputs": [],
   "source": []
  },
  {
   "cell_type": "code",
   "execution_count": null,
   "metadata": {},
   "outputs": [],
   "source": []
  },
  {
   "cell_type": "code",
   "execution_count": null,
   "metadata": {},
   "outputs": [],
   "source": []
  },
  {
   "cell_type": "code",
   "execution_count": null,
   "metadata": {},
   "outputs": [],
   "source": []
  },
  {
   "cell_type": "code",
   "execution_count": null,
   "metadata": {},
   "outputs": [],
   "source": []
  },
  {
   "cell_type": "code",
   "execution_count": null,
   "metadata": {},
   "outputs": [],
   "source": []
  }
 ],
 "metadata": {
  "kernelspec": {
   "display_name": "Python 3",
   "language": "python",
   "name": "python3"
  },
  "language_info": {
   "codemirror_mode": {
    "name": "ipython",
    "version": 3
   },
   "file_extension": ".py",
   "mimetype": "text/x-python",
   "name": "python",
   "nbconvert_exporter": "python",
   "pygments_lexer": "ipython3",
   "version": "3.7.6"
  }
 },
 "nbformat": 4,
 "nbformat_minor": 4
}
