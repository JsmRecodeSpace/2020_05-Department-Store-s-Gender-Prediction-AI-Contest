{
 "cells": [
  {
   "cell_type": "markdown",
   "metadata": {
    "_uuid": "93b41229599509f643f1c1df3b86b3f79b66666f"
   },
   "source": [
    "## This model has the following characteristics:\n",
    "* No feature engineering\n",
    "* Applying bidirectional Conv1D to raw transactions"
   ]
  },
  {
   "cell_type": "code",
   "execution_count": 1,
   "metadata": {
    "_uuid": "03f99d58bc4e5ab0aae474463ea227de808229b9"
   },
   "outputs": [
    {
     "name": "stderr",
     "output_type": "stream",
     "text": [
      "Using TensorFlow backend.\n"
     ]
    }
   ],
   "source": [
    "%run import_modules.py  \n",
    "%matplotlib inline\n",
    "\n",
    "# For DNN modeling\n",
    "import tensorflow as tf\n",
    "\n",
    "# Tensorflow warning off\n",
    "os.environ['TF_CPP_MIN_LOG_LEVEL'] = '3' \n",
    "tf.logging.set_verbosity(tf.logging.ERROR)\n",
    "\n",
    "from tensorflow import set_random_seed\n",
    "import keras\n",
    "from keras import backend as K\n",
    "from keras.layers import * #Input, Dense\n",
    "from keras.models import * #Model\n",
    "from keras.optimizers import *\n",
    "from keras.initializers import *\n",
    "from keras.regularizers import *\n",
    "from keras.utils.np_utils import *\n",
    "from keras.utils.vis_utils import * #model_to_dot\n",
    "from keras.callbacks import EarlyStopping\n",
    "from keras.preprocessing import sequence\n",
    "from keras.preprocessing.text import *"
   ]
  },
  {
   "cell_type": "markdown",
   "metadata": {
    "_uuid": "dd7e3527fd56e5b5855c6846ca226f5f860f725b"
   },
   "source": [
    "### Read Data"
   ]
  },
  {
   "cell_type": "code",
   "execution_count": 2,
   "metadata": {
    "_uuid": "794123064b09797f51add356a676fb6a7aed015d"
   },
   "outputs": [
    {
     "data": {
      "text/html": [
       "<div>\n",
       "<style scoped>\n",
       "    .dataframe tbody tr th:only-of-type {\n",
       "        vertical-align: middle;\n",
       "    }\n",
       "\n",
       "    .dataframe tbody tr th {\n",
       "        vertical-align: top;\n",
       "    }\n",
       "\n",
       "    .dataframe thead th {\n",
       "        text-align: right;\n",
       "    }\n",
       "</style>\n",
       "<table border=\"1\" class=\"dataframe\">\n",
       "  <thead>\n",
       "    <tr style=\"text-align: right;\">\n",
       "      <th></th>\n",
       "      <th>cust_id</th>\n",
       "      <th>tran_date</th>\n",
       "      <th>store_nm</th>\n",
       "      <th>goods_id</th>\n",
       "      <th>gds_grp_nm</th>\n",
       "      <th>gds_grp_mclas_nm</th>\n",
       "      <th>amount</th>\n",
       "    </tr>\n",
       "  </thead>\n",
       "  <tbody>\n",
       "    <tr>\n",
       "      <th>0</th>\n",
       "      <td>0</td>\n",
       "      <td>2007-01-19 00:00:00</td>\n",
       "      <td>강남점</td>\n",
       "      <td>127105</td>\n",
       "      <td>기초 화장품</td>\n",
       "      <td>화장품</td>\n",
       "      <td>850000</td>\n",
       "    </tr>\n",
       "    <tr>\n",
       "      <th>1</th>\n",
       "      <td>0</td>\n",
       "      <td>2007-03-30 00:00:00</td>\n",
       "      <td>강남점</td>\n",
       "      <td>342220</td>\n",
       "      <td>니  트</td>\n",
       "      <td>시티웨어</td>\n",
       "      <td>480000</td>\n",
       "    </tr>\n",
       "    <tr>\n",
       "      <th>2</th>\n",
       "      <td>0</td>\n",
       "      <td>2007-03-30 00:00:00</td>\n",
       "      <td>강남점</td>\n",
       "      <td>127105</td>\n",
       "      <td>기초 화장품</td>\n",
       "      <td>화장품</td>\n",
       "      <td>3000000</td>\n",
       "    </tr>\n",
       "    <tr>\n",
       "      <th>3</th>\n",
       "      <td>0</td>\n",
       "      <td>2007-03-30 00:00:00</td>\n",
       "      <td>강남점</td>\n",
       "      <td>342205</td>\n",
       "      <td>니  트</td>\n",
       "      <td>시티웨어</td>\n",
       "      <td>840000</td>\n",
       "    </tr>\n",
       "    <tr>\n",
       "      <th>4</th>\n",
       "      <td>0</td>\n",
       "      <td>2007-03-30 00:00:00</td>\n",
       "      <td>강남점</td>\n",
       "      <td>342220</td>\n",
       "      <td>상품군미지정</td>\n",
       "      <td>기타</td>\n",
       "      <td>20000</td>\n",
       "    </tr>\n",
       "    <tr>\n",
       "      <th>5</th>\n",
       "      <td>0</td>\n",
       "      <td>2007-05-13 00:00:00</td>\n",
       "      <td>강남점</td>\n",
       "      <td>127105</td>\n",
       "      <td>기초 화장품</td>\n",
       "      <td>화장품</td>\n",
       "      <td>3000000</td>\n",
       "    </tr>\n",
       "    <tr>\n",
       "      <th>6</th>\n",
       "      <td>0</td>\n",
       "      <td>2007-05-13 00:00:00</td>\n",
       "      <td>강남점</td>\n",
       "      <td>321101</td>\n",
       "      <td>디자이너부틱</td>\n",
       "      <td>디자이너</td>\n",
       "      <td>11264000</td>\n",
       "    </tr>\n",
       "    <tr>\n",
       "      <th>7</th>\n",
       "      <td>0</td>\n",
       "      <td>2007-05-13 00:00:00</td>\n",
       "      <td>강남점</td>\n",
       "      <td>443204</td>\n",
       "      <td>비지니스군</td>\n",
       "      <td>셔츠</td>\n",
       "      <td>975000</td>\n",
       "    </tr>\n",
       "    <tr>\n",
       "      <th>8</th>\n",
       "      <td>0</td>\n",
       "      <td>2007-06-09 00:00:00</td>\n",
       "      <td>강남점</td>\n",
       "      <td>9112</td>\n",
       "      <td>유제품</td>\n",
       "      <td>축산가공</td>\n",
       "      <td>85000</td>\n",
       "    </tr>\n",
       "    <tr>\n",
       "      <th>9</th>\n",
       "      <td>0</td>\n",
       "      <td>2007-06-09 00:00:00</td>\n",
       "      <td>강남점</td>\n",
       "      <td>72196</td>\n",
       "      <td>건강식품</td>\n",
       "      <td>건강식품</td>\n",
       "      <td>2340000</td>\n",
       "    </tr>\n",
       "  </tbody>\n",
       "</table>\n",
       "</div>"
      ],
      "text/plain": [
       "   cust_id            tran_date store_nm  goods_id gds_grp_nm  \\\n",
       "0        0  2007-01-19 00:00:00      강남점    127105     기초 화장품   \n",
       "1        0  2007-03-30 00:00:00      강남점    342220       니  트   \n",
       "2        0  2007-03-30 00:00:00      강남점    127105     기초 화장품   \n",
       "3        0  2007-03-30 00:00:00      강남점    342205       니  트   \n",
       "4        0  2007-03-30 00:00:00      강남점    342220     상품군미지정   \n",
       "5        0  2007-05-13 00:00:00      강남점    127105     기초 화장품   \n",
       "6        0  2007-05-13 00:00:00      강남점    321101     디자이너부틱   \n",
       "7        0  2007-05-13 00:00:00      강남점    443204      비지니스군   \n",
       "8        0  2007-06-09 00:00:00      강남점      9112        유제품   \n",
       "9        0  2007-06-09 00:00:00      강남점     72196       건강식품   \n",
       "\n",
       "  gds_grp_mclas_nm    amount  \n",
       "0              화장품    850000  \n",
       "1             시티웨어    480000  \n",
       "2              화장품   3000000  \n",
       "3             시티웨어    840000  \n",
       "4               기타     20000  \n",
       "5              화장품   3000000  \n",
       "6             디자이너  11264000  \n",
       "7               셔츠    975000  \n",
       "8             축산가공     85000  \n",
       "9             건강식품   2340000  "
      ]
     },
     "execution_count": 2,
     "metadata": {},
     "output_type": "execute_result"
    }
   ],
   "source": [
    "df_train = pd.read_csv('X_train.csv', encoding='cp949')\n",
    "df_test = pd.read_csv('X_test.csv', encoding='cp949')\n",
    "y_train = pd.read_csv('y_train.csv').gender\n",
    "IDtest = df_test.cust_id.unique()\n",
    "\n",
    "df_train.head(10)"
   ]
  },
  {
   "cell_type": "markdown",
   "metadata": {
    "_uuid": "8fdb273f73bbee0a8f11b33be46446b6825e9b6a"
   },
   "source": [
    "### Transform Data"
   ]
  },
  {
   "cell_type": "code",
   "execution_count": 3,
   "metadata": {
    "_uuid": "1d8108fcba83b0743ebefafd65d491e79fd1c4bd"
   },
   "outputs": [
    {
     "data": {
      "text/plain": [
       "((3500, 100), (2482, 100))"
      ]
     },
     "execution_count": 3,
     "metadata": {},
     "output_type": "execute_result"
    }
   ],
   "source": [
    "max_features = 100000\n",
    "max_len = 100\n",
    "emb_dim = 128\n",
    "\n",
    "# Converts a \"gds_grp_nm\" to a sequence of indexes in a fixed-size hashing space\n",
    "X_train = df_train.groupby('cust_id')['gds_grp_nm'].apply(lambda x: [one_hot(i, max_features)[0] for i in x]).values\n",
    "X_test = df_test.groupby('cust_id')['gds_grp_nm'].apply(lambda x: [one_hot(i, max_features)[0] for i in x]).values\n",
    "\n",
    "for i in range(X_train.shape[0]):\n",
    "    x = np.unique(X_train[i])\n",
    "    y = np.array([])\n",
    "    for j in range(5):\n",
    "        y = np.append(y, np.random.choice(x, len(x), replace=False))\n",
    "    X_train[i] = y    \n",
    "#    X_train[i] = np.random.choice(x, len(x), replace=False)\n",
    "\n",
    "for i in range(X_test.shape[0]):\n",
    "    x = np.unique(X_test[i])\n",
    "    y = np.array([])\n",
    "    for j in range(5):\n",
    "        y = np.append(y, np.random.choice(x, len(x), replace=False))\n",
    "    X_test[i] = y    \n",
    "#    X_test[i] = np.random.choice(x, len(x)*5)    \n",
    "    \n",
    "# Pads sequences to the same length\n",
    "X_train = sequence.pad_sequences(X_train, maxlen=max_len)\n",
    "X_test = sequence.pad_sequences(X_test, maxlen=max_len)\n",
    "\n",
    "X_train.shape, X_test.shape"
   ]
  },
  {
   "cell_type": "markdown",
   "metadata": {
    "_uuid": "756511749ed6b1dcd34e791c15f041d4e47f9df4"
   },
   "source": [
    "### Build Models"
   ]
  },
  {
   "cell_type": "code",
   "execution_count": 4,
   "metadata": {
    "_uuid": "0993eb2b2f5247ce304ac2a62eac2015d8f55bbe"
   },
   "outputs": [
    {
     "name": "stdout",
     "output_type": "stream",
     "text": [
      "Model: \"model_1\"\n",
      "_________________________________________________________________\n",
      "Layer (type)                 Output Shape              Param #   \n",
      "=================================================================\n",
      "forward (InputLayer)         (None, 100)               0         \n",
      "_________________________________________________________________\n",
      "embedding_1 (Embedding)      (None, 100, 128)          12800000  \n",
      "_________________________________________________________________\n",
      "conv1d_1 (Conv1D)            (None, 98, 32)            12320     \n",
      "_________________________________________________________________\n",
      "max_pooling1d_1 (MaxPooling1 (None, 32, 32)            0         \n",
      "_________________________________________________________________\n",
      "conv1d_2 (Conv1D)            (None, 30, 32)            3104      \n",
      "_________________________________________________________________\n",
      "global_max_pooling1d_1 (Glob (None, 32)                0         \n",
      "_________________________________________________________________\n",
      "dropout_1 (Dropout)          (None, 32)                0         \n",
      "_________________________________________________________________\n",
      "dense_1 (Dense)              (None, 1)                 33        \n",
      "=================================================================\n",
      "Total params: 12,815,457\n",
      "Trainable params: 12,815,457\n",
      "Non-trainable params: 0\n",
      "_________________________________________________________________\n",
      "Train on 2800 samples, validate on 700 samples\n",
      "Epoch 1/100\n",
      "2800/2800 [==============================] - 7s 2ms/step - loss: 0.6838 - acc: 0.5775 - val_loss: 0.6755 - val_acc: 0.6229\n",
      "Epoch 2/100\n",
      "2800/2800 [==============================] - 6s 2ms/step - loss: 0.6689 - acc: 0.6243 - val_loss: 0.6658 - val_acc: 0.6229\n",
      "Epoch 3/100\n",
      "2800/2800 [==============================] - 6s 2ms/step - loss: 0.6590 - acc: 0.6236 - val_loss: 0.6583 - val_acc: 0.6229\n",
      "Epoch 4/100\n",
      "2800/2800 [==============================] - 6s 2ms/step - loss: 0.6527 - acc: 0.6246 - val_loss: 0.6528 - val_acc: 0.6229\n",
      "Epoch 5/100\n",
      "2800/2800 [==============================] - 6s 2ms/step - loss: 0.6483 - acc: 0.6250 - val_loss: 0.6483 - val_acc: 0.6229\n",
      "Epoch 6/100\n",
      "2800/2800 [==============================] - 6s 2ms/step - loss: 0.6415 - acc: 0.6329 - val_loss: 0.6438 - val_acc: 0.6243\n",
      "Epoch 7/100\n",
      "2800/2800 [==============================] - 6s 2ms/step - loss: 0.6373 - acc: 0.6289 - val_loss: 0.6404 - val_acc: 0.6114\n",
      "Epoch 8/100\n",
      "2800/2800 [==============================] - 6s 2ms/step - loss: 0.6323 - acc: 0.6350 - val_loss: 0.6369 - val_acc: 0.6129\n",
      "Epoch 9/100\n",
      "2800/2800 [==============================] - 6s 2ms/step - loss: 0.6321 - acc: 0.6268 - val_loss: 0.6341 - val_acc: 0.6129\n",
      "Epoch 10/100\n",
      "2800/2800 [==============================] - 6s 2ms/step - loss: 0.6260 - acc: 0.6379 - val_loss: 0.6307 - val_acc: 0.6186\n",
      "Epoch 11/100\n",
      "2800/2800 [==============================] - 6s 2ms/step - loss: 0.6194 - acc: 0.6425 - val_loss: 0.6272 - val_acc: 0.6257\n",
      "Epoch 12/100\n",
      "2800/2800 [==============================] - 6s 2ms/step - loss: 0.6192 - acc: 0.6482 - val_loss: 0.6240 - val_acc: 0.6271\n",
      "Epoch 13/100\n",
      "2800/2800 [==============================] - 6s 2ms/step - loss: 0.6170 - acc: 0.6504 - val_loss: 0.6205 - val_acc: 0.6329\n",
      "Epoch 14/100\n",
      "2800/2800 [==============================] - 6s 2ms/step - loss: 0.6101 - acc: 0.6607 - val_loss: 0.6170 - val_acc: 0.6443\n",
      "Epoch 15/100\n",
      "2800/2800 [==============================] - 6s 2ms/step - loss: 0.6064 - acc: 0.6679 - val_loss: 0.6135 - val_acc: 0.6500\n",
      "Epoch 16/100\n",
      "2800/2800 [==============================] - 6s 2ms/step - loss: 0.5992 - acc: 0.6786 - val_loss: 0.6098 - val_acc: 0.6543\n",
      "Epoch 17/100\n",
      "2800/2800 [==============================] - 6s 2ms/step - loss: 0.5932 - acc: 0.6779 - val_loss: 0.6056 - val_acc: 0.6686\n",
      "Epoch 18/100\n",
      "2800/2800 [==============================] - 6s 2ms/step - loss: 0.5869 - acc: 0.6900 - val_loss: 0.6018 - val_acc: 0.6743\n",
      "Epoch 19/100\n",
      "2800/2800 [==============================] - 6s 2ms/step - loss: 0.5855 - acc: 0.6886 - val_loss: 0.5985 - val_acc: 0.6757\n",
      "Epoch 20/100\n",
      "2800/2800 [==============================] - 6s 2ms/step - loss: 0.5810 - acc: 0.6968 - val_loss: 0.5956 - val_acc: 0.6771\n",
      "Epoch 21/100\n",
      "2800/2800 [==============================] - 6s 2ms/step - loss: 0.5776 - acc: 0.7064 - val_loss: 0.5926 - val_acc: 0.6771\n",
      "Epoch 22/100\n",
      "2800/2800 [==============================] - 6s 2ms/step - loss: 0.5754 - acc: 0.7100 - val_loss: 0.5901 - val_acc: 0.6757\n",
      "Epoch 23/100\n",
      "2800/2800 [==============================] - 6s 2ms/step - loss: 0.5691 - acc: 0.7146 - val_loss: 0.5879 - val_acc: 0.6771\n",
      "Epoch 24/100\n",
      "2800/2800 [==============================] - 6s 2ms/step - loss: 0.5659 - acc: 0.7154 - val_loss: 0.5856 - val_acc: 0.6800\n",
      "Epoch 25/100\n",
      "2800/2800 [==============================] - 6s 2ms/step - loss: 0.5603 - acc: 0.7207 - val_loss: 0.5837 - val_acc: 0.6800\n",
      "Epoch 26/100\n",
      "2800/2800 [==============================] - 6s 2ms/step - loss: 0.5589 - acc: 0.7254 - val_loss: 0.5819 - val_acc: 0.6886\n",
      "Epoch 27/100\n",
      "2800/2800 [==============================] - 6s 2ms/step - loss: 0.5550 - acc: 0.7300 - val_loss: 0.5805 - val_acc: 0.6914\n",
      "Epoch 28/100\n",
      "2800/2800 [==============================] - 6s 2ms/step - loss: 0.5529 - acc: 0.7300 - val_loss: 0.5801 - val_acc: 0.6914\n",
      "Epoch 29/100\n",
      "2800/2800 [==============================] - 6s 2ms/step - loss: 0.5389 - acc: 0.7357 - val_loss: 0.5785 - val_acc: 0.6929\n",
      "Epoch 30/100\n",
      "2800/2800 [==============================] - 6s 2ms/step - loss: 0.5466 - acc: 0.7325 - val_loss: 0.5773 - val_acc: 0.6971\n",
      "Epoch 31/100\n",
      "2800/2800 [==============================] - 6s 2ms/step - loss: 0.5419 - acc: 0.7414 - val_loss: 0.5770 - val_acc: 0.6957\n",
      "Epoch 32/100\n",
      "2800/2800 [==============================] - 6s 2ms/step - loss: 0.5385 - acc: 0.7382 - val_loss: 0.5771 - val_acc: 0.7043\n",
      "Epoch 33/100\n",
      "2800/2800 [==============================] - 6s 2ms/step - loss: 0.5362 - acc: 0.7450 - val_loss: 0.5764 - val_acc: 0.7000\n",
      "Epoch 34/100\n",
      "2800/2800 [==============================] - 6s 2ms/step - loss: 0.5357 - acc: 0.7450 - val_loss: 0.5764 - val_acc: 0.7000\n",
      "Epoch 35/100\n",
      "2800/2800 [==============================] - 6s 2ms/step - loss: 0.5302 - acc: 0.7446 - val_loss: 0.5772 - val_acc: 0.7057\n",
      "Epoch 36/100\n",
      "2800/2800 [==============================] - 6s 2ms/step - loss: 0.5305 - acc: 0.7432 - val_loss: 0.5760 - val_acc: 0.6986\n",
      "Epoch 37/100\n",
      "2800/2800 [==============================] - 6s 2ms/step - loss: 0.5314 - acc: 0.7443 - val_loss: 0.5756 - val_acc: 0.7000\n",
      "Epoch 38/100\n",
      "2800/2800 [==============================] - 6s 2ms/step - loss: 0.5235 - acc: 0.7557 - val_loss: 0.5773 - val_acc: 0.7043\n",
      "Epoch 39/100\n",
      "2800/2800 [==============================] - 6s 2ms/step - loss: 0.5269 - acc: 0.7521 - val_loss: 0.5768 - val_acc: 0.6971\n",
      "Epoch 40/100\n",
      "2800/2800 [==============================] - 6s 2ms/step - loss: 0.5235 - acc: 0.7571 - val_loss: 0.5772 - val_acc: 0.6986\n",
      "Epoch 41/100\n",
      "2800/2800 [==============================] - 6s 2ms/step - loss: 0.5195 - acc: 0.7507 - val_loss: 0.5777 - val_acc: 0.6986\n",
      "Epoch 42/100\n",
      "2800/2800 [==============================] - 6s 2ms/step - loss: 0.5173 - acc: 0.7564 - val_loss: 0.5789 - val_acc: 0.7000\n"
     ]
    },
    {
     "data": {
      "image/png": "[encoded data removed]",
      "text/plain": [
       "<Figure size 432x288 with 1 Axes>"
      ]
     },
     "metadata": {
      "needs_background": "light"
     },
     "output_type": "display_data"
    }
   ],
   "source": [
    "from keras.models import Model\n",
    "from keras import Input\n",
    "from keras import layers\n",
    "from keras.optimizers import RMSprop\n",
    "from keras.constraints import max_norm\n",
    "from keras.callbacks import EarlyStopping\n",
    "\n",
    "# Define the Model & its Architecture\n",
    "in_f = Input(shape=(max_len,), dtype='int32', name='forward')\n",
    "x = layers.Embedding(max_features, emb_dim)(in_f)\n",
    "x = layers.Conv1D(32, 3, activation='elu')(x)\n",
    "x = layers.MaxPooling1D(3)(x)\n",
    "x = layers.Conv1D(32, 3, activation='elu')(x)\n",
    "x = layers.GlobalMaxPooling1D()(x)\n",
    "x = layers.Dropout(0.5)(x)\n",
    "out = layers.Dense(1, activation='sigmoid')(x)\n",
    "\n",
    "model = Model(in_f, out)\n",
    "model.summary()\n",
    "\n",
    "# Choose the Optimizer and the Cost function\n",
    "model.compile(optimizer=RMSprop(lr=1e-4), loss='binary_crossentropy', metrics=['acc'])\n",
    "\n",
    "# Train the Model\n",
    "history = model.fit(X_train, y_train, epochs=100, batch_size=64, \n",
    "                    validation_split=0.2, callbacks=[EarlyStopping(patience=5)])\n",
    "\n",
    "plt.plot(history.history[\"loss\"], label=\"train loss\")\n",
    "plt.plot(history.history[\"val_loss\"], label=\"validation loss\")\n",
    "plt.legend()\n",
    "plt.title(\"Loss\")\n",
    "plt.show()"
   ]
  },
  {
   "cell_type": "markdown",
   "metadata": {
    "_uuid": "842573936f8fbc2fc01cbbd7ca485be6cb3601bb"
   },
   "source": [
    "### Make Submissions"
   ]
  },
  {
   "cell_type": "code",
   "execution_count": 5,
   "metadata": {
    "_uuid": "7b6db88f3e4dee0f7f2264916edda431ac7bb72b"
   },
   "outputs": [
    {
     "name": "stdout",
     "output_type": "stream",
     "text": [
      "'conv1d_submissions.csv' is ready to submit.\n"
     ]
    }
   ],
   "source": [
    "pred = model.predict(X_test)[:,0]\n",
    "fname = 'conv1d_submissions.csv'\n",
    "submissions = pd.concat([pd.Series(IDtest, name=\"cust_id\"), pd.Series(pred, name=\"gender\")] ,axis=1)\n",
    "submissions.to_csv(fname, index=False)\n",
    "print(\"'{}' is ready to submit.\" .format(fname))"
   ]
  },
  {
   "cell_type": "markdown",
   "metadata": {
    "_uuid": "db6a418af5947fb6d1546dc8949ac55663504f18"
   },
   "source": [
    "## End"
   ]
  }
 ],
 "metadata": {
  "kernelspec": {
   "display_name": "Python 3",
   "language": "python",
   "name": "python3"
  },
  "language_info": {
   "codemirror_mode": {
    "name": "ipython",
    "version": 3
   },
   "file_extension": ".py",
   "mimetype": "text/x-python",
   "name": "python",
   "nbconvert_exporter": "python",
   "pygments_lexer": "ipython3",
   "version": "3.7.6"
  }
 },
 "nbformat": 4,
 "nbformat_minor": 1
}
