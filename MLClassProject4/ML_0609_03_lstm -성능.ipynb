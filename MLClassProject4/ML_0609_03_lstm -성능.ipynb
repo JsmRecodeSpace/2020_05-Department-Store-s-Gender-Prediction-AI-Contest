{
 "cells": [
  {
   "cell_type": "markdown",
   "metadata": {
    "_uuid": "93b41229599509f643f1c1df3b86b3f79b66666f"
   },
   "source": [
    "## This model has the following characteristics:\n",
    "* No feature engineering\n",
    "* Applying 3 bidirectional LSTM models to raw transactions"
   ]
  },
  {
   "cell_type": "code",
   "execution_count": 1,
   "metadata": {
    "_uuid": "85c00856a546e025e3808d93793f66e590a40567"
   },
   "outputs": [
    {
     "name": "stderr",
     "output_type": "stream",
     "text": [
      "Using TensorFlow backend.\n"
     ]
    }
   ],
   "source": [
    "# Data Wrangling\n",
    "import pandas as pd\n",
    "from pandas import Series, DataFrame\n",
    "import numpy as np\n",
    "\n",
    "# Visualization\n",
    "import seaborn as sns\n",
    "import matplotlib.pylab as plt\n",
    "from matplotlib import font_manager, rc\n",
    "\n",
    "# Preprocessing\n",
    "from sklearn.model_selection import train_test_split\n",
    "from sklearn.preprocessing import OneHotEncoder\n",
    "from sklearn.decomposition import PCA\n",
    "from sklearn.impute import SimpleImputer\n",
    "from sklearn.preprocessing import MinMaxScaler\n",
    "from sklearn.preprocessing import StandardScaler\n",
    "from sklearn.compose import make_column_transformer\n",
    "from sklearn.pipeline import Pipeline\n",
    "from sklearn.pipeline import make_pipeline\n",
    "from sklearn.pipeline import FeatureUnion\n",
    "\n",
    "from sklearn.feature_selection import SelectFromModel\n",
    "from sklearn.feature_selection import SelectKBest\n",
    "from sklearn.feature_selection import SelectPercentile\n",
    "from sklearn.preprocessing import PolynomialFeatures\n",
    "\n",
    "# Modeling\n",
    "from sklearn.model_selection import GridSearchCV\n",
    "from sklearn.model_selection import RandomizedSearchCV\n",
    "\n",
    "from sklearn.dummy import DummyClassifier\n",
    "from sklearn.linear_model import LogisticRegression\n",
    "from sklearn.neighbors import KNeighborsClassifier\n",
    "from sklearn.ensemble import BaggingClassifier\n",
    "from sklearn.ensemble import RandomForestClassifier\n",
    "from sklearn.ensemble import AdaBoostClassifier\n",
    "from sklearn.neural_network import MLPClassifier\n",
    "from sklearn.tree import DecisionTreeClassifier\n",
    "from sklearn.ensemble import GradientBoostingClassifier\n",
    "from sklearn.svm import SVC\n",
    "from xgboost import XGBClassifier\n",
    "from lightgbm import LGBMClassifier\n",
    "\n",
    "from sklearn.ensemble import VotingClassifier\n",
    "from vecstack import stacking\n",
    "from scipy.stats.mstats import gmean\n",
    "\n",
    "# Evaluation\n",
    "from sklearn.metrics import roc_auc_score\n",
    "from sklearn.metrics import accuracy_score\n",
    "from sklearn.metrics import average_precision_score\n",
    "from sklearn.model_selection import cross_val_score\n",
    "from sklearn.model_selection import StratifiedKFold\n",
    "from sklearn.model_selection import KFold\n",
    "from sklearn.metrics import confusion_matrix\n",
    "from sklearn.metrics import classification_report\n",
    "from sklearn.metrics import roc_curve\n",
    "from sklearn.metrics import auc\n",
    "from sklearn.metrics import precision_recall_curve\n",
    "from sklearn.model_selection import LeaveOneOut\n",
    "from sklearn.model_selection import ShuffleSplit\n",
    "\n",
    "# Utility\n",
    "import os\n",
    "import time\n",
    "import random\n",
    "import warnings; warnings.filterwarnings(\"ignore\")\n",
    "from IPython.display import Image\n",
    "from sklearn.externals import joblib\n",
    "import pickle\n",
    "from itertools import combinations\n",
    "import gc\n",
    "from tqdm import tqdm\n",
    "import platform\n",
    "\n",
    "# Keras\n",
    "import tensorflow as tf\n",
    "# Tensorflow warning off\n",
    "if tf.__version__[0] < '2':\n",
    "    os.environ['TF_CPP_MIN_LOG_LEVEL'] = '3'\n",
    "    tf.logging.set_verbosity(tf.logging.ERROR)\n",
    "import keras\n",
    "from keras import backend as K\n",
    "from keras.layers import * #Input, Dense\n",
    "from keras.models import * #Model\n",
    "from keras.optimizers import *\n",
    "from keras.initializers import *\n",
    "from keras.regularizers import *\n",
    "from keras.constraints import *\n",
    "from keras.utils.np_utils import *\n",
    "from keras.utils.vis_utils import * #model_to_dot\n",
    "from keras.preprocessing.image import *\n",
    "from keras.preprocessing.text import one_hot\n",
    "from keras.preprocessing.sequence import pad_sequences\n",
    "from keras.callbacks import *\n",
    "\n",
    "from keras.models import Model, Sequential\n",
    "from keras import Input\n",
    "from keras import layers\n",
    "from keras.optimizers import RMSprop\n",
    "from keras.constraints import max_norm\n",
    "from keras.callbacks import EarlyStopping\n"
   ]
  },
  {
   "cell_type": "markdown",
   "metadata": {
    "_uuid": "dd7e3527fd56e5b5855c6846ca226f5f860f725b"
   },
   "source": [
    "### Read Data"
   ]
  },
  {
   "cell_type": "code",
   "execution_count": 2,
   "metadata": {
    "_uuid": "794123064b09797f51add356a676fb6a7aed015d"
   },
   "outputs": [
    {
     "data": {
      "text/html": [
       "<div>\n",
       "<style scoped>\n",
       "    .dataframe tbody tr th:only-of-type {\n",
       "        vertical-align: middle;\n",
       "    }\n",
       "\n",
       "    .dataframe tbody tr th {\n",
       "        vertical-align: top;\n",
       "    }\n",
       "\n",
       "    .dataframe thead th {\n",
       "        text-align: right;\n",
       "    }\n",
       "</style>\n",
       "<table border=\"1\" class=\"dataframe\">\n",
       "  <thead>\n",
       "    <tr style=\"text-align: right;\">\n",
       "      <th></th>\n",
       "      <th>cust_id</th>\n",
       "      <th>tran_date</th>\n",
       "      <th>store_nm</th>\n",
       "      <th>goods_id</th>\n",
       "      <th>gds_grp_nm</th>\n",
       "      <th>gds_grp_mclas_nm</th>\n",
       "      <th>amount</th>\n",
       "    </tr>\n",
       "  </thead>\n",
       "  <tbody>\n",
       "    <tr>\n",
       "      <th>0</th>\n",
       "      <td>0</td>\n",
       "      <td>2007-01-19 00:00:00</td>\n",
       "      <td>강남점</td>\n",
       "      <td>127105</td>\n",
       "      <td>기초 화장품</td>\n",
       "      <td>화장품</td>\n",
       "      <td>850000</td>\n",
       "    </tr>\n",
       "    <tr>\n",
       "      <th>1</th>\n",
       "      <td>0</td>\n",
       "      <td>2007-03-30 00:00:00</td>\n",
       "      <td>강남점</td>\n",
       "      <td>342220</td>\n",
       "      <td>니  트</td>\n",
       "      <td>시티웨어</td>\n",
       "      <td>480000</td>\n",
       "    </tr>\n",
       "    <tr>\n",
       "      <th>2</th>\n",
       "      <td>0</td>\n",
       "      <td>2007-03-30 00:00:00</td>\n",
       "      <td>강남점</td>\n",
       "      <td>127105</td>\n",
       "      <td>기초 화장품</td>\n",
       "      <td>화장품</td>\n",
       "      <td>3000000</td>\n",
       "    </tr>\n",
       "    <tr>\n",
       "      <th>3</th>\n",
       "      <td>0</td>\n",
       "      <td>2007-03-30 00:00:00</td>\n",
       "      <td>강남점</td>\n",
       "      <td>342205</td>\n",
       "      <td>니  트</td>\n",
       "      <td>시티웨어</td>\n",
       "      <td>840000</td>\n",
       "    </tr>\n",
       "    <tr>\n",
       "      <th>4</th>\n",
       "      <td>0</td>\n",
       "      <td>2007-03-30 00:00:00</td>\n",
       "      <td>강남점</td>\n",
       "      <td>342220</td>\n",
       "      <td>상품군미지정</td>\n",
       "      <td>기타</td>\n",
       "      <td>20000</td>\n",
       "    </tr>\n",
       "    <tr>\n",
       "      <th>5</th>\n",
       "      <td>0</td>\n",
       "      <td>2007-05-13 00:00:00</td>\n",
       "      <td>강남점</td>\n",
       "      <td>127105</td>\n",
       "      <td>기초 화장품</td>\n",
       "      <td>화장품</td>\n",
       "      <td>3000000</td>\n",
       "    </tr>\n",
       "    <tr>\n",
       "      <th>6</th>\n",
       "      <td>0</td>\n",
       "      <td>2007-05-13 00:00:00</td>\n",
       "      <td>강남점</td>\n",
       "      <td>321101</td>\n",
       "      <td>디자이너부틱</td>\n",
       "      <td>디자이너</td>\n",
       "      <td>11264000</td>\n",
       "    </tr>\n",
       "    <tr>\n",
       "      <th>7</th>\n",
       "      <td>0</td>\n",
       "      <td>2007-05-13 00:00:00</td>\n",
       "      <td>강남점</td>\n",
       "      <td>443204</td>\n",
       "      <td>비지니스군</td>\n",
       "      <td>셔츠</td>\n",
       "      <td>975000</td>\n",
       "    </tr>\n",
       "    <tr>\n",
       "      <th>8</th>\n",
       "      <td>0</td>\n",
       "      <td>2007-06-09 00:00:00</td>\n",
       "      <td>강남점</td>\n",
       "      <td>9112</td>\n",
       "      <td>유제품</td>\n",
       "      <td>축산가공</td>\n",
       "      <td>85000</td>\n",
       "    </tr>\n",
       "    <tr>\n",
       "      <th>9</th>\n",
       "      <td>0</td>\n",
       "      <td>2007-06-09 00:00:00</td>\n",
       "      <td>강남점</td>\n",
       "      <td>72196</td>\n",
       "      <td>건강식품</td>\n",
       "      <td>건강식품</td>\n",
       "      <td>2340000</td>\n",
       "    </tr>\n",
       "  </tbody>\n",
       "</table>\n",
       "</div>"
      ],
      "text/plain": [
       "   cust_id            tran_date store_nm  goods_id gds_grp_nm  \\\n",
       "0        0  2007-01-19 00:00:00      강남점    127105     기초 화장품   \n",
       "1        0  2007-03-30 00:00:00      강남점    342220       니  트   \n",
       "2        0  2007-03-30 00:00:00      강남점    127105     기초 화장품   \n",
       "3        0  2007-03-30 00:00:00      강남점    342205       니  트   \n",
       "4        0  2007-03-30 00:00:00      강남점    342220     상품군미지정   \n",
       "5        0  2007-05-13 00:00:00      강남점    127105     기초 화장품   \n",
       "6        0  2007-05-13 00:00:00      강남점    321101     디자이너부틱   \n",
       "7        0  2007-05-13 00:00:00      강남점    443204      비지니스군   \n",
       "8        0  2007-06-09 00:00:00      강남점      9112        유제품   \n",
       "9        0  2007-06-09 00:00:00      강남점     72196       건강식품   \n",
       "\n",
       "  gds_grp_mclas_nm    amount  \n",
       "0              화장품    850000  \n",
       "1             시티웨어    480000  \n",
       "2              화장품   3000000  \n",
       "3             시티웨어    840000  \n",
       "4               기타     20000  \n",
       "5              화장품   3000000  \n",
       "6             디자이너  11264000  \n",
       "7               셔츠    975000  \n",
       "8             축산가공     85000  \n",
       "9             건강식품   2340000  "
      ]
     },
     "execution_count": 2,
     "metadata": {},
     "output_type": "execute_result"
    }
   ],
   "source": [
    "df_train = pd.read_csv('X_train.csv', encoding='cp949')\n",
    "df_test = pd.read_csv('X_test.csv', encoding='cp949')\n",
    "y_train = pd.read_csv('y_train.csv').gender\n",
    "IDtest = df_test.cust_id.unique()\n",
    "\n",
    "df_train.head(10)"
   ]
  },
  {
   "cell_type": "markdown",
   "metadata": {
    "_uuid": "8fdb273f73bbee0a8f11b33be46446b6825e9b6a"
   },
   "source": [
    "### Transform Data"
   ]
  },
  {
   "cell_type": "code",
   "execution_count": 4,
   "metadata": {
    "_uuid": "079f898dfc7067c71be246a08f80e7d9a411006b"
   },
   "outputs": [],
   "source": [
    "max_features = 100000\n",
    "max_len = 100\n",
    "emb_dim = 128"
   ]
  },
  {
   "cell_type": "markdown",
   "metadata": {
    "_uuid": "e4c057c1c61700fbd2a8480c39c25e69afeaabf4"
   },
   "source": [
    "##### middle level: gds_grp_nm"
   ]
  },
  {
   "cell_type": "code",
   "execution_count": 5,
   "metadata": {
    "_uuid": "1d8108fcba83b0743ebefafd65d491e79fd1c4bd"
   },
   "outputs": [
    {
     "data": {
      "text/plain": [
       "((3500, 100), (2482, 100))"
      ]
     },
     "execution_count": 5,
     "metadata": {},
     "output_type": "execute_result"
    }
   ],
   "source": [
    "# Converts a \"gds_grp_nm\" to a sequence of indexes in a fixed-size hashing space\n",
    "X_train = df_train.groupby('cust_id')['gds_grp_nm'].apply(lambda x: [one_hot(i, max_features//10)[0] for i in x]).values\n",
    "X_test = df_test.groupby('cust_id')['gds_grp_nm'].apply(lambda x: [one_hot(i, max_features//10)[0] for i in x]).values\n",
    "\n",
    "# Pads sequences to the same length\n",
    "X_train_mid = pad_sequences(X_train, maxlen=max_len)\n",
    "X_test_mid = pad_sequences(X_test, maxlen=max_len)\n",
    "\n",
    "X_train_mid.shape, X_test_mid.shape"
   ]
  },
  {
   "cell_type": "markdown",
   "metadata": {
    "_uuid": "756511749ed6b1dcd34e791c15f041d4e47f9df4"
   },
   "source": [
    "### Build Bidirectional LSTMs"
   ]
  },
  {
   "cell_type": "code",
   "execution_count": 6,
   "metadata": {},
   "outputs": [],
   "source": [
    "i = int(round(X_train_mid.shape[0] * 0.8, 0))\n",
    "X_valid, y_valid = X_train_mid[i:], y_train[i:]\n",
    "X_train, y_train = X_train_mid[:i], y_train[:i]"
   ]
  },
  {
   "cell_type": "code",
   "execution_count": 7,
   "metadata": {
    "_uuid": "5e470379b59e72b66cc024f62ba5ac514f7cf15b",
    "scrolled": false
   },
   "outputs": [
    {
     "name": "stdout",
     "output_type": "stream",
     "text": [
      "Model: \"model_1\"\n",
      "_________________________________________________________________\n",
      "Layer (type)                 Output Shape              Param #   \n",
      "=================================================================\n",
      "mid (InputLayer)             (None, 100)               0         \n",
      "_________________________________________________________________\n",
      "embedding_1 (Embedding)      (None, 100, 128)          1280000   \n",
      "_________________________________________________________________\n",
      "bidirectional_1 (Bidirection (None, 32)                18560     \n",
      "_________________________________________________________________\n",
      "dense_1 (Dense)              (None, 1)                 33        \n",
      "=================================================================\n",
      "Total params: 1,298,593\n",
      "Trainable params: 1,298,593\n",
      "Non-trainable params: 0\n",
      "_________________________________________________________________\n",
      "Train on 2800 samples, validate on 700 samples\n",
      "Epoch 1/50\n",
      "2800/2800 [==============================] - 8s 3ms/step - loss: 0.6827 - acc: 0.6229 - val_loss: 0.6764 - val_acc: 0.6229\n",
      "Epoch 2/50\n",
      "2800/2800 [==============================] - 6s 2ms/step - loss: 0.6714 - acc: 0.6243 - val_loss: 0.6664 - val_acc: 0.6229\n",
      "Epoch 3/50\n",
      "2800/2800 [==============================] - 7s 2ms/step - loss: 0.6615 - acc: 0.6243 - val_loss: 0.6572 - val_acc: 0.6229\n",
      "Epoch 4/50\n",
      "2800/2800 [==============================] - 7s 3ms/step - loss: 0.6517 - acc: 0.6243 - val_loss: 0.6481 - val_acc: 0.6229\n",
      "Epoch 5/50\n",
      "2800/2800 [==============================] - 7s 3ms/step - loss: 0.6408 - acc: 0.6243 - val_loss: 0.6383 - val_acc: 0.6229\n",
      "Epoch 6/50\n",
      "2800/2800 [==============================] - 7s 2ms/step - loss: 0.6299 - acc: 0.6271 - val_loss: 0.6295 - val_acc: 0.6286\n",
      "Epoch 7/50\n",
      "2800/2800 [==============================] - 7s 2ms/step - loss: 0.6207 - acc: 0.6557 - val_loss: 0.6233 - val_acc: 0.6471\n",
      "Epoch 8/50\n",
      "2800/2800 [==============================] - 7s 2ms/step - loss: 0.6141 - acc: 0.6568 - val_loss: 0.6184 - val_acc: 0.6586\n",
      "Epoch 9/50\n",
      "2800/2800 [==============================] - 7s 3ms/step - loss: 0.6080 - acc: 0.6568 - val_loss: 0.6133 - val_acc: 0.6586\n",
      "Epoch 10/50\n",
      "2800/2800 [==============================] - 7s 2ms/step - loss: 0.6021 - acc: 0.6632 - val_loss: 0.6087 - val_acc: 0.6657\n",
      "Epoch 11/50\n",
      "2800/2800 [==============================] - 7s 3ms/step - loss: 0.5958 - acc: 0.6643 - val_loss: 0.6034 - val_acc: 0.6729\n",
      "Epoch 12/50\n",
      "2800/2800 [==============================] - 7s 3ms/step - loss: 0.5893 - acc: 0.6739 - val_loss: 0.5989 - val_acc: 0.6786\n",
      "Epoch 13/50\n",
      "2800/2800 [==============================] - 7s 3ms/step - loss: 0.5836 - acc: 0.6932 - val_loss: 0.5950 - val_acc: 0.6786\n",
      "Epoch 14/50\n",
      "2800/2800 [==============================] - 7s 3ms/step - loss: 0.5782 - acc: 0.7071 - val_loss: 0.5916 - val_acc: 0.6786\n",
      "Epoch 15/50\n",
      "2800/2800 [==============================] - 7s 3ms/step - loss: 0.5733 - acc: 0.7139 - val_loss: 0.5884 - val_acc: 0.6857\n",
      "Epoch 16/50\n",
      "2800/2800 [==============================] - 7s 3ms/step - loss: 0.5686 - acc: 0.7239 - val_loss: 0.5866 - val_acc: 0.7000\n",
      "Epoch 17/50\n",
      "2800/2800 [==============================] - 7s 3ms/step - loss: 0.5644 - acc: 0.7196 - val_loss: 0.5836 - val_acc: 0.6986\n",
      "Epoch 18/50\n",
      "2800/2800 [==============================] - 7s 3ms/step - loss: 0.5601 - acc: 0.7314 - val_loss: 0.5851 - val_acc: 0.6871\n",
      "Epoch 19/50\n",
      "2800/2800 [==============================] - 7s 2ms/step - loss: 0.5575 - acc: 0.7304 - val_loss: 0.5808 - val_acc: 0.7086\n",
      "Epoch 20/50\n",
      "2800/2800 [==============================] - 7s 3ms/step - loss: 0.5545 - acc: 0.7307 - val_loss: 0.5790 - val_acc: 0.7029\n",
      "Epoch 21/50\n",
      "2800/2800 [==============================] - 7s 3ms/step - loss: 0.5518 - acc: 0.7329 - val_loss: 0.5783 - val_acc: 0.7000\n",
      "Epoch 22/50\n",
      "2800/2800 [==============================] - 7s 3ms/step - loss: 0.5491 - acc: 0.7375 - val_loss: 0.5770 - val_acc: 0.7043\n",
      "Epoch 23/50\n",
      "2800/2800 [==============================] - 7s 3ms/step - loss: 0.5469 - acc: 0.7400 - val_loss: 0.5766 - val_acc: 0.6986\n",
      "Epoch 24/50\n",
      "2800/2800 [==============================] - 7s 3ms/step - loss: 0.5445 - acc: 0.7336 - val_loss: 0.5761 - val_acc: 0.7071\n",
      "Epoch 25/50\n",
      "2800/2800 [==============================] - 7s 2ms/step - loss: 0.5418 - acc: 0.7414 - val_loss: 0.5782 - val_acc: 0.7071\n",
      "Epoch 26/50\n",
      "2800/2800 [==============================] - 7s 3ms/step - loss: 0.5402 - acc: 0.7450 - val_loss: 0.5779 - val_acc: 0.7114\n",
      "Epoch 27/50\n",
      "2800/2800 [==============================] - 6s 2ms/step - loss: 0.5395 - acc: 0.7454 - val_loss: 0.5771 - val_acc: 0.7014\n",
      "Epoch 28/50\n",
      "2800/2800 [==============================] - 7s 3ms/step - loss: 0.5377 - acc: 0.7432 - val_loss: 0.5758 - val_acc: 0.6886\n",
      "Epoch 29/50\n",
      "2800/2800 [==============================] - 8s 3ms/step - loss: 0.5358 - acc: 0.7479 - val_loss: 0.5779 - val_acc: 0.6943\n",
      "Epoch 30/50\n",
      "2800/2800 [==============================] - 7s 3ms/step - loss: 0.5353 - acc: 0.7457 - val_loss: 0.5763 - val_acc: 0.6829\n",
      "Epoch 31/50\n",
      "2800/2800 [==============================] - 7s 3ms/step - loss: 0.5342 - acc: 0.7425 - val_loss: 0.5777 - val_acc: 0.6943\n",
      "Epoch 32/50\n",
      "2800/2800 [==============================] - 7s 3ms/step - loss: 0.5329 - acc: 0.7454 - val_loss: 0.5754 - val_acc: 0.7014\n",
      "Epoch 33/50\n",
      "2800/2800 [==============================] - 7s 3ms/step - loss: 0.5313 - acc: 0.7482 - val_loss: 0.5755 - val_acc: 0.6986\n",
      "Epoch 34/50\n",
      "2800/2800 [==============================] - 8s 3ms/step - loss: 0.5308 - acc: 0.7479 - val_loss: 0.5779 - val_acc: 0.6957\n",
      "Epoch 35/50\n",
      "2800/2800 [==============================] - 8s 3ms/step - loss: 0.5289 - acc: 0.7496 - val_loss: 0.5767 - val_acc: 0.6743\n",
      "Epoch 36/50\n",
      "2800/2800 [==============================] - 7s 3ms/step - loss: 0.5289 - acc: 0.7439 - val_loss: 0.5785 - val_acc: 0.7000\n",
      "Epoch 37/50\n",
      "2800/2800 [==============================] - 7s 3ms/step - loss: 0.5280 - acc: 0.7457 - val_loss: 0.5783 - val_acc: 0.6686\n"
     ]
    },
    {
     "data": {
      "image/png": "[encoded data removed]",
      "text/plain": [
       "<Figure size 432x288 with 1 Axes>"
      ]
     },
     "metadata": {
      "needs_background": "light"
     },
     "output_type": "display_data"
    },
    {
     "name": "stdout",
     "output_type": "stream",
     "text": [
      "0.7410646024464832\n"
     ]
    }
   ],
   "source": [
    "# Define the Model & its Architecture\n",
    "# in_low = Input(shape=(max_len,), dtype='int32', name='low')\n",
    "# x = Embedding(max_features, emb_dim)(in_low)\n",
    "# out_low = Bidirectional(LSTM(16))(x)\n",
    "\n",
    "in_mid = Input(shape=(max_len,), dtype='int32', name='mid')\n",
    "x = Embedding(max_features//10, emb_dim)(in_mid)\n",
    "out_mid = Bidirectional(LSTM(16))(x)\n",
    "\n",
    "# in_high = Input(shape=(max_len,), dtype='int32', name='high')\n",
    "# x = Embedding(max_features//100, emb_dim)(in_high)\n",
    "# out_high = Bidirectional(LSTM(16))(x)\n",
    "\n",
    "\n",
    "\n",
    "x = out_mid\n",
    "out = Dense(1, activation='sigmoid')(x)\n",
    "\n",
    "model = Model(in_mid, out)\n",
    "model.summary()\n",
    "\n",
    "# Choose the Optimizer and the Cost function\n",
    "model.compile(optimizer=RMSprop(lr=1e-4), loss='binary_crossentropy', metrics=['acc'])\n",
    "\n",
    "# Train the Model\n",
    "history = model.fit(X_train, y_train, epochs=50, batch_size=64, \n",
    "                    validation_data=(X_valid, y_valid), callbacks=[EarlyStopping(patience=5)])\n",
    "\n",
    "plt.plot(history.history[\"loss\"], label=\"train loss\")\n",
    "plt.plot(history.history[\"val_loss\"], label=\"validation loss\")\n",
    "plt.legend()\n",
    "plt.title(\"Loss\")\n",
    "plt.show()\n",
    "\n",
    "\n",
    "\n",
    "print(roc_auc_score(y_valid, model.predict(X_valid)))"
   ]
  },
  {
   "cell_type": "markdown",
   "metadata": {
    "_uuid": "842573936f8fbc2fc01cbbd7ca485be6cb3601bb"
   },
   "source": [
    "### Make Submissions"
   ]
  },
  {
   "cell_type": "code",
   "execution_count": 8,
   "metadata": {
    "_uuid": "7b6db88f3e4dee0f7f2264916edda431ac7bb72b"
   },
   "outputs": [
    {
     "name": "stdout",
     "output_type": "stream",
     "text": [
      "'bilstm_submissions.csv' is ready to submit.\n"
     ]
    }
   ],
   "source": [
    "pred = model.predict([X_test_low, X_test_mid, X_test_high])[:,0]\n",
    "fname = 'bilstm_submissions.csv'\n",
    "submissions = pd.concat([pd.Series(IDtest, name=\"cust_id\"), pd.Series(pred, name=\"gender\")] ,axis=1)\n",
    "submissions.to_csv(fname, index=False)\n",
    "print(\"'{}' is ready to submit.\" .format(fname))"
   ]
  },
  {
   "cell_type": "markdown",
   "metadata": {
    "_uuid": "db6a418af5947fb6d1546dc8949ac55663504f18"
   },
   "source": [
    "## End"
   ]
  }
 ],
 "metadata": {
  "kernelspec": {
   "display_name": "Python 3",
   "language": "python",
   "name": "python3"
  },
  "language_info": {
   "codemirror_mode": {
    "name": "ipython",
    "version": 3
   },
   "file_extension": ".py",
   "mimetype": "text/x-python",
   "name": "python",
   "nbconvert_exporter": "python",
   "pygments_lexer": "ipython3",
   "version": "3.7.6"
  }
 },
 "nbformat": 4,
 "nbformat_minor": 1
}
