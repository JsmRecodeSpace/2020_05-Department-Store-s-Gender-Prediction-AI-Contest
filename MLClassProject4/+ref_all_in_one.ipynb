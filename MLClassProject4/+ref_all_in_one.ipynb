{
 "cells": [
  {
   "cell_type": "markdown",
   "metadata": {
    "_cell_guid": "b1076dfc-b9ad-4769-8c92-a6c4dae69d19",
    "_uuid": "8f2839f25d086af736a60e9eeb907d3b93b6e0e5"
   },
   "source": [
    "<font color='tomato'><font color=\"#CC3D3D\"><p>\n",
    "# All-in-One Model without Ensemble\n",
    "\n",
    "<img align='left' src='http://drive.google.com/uc?export=view&id=11E7qOZLk71hpWdhp3avlT4OkxIwme6it' width=800>"
   ]
  },
  {
   "cell_type": "markdown",
   "metadata": {},
   "source": [
    "### Imports"
   ]
  },
  {
   "cell_type": "code",
   "execution_count": 1,
   "metadata": {
    "_cell_guid": "79c7e3d0-c299-4dcb-8224-4455121ee9b0",
    "_uuid": "d629ff2d2480ee46fbb7e2d37f6b5fab8052498a"
   },
   "outputs": [],
   "source": [
    "import pandas as pd\n",
    "import numpy as np\n",
    "import featuretools as ft"
   ]
  },
  {
   "cell_type": "code",
   "execution_count": 38,
   "metadata": {
    "_uuid": "b74e98f208c98be8288ec42fa3645368d237e6c1"
   },
   "outputs": [],
   "source": [
    "import matplotlib.pyplot as plt\n",
    "%matplotlib inline\n",
    "import keras\n",
    "\n",
    "from keras.preprocessing import sequence\n",
    "from keras.preprocessing.text import *"
   ]
  },
  {
   "cell_type": "code",
   "execution_count": 3,
   "metadata": {
    "_uuid": "3355c71e1b8201570b58349b5e49efdabef026e1"
   },
   "outputs": [],
   "source": [
    "from keras.models import Model\n",
    "from keras import Input\n",
    "from keras import layers\n",
    "from keras import regularizers\n",
    "from keras.optimizers import RMSprop\n",
    "from keras.constraints import max_norm\n",
    "from keras.callbacks import EarlyStopping"
   ]
  },
  {
   "cell_type": "markdown",
   "metadata": {
    "_uuid": "21741c6707fa671e08a62a5df9fe547035cdb3f7"
   },
   "source": [
    "### Read data"
   ]
  },
  {
   "cell_type": "code",
   "execution_count": 4,
   "metadata": {
    "_uuid": "7f6ff947acd47f8d6cca4d28f3c07ef76c1ef357"
   },
   "outputs": [
    {
     "data": {
      "text/html": [
       "<div>\n",
       "<style scoped>\n",
       "    .dataframe tbody tr th:only-of-type {\n",
       "        vertical-align: middle;\n",
       "    }\n",
       "\n",
       "    .dataframe tbody tr th {\n",
       "        vertical-align: top;\n",
       "    }\n",
       "\n",
       "    .dataframe thead th {\n",
       "        text-align: right;\n",
       "    }\n",
       "</style>\n",
       "<table border=\"1\" class=\"dataframe\">\n",
       "  <thead>\n",
       "    <tr style=\"text-align: right;\">\n",
       "      <th></th>\n",
       "      <th>cust_id</th>\n",
       "      <th>tran_date</th>\n",
       "      <th>store_nm</th>\n",
       "      <th>goods_id</th>\n",
       "      <th>gds_grp_nm</th>\n",
       "      <th>gds_grp_mclas_nm</th>\n",
       "      <th>amount</th>\n",
       "    </tr>\n",
       "  </thead>\n",
       "  <tbody>\n",
       "    <tr>\n",
       "      <th>0</th>\n",
       "      <td>0</td>\n",
       "      <td>2007-01-19 00:00:00</td>\n",
       "      <td>강남점</td>\n",
       "      <td>127105</td>\n",
       "      <td>기초 화장품</td>\n",
       "      <td>화장품</td>\n",
       "      <td>850000</td>\n",
       "    </tr>\n",
       "    <tr>\n",
       "      <th>1</th>\n",
       "      <td>0</td>\n",
       "      <td>2007-03-30 00:00:00</td>\n",
       "      <td>강남점</td>\n",
       "      <td>342220</td>\n",
       "      <td>니  트</td>\n",
       "      <td>시티웨어</td>\n",
       "      <td>480000</td>\n",
       "    </tr>\n",
       "    <tr>\n",
       "      <th>2</th>\n",
       "      <td>0</td>\n",
       "      <td>2007-03-30 00:00:00</td>\n",
       "      <td>강남점</td>\n",
       "      <td>127105</td>\n",
       "      <td>기초 화장품</td>\n",
       "      <td>화장품</td>\n",
       "      <td>3000000</td>\n",
       "    </tr>\n",
       "    <tr>\n",
       "      <th>3</th>\n",
       "      <td>0</td>\n",
       "      <td>2007-03-30 00:00:00</td>\n",
       "      <td>강남점</td>\n",
       "      <td>342205</td>\n",
       "      <td>니  트</td>\n",
       "      <td>시티웨어</td>\n",
       "      <td>840000</td>\n",
       "    </tr>\n",
       "    <tr>\n",
       "      <th>4</th>\n",
       "      <td>0</td>\n",
       "      <td>2007-03-30 00:00:00</td>\n",
       "      <td>강남점</td>\n",
       "      <td>342220</td>\n",
       "      <td>상품군미지정</td>\n",
       "      <td>기타</td>\n",
       "      <td>20000</td>\n",
       "    </tr>\n",
       "  </tbody>\n",
       "</table>\n",
       "</div>"
      ],
      "text/plain": [
       "   cust_id            tran_date store_nm  goods_id gds_grp_nm  \\\n",
       "0        0  2007-01-19 00:00:00      강남점    127105     기초 화장품   \n",
       "1        0  2007-03-30 00:00:00      강남점    342220       니  트   \n",
       "2        0  2007-03-30 00:00:00      강남점    127105     기초 화장품   \n",
       "3        0  2007-03-30 00:00:00      강남점    342205       니  트   \n",
       "4        0  2007-03-30 00:00:00      강남점    342220     상품군미지정   \n",
       "\n",
       "  gds_grp_mclas_nm   amount  \n",
       "0              화장품   850000  \n",
       "1             시티웨어   480000  \n",
       "2              화장품  3000000  \n",
       "3             시티웨어   840000  \n",
       "4               기타    20000  "
      ]
     },
     "execution_count": 4,
     "metadata": {},
     "output_type": "execute_result"
    }
   ],
   "source": [
    "df_train = pd.read_csv('X_train.csv', encoding='cp949')\n",
    "df_test = pd.read_csv('X_test.csv', encoding='cp949')\n",
    "y_train = pd.read_csv('y_train.csv').gender\n",
    "IDtest = df_test.cust_id.unique()\n",
    "\n",
    "df_train.head()"
   ]
  },
  {
   "cell_type": "markdown",
   "metadata": {
    "_uuid": "1daec9d33982f672de79a5d8b1a4a4900cd2c419"
   },
   "source": [
    "## 1) Categorical"
   ]
  },
  {
   "cell_type": "markdown",
   "metadata": {
    "_uuid": "a10a1185b7b3103d00fd2eb34c724cc43bba1f97"
   },
   "source": [
    "### Transform data"
   ]
  },
  {
   "cell_type": "code",
   "execution_count": 5,
   "metadata": {
    "_uuid": "fef44b00e2a95b926574cda5692eebf81348977e"
   },
   "outputs": [],
   "source": [
    "max_features = 100000\n",
    "max_len = 100\n",
    "emb_dim = 128 "
   ]
  },
  {
   "cell_type": "markdown",
   "metadata": {
    "_uuid": "d831e0f64e79e08a950200b5ded75579927e1ef8"
   },
   "source": [
    "* low level: goods_id"
   ]
  },
  {
   "cell_type": "code",
   "execution_count": 6,
   "metadata": {
    "_uuid": "1fc1414ab2c1d5beff3f70f9d6e2da2224ccbe53"
   },
   "outputs": [
    {
     "data": {
      "text/plain": [
       "((3500, 100), (2482, 100))"
      ]
     },
     "execution_count": 6,
     "metadata": {},
     "output_type": "execute_result"
    }
   ],
   "source": [
    "# Converts a \"goods_id\" to a sequence of indexes in a fixed-size hashing space\n",
    "df_train.goods_id = df_train.goods_id.apply(lambda x: str(x))\n",
    "df_test.goods_id = df_test.goods_id.apply(lambda x: str(x))\n",
    "X_train = df_train.groupby('cust_id')['goods_id'].apply(lambda x: [one_hot(i, max_features)[0] for i in x]).values\n",
    "X_test = df_test.groupby('cust_id')['goods_id'].apply(lambda x: [one_hot(i, max_features)[0] for i in x]).values\n",
    "\n",
    "# Pads sequences to the same length\n",
    "X_train_low = sequence.pad_sequences(X_train, maxlen=max_len)\n",
    "X_test_low = sequence.pad_sequences(X_test, maxlen=max_len)\n",
    "\n",
    "X_train_low.shape, X_test_low.shape"
   ]
  },
  {
   "cell_type": "markdown",
   "metadata": {
    "_uuid": "0ea87879246efdff20a7a308a0ebf51b1908bcf7"
   },
   "source": [
    "* middle level: gds_grp_nm"
   ]
  },
  {
   "cell_type": "code",
   "execution_count": 7,
   "metadata": {
    "_uuid": "ac08a1ba03dbd9eeb3dacfd221b0d4a016a5aedc"
   },
   "outputs": [
    {
     "data": {
      "text/plain": [
       "((3500, 100), (2482, 100))"
      ]
     },
     "execution_count": 7,
     "metadata": {},
     "output_type": "execute_result"
    }
   ],
   "source": [
    "# Converts a \"gds_grp_nm\" to a sequence of indexes in a fixed-size hashing space\n",
    "X_train = df_train.groupby('cust_id')['gds_grp_nm'].apply(lambda x: [one_hot(i, max_features//10)[0] for i in x]).values\n",
    "X_test = df_test.groupby('cust_id')['gds_grp_nm'].apply(lambda x: [one_hot(i, max_features//10)[0] for i in x]).values\n",
    "\n",
    "# Pads sequences to the same length\n",
    "X_train_mid = sequence.pad_sequences(X_train, maxlen=max_len)\n",
    "X_test_mid = sequence.pad_sequences(X_test, maxlen=max_len)\n",
    "\n",
    "X_train_mid.shape, X_test_mid.shape"
   ]
  },
  {
   "cell_type": "markdown",
   "metadata": {
    "_uuid": "5f276e7782395fb69874b46fdc2d4c381fdb5c04"
   },
   "source": [
    "* high level: gds_grp_mclas_nm"
   ]
  },
  {
   "cell_type": "code",
   "execution_count": 8,
   "metadata": {
    "_uuid": "f26baca19972b486a3d4c074a9f72fe55c1260f9"
   },
   "outputs": [
    {
     "data": {
      "text/plain": [
       "((3500, 100), (2482, 100))"
      ]
     },
     "execution_count": 8,
     "metadata": {},
     "output_type": "execute_result"
    }
   ],
   "source": [
    "# Converts a \"gds_grp_mclas_nm\" to a sequence of indexes in a fixed-size hashing space\n",
    "X_train = df_train.groupby('cust_id')['gds_grp_mclas_nm'].apply(lambda x: [one_hot(i, max_features//100)[0] for i in x]).values\n",
    "X_test = df_test.groupby('cust_id')['gds_grp_mclas_nm'].apply(lambda x: [one_hot(i, max_features//100)[0] for i in x]).values\n",
    "\n",
    "# Pads sequences to the same length\n",
    "X_train_high = sequence.pad_sequences(X_train, maxlen=max_len)\n",
    "X_test_high = sequence.pad_sequences(X_test, maxlen=max_len)\n",
    "\n",
    "X_train_high.shape, X_test_high.shape"
   ]
  },
  {
   "cell_type": "markdown",
   "metadata": {
    "_uuid": "c6d8e155928a7e9de4d5208d5b7696d5feae505d"
   },
   "source": [
    "* store"
   ]
  },
  {
   "cell_type": "code",
   "execution_count": 9,
   "metadata": {
    "_uuid": "e9bb661c879ab0206bed2d1e3fc62048385078a9"
   },
   "outputs": [
    {
     "data": {
      "text/plain": [
       "((3500, 100), (2482, 100))"
      ]
     },
     "execution_count": 9,
     "metadata": {},
     "output_type": "execute_result"
    }
   ],
   "source": [
    "# Converts a \"store_nm\" to a sequence of indexes in a fixed-size hashing space\n",
    "X_train = df_train.groupby('cust_id')['store_nm'].apply(lambda x: [one_hot(i, max_features//100)[0] for i in x]).values\n",
    "X_test = df_test.groupby('cust_id')['store_nm'].apply(lambda x: [one_hot(i, max_features//100)[0] for i in x]).values\n",
    "\n",
    "# Pads sequences to the same length\n",
    "X_train_str = sequence.pad_sequences(X_train, maxlen=max_len)\n",
    "X_test_str = sequence.pad_sequences(X_test, maxlen=max_len)\n",
    "\n",
    "X_train_str.shape, X_test_str.shape"
   ]
  },
  {
   "cell_type": "markdown",
   "metadata": {
    "_uuid": "12aed1aa747e9d16bba32b57f1ad83d51160a470"
   },
   "source": [
    "## 2) Numerical (Automated FE)"
   ]
  },
  {
   "cell_type": "markdown",
   "metadata": {
    "_uuid": "f61e309745e867dba0e294757dbd6e758cc8f54a"
   },
   "source": [
    "### Prepare data"
   ]
  },
  {
   "cell_type": "code",
   "execution_count": 10,
   "metadata": {
    "_uuid": "07b38d66bb02b0e8ca857fc4e5f815160e7da51e"
   },
   "outputs": [
    {
     "data": {
      "text/html": [
       "<div>\n",
       "<style scoped>\n",
       "    .dataframe tbody tr th:only-of-type {\n",
       "        vertical-align: middle;\n",
       "    }\n",
       "\n",
       "    .dataframe tbody tr th {\n",
       "        vertical-align: top;\n",
       "    }\n",
       "\n",
       "    .dataframe thead th {\n",
       "        text-align: right;\n",
       "    }\n",
       "</style>\n",
       "<table border=\"1\" class=\"dataframe\">\n",
       "  <thead>\n",
       "    <tr style=\"text-align: right;\">\n",
       "      <th></th>\n",
       "      <th>trans_id</th>\n",
       "      <th>cust_id</th>\n",
       "      <th>tran_date</th>\n",
       "      <th>amount</th>\n",
       "    </tr>\n",
       "  </thead>\n",
       "  <tbody>\n",
       "    <tr>\n",
       "      <th>0</th>\n",
       "      <td>0</td>\n",
       "      <td>0</td>\n",
       "      <td>2007-01-19 00:00:00</td>\n",
       "      <td>0.298172</td>\n",
       "    </tr>\n",
       "    <tr>\n",
       "      <th>1</th>\n",
       "      <td>1</td>\n",
       "      <td>0</td>\n",
       "      <td>2007-03-30 00:00:00</td>\n",
       "      <td>0.297804</td>\n",
       "    </tr>\n",
       "    <tr>\n",
       "      <th>2</th>\n",
       "      <td>2</td>\n",
       "      <td>0</td>\n",
       "      <td>2007-03-30 00:00:00</td>\n",
       "      <td>0.300310</td>\n",
       "    </tr>\n",
       "    <tr>\n",
       "      <th>3</th>\n",
       "      <td>3</td>\n",
       "      <td>0</td>\n",
       "      <td>2007-03-30 00:00:00</td>\n",
       "      <td>0.298162</td>\n",
       "    </tr>\n",
       "    <tr>\n",
       "      <th>4</th>\n",
       "      <td>4</td>\n",
       "      <td>0</td>\n",
       "      <td>2007-03-30 00:00:00</td>\n",
       "      <td>0.297346</td>\n",
       "    </tr>\n",
       "  </tbody>\n",
       "</table>\n",
       "</div>"
      ],
      "text/plain": [
       "   trans_id  cust_id            tran_date    amount\n",
       "0         0        0  2007-01-19 00:00:00  0.298172\n",
       "1         1        0  2007-03-30 00:00:00  0.297804\n",
       "2         2        0  2007-03-30 00:00:00  0.300310\n",
       "3         3        0  2007-03-30 00:00:00  0.298162\n",
       "4         4        0  2007-03-30 00:00:00  0.297346"
      ]
     },
     "execution_count": 10,
     "metadata": {},
     "output_type": "execute_result"
    }
   ],
   "source": [
    "df = pd.concat([df_train, df_test]).reset_index(drop=True).reset_index().rename(columns={'index': 'trans_id'})\n",
    "#drop categorical values(store_nm, goods_id, gds_grp_nm, gds_grp_mclas_nm)\n",
    "df.drop(columns=['store_nm','goods_id','gds_grp_nm','gds_grp_mclas_nm'], inplace=True)\n",
    "#standardize amount variable\n",
    "df['amount']=((df['amount']-df['amount'].min())/(df['amount'].max()-df['amount'].min()))\n",
    "df.head()"
   ]
  },
  {
   "cell_type": "code",
   "execution_count": 11,
   "metadata": {
    "_uuid": "7b7f3d306fe1d28d2ca49dd3002665cec3ebe17e"
   },
   "outputs": [],
   "source": [
    "# A dataframe to create a feature matrix for each customer \n",
    "cu = pd.DataFrame({'cust_id': df.cust_id.unique()})\n",
    "\n",
    "# Specify a dictionary with all the entities\n",
    "entities = {\n",
    "    \"cust\": (cu, \"cust_id\"),\n",
    "    \"trans\": (df, \"trans_id\")\n",
    "}\n",
    "\n",
    "# Specify how the entities are related\n",
    "relationships = [\n",
    "    (\"cust\", \"cust_id\", \"trans\", \"cust_id\")\n",
    "]"
   ]
  },
  {
   "cell_type": "markdown",
   "metadata": {
    "_uuid": "41a87397d5ed1c0c72c404f93ecb0d99ffa93808"
   },
   "source": [
    "### Run Deep Feature Synthesis"
   ]
  },
  {
   "cell_type": "code",
   "execution_count": 12,
   "metadata": {
    "_uuid": "9d99adbb5ccbc90c24c1ede994ab41fc77512728"
   },
   "outputs": [],
   "source": [
    "derived_features, _ = ft.dfs(entities=entities, relationships=relationships, target_entity=\"cust\")\n",
    "derived_features = derived_features.fillna(0)"
   ]
  },
  {
   "cell_type": "code",
   "execution_count": 13,
   "metadata": {
    "_uuid": "259187ccbc42d999dd67dcf1ea6d99ac6075b133"
   },
   "outputs": [
    {
     "data": {
      "text/plain": [
       "(5982, 15)"
      ]
     },
     "execution_count": 13,
     "metadata": {},
     "output_type": "execute_result"
    }
   ],
   "source": [
    "np.asarray(derived_features).shape"
   ]
  },
  {
   "cell_type": "code",
   "execution_count": 14,
   "metadata": {
    "_uuid": "36607b1740a82d360ffe93ff168a003531c91f89"
   },
   "outputs": [
    {
     "data": {
      "text/plain": [
       "((3500, 15), (2482, 15))"
      ]
     },
     "execution_count": 14,
     "metadata": {},
     "output_type": "execute_result"
    }
   ],
   "source": [
    "X_train_num = np.asarray(derived_features[0:3500])\n",
    "X_test_num = np.asarray(derived_features[3500:5983])\n",
    "\n",
    "X_train_num.shape, X_test_num.shape"
   ]
  },
  {
   "cell_type": "markdown",
   "metadata": {
    "_uuid": "417615e22dbe226eef28d199b8b2db1f50c70dd3"
   },
   "source": [
    "## 3) W2V (텍스트)"
   ]
  },
  {
   "cell_type": "markdown",
   "metadata": {
    "_uuid": "e04e682a8d53e6d4b9b3e0ba5b37e78b357537fc"
   },
   "source": [
    "### Make corpus"
   ]
  },
  {
   "cell_type": "code",
   "execution_count": 15,
   "metadata": {
    "_uuid": "671cfc8b483d273b34392bd09aa7f2abde2a39ae"
   },
   "outputs": [],
   "source": [
    "p_level = 'gds_grp_nm'  # 상품 분류 수준\n",
    "\n",
    "# W2V 학습을 하기에는 데이터(즉 corpus)가 부족하여 \n",
    "# 고객별로 구매한 상품 목록으로부터 n배 oversampling을 수행\n",
    "def oversample(x, n):\n",
    "    if n == 0:\n",
    "        return list(x)\n",
    "    uw = np.unique(x)\n",
    "    bs = np.array([])\n",
    "    for j in range(n):\n",
    "        bs = np.append(bs, np.random.choice(uw, len(uw), replace=False))\n",
    "    return list(bs)\n",
    "\n",
    "X_train = list(df_train.groupby('cust_id')[p_level].agg(oversample, 20))\n",
    "X_test = list(df_test.groupby('cust_id')[p_level].agg(oversample, 20))"
   ]
  },
  {
   "cell_type": "markdown",
   "metadata": {
    "_uuid": "a671e228609b800007e7b29c74c790589094ec87"
   },
   "source": [
    "### Training the Word2Vec model"
   ]
  },
  {
   "cell_type": "code",
   "execution_count": 16,
   "metadata": {
    "_uuid": "c08ea5da9b548635a05f204efccb762d60659463"
   },
   "outputs": [],
   "source": [
    "num_features = 100 # 단어 벡터 차원 수\n",
    "min_word_count = 1 # 최소 단어 수\n",
    "context = 5 # 학습 윈도우(인접한 단어 리스트) 크기\n",
    "\n",
    "# 초기화 및 모델 학습\n",
    "from gensim.models import word2vec\n",
    "\n",
    "# 모델 학습\n",
    "model = word2vec.Word2Vec(X_train, \n",
    "                          size=num_features, \n",
    "                          min_count=min_word_count,\n",
    "                          window=context,)\n",
    "# 필요없는 메모리 unload\n",
    "model.init_sims(replace=True)\n",
    "#model.wv.most_similar('여자',topn=20)"
   ]
  },
  {
   "cell_type": "markdown",
   "metadata": {
    "_uuid": "fa0b2464a90bdafb4e71abc2f7acef5535b7e099"
   },
   "source": [
    "### Making X_train_w2v"
   ]
  },
  {
   "cell_type": "code",
   "execution_count": 17,
   "metadata": {
    "_uuid": "4d96b90ed4314a3f7638870a460ac5d097ef562a"
   },
   "outputs": [],
   "source": [
    "class EmbeddingVectorizer(object):\n",
    "    def __init__(self, word2vec):\n",
    "        self.word2vec = word2vec\n",
    "        self.dim = num_features\n",
    "    def fit(self, X, y):\n",
    "        return self\n",
    "    def transform(self, X):\n",
    "        return np.array([\n",
    "            np.hstack([\n",
    "                np.max([self.word2vec[w] for w in words if w in self.word2vec] or [np.zeros(self.dim)], axis=0),\n",
    "                np.min([self.word2vec[w] for w in words if w in self.word2vec] or [np.zeros(self.dim)], axis=0),\n",
    "                np.mean([self.word2vec[w] for w in words if w in self.word2vec] or [np.zeros(self.dim)], axis=0)                \n",
    "            ]) \n",
    "            for words in X\n",
    "        ])\n",
    "X_train_w2v = EmbeddingVectorizer(model.wv).transform(X_train)\n",
    "X_test_w2v = EmbeddingVectorizer(model.wv).transform(X_test)"
   ]
  },
  {
   "cell_type": "markdown",
   "metadata": {
    "_uuid": "12ea73e5e565e5ce3a2c71c115c4f5b30c80a8ea"
   },
   "source": [
    "## 4) Conv2D (이미지)\n",
    "\n",
    "<img align='left' src='http://drive.google.com/uc?export=view&id=1MSaW9Et8ny5k1kpdjtw4LGGFEbCZSUX3' width=700>"
   ]
  },
  {
   "cell_type": "markdown",
   "metadata": {
    "_uuid": "eb51bb3b775f50663bd1c7fccf51097300681680"
   },
   "source": [
    "### Transform data"
   ]
  },
  {
   "cell_type": "code",
   "execution_count": 18,
   "metadata": {
    "_uuid": "e70982008400bd2f4666dc463174d49ac1b4dbe2"
   },
   "outputs": [],
   "source": [
    "df=pd.concat([df_train,df_test],sort=False)\n",
    "#standardize amount variable\n",
    "df[\"amount\"]=((df[\"amount\"]-df[\"amount\"].min())/(df[\"amount\"].max()-df[\"amount\"].min()))\n",
    "#remove time from 'tran_date'\n",
    "df['tran_date']=df['tran_date'].apply(lambda x: x[:10])\n",
    "df['tran_date']=pd.to_datetime(df['tran_date'])"
   ]
  },
  {
   "cell_type": "code",
   "execution_count": 19,
   "metadata": {
    "_uuid": "9d7c6f29add44bbef1851ec3feba4cde5ecbbd42"
   },
   "outputs": [
    {
     "data": {
      "text/html": [
       "<div>\n",
       "<style scoped>\n",
       "    .dataframe tbody tr th:only-of-type {\n",
       "        vertical-align: middle;\n",
       "    }\n",
       "\n",
       "    .dataframe tbody tr th {\n",
       "        vertical-align: top;\n",
       "    }\n",
       "\n",
       "    .dataframe thead th {\n",
       "        text-align: right;\n",
       "    }\n",
       "</style>\n",
       "<table border=\"1\" class=\"dataframe\">\n",
       "  <thead>\n",
       "    <tr style=\"text-align: right;\">\n",
       "      <th></th>\n",
       "      <th>tran_date</th>\n",
       "      <th>nth</th>\n",
       "      <th>week_number</th>\n",
       "      <th>week_day</th>\n",
       "    </tr>\n",
       "  </thead>\n",
       "  <tbody>\n",
       "    <tr>\n",
       "      <th>0</th>\n",
       "      <td>2007-01-01</td>\n",
       "      <td>1</td>\n",
       "      <td>1</td>\n",
       "      <td>0</td>\n",
       "    </tr>\n",
       "    <tr>\n",
       "      <th>1</th>\n",
       "      <td>2007-01-01</td>\n",
       "      <td>2</td>\n",
       "      <td>1</td>\n",
       "      <td>0</td>\n",
       "    </tr>\n",
       "    <tr>\n",
       "      <th>2</th>\n",
       "      <td>2007-01-01</td>\n",
       "      <td>3</td>\n",
       "      <td>1</td>\n",
       "      <td>0</td>\n",
       "    </tr>\n",
       "    <tr>\n",
       "      <th>3</th>\n",
       "      <td>2007-01-01</td>\n",
       "      <td>4</td>\n",
       "      <td>1</td>\n",
       "      <td>0</td>\n",
       "    </tr>\n",
       "    <tr>\n",
       "      <th>4</th>\n",
       "      <td>2007-01-01</td>\n",
       "      <td>5</td>\n",
       "      <td>1</td>\n",
       "      <td>0</td>\n",
       "    </tr>\n",
       "  </tbody>\n",
       "</table>\n",
       "</div>"
      ],
      "text/plain": [
       "   tran_date  nth  week_number  week_day\n",
       "0 2007-01-01    1            1         0\n",
       "1 2007-01-01    2            1         0\n",
       "2 2007-01-01    3            1         0\n",
       "3 2007-01-01    4            1         0\n",
       "4 2007-01-01    5            1         0"
      ]
     },
     "execution_count": 19,
     "metadata": {},
     "output_type": "execute_result"
    }
   ],
   "source": [
    "#Make blank one_year dataframe\n",
    "import datetime\n",
    "\n",
    "start = datetime.datetime.strptime(\"01-01-2007\", \"%d-%m-%Y\")\n",
    "end = datetime.datetime.strptime(\"07-01-2008\", \"%d-%m-%Y\")\n",
    "year_2017 = [start + datetime.timedelta(days=x) for x in range(0, (end-start).days)]\n",
    "\n",
    "one_year = pd.DataFrame({'tran_date':year_2017})\n",
    "\n",
    "one_year = pd.concat([\n",
    "    pd.DataFrame(\n",
    "        {'tran_date': row.tran_date,\n",
    "         'nth': range(1,11)\n",
    "        }\n",
    "    ) for i, row in one_year.iterrows()\n",
    "], ignore_index=True).loc[:, ['tran_date','nth']]\n",
    "\n",
    "def wk_num(date):\n",
    "    weekNumber = date.isocalendar()[1]+(date.isocalendar()[0]-2007)*52\n",
    "    return weekNumber\n",
    "\n",
    "one_year['week_number']= one_year['tran_date'].apply(lambda x: wk_num(x))\n",
    "\n",
    "def wk_day(date):\n",
    "    return date.weekday()\n",
    "\n",
    "one_year['week_day']= one_year['tran_date'].apply(lambda x: wk_day(x))\n",
    "\n",
    "one_year.head()"
   ]
  },
  {
   "cell_type": "code",
   "execution_count": 20,
   "metadata": {
    "_uuid": "d749ad4f11a6d9f1e523a5b1fc808d047be7f1be"
   },
   "outputs": [
    {
     "data": {
      "text/html": [
       "<div>\n",
       "<style scoped>\n",
       "    .dataframe tbody tr th:only-of-type {\n",
       "        vertical-align: middle;\n",
       "    }\n",
       "\n",
       "    .dataframe tbody tr th {\n",
       "        vertical-align: top;\n",
       "    }\n",
       "\n",
       "    .dataframe thead th {\n",
       "        text-align: right;\n",
       "    }\n",
       "</style>\n",
       "<table border=\"1\" class=\"dataframe\">\n",
       "  <thead>\n",
       "    <tr style=\"text-align: right;\">\n",
       "      <th></th>\n",
       "      <th>cust_id</th>\n",
       "      <th>tran_date</th>\n",
       "      <th>store_nm</th>\n",
       "      <th>goods_id</th>\n",
       "      <th>gds_grp_nm</th>\n",
       "      <th>gds_grp_mclas_nm</th>\n",
       "      <th>amount</th>\n",
       "      <th>nth</th>\n",
       "    </tr>\n",
       "  </thead>\n",
       "  <tbody>\n",
       "    <tr>\n",
       "      <th>0</th>\n",
       "      <td>0</td>\n",
       "      <td>2007-01-19</td>\n",
       "      <td>강남점</td>\n",
       "      <td>127105</td>\n",
       "      <td>기초 화장품</td>\n",
       "      <td>화장품</td>\n",
       "      <td>0.298172</td>\n",
       "      <td>1.0</td>\n",
       "    </tr>\n",
       "    <tr>\n",
       "      <th>1</th>\n",
       "      <td>0</td>\n",
       "      <td>2007-03-30</td>\n",
       "      <td>강남점</td>\n",
       "      <td>342220</td>\n",
       "      <td>니  트</td>\n",
       "      <td>시티웨어</td>\n",
       "      <td>0.297804</td>\n",
       "      <td>1.0</td>\n",
       "    </tr>\n",
       "    <tr>\n",
       "      <th>2</th>\n",
       "      <td>0</td>\n",
       "      <td>2007-03-30</td>\n",
       "      <td>강남점</td>\n",
       "      <td>127105</td>\n",
       "      <td>기초 화장품</td>\n",
       "      <td>화장품</td>\n",
       "      <td>0.300310</td>\n",
       "      <td>2.0</td>\n",
       "    </tr>\n",
       "    <tr>\n",
       "      <th>3</th>\n",
       "      <td>0</td>\n",
       "      <td>2007-03-30</td>\n",
       "      <td>강남점</td>\n",
       "      <td>342205</td>\n",
       "      <td>니  트</td>\n",
       "      <td>시티웨어</td>\n",
       "      <td>0.298162</td>\n",
       "      <td>3.0</td>\n",
       "    </tr>\n",
       "    <tr>\n",
       "      <th>4</th>\n",
       "      <td>0</td>\n",
       "      <td>2007-03-30</td>\n",
       "      <td>강남점</td>\n",
       "      <td>342220</td>\n",
       "      <td>상품군미지정</td>\n",
       "      <td>기타</td>\n",
       "      <td>0.297346</td>\n",
       "      <td>4.0</td>\n",
       "    </tr>\n",
       "  </tbody>\n",
       "</table>\n",
       "</div>"
      ],
      "text/plain": [
       "   cust_id  tran_date store_nm goods_id gds_grp_nm gds_grp_mclas_nm    amount  \\\n",
       "0        0 2007-01-19      강남점   127105     기초 화장품              화장품  0.298172   \n",
       "1        0 2007-03-30      강남점   342220       니  트             시티웨어  0.297804   \n",
       "2        0 2007-03-30      강남점   127105     기초 화장품              화장품  0.300310   \n",
       "3        0 2007-03-30      강남점   342205       니  트             시티웨어  0.298162   \n",
       "4        0 2007-03-30      강남점   342220     상품군미지정               기타  0.297346   \n",
       "\n",
       "   nth  \n",
       "0  1.0  \n",
       "1  1.0  \n",
       "2  2.0  \n",
       "3  3.0  \n",
       "4  4.0  "
      ]
     },
     "execution_count": 20,
     "metadata": {},
     "output_type": "execute_result"
    }
   ],
   "source": [
    "df['index']=df.index\n",
    "df['nth'] = df.groupby(['cust_id','tran_date'])['index'].rank(ascending=True)\n",
    "df.drop(columns='index',inplace=True)\n",
    "df.head()"
   ]
  },
  {
   "cell_type": "markdown",
   "metadata": {
    "_uuid": "b79c6c78fd72eaac5060ec665f36bc9e47d53647"
   },
   "source": [
    "### Making Corpus"
   ]
  },
  {
   "cell_type": "code",
   "execution_count": 21,
   "metadata": {
    "_uuid": "0b282d5efd7faa99dcfadd8bbd7d07922fa52ada"
   },
   "outputs": [],
   "source": [
    "#p_level = 'goods_id'\n",
    "#df_train[p_level]=df_train[p_level].astype('str')\n",
    "p_level = 'gds_grp_nm'  # 상품 분류 수준\n",
    "#p_level = 'gds_grp_mclas_nm'\n",
    "\n",
    "\n",
    "# W2V 학습을 하기에는 데이터(즉 corpus)가 부족하여 \n",
    "# 고객별로 구매한 상품 목록으로부터 n배 oversampling을 수행\n",
    "def oversample(x, n):\n",
    "    if n == 0:\n",
    "        return list(x)\n",
    "    uw = np.unique(x)\n",
    "    bs = np.array([])\n",
    "    for j in range(n):\n",
    "        bs = np.append(bs, np.random.choice(uw, len(uw), replace=False))\n",
    "    return list(bs)\n",
    "\n",
    "gds_train = list(df_train.groupby(['cust_id'])[p_level].agg(oversample, 20))\n",
    "gds_test = list(df_test.groupby(['cust_id'])[p_level].agg(oversample, 20))"
   ]
  },
  {
   "cell_type": "markdown",
   "metadata": {
    "_uuid": "97e9ecc1e363b8bfe1f3c0e2f57a30d6f56ccc02"
   },
   "source": [
    "### Training the Word2Vec model"
   ]
  },
  {
   "cell_type": "code",
   "execution_count": 22,
   "metadata": {
    "_uuid": "b398b3fb2948b1b31e8ed6e94610d3ddf8e11c01"
   },
   "outputs": [],
   "source": [
    "num_features = 10 # 단어 벡터 차원 수\n",
    "min_word_count = 1 # 최소 단어 수\n",
    "context = 5 # 학습 윈도우(인접한 단어 리스트) 크기\n",
    "\n",
    "# 초기화 및 모델 학습\n",
    "from gensim.models import word2vec\n",
    "\n",
    "# 모델 학습\n",
    "model1 = word2vec.Word2Vec(gds_train, \n",
    "                          size=num_features, \n",
    "                          min_count=min_word_count,\n",
    "                          window=context,)\n",
    "# 필요없는 메모리 unload\n",
    "model1.init_sims(replace=True)\n",
    "#model.wv.most_similar('여자',topn=20)"
   ]
  },
  {
   "cell_type": "code",
   "execution_count": 23,
   "metadata": {
    "_uuid": "9068320f41337cfe0abdd67db1720d5fa67345f1"
   },
   "outputs": [],
   "source": [
    "#Make X_train_conv2d and X_test_conv2d\n",
    "train = []\n",
    "test = []\n",
    "\n",
    "cust_id=df['cust_id'].unique()\n",
    "for cust in cust_id:\n",
    "    f = df[df['cust_id']==cust]\n",
    "    f = pd.merge(one_year,f,how=\"left\").fillna(0)\n",
    "    f[p_level]=f[p_level].astype('str')\n",
    "    amount=np.asarray(f.amount).reshape((53,70))\n",
    "    if(cust<3500):\n",
    "        #train.append(goods_id)\n",
    "        #train.append(gds_grp_nm)\n",
    "        #train.append(gds_grp_mclas_nm)\n",
    "        train.append(amount)\n",
    "        for i in range(10):\n",
    "            gds=[]\n",
    "            for w in f[p_level]:\n",
    "                if w in model1.wv:\n",
    "                    gds.append(model1.wv[w][i])\n",
    "                    #print(model.wv[w][i])\n",
    "                else:\n",
    "                    gds.append(0)\n",
    "                    #print(0)\n",
    "            gds_array=np.asarray(gds).reshape((53,70))\n",
    "            train.append(gds_array)\n",
    "\n",
    "    else:\n",
    "        test.append(amount)\n",
    "        for i in range(10):\n",
    "            gds=[]\n",
    "            for w in f[p_level]:\n",
    "                if w in model1.wv:\n",
    "                    gds.append(model1.wv[w][i])\n",
    "                    #print(model.wv[w][i])\n",
    "                else:\n",
    "                    gds.append(0)\n",
    "                    #print(0)\n",
    "            gds_array=np.asarray(gds).reshape((53,70))\n",
    "            test.append(gds_array)\n",
    "\n",
    "X_train_conv2d=np.asarray(train).reshape(len(df_train['cust_id'].unique()),11,53,70)\n",
    "X_test_conv2d=np.asarray(test).reshape(len(df_test['cust_id'].unique()),11,53,70)"
   ]
  },
  {
   "cell_type": "markdown",
   "metadata": {
    "_uuid": "552f848f3a5e7aed1c9e56e0d79e70e01b5143db"
   },
   "source": [
    "## 5) Conv1D (텍스트)"
   ]
  },
  {
   "cell_type": "markdown",
   "metadata": {
    "_uuid": "7a307cd2fc58aef44f16a7192e9fbf2febb2c263"
   },
   "source": [
    "### Transform data"
   ]
  },
  {
   "cell_type": "code",
   "execution_count": 24,
   "metadata": {
    "_uuid": "88572bc521899f19b8b6cbe6aa539131e0e79147"
   },
   "outputs": [
    {
     "data": {
      "text/plain": [
       "((3500, 100), (2482, 100))"
      ]
     },
     "execution_count": 24,
     "metadata": {},
     "output_type": "execute_result"
    }
   ],
   "source": [
    "max_features1 = 100000\n",
    "max_len = 100\n",
    "emb_dim = 128\n",
    "\n",
    "# Converts a \"gds_grp_nm\" to a sequence of indexes in a fixed-size hashing space\n",
    "X_train = df_train.groupby('cust_id')['gds_grp_nm'].apply(lambda x: [one_hot(i, max_features1)[0] for i in x]).values\n",
    "X_test = df_test.groupby('cust_id')['gds_grp_nm'].apply(lambda x: [one_hot(i, max_features1)[0] for i in x]).values\n",
    "\n",
    "for i in range(X_train.shape[0]):\n",
    "    x = np.unique(X_train[i])\n",
    "    y = np.array([])\n",
    "    for j in range(5):\n",
    "        y = np.append(y, np.random.choice(x, len(x), replace=False))\n",
    "    X_train[i] = y    \n",
    "#    X_train[i] = np.random.choice(x, len(x), replace=False)\n",
    "\n",
    "for i in range(X_test.shape[0]):\n",
    "    x = np.unique(X_test[i])\n",
    "    y = np.array([])\n",
    "    for j in range(5):\n",
    "        y = np.append(y, np.random.choice(x, len(x), replace=False))\n",
    "    X_test[i] = y    \n",
    "#    X_test[i] = np.random.choice(x, len(x)*5)    \n",
    "    \n",
    "# Pads sequences to the same length\n",
    "X_train_conv1d = sequence.pad_sequences(X_train, maxlen=max_len)\n",
    "X_test_conv1d = sequence.pad_sequences(X_test, maxlen=max_len)\n",
    "\n",
    "X_train_conv1d.shape, X_test_conv1d.shape"
   ]
  },
  {
   "cell_type": "markdown",
   "metadata": {
    "_uuid": "389220678ac330761db600a5e8a770323d506140"
   },
   "source": [
    "## 6) One-Hot + AE"
   ]
  },
  {
   "cell_type": "markdown",
   "metadata": {
    "_uuid": "76fe56d13b446f0af979649a676c7eebbbcb7d3c"
   },
   "source": [
    "### Transform data"
   ]
  },
  {
   "cell_type": "code",
   "execution_count": 25,
   "metadata": {
    "_uuid": "23a9a30b4c29875ac2d14f103f7caa3953a128a4"
   },
   "outputs": [
    {
     "data": {
      "text/plain": [
       "((3500, 4179), (2482, 4179))"
      ]
     },
     "execution_count": 25,
     "metadata": {},
     "output_type": "execute_result"
    }
   ],
   "source": [
    "level = 'gds_grp_nm'\n",
    "\n",
    "df_all = pd.concat([df_train, df_test])\n",
    "train1 = pd.pivot_table(df_all, index='cust_id', columns=level, values='amount',\n",
    "                         aggfunc=lambda x: np.where(len(x) >=1, 1, 0), fill_value=0). \\\n",
    "                         reset_index(). \\\n",
    "                         query('cust_id not in @IDtest'). \\\n",
    "                         drop(columns=['cust_id']).values\n",
    "test1 = pd.pivot_table(df_all, index='cust_id', columns=level, values='amount',\n",
    "                         aggfunc=lambda x: np.where(len(x) >=1, 1, 0), fill_value=0). \\\n",
    "                         reset_index(). \\\n",
    "                         query('cust_id in @IDtest'). \\\n",
    "                         drop(columns=['cust_id']).values\n",
    "\n",
    "level = 'gds_grp_mclas_nm'\n",
    "\n",
    "df_all = pd.concat([df_train, df_test])\n",
    "train2 = pd.pivot_table(df_all, index='cust_id', columns=level, values='amount',\n",
    "                         aggfunc=lambda x: np.where(len(x) >=1, 1, 0), fill_value=0). \\\n",
    "                         reset_index(). \\\n",
    "                         query('cust_id not in @IDtest'). \\\n",
    "                         drop(columns=['cust_id']).values\n",
    "test2 = pd.pivot_table(df_all, index='cust_id', columns=level, values='amount',\n",
    "                         aggfunc=lambda x: np.where(len(x) >=1, 1, 0), fill_value=0). \\\n",
    "                         reset_index(). \\\n",
    "                         query('cust_id in @IDtest'). \\\n",
    "                         drop(columns=['cust_id']).values\n",
    "\n",
    "level = 'goods_id'\n",
    "\n",
    "df_all = pd.concat([df_train, df_test])\n",
    "train3 = pd.pivot_table(df_all, index='cust_id', columns=level, values='amount',\n",
    "                         aggfunc=lambda x: np.where(len(x) >=1, 1, 0), fill_value=0). \\\n",
    "                         reset_index(). \\\n",
    "                         query('cust_id not in @IDtest'). \\\n",
    "                         drop(columns=['cust_id']).values\n",
    "test3 = pd.pivot_table(df_all, index='cust_id', columns=level, values='amount',\n",
    "                         aggfunc=lambda x: np.where(len(x) >=1, 1, 0), fill_value=0). \\\n",
    "                         reset_index(). \\\n",
    "                         query('cust_id in @IDtest'). \\\n",
    "                         drop(columns=['cust_id']).values\n",
    "\n",
    "train = np.hstack([train1, train2, train3])\n",
    "test = np.hstack([test1, test2, test3])\n",
    "\n",
    "train.shape, test.shape"
   ]
  },
  {
   "cell_type": "markdown",
   "metadata": {
    "_uuid": "b1252bd12316691c19a970e34c5a2aa50c3a6ee1"
   },
   "source": [
    "### Reduce Dimensionality using Autoencoder"
   ]
  },
  {
   "cell_type": "code",
   "execution_count": 26,
   "metadata": {
    "_uuid": "0a167d70ff5c911a0fb0d0fbb19f539d0d624feb"
   },
   "outputs": [
    {
     "name": "stdout",
     "output_type": "stream",
     "text": [
      "WARNING:tensorflow:From C:\\Users\\user\\Anaconda3\\lib\\site-packages\\keras\\backend\\tensorflow_backend.py:66: The name tf.get_default_graph is deprecated. Please use tf.compat.v1.get_default_graph instead.\n",
      "\n",
      "WARNING:tensorflow:From C:\\Users\\user\\Anaconda3\\lib\\site-packages\\keras\\backend\\tensorflow_backend.py:541: The name tf.placeholder is deprecated. Please use tf.compat.v1.placeholder instead.\n",
      "\n",
      "WARNING:tensorflow:From C:\\Users\\user\\Anaconda3\\lib\\site-packages\\keras\\backend\\tensorflow_backend.py:4432: The name tf.random_uniform is deprecated. Please use tf.random.uniform instead.\n",
      "\n",
      "Model: \"model_1\"\n",
      "_________________________________________________________________\n",
      "Layer (type)                 Output Shape              Param #   \n",
      "=================================================================\n",
      "input_1 (InputLayer)         (None, 4179)              0         \n",
      "_________________________________________________________________\n",
      "dense_1 (Dense)              (None, 512)               2140160   \n",
      "_________________________________________________________________\n",
      "dense_2 (Dense)              (None, 256)               131328    \n",
      "_________________________________________________________________\n",
      "dense_3 (Dense)              (None, 128)               32896     \n",
      "_________________________________________________________________\n",
      "dense_4 (Dense)              (None, 128)               16512     \n",
      "_________________________________________________________________\n",
      "dense_5 (Dense)              (None, 128)               16512     \n",
      "_________________________________________________________________\n",
      "dense_6 (Dense)              (None, 256)               33024     \n",
      "_________________________________________________________________\n",
      "dense_7 (Dense)              (None, 512)               131584    \n",
      "_________________________________________________________________\n",
      "dense_8 (Dense)              (None, 4179)              2143827   \n",
      "=================================================================\n",
      "Total params: 4,645,843\n",
      "Trainable params: 4,645,843\n",
      "Non-trainable params: 0\n",
      "_________________________________________________________________\n",
      "WARNING:tensorflow:From C:\\Users\\user\\Anaconda3\\lib\\site-packages\\keras\\optimizers.py:793: The name tf.train.Optimizer is deprecated. Please use tf.compat.v1.train.Optimizer instead.\n",
      "\n",
      "WARNING:tensorflow:From C:\\Users\\user\\Anaconda3\\lib\\site-packages\\keras\\backend\\tensorflow_backend.py:1033: The name tf.assign_add is deprecated. Please use tf.compat.v1.assign_add instead.\n",
      "\n",
      "WARNING:tensorflow:From C:\\Users\\user\\Anaconda3\\lib\\site-packages\\keras\\backend\\tensorflow_backend.py:1020: The name tf.assign is deprecated. Please use tf.compat.v1.assign instead.\n",
      "\n",
      "Train on 3500 samples, validate on 2482 samples\n",
      "Epoch 1/20\n",
      "3500/3500 [==============================] - 5s 1ms/step - loss: 0.0098 - val_loss: 0.0095\n",
      "Epoch 2/20\n",
      "3500/3500 [==============================] - 4s 1ms/step - loss: 0.0089 - val_loss: 0.0090\n",
      "Epoch 3/20\n",
      "3500/3500 [==============================] - 4s 1ms/step - loss: 0.0086 - val_loss: 0.0088\n",
      "Epoch 4/20\n",
      "3500/3500 [==============================] - 4s 1ms/step - loss: 0.0083 - val_loss: 0.0086\n",
      "Epoch 5/20\n",
      "3500/3500 [==============================] - 4s 1ms/step - loss: 0.0081 - val_loss: 0.0083\n",
      "Epoch 6/20\n",
      "3500/3500 [==============================] - 4s 1ms/step - loss: 0.0079 - val_loss: 0.0082\n",
      "Epoch 7/20\n",
      "3500/3500 [==============================] - 4s 1ms/step - loss: 0.0077 - val_loss: 0.0081\n",
      "Epoch 8/20\n",
      "3500/3500 [==============================] - 4s 1ms/step - loss: 0.0075 - val_loss: 0.0080\n",
      "Epoch 9/20\n",
      "3500/3500 [==============================] - 4s 1ms/step - loss: 0.0074 - val_loss: 0.0079\n",
      "Epoch 10/20\n",
      "3500/3500 [==============================] - 4s 1ms/step - loss: 0.0072 - val_loss: 0.0078\n",
      "Epoch 11/20\n",
      "3500/3500 [==============================] - 4s 1ms/step - loss: 0.0071 - val_loss: 0.0078\n",
      "Epoch 12/20\n",
      "3500/3500 [==============================] - 4s 1ms/step - loss: 0.0069 - val_loss: 0.0077\n",
      "Epoch 13/20\n",
      "3500/3500 [==============================] - 4s 1ms/step - loss: 0.0068 - val_loss: 0.0077\n",
      "Epoch 14/20\n",
      "3500/3500 [==============================] - 4s 1ms/step - loss: 0.0067 - val_loss: 0.0077\n",
      "Epoch 15/20\n",
      "3500/3500 [==============================] - 4s 1ms/step - loss: 0.0066 - val_loss: 0.0077\n",
      "Epoch 16/20\n",
      "3500/3500 [==============================] - 4s 1ms/step - loss: 0.0065 - val_loss: 0.0077\n",
      "Epoch 17/20\n",
      "3500/3500 [==============================] - 4s 1ms/step - loss: 0.0064 - val_loss: 0.0076\n",
      "Epoch 18/20\n",
      "3500/3500 [==============================] - 4s 1ms/step - loss: 0.0063 - val_loss: 0.0076\n",
      "Epoch 19/20\n",
      "3500/3500 [==============================] - 4s 1ms/step - loss: 0.0062 - val_loss: 0.0076\n",
      "Epoch 20/20\n",
      "3500/3500 [==============================] - 4s 1ms/step - loss: 0.0061 - val_loss: 0.0076\n"
     ]
    },
    {
     "data": {
      "image/png": "[encoded data removed]",
      "text/plain": [
       "<Figure size 432x288 with 1 Axes>"
      ]
     },
     "metadata": {
      "needs_background": "light"
     },
     "output_type": "display_data"
    }
   ],
   "source": [
    "# Define the number of features\n",
    "max_features2 = train.shape[1]\n",
    "\n",
    "# Define the encoder dimension\n",
    "encoding_dim = 128\n",
    "\n",
    "# Input Layer\n",
    "input_dim = Input(shape = (max_features2, ))\n",
    "\n",
    "# Encoder Layers\n",
    "encoded1 = layers.Dense(512, activation = 'relu')(input_dim)\n",
    "encoded2 = layers.Dense(256, activation = 'relu')(encoded1)\n",
    "encoded3 = layers.Dense(128, activation = 'relu')(encoded2)\n",
    "encoded4 = layers.Dense(encoding_dim, activation = 'relu')(encoded3)\n",
    "\n",
    "# Decoder Layers\n",
    "decoded1 = layers.Dense(128, activation = 'relu')(encoded4)\n",
    "decoded2 = layers.Dense(256, activation = 'relu')(decoded1)\n",
    "decoded3 = layers.Dense(512, activation = 'relu')(decoded2)\n",
    "decoded4 = layers.Dense(max_features2, activation = 'linear')(decoded3)\n",
    "\n",
    "# Combine Encoder and Deocder layers\n",
    "autoencoder = Model(inputs = input_dim, outputs = decoded4)\n",
    "autoencoder.summary()\n",
    "\n",
    "# Compile the model\n",
    "autoencoder.compile(optimizer = 'adam', loss = 'mse')\n",
    "\n",
    "# Train the model\n",
    "history = autoencoder.fit(train, train, epochs=20, batch_size=64, \n",
    "                          shuffle=True, validation_data=(test,test))\n",
    "\n",
    "plt.plot(history.history[\"loss\"], label=\"train loss\")\n",
    "plt.plot(history.history[\"val_loss\"], label=\"validation loss\")\n",
    "plt.legend()\n",
    "plt.title(\"Loss\")\n",
    "plt.show()"
   ]
  },
  {
   "cell_type": "code",
   "execution_count": 27,
   "metadata": {
    "_uuid": "d39fb79cdc10e7f6b6bfca9d16708dbff7a1e497"
   },
   "outputs": [
    {
     "data": {
      "text/plain": [
       "((3500, 128), (2482, 128))"
      ]
     },
     "execution_count": 27,
     "metadata": {},
     "output_type": "execute_result"
    }
   ],
   "source": [
    "# Use a middle Bottleneck Layer to Reduce Dimension\n",
    "hidden_act = [encoded4] #[encoded1, encoded2, encoded3, decoded1, decoded2]\n",
    "for ix, act in enumerate(hidden_act):\n",
    "    model2 = Model(inputs=input_dim, outputs=act)\n",
    "    if ix == 0: \n",
    "        X_train_AE = model2.predict(train)\n",
    "        X_test_AE = model2.predict(test)\n",
    "    else:\n",
    "        X_train_AE = np.hstack([X_train, model2.predict(train)])\n",
    "        X_test_AE = np.hstack([X_test, model2.predict(test)])\n",
    "\n",
    "max_f = X_train_AE.shape[1]\n",
    "        \n",
    "X_train_AE.shape, X_test_AE.shape"
   ]
  },
  {
   "cell_type": "markdown",
   "metadata": {
    "_uuid": "9035edb3b71d368b213088999d11154d312352ab"
   },
   "source": [
    "### Build Model"
   ]
  },
  {
   "cell_type": "code",
   "execution_count": 36,
   "metadata": {
    "_uuid": "8a020eecb9301b8be5474d6d28eea55c7e800557",
    "scrolled": false
   },
   "outputs": [
    {
     "name": "stdout",
     "output_type": "stream",
     "text": [
      "Model: \"model_7\"\n",
      "__________________________________________________________________________________________________\n",
      "Layer (type)                    Output Shape         Param #     Connected to                     \n",
      "==================================================================================================\n",
      "low (InputLayer)                (None, 100)          0                                            \n",
      "__________________________________________________________________________________________________\n",
      "mid (InputLayer)                (None, 100)          0                                            \n",
      "__________________________________________________________________________________________________\n",
      "high (InputLayer)               (None, 100)          0                                            \n",
      "__________________________________________________________________________________________________\n",
      "store (InputLayer)              (None, 100)          0                                            \n",
      "__________________________________________________________________________________________________\n",
      "embedding_21 (Embedding)        (None, 100, 128)     12800000    low[0][0]                        \n",
      "__________________________________________________________________________________________________\n",
      "embedding_22 (Embedding)        (None, 100, 128)     1280000     mid[0][0]                        \n",
      "__________________________________________________________________________________________________\n",
      "embedding_23 (Embedding)        (None, 100, 128)     128000      high[0][0]                       \n",
      "__________________________________________________________________________________________________\n",
      "embedding_24 (Embedding)        (None, 100, 128)     128000      store[0][0]                      \n",
      "__________________________________________________________________________________________________\n",
      "dense_65 (Dense)                (None, 100, 1)       129         embedding_21[0][0]               \n",
      "__________________________________________________________________________________________________\n",
      "dense_66 (Dense)                (None, 100, 1)       129         embedding_22[0][0]               \n",
      "__________________________________________________________________________________________________\n",
      "dense_67 (Dense)                (None, 100, 1)       129         embedding_23[0][0]               \n",
      "__________________________________________________________________________________________________\n",
      "dense_68 (Dense)                (None, 100, 1)       129         embedding_24[0][0]               \n",
      "__________________________________________________________________________________________________\n",
      "conv1d (InputLayer)             (None, 100)          0                                            \n",
      "__________________________________________________________________________________________________\n",
      "p_re_lu_45 (PReLU)              (None, 100, 1)       100         dense_65[0][0]                   \n",
      "__________________________________________________________________________________________________\n",
      "p_re_lu_46 (PReLU)              (None, 100, 1)       100         dense_66[0][0]                   \n",
      "__________________________________________________________________________________________________\n",
      "p_re_lu_47 (PReLU)              (None, 100, 1)       100         dense_67[0][0]                   \n",
      "__________________________________________________________________________________________________\n",
      "p_re_lu_48 (PReLU)              (None, 100, 1)       100         dense_68[0][0]                   \n",
      "__________________________________________________________________________________________________\n",
      "embedding_25 (Embedding)        (None, 100, 128)     12800000    conv1d[0][0]                     \n",
      "__________________________________________________________________________________________________\n",
      "AE (InputLayer)                 (None, 128)          0                                            \n",
      "__________________________________________________________________________________________________\n",
      "batch_normalization_45 (BatchNo (None, 100, 1)       4           p_re_lu_45[0][0]                 \n",
      "__________________________________________________________________________________________________\n",
      "batch_normalization_46 (BatchNo (None, 100, 1)       4           p_re_lu_46[0][0]                 \n",
      "__________________________________________________________________________________________________\n",
      "batch_normalization_47 (BatchNo (None, 100, 1)       4           p_re_lu_47[0][0]                 \n",
      "__________________________________________________________________________________________________\n",
      "batch_normalization_48 (BatchNo (None, 100, 1)       4           p_re_lu_48[0][0]                 \n",
      "__________________________________________________________________________________________________\n",
      "conv2d (InputLayer)             (None, 11, 53, 70)   0                                            \n",
      "__________________________________________________________________________________________________\n",
      "conv1d_9 (Conv1D)               (None, 98, 32)       12320       embedding_25[0][0]               \n",
      "__________________________________________________________________________________________________\n",
      "dense_74 (Dense)                (None, 32)           4128        AE[0][0]                         \n",
      "__________________________________________________________________________________________________\n",
      "dropout_53 (Dropout)            (None, 100, 1)       0           batch_normalization_45[0][0]     \n",
      "__________________________________________________________________________________________________\n",
      "dropout_54 (Dropout)            (None, 100, 1)       0           batch_normalization_46[0][0]     \n",
      "__________________________________________________________________________________________________\n",
      "dropout_55 (Dropout)            (None, 100, 1)       0           batch_normalization_47[0][0]     \n",
      "__________________________________________________________________________________________________\n",
      "dropout_56 (Dropout)            (None, 100, 1)       0           batch_normalization_48[0][0]     \n",
      "__________________________________________________________________________________________________\n",
      "conv2d_9 (Conv2D)               (None, 1, 27, 35)    177         conv2d[0][0]                     \n",
      "__________________________________________________________________________________________________\n",
      "max_pooling1d_5 (MaxPooling1D)  (None, 32, 32)       0           conv1d_9[0][0]                   \n",
      "__________________________________________________________________________________________________\n",
      "dropout_62 (Dropout)            (None, 32)           0           dense_74[0][0]                   \n",
      "__________________________________________________________________________________________________\n",
      "add_9 (Add)                     (None, 100, 1)       0           dropout_53[0][0]                 \n",
      "                                                                 dropout_54[0][0]                 \n",
      "                                                                 dropout_55[0][0]                 \n",
      "                                                                 dropout_56[0][0]                 \n",
      "__________________________________________________________________________________________________\n",
      "conv2d_10 (Conv2D)              (None, 1, 27, 1)     36          conv2d_9[0][0]                   \n",
      "__________________________________________________________________________________________________\n",
      "conv1d_10 (Conv1D)              (None, 30, 32)       3104        max_pooling1d_5[0][0]            \n",
      "__________________________________________________________________________________________________\n",
      "dense_75 (Dense)                (None, 16)           528         dropout_62[0][0]                 \n",
      "__________________________________________________________________________________________________\n",
      "dense_69 (Dense)                (None, 100, 1)       2           add_9[0][0]                      \n",
      "__________________________________________________________________________________________________\n",
      "num (InputLayer)                (None, 15)           0                                            \n",
      "__________________________________________________________________________________________________\n",
      "w2v (InputLayer)                (None, 300)          0                                            \n",
      "__________________________________________________________________________________________________\n",
      "flatten_5 (Flatten)             (None, 27)           0           conv2d_10[0][0]                  \n",
      "__________________________________________________________________________________________________\n",
      "global_max_pooling1d_10 (Global (None, 32)           0           conv1d_10[0][0]                  \n",
      "__________________________________________________________________________________________________\n",
      "dropout_63 (Dropout)            (None, 16)           0           dense_75[0][0]                   \n",
      "__________________________________________________________________________________________________\n",
      "global_max_pooling1d_9 (GlobalM (None, 1)            0           dense_69[0][0]                   \n",
      "__________________________________________________________________________________________________\n",
      "dense_70 (Dense)                (None, 1)            16          num[0][0]                        \n",
      "__________________________________________________________________________________________________\n",
      "dense_71 (Dense)                (None, 1)            301         w2v[0][0]                        \n",
      "__________________________________________________________________________________________________\n",
      "dense_72 (Dense)                (None, 1)            28          flatten_5[0][0]                  \n",
      "__________________________________________________________________________________________________\n",
      "dense_73 (Dense)                (None, 1)            33          global_max_pooling1d_10[0][0]    \n",
      "__________________________________________________________________________________________________\n",
      "dense_76 (Dense)                (None, 1)            17          dropout_63[0][0]                 \n",
      "__________________________________________________________________________________________________\n",
      "p_re_lu_49 (PReLU)              (None, 1)            1           global_max_pooling1d_9[0][0]     \n",
      "__________________________________________________________________________________________________\n",
      "p_re_lu_50 (PReLU)              (None, 1)            1           dense_70[0][0]                   \n",
      "__________________________________________________________________________________________________\n",
      "p_re_lu_51 (PReLU)              (None, 1)            1           dense_71[0][0]                   \n",
      "__________________________________________________________________________________________________\n",
      "p_re_lu_52 (PReLU)              (None, 1)            1           dense_72[0][0]                   \n",
      "__________________________________________________________________________________________________\n",
      "p_re_lu_53 (PReLU)              (None, 1)            1           dense_73[0][0]                   \n",
      "__________________________________________________________________________________________________\n",
      "p_re_lu_54 (PReLU)              (None, 1)            1           dense_76[0][0]                   \n",
      "__________________________________________________________________________________________________\n",
      "batch_normalization_49 (BatchNo (None, 1)            4           p_re_lu_49[0][0]                 \n",
      "__________________________________________________________________________________________________\n",
      "batch_normalization_50 (BatchNo (None, 1)            4           p_re_lu_50[0][0]                 \n",
      "__________________________________________________________________________________________________\n",
      "batch_normalization_51 (BatchNo (None, 1)            4           p_re_lu_51[0][0]                 \n",
      "__________________________________________________________________________________________________\n",
      "batch_normalization_52 (BatchNo (None, 1)            4           p_re_lu_52[0][0]                 \n",
      "__________________________________________________________________________________________________\n",
      "batch_normalization_53 (BatchNo (None, 1)            4           p_re_lu_53[0][0]                 \n",
      "__________________________________________________________________________________________________\n",
      "batch_normalization_54 (BatchNo (None, 1)            4           p_re_lu_54[0][0]                 \n",
      "__________________________________________________________________________________________________\n",
      "dropout_57 (Dropout)            (None, 1)            0           batch_normalization_49[0][0]     \n",
      "__________________________________________________________________________________________________\n",
      "dropout_58 (Dropout)            (None, 1)            0           batch_normalization_50[0][0]     \n",
      "__________________________________________________________________________________________________\n",
      "dropout_59 (Dropout)            (None, 1)            0           batch_normalization_51[0][0]     \n",
      "__________________________________________________________________________________________________\n",
      "dropout_60 (Dropout)            (None, 1)            0           batch_normalization_52[0][0]     \n",
      "__________________________________________________________________________________________________\n",
      "dropout_61 (Dropout)            (None, 1)            0           batch_normalization_53[0][0]     \n",
      "__________________________________________________________________________________________________\n",
      "dropout_64 (Dropout)            (None, 1)            0           batch_normalization_54[0][0]     \n",
      "__________________________________________________________________________________________________\n",
      "add_10 (Add)                    (None, 1)            0           dropout_57[0][0]                 \n",
      "                                                                 dropout_58[0][0]                 \n",
      "                                                                 dropout_59[0][0]                 \n",
      "                                                                 dropout_60[0][0]                 \n",
      "                                                                 dropout_61[0][0]                 \n",
      "                                                                 dropout_64[0][0]                 \n",
      "__________________________________________________________________________________________________\n",
      "dense_77 (Dense)                (None, 1)            2           add_10[0][0]                     \n",
      "__________________________________________________________________________________________________\n",
      "p_re_lu_55 (PReLU)              (None, 1)            1           dense_77[0][0]                   \n",
      "__________________________________________________________________________________________________\n",
      "batch_normalization_55 (BatchNo (None, 1)            4           p_re_lu_55[0][0]                 \n",
      "__________________________________________________________________________________________________\n",
      "dense_78 (Dense)                (None, 1)            2           batch_normalization_55[0][0]     \n",
      "__________________________________________________________________________________________________\n",
      "dropout_65 (Dropout)            (None, 1)            0           dense_78[0][0]                   \n",
      "==================================================================================================\n",
      "Total params: 27,157,661\n",
      "Trainable params: 27,157,639\n",
      "Non-trainable params: 22\n",
      "__________________________________________________________________________________________________\n"
     ]
    },
    {
     "name": "stdout",
     "output_type": "stream",
     "text": [
      "Train on 2800 samples, validate on 700 samples\n",
      "Epoch 1/50\n",
      "2800/2800 [==============================] - 16s 6ms/step - loss: 2.5682 - acc: 0.5050 - val_loss: 1.2134 - val_acc: 0.5386\n",
      "Epoch 2/50\n",
      "2800/2800 [==============================] - 8s 3ms/step - loss: 2.5727 - acc: 0.5239 - val_loss: 1.2001 - val_acc: 0.5429\n",
      "Epoch 3/50\n",
      "2800/2800 [==============================] - 8s 3ms/step - loss: 2.4774 - acc: 0.5357 - val_loss: 1.1826 - val_acc: 0.5500\n",
      "Epoch 4/50\n",
      "2800/2800 [==============================] - 8s 3ms/step - loss: 2.4492 - acc: 0.5211 - val_loss: 1.1625 - val_acc: 0.5571\n",
      "Epoch 5/50\n",
      "2800/2800 [==============================] - 8s 3ms/step - loss: 2.5076 - acc: 0.5221 - val_loss: 1.1499 - val_acc: 0.5614\n",
      "Epoch 6/50\n",
      "2800/2800 [==============================] - 8s 3ms/step - loss: 2.3938 - acc: 0.5268 - val_loss: 1.1355 - val_acc: 0.5586\n",
      "Epoch 7/50\n",
      "2800/2800 [==============================] - 8s 3ms/step - loss: 2.2908 - acc: 0.5468 - val_loss: 1.1192 - val_acc: 0.5643\n",
      "Epoch 8/50\n",
      "2800/2800 [==============================] - 8s 3ms/step - loss: 2.3488 - acc: 0.5329 - val_loss: 1.0998 - val_acc: 0.5814\n",
      "Epoch 9/50\n",
      "2800/2800 [==============================] - 7s 3ms/step - loss: 2.2697 - acc: 0.5357 - val_loss: 1.0829 - val_acc: 0.5829\n",
      "Epoch 10/50\n",
      "2800/2800 [==============================] - 7s 3ms/step - loss: 2.1912 - acc: 0.5600 - val_loss: 1.0644 - val_acc: 0.5900\n",
      "Epoch 11/50\n",
      "2800/2800 [==============================] - 8s 3ms/step - loss: 2.2343 - acc: 0.5464 - val_loss: 1.0505 - val_acc: 0.5971\n",
      "Epoch 12/50\n",
      "2800/2800 [==============================] - 8s 3ms/step - loss: 2.3069 - acc: 0.5471 - val_loss: 1.0426 - val_acc: 0.5986\n",
      "Epoch 13/50\n",
      "2800/2800 [==============================] - 8s 3ms/step - loss: 2.3137 - acc: 0.5425 - val_loss: 1.0312 - val_acc: 0.5986\n",
      "Epoch 14/50\n",
      "2800/2800 [==============================] - 8s 3ms/step - loss: 2.1549 - acc: 0.5636 - val_loss: 1.0170 - val_acc: 0.6029\n",
      "Epoch 15/50\n",
      "2800/2800 [==============================] - 8s 3ms/step - loss: 2.1401 - acc: 0.5621 - val_loss: 1.0051 - val_acc: 0.6043\n",
      "Epoch 16/50\n",
      "2800/2800 [==============================] - 8s 3ms/step - loss: 2.1834 - acc: 0.5496 - val_loss: 0.9933 - val_acc: 0.6043\n",
      "Epoch 17/50\n",
      "2800/2800 [==============================] - 9s 3ms/step - loss: 2.2923 - acc: 0.5589 - val_loss: 0.9821 - val_acc: 0.6171\n",
      "Epoch 18/50\n",
      "2800/2800 [==============================] - 9s 3ms/step - loss: 2.2100 - acc: 0.5489 - val_loss: 0.9689 - val_acc: 0.6214\n",
      "Epoch 19/50\n",
      "2800/2800 [==============================] - 8s 3ms/step - loss: 2.1555 - acc: 0.5550 - val_loss: 0.9568 - val_acc: 0.6171\n",
      "Epoch 20/50\n",
      "2800/2800 [==============================] - 8s 3ms/step - loss: 2.3047 - acc: 0.5504 - val_loss: 0.9495 - val_acc: 0.6200\n",
      "Epoch 21/50\n",
      "2800/2800 [==============================] - 9s 3ms/step - loss: 2.1205 - acc: 0.5639 - val_loss: 0.9378 - val_acc: 0.6200\n",
      "Epoch 22/50\n",
      "2800/2800 [==============================] - 9s 3ms/step - loss: 2.0666 - acc: 0.5675 - val_loss: 0.9268 - val_acc: 0.6129\n",
      "Epoch 23/50\n",
      "2800/2800 [==============================] - 9s 3ms/step - loss: 2.0792 - acc: 0.5557 - val_loss: 0.9185 - val_acc: 0.6214\n",
      "Epoch 24/50\n",
      "2800/2800 [==============================] - 9s 3ms/step - loss: 2.1067 - acc: 0.5618 - val_loss: 0.9086 - val_acc: 0.6286\n",
      "Epoch 25/50\n",
      "2800/2800 [==============================] - 9s 3ms/step - loss: 2.0144 - acc: 0.5779 - val_loss: 0.8974 - val_acc: 0.6271\n",
      "Epoch 26/50\n",
      "2800/2800 [==============================] - 9s 3ms/step - loss: 2.1013 - acc: 0.5568 - val_loss: 0.8873 - val_acc: 0.6286\n",
      "Epoch 27/50\n",
      "2800/2800 [==============================] - 9s 3ms/step - loss: 1.9353 - acc: 0.5807 - val_loss: 0.8799 - val_acc: 0.6271\n",
      "Epoch 28/50\n",
      "2800/2800 [==============================] - 9s 3ms/step - loss: 1.9578 - acc: 0.5911 - val_loss: 0.8705 - val_acc: 0.6257\n",
      "Epoch 29/50\n",
      "2800/2800 [==============================] - 10s 4ms/step - loss: 2.0717 - acc: 0.5729 - val_loss: 0.8615 - val_acc: 0.6343\n",
      "Epoch 30/50\n",
      "2800/2800 [==============================] - 10s 3ms/step - loss: 2.0523 - acc: 0.5861 - val_loss: 0.8542 - val_acc: 0.6343\n",
      "Epoch 31/50\n",
      "2800/2800 [==============================] - 9s 3ms/step - loss: 2.1536 - acc: 0.5700 - val_loss: 0.8455 - val_acc: 0.6357\n",
      "Epoch 32/50\n",
      "2800/2800 [==============================] - 9s 3ms/step - loss: 2.0579 - acc: 0.5786 - val_loss: 0.8394 - val_acc: 0.6343\n",
      "Epoch 33/50\n",
      "2800/2800 [==============================] - 9s 3ms/step - loss: 2.0359 - acc: 0.5818 - val_loss: 0.8318 - val_acc: 0.6371\n",
      "Epoch 34/50\n",
      "2800/2800 [==============================] - 9s 3ms/step - loss: 2.0566 - acc: 0.5918 - val_loss: 0.8255 - val_acc: 0.6286\n",
      "Epoch 35/50\n",
      "2800/2800 [==============================] - 9s 3ms/step - loss: 1.9588 - acc: 0.5875 - val_loss: 0.8201 - val_acc: 0.6343\n",
      "Epoch 36/50\n",
      "2800/2800 [==============================] - 9s 3ms/step - loss: 1.8311 - acc: 0.6000 - val_loss: 0.8128 - val_acc: 0.6329\n",
      "Epoch 37/50\n",
      "2800/2800 [==============================] - 9s 3ms/step - loss: 1.8925 - acc: 0.5871 - val_loss: 0.8070 - val_acc: 0.6257\n",
      "Epoch 38/50\n",
      "2800/2800 [==============================] - 10s 4ms/step - loss: 1.8934 - acc: 0.6018 - val_loss: 0.7994 - val_acc: 0.6314\n",
      "Epoch 39/50\n",
      "2800/2800 [==============================] - 11s 4ms/step - loss: 1.8955 - acc: 0.5854 - val_loss: 0.7940 - val_acc: 0.6314\n",
      "Epoch 40/50\n",
      "2800/2800 [==============================] - 10s 4ms/step - loss: 1.9386 - acc: 0.5879 - val_loss: 0.7873 - val_acc: 0.6386\n",
      "Epoch 41/50\n",
      "2800/2800 [==============================] - 9s 3ms/step - loss: 2.0044 - acc: 0.5729 - val_loss: 0.7821 - val_acc: 0.6400\n",
      "Epoch 42/50\n",
      "2800/2800 [==============================] - 10s 3ms/step - loss: 1.9098 - acc: 0.5993 - val_loss: 0.7745 - val_acc: 0.6386\n",
      "Epoch 43/50\n",
      "2800/2800 [==============================] - 10s 4ms/step - loss: 1.9433 - acc: 0.5982 - val_loss: 0.7696 - val_acc: 0.6371\n",
      "Epoch 44/50\n",
      "2800/2800 [==============================] - 10s 3ms/step - loss: 1.8279 - acc: 0.6175 - val_loss: 0.7629 - val_acc: 0.6471\n",
      "Epoch 45/50\n",
      "2800/2800 [==============================] - 9s 3ms/step - loss: 1.9439 - acc: 0.5989 - val_loss: 0.7595 - val_acc: 0.6400\n",
      "Epoch 46/50\n",
      "2800/2800 [==============================] - 10s 3ms/step - loss: 1.8205 - acc: 0.6136 - val_loss: 0.7523 - val_acc: 0.6543\n",
      "Epoch 47/50\n",
      "2800/2800 [==============================] - 10s 3ms/step - loss: 1.9083 - acc: 0.6096 - val_loss: 0.7476 - val_acc: 0.6571\n",
      "Epoch 48/50\n",
      "2800/2800 [==============================] - 9s 3ms/step - loss: 1.8421 - acc: 0.6100 - val_loss: 0.7451 - val_acc: 0.6500\n",
      "Epoch 49/50\n",
      "2800/2800 [==============================] - 9s 3ms/step - loss: 1.8923 - acc: 0.5979 - val_loss: 0.7414 - val_acc: 0.6514\n",
      "Epoch 50/50\n",
      "2800/2800 [==============================] - 9s 3ms/step - loss: 1.8697 - acc: 0.6171 - val_loss: 0.7349 - val_acc: 0.6586\n"
     ]
    },
    {
     "data": {
      "image/png": "[encoded data removed]",
      "text/plain": [
       "<Figure size 432x288 with 1 Axes>"
      ]
     },
     "metadata": {
      "needs_background": "light"
     },
     "output_type": "display_data"
    },
    {
     "name": "stdout",
     "output_type": "stream",
     "text": [
      "Wall time: 7min 37s\n"
     ]
    }
   ],
   "source": [
    "%%time\n",
    "\n",
    "# 1) Categorical\n",
    "# Define the Model & its Architecture\n",
    "in_low = Input(shape=(max_len,), dtype='int32', name='low')\n",
    "x = layers.Embedding(max_features, emb_dim)(in_low)\n",
    "x = layers.Dense(1, activation='sigmoid')(x)\n",
    "x = layers.PReLU()(x)\n",
    "x = layers.BatchNormalization()(x)\n",
    "out_low = layers.Dropout(0.2)(x)\n",
    "\n",
    "in_mid = Input(shape=(max_len,), dtype='int32', name='mid')\n",
    "x = layers.Embedding(max_features//10, emb_dim)(in_mid)\n",
    "x = layers.Dense(1, activation='sigmoid')(x)\n",
    "x = layers.PReLU()(x)\n",
    "x = layers.BatchNormalization()(x)\n",
    "out_mid = layers.Dropout(0.2)(x)\n",
    "\n",
    "in_high = Input(shape=(max_len,), dtype='int32', name='high')\n",
    "x = layers.Embedding(max_features//100, emb_dim)(in_high)\n",
    "x = layers.Dense(1, activation='sigmoid')(x)\n",
    "x = layers.PReLU()(x)\n",
    "x = layers.BatchNormalization()(x)\n",
    "out_high = layers.Dropout(0.2)(x)\n",
    "\n",
    "in_str = Input(shape=(max_len,), dtype='int32', name='store')\n",
    "x = layers.Embedding(max_features//100, emb_dim)(in_str)\n",
    "x = layers.Dense(1, activation='sigmoid')(x)\n",
    "x = layers.PReLU()(x)\n",
    "x = layers.BatchNormalization()(x)\n",
    "out_str = layers.Dropout(0.2)(x)\n",
    "\n",
    "x = layers.add([out_low, out_mid, out_high, out_str])\n",
    "x = layers.Dense(1, activation='sigmoid')(x)\n",
    "x = layers.GlobalMaxPooling1D()(x)\n",
    "x = layers.PReLU()(x)\n",
    "x = layers.BatchNormalization()(x)\n",
    "out_cat = layers.Dropout(0.5)(x)\n",
    "\n",
    "# 2) Numerical\n",
    "in_num = Input(shape=(15,), dtype='float', name='num')\n",
    "x = layers.Dense(1, activation='sigmoid')(in_num)\n",
    "x = layers.PReLU()(x)\n",
    "x = layers.BatchNormalization()(x)\n",
    "out_num = layers.Dropout(0.5)(x)\n",
    "\n",
    "# 3) W2V\n",
    "in_w2v = Input(shape=(300,), dtype='float', name='w2v')\n",
    "x = layers.Dense(1, activation='sigmoid')(in_w2v)\n",
    "x = layers.PReLU()(x)\n",
    "x = layers.BatchNormalization()(x)\n",
    "out_w2v = layers.Dropout(0.5)(x)\n",
    "\n",
    "# 4) Conv2D\n",
    "in_conv2d = Input(shape=(11,53,70), dtype='float', name='conv2d')\n",
    "x = layers.Conv2D(1, kernel_size=(4,4),strides=(2,2), activation='tanh', padding='same', data_format = 'channels_first')(in_conv2d)\n",
    "x = layers.Conv2D(1, kernel_size=(1,1),strides=(1,1), activation='tanh')(x)\n",
    "x = layers.Flatten()(x)\n",
    "x = layers.Dense(1, activation='sigmoid')(x)\n",
    "x = layers.PReLU()(x)\n",
    "x = layers.BatchNormalization()(x)\n",
    "out_conv2d = layers.Dropout(0.5)(x)\n",
    "\n",
    "# 5) Conv1D\n",
    "in_conv1d = Input(shape=(max_len,), dtype='int32', name='conv1d')\n",
    "x = layers.Embedding(max_features, emb_dim)(in_conv1d)\n",
    "x = layers.Conv1D(32, 3, activation='elu')(x)\n",
    "x = layers.MaxPooling1D(3)(x)\n",
    "x = layers.Conv1D(32, 3, activation='elu')(x)\n",
    "x = layers.GlobalMaxPooling1D()(x)\n",
    "x = layers.Dense(1, activation='sigmoid')(x)\n",
    "x = layers.PReLU()(x)\n",
    "x = layers.BatchNormalization()(x)\n",
    "out_conv1d = layers.Dropout(0.5)(x)\n",
    "\n",
    "# 6) One-hot Encoding + AE\n",
    "in_AE = Input(shape=(max_f,), dtype='float', name='AE')\n",
    "x = layers.Dense(32, activation='relu', kernel_regularizer=regularizers.l2(0.01))(in_AE)\n",
    "x = layers.Dropout(0.3)(x)\n",
    "x = layers.Dense(16, activation='relu')(x)\n",
    "x = layers.Dropout(0.3)(x)\n",
    "x = layers.Dense(1, activation='sigmoid')(x)\n",
    "x = layers.PReLU()(x)\n",
    "x = layers.BatchNormalization()(x)\n",
    "out_AE = layers.Dropout(0.5)(x)\n",
    "\n",
    "\n",
    "# Merge above 1~6\n",
    "x = layers.add([out_cat, out_num, out_w2v, out_conv2d, out_conv1d, out_AE])\n",
    "x = layers.Dense(1, activation='sigmoid')(x)\n",
    "x = layers.PReLU()(x)\n",
    "x = layers.BatchNormalization()(x)\n",
    "x = layers.Dense(1, activation='sigmoid')(x)\n",
    "\n",
    "out = layers.Dropout(0.2)(x)\n",
    "\n",
    "model = Model([in_low, in_mid, in_high, in_str, in_num, in_w2v, in_conv2d, in_conv1d, in_AE], out)\n",
    "model.summary()\n",
    "\n",
    "# Choose the Optimizer and the Cost function\n",
    "model.compile(optimizer=RMSprop(lr=1e-4), loss='binary_crossentropy', metrics=['acc'])\n",
    "\n",
    "# Train the Model\n",
    "history = model.fit([X_train_low, X_train_mid, X_train_high, X_train_str, X_train_num, X_train_w2v, X_train_conv2d, X_train_conv1d, X_train_AE], y_train, epochs=50, batch_size=128, \n",
    "                    validation_split=0.2, callbacks=[EarlyStopping(patience=5)])\n",
    "\n",
    "plt.plot(history.history[\"loss\"], label=\"train loss\")\n",
    "plt.plot(history.history[\"val_loss\"], label=\"validation loss\")\n",
    "plt.legend()\n",
    "plt.title(\"Loss\")\n",
    "plt.show()"
   ]
  },
  {
   "cell_type": "markdown",
   "metadata": {
    "_uuid": "955f01b712baae9b8eff654a994f9e278fa5131b"
   },
   "source": [
    "### Submission file"
   ]
  },
  {
   "cell_type": "code",
   "execution_count": 37,
   "metadata": {
    "_uuid": "b0d02875cd315b63b9ffc69fb8ea258a6ecbfd44"
   },
   "outputs": [
    {
     "name": "stdout",
     "output_type": "stream",
     "text": [
      "'all_in_one_submit.csv' is ready to submit.\n"
     ]
    }
   ],
   "source": [
    "pred = model.predict([X_test_low, X_test_mid, X_test_high, X_test_str, X_test_num, X_test_w2v, X_test_conv2d, X_test_conv1d, X_test_AE])[:,0]\n",
    "fname = 'all_in_one_submit.csv'\n",
    "submissions = pd.concat([pd.Series(IDtest, name=\"cust_id\"), pd.Series(pred, name=\"gender\")] ,axis=1)\n",
    "submissions.to_csv(fname, index=False)\n",
    "print(\"'{}' is ready to submit.\" .format(fname))"
   ]
  },
  {
   "cell_type": "markdown",
   "metadata": {},
   "source": [
    "<font color='tomato'><font color=\"#CC3D3D\"><p>\n",
    "# End"
   ]
  }
 ],
 "metadata": {
  "kernelspec": {
   "display_name": "Python 3",
   "language": "python",
   "name": "python3"
  },
  "language_info": {
   "codemirror_mode": {
    "name": "ipython",
    "version": 3
   },
   "file_extension": ".py",
   "mimetype": "text/x-python",
   "name": "python",
   "nbconvert_exporter": "python",
   "pygments_lexer": "ipython3",
   "version": "3.7.6"
  }
 },
 "nbformat": 4,
 "nbformat_minor": 1
}
