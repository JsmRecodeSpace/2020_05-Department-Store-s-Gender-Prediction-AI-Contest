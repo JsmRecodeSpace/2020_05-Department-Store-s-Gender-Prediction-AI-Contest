{
 "cells": [
  {
   "cell_type": "markdown",
   "metadata": {},
   "source": [
    "libraries"
   ]
  },
  {
   "cell_type": "code",
   "execution_count": 1,
   "metadata": {},
   "outputs": [
    {
     "name": "stderr",
     "output_type": "stream",
     "text": [
      "Using TensorFlow backend.\n"
     ]
    }
   ],
   "source": [
    "# Data Wrangling\n",
    "import pandas as pd\n",
    "from pandas import Series, DataFrame\n",
    "import numpy as np\n",
    "\n",
    "# Visualization\n",
    "import seaborn as sns\n",
    "import matplotlib.pylab as plt\n",
    "from matplotlib import font_manager, rc\n",
    "\n",
    "# Preprocessing\n",
    "from sklearn.model_selection import train_test_split\n",
    "from sklearn.preprocessing import OneHotEncoder\n",
    "from sklearn.decomposition import PCA\n",
    "from sklearn.impute import SimpleImputer\n",
    "from sklearn.preprocessing import MinMaxScaler\n",
    "from sklearn.preprocessing import StandardScaler\n",
    "from sklearn.compose import make_column_transformer\n",
    "from sklearn.pipeline import Pipeline\n",
    "from sklearn.pipeline import make_pipeline\n",
    "from sklearn.pipeline import FeatureUnion\n",
    "\n",
    "from sklearn.feature_selection import SelectFromModel\n",
    "from sklearn.feature_selection import SelectKBest\n",
    "from sklearn.feature_selection import SelectPercentile\n",
    "from sklearn.preprocessing import PolynomialFeatures\n",
    "\n",
    "# Modeling\n",
    "from sklearn.model_selection import GridSearchCV\n",
    "from sklearn.model_selection import RandomizedSearchCV\n",
    "\n",
    "from sklearn.dummy import DummyClassifier\n",
    "from sklearn.linear_model import LogisticRegression\n",
    "from sklearn.neighbors import KNeighborsClassifier\n",
    "from sklearn.ensemble import BaggingClassifier\n",
    "from sklearn.ensemble import RandomForestClassifier\n",
    "from sklearn.ensemble import AdaBoostClassifier\n",
    "from sklearn.neural_network import MLPClassifier\n",
    "from sklearn.tree import DecisionTreeClassifier\n",
    "from sklearn.ensemble import GradientBoostingClassifier\n",
    "from sklearn.svm import SVC\n",
    "from xgboost import XGBClassifier\n",
    "from lightgbm import LGBMClassifier\n",
    "\n",
    "from sklearn.ensemble import VotingClassifier\n",
    "from vecstack import stacking\n",
    "from scipy.stats.mstats import gmean\n",
    "\n",
    "# Evaluation\n",
    "from sklearn.metrics import roc_auc_score\n",
    "from sklearn.metrics import accuracy_score\n",
    "from sklearn.metrics import average_precision_score\n",
    "from sklearn.model_selection import cross_val_score\n",
    "from sklearn.model_selection import StratifiedKFold\n",
    "from sklearn.model_selection import KFold\n",
    "from sklearn.metrics import confusion_matrix\n",
    "from sklearn.metrics import classification_report\n",
    "from sklearn.metrics import roc_curve\n",
    "from sklearn.metrics import auc\n",
    "from sklearn.metrics import precision_recall_curve\n",
    "from sklearn.model_selection import LeaveOneOut\n",
    "from sklearn.model_selection import ShuffleSplit\n",
    "\n",
    "# Utility\n",
    "import os\n",
    "import time\n",
    "import random\n",
    "import warnings; warnings.filterwarnings(\"ignore\")\n",
    "from IPython.display import Image\n",
    "from sklearn.externals import joblib\n",
    "import pickle\n",
    "from itertools import combinations\n",
    "import gc\n",
    "from tqdm import tqdm\n",
    "import platform\n",
    "\n",
    "# Keras\n",
    "import tensorflow as tf\n",
    "# Tensorflow warning off\n",
    "if tf.__version__[0] < '2':\n",
    "    os.environ['TF_CPP_MIN_LOG_LEVEL'] = '3'\n",
    "    tf.logging.set_verbosity(tf.logging.ERROR)\n",
    "import keras\n",
    "from keras import backend as K\n",
    "from keras.layers import * #Input, Dense\n",
    "from keras.models import * #Model\n",
    "from keras.optimizers import *\n",
    "from keras.initializers import *\n",
    "from keras.regularizers import *\n",
    "from keras.constraints import *\n",
    "from keras.utils.np_utils import *\n",
    "from keras.utils.vis_utils import * #model_to_dot\n",
    "from keras.preprocessing.image import *\n",
    "from keras.preprocessing.text import one_hot\n",
    "from keras.preprocessing.sequence import pad_sequences\n",
    "from keras.callbacks import *\n",
    "\n",
    "from keras.models import Model, Sequential\n",
    "from keras import Input\n",
    "from keras import layers\n",
    "from keras.optimizers import RMSprop\n",
    "from keras.constraints import max_norm\n",
    "from keras.callbacks import EarlyStopping\n"
   ]
  },
  {
   "cell_type": "markdown",
   "metadata": {},
   "source": [
    "read data & set seed"
   ]
  },
  {
   "cell_type": "code",
   "execution_count": 2,
   "metadata": {},
   "outputs": [],
   "source": [
    "# read data\n",
    "df_train = pd.read_csv('X_train.csv', encoding='cp949')\n",
    "df_test = pd.read_csv('X_test.csv', encoding='cp949')\n",
    "y_train = pd.read_csv('y_train.csv', encoding='cp949').gender\n",
    "IDtest = df_test['cust_id'].unique()\n",
    "\n",
    "# set seed\n",
    "seed = 2020\n",
    "random.seed(seed)\n",
    "np.random.seed(seed)\n",
    "tf.random.set_seed(seed)"
   ]
  },
  {
   "cell_type": "markdown",
   "metadata": {},
   "source": [
    "transform data"
   ]
  },
  {
   "cell_type": "code",
   "execution_count": 3,
   "metadata": {},
   "outputs": [],
   "source": [
    "# 띄어쓰기, 점, 콤마, 세로바 없애기\n",
    "\n",
    "before = [\n",
    "# 띄어쓰기\n",
    "'기초 화장품', '니  트', '캐릭터 여화', '캐릭터 남화', '수      저', '4대 B/D', 'N/B 아동복', '수입 아동복', '스낵형 델리','수입청소기 외','영 캐릭터','영 트렌디','식기 단독매입','커       튼','생활잡화 단독매입',\n",
    "'가구 단독매입','커리어 행사','가 방','패션 단독매입','시티 단독매입','신생아완구 단독매입','MP3 外','인텔리젼스 행사',\n",
    "'구두 단독매입','시네마 매점','시티웨어 행사','장신 단독매입','NB 남화','남성시티 직매입','영플라자 (올리브핫스텁)',\n",
    "'색조 화장품','NB 여화','직수입 골프의류','트래디 행사','IT 게임기,S/W','TAKE OUT','주방 단독매입','셔츠 직매입(PB)', '남성정장 직매입',\n",
    "# 점\n",
    "'N.B정장', '즉석.스넥(매장)','N.B', 'L.B',\n",
    "# 콤마\n",
    "'기타(가발,포장,담배,끽연구,사진,수선)', '원목,학생,철재',  \n",
    "# 세로바\n",
    "'N/B골프의류', 'L/C 아동복', 'L/C골프의류', '4대B/D', '우/양산(특정)', 'N/B아동복', 'L/C정장', '국산A/V','수입A/V','영플라자(진/유니)',\n",
    "'IT게임기,S/W', '피아노/악기',\n",
    "] \n",
    "\n",
    "after = ['기초화장품', '니트', '캐릭터여화', '캐릭터남화', '수저', '4대B/D', 'N/B아동복', '수입아동복', '스낵형델리','수입청소기외','영캐릭터','영트렌디','식기단독매입','커튼','생활잡화단독매입','가구단독매입',\n",
    "'커리어행사','가방','패션단독매입','시티단독매입','신생아완구단독매입','MP3外','인텔리젼스행사','구두단독매입','시네마매점','시티웨어행사','장신단독매입','NB남화','남성시티직매입','영플라자(올리브핫스텁)',\n",
    "'색조화장품','NB여화','직수입골프의류','트래디행사','IT게임기,S/W','TAKEOUT','주방단독매입','셔츠직매입(PB)', '남성정장직매입',\n",
    "'NB정장', '즉석스넥(매장)','NB', 'LB', '기타(가발포장담배끽연구사진수선)', '원목학생철재',\n",
    "'NB골프의류', 'LC아동복', 'LC골프의류', '4대BD', '우양산(특정)', 'NB아동복', 'LC정장', '국산AV','수입AV','영플라자(진유니)',\n",
    "'IT게임기SW', '피아노악기',]\n",
    "\n",
    "\n",
    "\n",
    "df_train.gds_grp_nm = df_train.gds_grp_nm.replace(before, after)\n",
    "df_test.gds_grp_nm = df_test.gds_grp_nm.replace(before, after)"
   ]
  },
  {
   "cell_type": "code",
   "execution_count": 11,
   "metadata": {},
   "outputs": [],
   "source": [
    "max_features_nm = 340 # 중분류 nunique = 330\n",
    "maxlen_nm = 450 # oversample n=3 일때 np.mean: 397\n",
    "                # 100 결과: 720, 450 결과: 724, 600결과: 718, 500결과: 716\n",
    "emb_dim_nm = 128 # 임베딩 벡터의 출력 차원. 결과로서 나오는 임베딩 벡터의 크기\n",
    "\n",
    "# Converts a \"gds_grp_nm\" to a sequence of indexes in a fixed-size hashing space\n",
    "X_train_nm = df_train.groupby('cust_id')['gds_grp_nm'].apply(lambda x: [one_hot(products, max_features_nm)[0] for products in x]).values\n",
    "X_test_nm = df_test.groupby('cust_id')['gds_grp_nm'].apply(lambda x: [one_hot(products, max_features_nm)[0] for products in x]).values\n",
    "\n",
    "\n",
    "# oversample2: \n",
    "    # 1. unique X(get all products with duplication)\n",
    "    # 2. replace=True(Restoration extraction)\n",
    "    # 3. more buy, more oversample\n",
    "    #       -> if you want to oversample in same ratio, just adjust n=1 to oversample=1, and erase 'for oversample in range(n)'\n",
    "\n",
    "def oversample2(data, n=1, seed=seed):\n",
    "    \n",
    "    np.random.seed(seed)\n",
    "    \n",
    "    customerProducts = []\n",
    "    \n",
    "    for products in data:\n",
    "        \n",
    "        for oversample in range(n):\n",
    "            \n",
    "            products = list(np.append(products, np.random.choice(products, len(products) * oversample, replace=True)))\n",
    "            \n",
    "        customerProducts.append(products)\n",
    "        \n",
    "    return customerProducts"
   ]
  },
  {
   "cell_type": "code",
   "execution_count": 12,
   "metadata": {},
   "outputs": [],
   "source": [
    "X_train_nm = oversample2(X_train_nm, 3)\n",
    "X_test_nm = oversample2(X_test_nm, 3)\n",
    "y_train = pd.read_csv('y_train.csv', encoding='cp949').gender"
   ]
  },
  {
   "cell_type": "code",
   "execution_count": 13,
   "metadata": {},
   "outputs": [
    {
     "data": {
      "text/plain": [
       "((3500, 450), (2482, 450))"
      ]
     },
     "execution_count": 13,
     "metadata": {},
     "output_type": "execute_result"
    }
   ],
   "source": [
    "# 차이를 한번 봐야함: pad_sequences에서 truncating 하는 것이 좋은지, 안하는 것이 성능이 더 좋은지\n",
    "# 1. 일단 적은 양으로 가보기 위해 truncating 실시.\n",
    "# 2. 중분류 외 다른 피쳐 해보기, 또는 중분류에 추가해보기\n",
    "\n",
    "X_train_nm = pad_sequences(X_train_nm, maxlen=maxlen_nm, padding='post', truncating='post', value=0)\n",
    "X_test_nm = pad_sequences(X_test_nm, maxlen=maxlen_nm, padding='post', truncating='post', value=0)\n",
    "\n",
    "X_train_nm.shape, X_test_nm.shape"
   ]
  },
  {
   "cell_type": "markdown",
   "metadata": {},
   "source": [
    "##### Split data into train & validation set "
   ]
  },
  {
   "cell_type": "code",
   "execution_count": 14,
   "metadata": {},
   "outputs": [],
   "source": [
    "# Train/Validation\n",
    "i = int(round(X_train_nm.shape[0] * 0.8,0))\n",
    "X_valid, y_valid = X_train_nm[i:], y_train[i:]\n",
    "X_train, y_train = X_train_nm[:i], y_train[:i]"
   ]
  },
  {
   "cell_type": "markdown",
   "metadata": {},
   "source": [
    "build models"
   ]
  },
  {
   "cell_type": "code",
   "execution_count": 15,
   "metadata": {},
   "outputs": [
    {
     "name": "stdout",
     "output_type": "stream",
     "text": [
      "Model: \"cnn_model\"\n",
      "_________________________________________________________________\n",
      "Layer (type)                 Output Shape              Param #   \n",
      "=================================================================\n",
      "embedding_2 (Embedding)      (None, None, 128)         43520     \n",
      "_________________________________________________________________\n",
      "conv1d_3 (Conv1D)            (None, None, 32)          12320     \n",
      "_________________________________________________________________\n",
      "max_pooling1d_2 (MaxPooling1 (None, None, 32)          0         \n",
      "_________________________________________________________________\n",
      "conv1d_4 (Conv1D)            (None, None, 32)          3104      \n",
      "_________________________________________________________________\n",
      "global_max_pooling1d_2 (Glob (None, 32)                0         \n",
      "_________________________________________________________________\n",
      "dropout_2 (Dropout)          (None, 32)                0         \n",
      "_________________________________________________________________\n",
      "dense_2 (Dense)              (None, 1)                 33        \n",
      "=================================================================\n",
      "Total params: 58,977\n",
      "Trainable params: 58,977\n",
      "Non-trainable params: 0\n",
      "_________________________________________________________________\n"
     ]
    }
   ],
   "source": [
    "model = Sequential(name = 'cnn_model')\n",
    "model.add(layers.Embedding(max_features_nm, emb_dim_nm))\n",
    "model.add(layers.Conv1D(32, 3, activation='elu'))\n",
    "model.add(layers.MaxPooling1D(3))\n",
    "model.add(layers.Conv1D(32, 3, activation='elu'))\n",
    "model.add(layers.GlobalMaxPooling1D())\n",
    "model.add(layers.Dropout(0.3))\n",
    "model.add(layers.Dense(1, activation='sigmoid'))\n",
    "# choose the Optimizere and the Cost function\n",
    "model.compile(optimizer='adam', loss='binary_crossentropy', metrics=['acc'])\n",
    "\n",
    "model.summary()"
   ]
  },
  {
   "cell_type": "markdown",
   "metadata": {},
   "source": [
    "Train the Model"
   ]
  },
  {
   "cell_type": "code",
   "execution_count": 16,
   "metadata": {
    "scrolled": true
   },
   "outputs": [
    {
     "name": "stdout",
     "output_type": "stream",
     "text": [
      "Train on 2800 samples, validate on 700 samples\n",
      "Epoch 1/100\n",
      "2800/2800 [==============================] - 2s 767us/step - loss: 0.6404 - acc: 0.6393 - val_loss: 0.6104 - val_acc: 0.6486\n",
      "Epoch 2/100\n",
      "2800/2800 [==============================] - 2s 778us/step - loss: 0.5870 - acc: 0.6921 - val_loss: 0.5866 - val_acc: 0.6871\n",
      "Epoch 3/100\n",
      "2800/2800 [==============================] - 2s 885us/step - loss: 0.5640 - acc: 0.7139 - val_loss: 0.5902 - val_acc: 0.6800\n",
      "Epoch 4/100\n",
      "2800/2800 [==============================] - 2s 889us/step - loss: 0.5540 - acc: 0.7229 - val_loss: 0.5845 - val_acc: 0.6914\n",
      "Epoch 5/100\n",
      "2800/2800 [==============================] - 3s 933us/step - loss: 0.5429 - acc: 0.7332 - val_loss: 0.5926 - val_acc: 0.6800\n",
      "Epoch 6/100\n",
      "2800/2800 [==============================] - 3s 969us/step - loss: 0.5387 - acc: 0.7393 - val_loss: 0.5946 - val_acc: 0.6943\n",
      "Epoch 7/100\n",
      "2800/2800 [==============================] - 3s 915us/step - loss: 0.5263 - acc: 0.7493 - val_loss: 0.5918 - val_acc: 0.6900\n",
      "Epoch 8/100\n",
      "2800/2800 [==============================] - 2s 848us/step - loss: 0.5157 - acc: 0.7493 - val_loss: 0.6002 - val_acc: 0.6914\n",
      "Epoch 9/100\n",
      "2800/2800 [==============================] - 2s 853us/step - loss: 0.5045 - acc: 0.7611 - val_loss: 0.5972 - val_acc: 0.6829\n"
     ]
    },
    {
     "data": {
      "image/png": "[encoded data removed]",
      "text/plain": [
       "<Figure size 432x288 with 1 Axes>"
      ]
     },
     "metadata": {
      "needs_background": "light"
     },
     "output_type": "display_data"
    }
   ],
   "source": [
    "hist = model.fit(X_train, y_train, validation_data=(X_valid, y_valid),\n",
    "                 epochs=100, batch_size=64, #validation_split=0.2,\n",
    "                 callbacks=[EarlyStopping(patience=5)])\n",
    "\n",
    "plt.plot(hist.history['loss'], label='train loss')\n",
    "plt.plot(hist.history['val_loss'], label = 'validation loss')\n",
    "plt.legend()\n",
    "plt.title('loss')\n",
    "plt.show()"
   ]
  },
  {
   "cell_type": "markdown",
   "metadata": {},
   "source": [
    "evalutate the model performance"
   ]
  },
  {
   "cell_type": "code",
   "execution_count": 18,
   "metadata": {},
   "outputs": [
    {
     "name": "stdout",
     "output_type": "stream",
     "text": [
      "700/700 [==============================] - 0s 207us/step\n",
      "[0.5972378788675581, 0.6828571557998657]\n",
      "\n",
      "0.7297704684459272\n"
     ]
    }
   ],
   "source": [
    "print(model.evaluate(X_valid, y_valid))\n",
    "# ROC-AUC\n",
    "print()\n",
    "print(roc_auc_score(y_valid, model.predict(X_valid)))"
   ]
  },
  {
   "cell_type": "markdown",
   "metadata": {},
   "source": [
    "make submissions"
   ]
  },
  {
   "cell_type": "code",
   "execution_count": 156,
   "metadata": {},
   "outputs": [],
   "source": [
    "pred = model.predict(X_test_nm)[:,0]"
   ]
  },
  {
   "cell_type": "code",
   "execution_count": 157,
   "metadata": {},
   "outputs": [
    {
     "data": {
      "text/plain": [
       "array([0.53096324, 0.07837042, 0.26985273, 0.42824668, 0.1724956 ,\n",
       "       0.4152102 , 0.0687066 , 0.83847576, 0.4857877 , 0.13549984,\n",
       "       0.09458235, 0.15756002, 0.72020066, 0.08413813, 0.34514606,\n",
       "       0.13465306, 0.04688558, 0.07157484, 0.24924836, 0.88880587,\n",
       "       0.77399206, 0.6496856 , 0.7040808 , 0.22553408, 0.19519165,\n",
       "       0.6074631 , 0.22560093, 0.8040745 , 0.44003698, 0.18268272,\n",
       "       0.2190204 , 0.5444505 , 0.03688443, 0.24505773, 0.54306614,\n",
       "       0.05554578, 0.05418253, 0.70698124, 0.5563174 , 0.5513121 ,\n",
       "       0.30834824, 0.13680121, 0.11692536, 0.7770626 , 0.12462425,\n",
       "       0.36617547, 0.26136017, 0.06161264, 0.60382843, 0.17389932],\n",
       "      dtype=float32)"
      ]
     },
     "execution_count": 157,
     "metadata": {},
     "output_type": "execute_result"
    }
   ],
   "source": [
    "pred[:50]"
   ]
  },
  {
   "cell_type": "code",
   "execution_count": 27,
   "metadata": {},
   "outputs": [
    {
     "name": "stdout",
     "output_type": "stream",
     "text": [
      "'conv1d_submissions.csv' is ready to submit.\n"
     ]
    }
   ],
   "source": [
    "fname = 'conv1d_submissions.csv'\n",
    "submissions = pd.concat([pd.Series(IDtest, name=\"cust_id\"), pd.Series(pred, name=\"gender\")] ,axis=1)\n",
    "submissions.to_csv(fname, index=False)\n",
    "print(f\"'{fname}' is ready to submit.\")"
   ]
  },
  {
   "cell_type": "code",
   "execution_count": null,
   "metadata": {},
   "outputs": [],
   "source": []
  },
  {
   "cell_type": "code",
   "execution_count": null,
   "metadata": {},
   "outputs": [],
   "source": []
  },
  {
   "cell_type": "code",
   "execution_count": null,
   "metadata": {},
   "outputs": [],
   "source": []
  },
  {
   "cell_type": "code",
   "execution_count": null,
   "metadata": {},
   "outputs": [],
   "source": []
  },
  {
   "cell_type": "code",
   "execution_count": null,
   "metadata": {},
   "outputs": [],
   "source": []
  },
  {
   "cell_type": "raw",
   "metadata": {},
   "source": [
    "embedding -> 단어 임베딩\n",
    "Cov1D -> 분석과 추출\n",
    "MaxPooling1D\n",
    "model.add(layers.MaxPool2D(2,2)) -> 이건 이미지 3차원에서\n",
    "DropOut -> 일부 계산에서 드롭시켜 진행함\n",
    "\n",
    "MaxPooling vs GloabalMaxPooling\n",
    "\n",
    "순서: Seqential - input_shape - Embedding - Conv1D(relu) - MaxPooling1D\n",
    "\n",
    "\n",
    "(conv2d  - pooling - dropout) * n - flatten - relu, \n",
    "(conv1d - pooling - lstm - drop - dense)"
   ]
  },
  {
   "cell_type": "markdown",
   "metadata": {},
   "source": [
    "```python\n",
    "def rcnn(input_shape, n_classes):\n",
    "    \"\"\"\n",
    "    Input size should be [batch, 1d, ch] = (XXX, 3000, 1)\n",
    "    \"\"\"\n",
    "    model = Sequential(name='RCNN test')\n",
    "    model.add(Conv1D (kernel_size = (200), filters = 20, batch_input_shape=input_shape, activation='elu'))\n",
    "    model.add(MaxPooling1D(pool_size = (20), strides=(10)))\n",
    "    model.add(Conv1D (kernel_size = (20), filters = 200, activation='elu'))\n",
    "    model.add(MaxPooling1D(pool_size = (10), strides=(3)))\n",
    "    model.add(Conv1D (kernel_size = (20), filters = 200, activation='elu'))\n",
    "    model.add(MaxPooling1D(pool_size = (10), strides=(3)))\n",
    "    model.add(Dense (512, activation='elu'))\n",
    "    model.add(Dense (512, activation='elu'))\n",
    "    model.add(Reshape((1,model.output_shape[1])))\n",
    "    model.add(LSTM(256, stateful=True, return_sequences=False))\n",
    "    model.add(Dropout(0.3))\n",
    "    model.add(Dense(n_classes, activation = 'sigmoid'))\n",
    "    model.compile(loss='categorical_crossentropy', optimizer=Adadelta())\n",
    "    return model \n",
    "```"
   ]
  },
  {
   "cell_type": "markdown",
   "metadata": {},
   "source": [
    "```python\n",
    "def build_lstm(input_shape):\n",
    "    model = Sequential()\n",
    "    # model.add(Masking(input_shape=input_shape, mask_value=-1.))\n",
    "    model.add(Embedding(input_shape[0], 128, input_length=input_shape[1]))\n",
    "\n",
    "    model.add(Convolution1D(nb_filter=64,\n",
    "                            filter_length=5,\n",
    "                            border_mode='valid',\n",
    "                            activation='relu',\n",
    "                            subsample_length=1))\n",
    "    model.add(MaxPooling1D(pool_length=4))\n",
    "\n",
    "    model.add(GRU(128))\n",
    "\n",
    "    # model.add(GRU(128, return_sequences=False))\n",
    "    # Add dropout if overfitting\n",
    "    # model.add(Dropout(0.5))\n",
    "    model.add(Dense(1))\n",
    "    model.add(Activation('sigmoid'))\n",
    "    model.compile(loss='binary_crossentropy', optimizer='adam', metrics=['accuracy'])\n",
    "    return model \n",
    "```"
   ]
  },
  {
   "cell_type": "markdown",
   "metadata": {},
   "source": [
    "```python\n",
    "def custom_1D_CNN():\n",
    "    # Configuration for Neural network\n",
    "    VOCABULARY_SIZE = 5000\n",
    "    MAX_SEQUENCE_LENGTH = 300\n",
    "    OUTPUT_EMBEDDING_DIM = 100\n",
    "    # Build the model\n",
    "    custom_1D_CNN_model = Sequential()\n",
    "    custom_1D_CNN_model.add(Embedding(VOCABULARY_SIZE, OUTPUT_EMBEDDING_DIM, input_length=MAX_SEQUENCE_LENGTH))\n",
    "    custom_1D_CNN_model.add(Conv1D(filters=100, kernel_size=5, strides=1, padding='same', activation='relu'))\n",
    "    custom_1D_CNN_model.add(MaxPooling1D(pool_size=2, strides= None))\n",
    "    custom_1D_CNN_model.add(Dropout(0.2))\n",
    "    custom_1D_CNN_model.add(Conv1D(filters=100,kernel_size=5))\n",
    "    custom_1D_CNN_model.add(MaxPooling1D(pool_size=2, strides=1))\n",
    "    custom_1D_CNN_model.add(Dropout(0.3))\n",
    "    custom_1D_CNN_model.add(Flatten())\n",
    "    custom_1D_CNN_model.add(Dense(100, activation='relu'))\n",
    "\n",
    "    #custom_1D_CNN_model.add(Conv1D(50, 5, strides=1))\n",
    "    #custom_1D_CNN_model.add(MaxPooling1D(pool_size=3, strides=None))\n",
    "    custom_1D_CNN_model.add(Dense(20,activation='sigmoid'))\n",
    "    custom_1D_CNN_model.compile(loss='categorical_crossentropy', optimizer='adam', metrics=['accuracy'])\n",
    "    # Return the model\n",
    "    return custom_1D_CNN_model \n",
    "```"
   ]
  },
  {
   "cell_type": "markdown",
   "metadata": {},
   "source": [
    "```python\n",
    "\n",
    "def custom_C_LSTM_model():\n",
    "    # Configuration for Neural network\n",
    "    VOCABULARY_SIZE = 5000\n",
    "    MAX_SEQUENCE_LENGTH = 1000\n",
    "    OUTPUT_EMBEDDING_DIM = 32\n",
    "    \n",
    "    # Create a sequential model\n",
    "    custom_cLSTM_model = Sequential()\n",
    "    custom_cLSTM_model.add(Embedding(VOCABULARY_SIZE, OUTPUT_EMBEDDING_DIM, input_length=MAX_SEQUENCE_LENGTH))\n",
    "    custom_cLSTM_model.add(Conv1D(filters=32, kernel_size=3, strides=1, padding='same', activation='relu'))\n",
    "    custom_cLSTM_model.add(MaxPooling1D(pool_size=2))\n",
    "    custom_cLSTM_model.add(LSTM(100))\n",
    "    custom_cLSTM_model.add(Dense(20, activation='sigmoid'))\n",
    "    custom_cLSTM_model.compile(loss='categorical_crossentropy', optimizer='adam', metrics=['accuracy'])\n",
    "\n",
    "    #Return the compiled neural network model\n",
    "    return custom_cLSTM_model \n",
    "```"
   ]
  },
  {
   "cell_type": "markdown",
   "metadata": {},
   "source": [
    "```python\n",
    "def __init__(self, embedding_matrix, max_seq_len, n_classes, num_filters = 64, weight_decay = 1e-4):\n",
    "\n",
    "        nb_words = embedding_matrix.shape[0]\n",
    "        embed_dim = embedding_matrix.shape[1]\n",
    "\n",
    "        self.model = Sequential()\n",
    "        self.model.add(Embedding(nb_words, embed_dim,\n",
    "            weights=[embedding_matrix], input_length=max_seq_len, trainable=False))\n",
    "        self.model.add(Conv1D(num_filters, 7, activation='relu', padding='same'))\n",
    "        self.model.add(MaxPooling1D(2))\n",
    "        self.model.add(Conv1D(num_filters, 7, activation='relu', padding='same'))\n",
    "        self.model.add(GlobalMaxPooling1D())\n",
    "        self.model.add(Dropout(0.5))\n",
    "        self.model.add(Dense(32, activation='relu', kernel_regularizer=regularizers.l2(weight_decay)))\n",
    "        self.model.add(Dense(n_classes, activation='sigmoid'))  #multi-label (k-hot encoding)\n",
    "\n",
    "        adam = optimizers.Adam(lr=0.001, beta_1=0.9, beta_2=0.999, epsilon=1e-08, decay=0.0)\n",
    "        self.model.compile(loss='categorical_crossentropy', optimizer=adam, metrics=['accuracy'])\n",
    "        self.model.summary() \n",
    "        ```"
   ]
  },
  {
   "cell_type": "code",
   "execution_count": null,
   "metadata": {},
   "outputs": [],
   "source": [
    "def get_deep_conv_nn(input_shape,output_dimension):\n",
    "    model = Sequential()\n",
    "    model.add(Conv1D(filters=32,kernel_size=3,activation='relu',input_shape=input_shape,padding='same'))\n",
    "    model.add(Conv1D(filters=32,kernel_size=3,activation='relu',padding='same'))\n",
    "    model.add(MaxPooling1D(padding='same'))\n",
    "    model.add(Conv1D(filters=16,kernel_size=3,activation='relu',padding='same'))\n",
    "    model.add(Conv1D(filters=16,kernel_size=3,activation='relu',padding='same'))\n",
    "    model.add(MaxPooling1D(padding='same'))\n",
    "    model.add(Dropout(rate=0.2))\n",
    "    model.add(Flatten())\n",
    "    model.add(Dense(16,activation='relu'))\n",
    "    model.add(Dropout(rate=0.3))\n",
    "    model.add(Dense(8,activation='relu'))\n",
    "    model.add(Dropout(rate=0.3))\n",
    "    model.add(Dense(output_dimension,activation='sigmoid'))\n",
    "    model.compile(optimizer='adam',loss='binary_crossentropy',metrics=['accuracy'])\n",
    "    return model "
   ]
  },
  {
   "cell_type": "code",
   "execution_count": null,
   "metadata": {},
   "outputs": [],
   "source": [
    "def get_deep_cnn(input_dim,output_dim,vocab_dimension):\n",
    "    model = Sequential()\n",
    "    model.add(Embedding(input_dim=vocab_dimension, output_dim=125, input_length=input_dim))\n",
    "    model.add(Conv1D(32,3,activation='relu',padding='same'))\n",
    "    model.add(Dropout(0.3))\n",
    "    model.add(Conv1D(16,3,activation='relu',padding='same'))\n",
    "    model.add(MaxPooling1D(pool_size=2))\n",
    "    model.add(Conv1D(32,3,activation='relu',padding='same'))\n",
    "    model.add(Dropout(0.3))\n",
    "    model.add(Conv1D(16, 3, activation='relu', padding='same'))\n",
    "    model.add(MaxPooling1D(pool_size=2))\n",
    "    model.add(Flatten())\n",
    "    model.add(Dense(100,activation='relu'))\n",
    "    model.add(Dropout(0.35))\n",
    "    model.add(Dense(output_dim,activation='linear'))\n",
    "    model.compile(optimizer='adam', loss='mean_squared_error', metrics=['mean_squared_error'])\n",
    "    return model "
   ]
  },
  {
   "cell_type": "code",
   "execution_count": null,
   "metadata": {},
   "outputs": [],
   "source": [
    "def build_model(words, vec_len, review_len):\n",
    "    model = Sequential()\n",
    "    model.add(Embedding(words, vec_len, input_length=review_len))\n",
    "    model.add(Dropout(0.25))\n",
    "    model.add(Conv1D(32, 3, padding=\"same\"))\n",
    "    model.add(MaxPooling1D(pool_size=2))\n",
    "    model.add(Conv1D(16, 3, padding=\"same\"))\n",
    "    model.add(Flatten())\n",
    "    model.add(Dropout(0.25))\n",
    "    model.add(Dense(100, activation=\"sigmoid\"))\n",
    "    model.add(Dropout(0.25))\n",
    "    model.add(Dense(1, activation=\"sigmoid\"))\n",
    "    model.compile(loss=\"binary_crossentropy\", optimizer=\"adam\", metrics=[\"accuracy\"])\n",
    "    model.summary()\n",
    "    return model "
   ]
  },
  {
   "cell_type": "code",
   "execution_count": null,
   "metadata": {},
   "outputs": [],
   "source": [
    "def cnn3adam(input_shape, n_classes):\n",
    "    \"\"\"\n",
    "    Input size should be [batch, 1d, 2d, ch] = (None, 3000, 3)\n",
    "    \"\"\"\n",
    "    model = Sequential(name='cnn3adam')\n",
    "    model.add(Conv1D (kernel_size = (50), filters = 64, strides=5, input_shape=input_shape, kernel_initializer='he_normal', activation='elu')) \n",
    "    model.add(BatchNormalization())\n",
    "    model.add(Dropout(0.2))\n",
    "    \n",
    "    model.add(Conv1D (kernel_size = (5), filters = 128, strides=1, kernel_initializer='he_normal', activation='elu')) \n",
    "    model.add(BatchNormalization())\n",
    "    model.add(Dropout(0.2))\n",
    "    model.add(MaxPooling1D())\n",
    "    \n",
    "    model.add(Conv1D (kernel_size = (5), filters = 128, strides=2, kernel_initializer='he_normal', activation='elu')) \n",
    "    model.add(BatchNormalization())\n",
    "    model.add(Dropout(0.2))\n",
    "    model.add(MaxPooling1D())\n",
    "    \n",
    "    model.add(Flatten())\n",
    "    model.add(Dense (500, activation='elu', kernel_initializer='he_normal'))\n",
    "    model.add(BatchNormalization())\n",
    "    model.add(Dropout(0.5))\n",
    "    model.add(Dense (500, activation='elu', kernel_initializer='he_normal'))\n",
    "    model.add(BatchNormalization())\n",
    "    model.add(Dropout(0.5))\n",
    "    model.add(Dense(n_classes, activation = 'softmax'))\n",
    "    model.compile(loss='categorical_crossentropy', optimizer=Adam())\n",
    "    return model "
   ]
  },
  {
   "cell_type": "code",
   "execution_count": 14,
   "metadata": {
    "collapsed": true
   },
   "outputs": [
    {
     "ename": "NameError",
     "evalue": "name 'X_train' is not defined",
     "output_type": "error",
     "traceback": [
      "\u001b[1;31m---------------------------------------------------------------------------\u001b[0m",
      "\u001b[1;31mNameError\u001b[0m                                 Traceback (most recent call last)",
      "\u001b[1;32m<ipython-input-14-00d17e9b79e5>\u001b[0m in \u001b[0;36m<module>\u001b[1;34m\u001b[0m\n\u001b[0;32m     37\u001b[0m \u001b[1;33m\u001b[0m\u001b[0m\n\u001b[0;32m     38\u001b[0m     \u001b[1;32mreturn\u001b[0m \u001b[0mmodel\u001b[0m\u001b[1;33m\u001b[0m\u001b[1;33m\u001b[0m\u001b[0m\n\u001b[1;32m---> 39\u001b[1;33m \u001b[0mmodel\u001b[0m \u001b[1;33m=\u001b[0m \u001b[0mdeep_cnn_advanced\u001b[0m\u001b[1;33m(\u001b[0m\u001b[1;33m)\u001b[0m\u001b[1;33m\u001b[0m\u001b[1;33m\u001b[0m\u001b[0m\n\u001b[0m\u001b[0;32m     40\u001b[0m \u001b[0mmodel\u001b[0m\u001b[1;33m.\u001b[0m\u001b[0msummary\u001b[0m\u001b[1;33m(\u001b[0m\u001b[1;33m)\u001b[0m\u001b[1;33m\u001b[0m\u001b[1;33m\u001b[0m\u001b[0m\n",
      "\u001b[1;32m<ipython-input-14-00d17e9b79e5>\u001b[0m in \u001b[0;36mdeep_cnn_advanced\u001b[1;34m()\u001b[0m\n\u001b[0;32m      3\u001b[0m     \u001b[0mmodel\u001b[0m \u001b[1;33m=\u001b[0m \u001b[0mSequential\u001b[0m\u001b[1;33m(\u001b[0m\u001b[1;33m)\u001b[0m\u001b[1;33m\u001b[0m\u001b[1;33m\u001b[0m\u001b[0m\n\u001b[0;32m      4\u001b[0m \u001b[1;33m\u001b[0m\u001b[0m\n\u001b[1;32m----> 5\u001b[1;33m     \u001b[0mmodel\u001b[0m\u001b[1;33m.\u001b[0m\u001b[0madd\u001b[0m\u001b[1;33m(\u001b[0m\u001b[0mConv2D\u001b[0m\u001b[1;33m(\u001b[0m\u001b[0minput_shape\u001b[0m \u001b[1;33m=\u001b[0m \u001b[1;33m(\u001b[0m\u001b[0mX_train\u001b[0m\u001b[1;33m.\u001b[0m\u001b[0mshape\u001b[0m\u001b[1;33m[\u001b[0m\u001b[1;36m1\u001b[0m\u001b[1;33m]\u001b[0m\u001b[1;33m,\u001b[0m \u001b[0mX_train\u001b[0m\u001b[1;33m.\u001b[0m\u001b[0mshape\u001b[0m\u001b[1;33m[\u001b[0m\u001b[1;36m2\u001b[0m\u001b[1;33m]\u001b[0m\u001b[1;33m,\u001b[0m \u001b[0mX_train\u001b[0m\u001b[1;33m.\u001b[0m\u001b[0mshape\u001b[0m\u001b[1;33m[\u001b[0m\u001b[1;36m3\u001b[0m\u001b[1;33m]\u001b[0m\u001b[1;33m)\u001b[0m\u001b[1;33m,\u001b[0m \u001b[0mfilters\u001b[0m \u001b[1;33m=\u001b[0m \u001b[1;36m50\u001b[0m\u001b[1;33m,\u001b[0m \u001b[0mkernel_size\u001b[0m \u001b[1;33m=\u001b[0m \u001b[1;33m(\u001b[0m\u001b[1;36m3\u001b[0m\u001b[1;33m,\u001b[0m\u001b[1;36m3\u001b[0m\u001b[1;33m)\u001b[0m\u001b[1;33m,\u001b[0m \u001b[0mstrides\u001b[0m \u001b[1;33m=\u001b[0m \u001b[1;33m(\u001b[0m\u001b[1;36m1\u001b[0m\u001b[1;33m,\u001b[0m\u001b[1;36m1\u001b[0m\u001b[1;33m)\u001b[0m\u001b[1;33m,\u001b[0m \u001b[0mpadding\u001b[0m \u001b[1;33m=\u001b[0m \u001b[1;34m'same'\u001b[0m\u001b[1;33m,\u001b[0m \u001b[0mkernel_initializer\u001b[0m\u001b[1;33m=\u001b[0m\u001b[1;34m'he_normal'\u001b[0m\u001b[1;33m)\u001b[0m\u001b[1;33m)\u001b[0m\u001b[1;33m\u001b[0m\u001b[1;33m\u001b[0m\u001b[0m\n\u001b[0m\u001b[0;32m      6\u001b[0m     \u001b[0mmodel\u001b[0m\u001b[1;33m.\u001b[0m\u001b[0madd\u001b[0m\u001b[1;33m(\u001b[0m\u001b[0mBatchNormalization\u001b[0m\u001b[1;33m(\u001b[0m\u001b[1;33m)\u001b[0m\u001b[1;33m)\u001b[0m\u001b[1;33m\u001b[0m\u001b[1;33m\u001b[0m\u001b[0m\n\u001b[0;32m      7\u001b[0m     \u001b[0mmodel\u001b[0m\u001b[1;33m.\u001b[0m\u001b[0madd\u001b[0m\u001b[1;33m(\u001b[0m\u001b[0mActivation\u001b[0m\u001b[1;33m(\u001b[0m\u001b[1;34m'relu'\u001b[0m\u001b[1;33m)\u001b[0m\u001b[1;33m)\u001b[0m\u001b[1;33m\u001b[0m\u001b[1;33m\u001b[0m\u001b[0m\n",
      "\u001b[1;31mNameError\u001b[0m: name 'X_train' is not defined"
     ]
    }
   ],
   "source": [
    "from keras.layers import BatchNormalization, Dropout\n",
    "def deep_cnn_advanced():\n",
    "    model = Sequential()\n",
    "\n",
    "    model.add(Conv2D(input_shape = (X_train.shape[1], X_train.shape[2], X_train.shape[3]), filters = 50, kernel_size = (3,3), strides = (1,1), padding = 'same', kernel_initializer='he_normal'))\n",
    "    model.add(BatchNormalization())\n",
    "    model.add(Activation('relu'))\n",
    "    model.add(Conv2D(filters = 50, kernel_size = (3,3), strides = (1,1), padding = 'same', kernel_initializer='he_normal'))\n",
    "    model.add(BatchNormalization())\n",
    "    model.add(Activation('relu'))\n",
    "    model.add(MaxPooling2D(pool_size = (2,2)))\n",
    "    model.add(Conv2D(filters = 50, kernel_size = (3,3), strides = (1,1), padding = 'same', kernel_initializer='he_normal'))\n",
    "    model.add(BatchNormalization())\n",
    "    model.add(Activation('relu'))\n",
    "    model.add(Conv2D(filters = 50, kernel_size = (3,3), strides = (1,1), padding = 'same', kernel_initializer='he_normal'))\n",
    "    model.add(BatchNormalization())\n",
    "    model.add(Activation('relu'))\n",
    "    model.add(MaxPooling2D(pool_size = (2,2)))\n",
    "    model.add(Conv2D(filters = 50, kernel_size = (3,3), strides = (1,1), padding = 'same', kernel_initializer='he_normal'))\n",
    "    model.add(BatchNormalization())\n",
    "    model.add(Activation('relu'))\n",
    "    model.add(Conv2D(filters = 50, kernel_size = (3,3), strides = (1,1), padding = 'same', kernel_initializer='he_normal'))\n",
    "    model.add(BatchNormalization())\n",
    "    model.add(Activation('relu'))\n",
    "    model.add(MaxPooling2D(pool_size = (2,2)))\n",
    "\n",
    "    # prior layer should be flattend to be connected to dense layers\n",
    "    model.add(Flatten())\n",
    "    # dense layer with 50 neurons\n",
    "    model.add(Dense(50, activation = 'relu', kernel_initializer='he_normal'))\n",
    "    model.add(Dropout(0.5))\n",
    "    # final layer with 10 neurons to classify the instances\n",
    "    model.add(Dense(10, activation = 'softmax', kernel_initializer='he_normal'))\n",
    "\n",
    "    adam = optimizers.Adam(lr = 0.001)\n",
    "    model.compile(loss = 'categorical_crossentropy', optimizer = adam, metrics = ['accuracy'])\n",
    "\n",
    "    return model\n",
    "model = deep_cnn_advanced()\n",
    "model.summary()"
   ]
  },
  {
   "cell_type": "code",
   "execution_count": null,
   "metadata": {},
   "outputs": [],
   "source": [
    "def deep_cnn_advanced_nin():\n",
    "    model = Sequential()\n",
    "\n",
    "    model.add(Conv2D(input_shape = (X_train.shape[1], X_train.shape[2], X_train.shape[3]), filters = 50, kernel_size = (3,3), strides = (1,1), padding = 'same', kernel_initializer='he_normal'))\n",
    "    model.add(BatchNormalization())\n",
    "    model.add(Activation('relu'))\n",
    "    model.add(Conv2D(filters = 50, kernel_size = (3,3), strides = (1,1), padding = 'same', kernel_initializer='he_normal'))\n",
    "    # 1x1 convolution\n",
    "    model.add(Conv2D(filters = 25, kernel_size = (1,1), strides = (1,1), padding = 'valid', kernel_initializer='he_normal'))\n",
    "    model.add(BatchNormalization())\n",
    "    model.add(Activation('relu'))\n",
    "    model.add(MaxPooling2D(pool_size = (2,2)))\n",
    "    model.add(Conv2D(filters = 50, kernel_size = (3,3), strides = (1,1), padding = 'same', kernel_initializer='he_normal'))\n",
    "    # 1x1 convolution\n",
    "    model.add(Conv2D(filters = 25, kernel_size = (1,1), strides = (1,1), padding = 'valid', kernel_initializer='he_normal'))\n",
    "    model.add(BatchNormalization())\n",
    "    model.add(Activation('relu'))\n",
    "    model.add(Conv2D(filters = 50, kernel_size = (3,3), strides = (1,1), padding = 'same', kernel_initializer='he_normal'))\n",
    "    # 1x1 convolution\n",
    "    model.add(Conv2D(filters = 25, kernel_size = (1,1), strides = (1,1), padding = 'valid', kernel_initializer='he_normal'))\n",
    "    model.add(BatchNormalization())\n",
    "    model.add(Activation('relu'))\n",
    "    model.add(MaxPooling2D(pool_size = (2,2)))\n",
    "    model.add(Conv2D(filters = 50, kernel_size = (3,3), strides = (1,1), padding = 'same', kernel_initializer='he_normal'))\n",
    "    # 1x1 convolution\n",
    "    model.add(Conv2D(filters = 25, kernel_size = (1,1), strides = (1,1), padding = 'valid', kernel_initializer='he_normal'))\n",
    "    model.add(BatchNormalization())\n",
    "    model.add(Activation('relu'))\n",
    "    model.add(Conv2D(filters = 50, kernel_size = (3,3), strides = (1,1), padding = 'same', kernel_initializer='he_normal'))\n",
    "    # 1x1 convolution\n",
    "    model.add(Conv2D(filters = 25, kernel_size = (1,1), strides = (1,1), padding = 'valid', kernel_initializer='he_normal'))\n",
    "    model.add(BatchNormalization())\n",
    "    model.add(Activation('relu'))\n",
    "    model.add(MaxPooling2D(pool_size = (2,2)))\n",
    "\n",
    "    # prior layer should be flattend to be connected to dense layers\n",
    "    model.add(Flatten())\n",
    "    # dense layer with 50 neurons\n",
    "    model.add(Dense(50, activation = 'relu', kernel_initializer='he_normal'))\n",
    "    model.add(Dropout(0.5))\n",
    "    # final layer with 10 neurons to classify the instances\n",
    "    model.add(Dense(10, activation = 'softmax', kernel_initializer='he_normal'))\n",
    "\n",
    "    adam = optimizers.Adam(lr = 0.001)\n",
    "    model.compile(loss = 'categorical_crossentropy', optimizer = adam, metrics = ['accuracy'])\n",
    "\n",
    "    return model\n",
    "\n",
    "model = deep_cnn_advanced_nin()\n",
    "model.summary()"
   ]
  },
  {
   "cell_type": "code",
   "execution_count": null,
   "metadata": {},
   "outputs": [],
   "source": [
    "Benefit\n",
    "논문에서 주장하는 Batch Normalization의 장점은 다음과 같다.\n",
    "\n",
    "기존 Deep Network에서는 learning rate를 너무 높게 잡을 경우 gradient가 explode/vanish 하거나, 나쁜 local minima에 빠지는 문제가 있었다. 이는 parameter들의 scale 때문인데, Batch Normalization을 사용할 경우 propagation 할 때 parameter의 scale에 영향을 받지 않게 된다. 따라서, learning rate를 크게 잡을 수 있게 되고 이는 빠른 학습을 가능케 한다.\n",
    "Batch Normalization의 경우 자체적인 regularization 효과가 있다. 이는 기존에 사용하던 weight regularization term 등을 제외할 수 있게 하며, 나아가 Dropout을 제외할 수 있게 한다 (Dropout의 효과와 Batch Normalization의 효과가 같기 때문.) . Dropout의 경우 효과는 좋지만 학습 속도가 다소 느려진다는 단점이 있는데, 이를 제거함으로서 학습 속도도 향상된다."
   ]
  },
  {
   "cell_type": "code",
   "execution_count": null,
   "metadata": {},
   "outputs": [],
   "source": [
    "# visualization\n",
    "history = model.fit(X_train, y_train, batch_size = 50, validation_split = 0.2, epochs = 100, verbose = 0)\n",
    "\n",
    "plt.plot(history.history['acc'])\n",
    "plt.plot(history.history['val_acc'])\n",
    "plt.legend(['training', 'validation'], loc = 'upper left')\n",
    "plt.show()"
   ]
  },
  {
   "cell_type": "code",
   "execution_count": 7,
   "metadata": {},
   "outputs": [],
   "source": [
    "import numpy as np\n",
    "from keras.models import Sequential\n",
    "from keras.layers import Dense, LSTM, GlobalMaxPooling1D, MaxPooling1D"
   ]
  },
  {
   "cell_type": "code",
   "execution_count": 9,
   "metadata": {},
   "outputs": [],
   "source": [
    "D = np.random.rand(10, 6, 10)"
   ]
  },
  {
   "cell_type": "code",
   "execution_count": 10,
   "metadata": {
    "scrolled": true
   },
   "outputs": [
    {
     "data": {
      "text/plain": [
       "array([[[8.90410260e-02, 2.14827850e-01, 3.19059043e-01, 7.27960679e-01,\n",
       "         9.75957438e-01, 8.21235621e-01, 4.03386770e-01, 9.56618105e-01,\n",
       "         7.05191703e-01, 6.00862646e-01],\n",
       "        [1.87855519e-01, 1.98697225e-01, 8.02466522e-01, 3.40005344e-01,\n",
       "         1.60162061e-01, 8.30458245e-01, 7.59916692e-01, 2.60736166e-01,\n",
       "         5.76859311e-01, 5.25744912e-01],\n",
       "        [8.80003738e-01, 8.19912331e-01, 5.08775753e-01, 8.92560264e-01,\n",
       "         3.33341388e-01, 9.11533773e-02, 8.22258853e-01, 6.89136113e-01,\n",
       "         3.08476003e-01, 1.28594841e-01],\n",
       "        [7.04166956e-01, 1.84396761e-01, 9.72130820e-01, 5.77032671e-01,\n",
       "         5.67887230e-01, 2.24322433e-01, 4.28585641e-01, 9.17096185e-01,\n",
       "         9.68015859e-01, 6.50369308e-01],\n",
       "        [4.22441709e-01, 6.58673323e-01, 4.54127361e-01, 5.30447190e-01,\n",
       "         8.72669572e-01, 8.55461852e-01, 7.23071277e-01, 8.06421389e-01,\n",
       "         2.32178165e-01, 5.41341842e-01],\n",
       "        [1.14588537e-01, 5.86853332e-01, 6.37543073e-01, 2.13476608e-01,\n",
       "         5.16072071e-01, 6.65663619e-01, 5.27710016e-01, 8.46997058e-01,\n",
       "         4.63064938e-01, 3.71157645e-01]],\n",
       "\n",
       "       [[5.34641882e-01, 4.12757430e-01, 5.46010091e-03, 8.60059868e-02,\n",
       "         6.81288292e-02, 8.75485499e-01, 4.21793336e-01, 8.47204933e-01,\n",
       "         9.61775901e-01, 5.62213091e-01],\n",
       "        [1.05830945e-01, 3.52327130e-01, 9.64519596e-01, 7.62597642e-01,\n",
       "         9.57914096e-01, 3.00257665e-02, 6.36159292e-01, 8.20481374e-01,\n",
       "         4.86344651e-01, 5.52855473e-01],\n",
       "        [6.87372900e-01, 1.83501227e-01, 8.23472964e-01, 3.79350075e-01,\n",
       "         5.02975488e-01, 2.91799829e-02, 6.97251409e-01, 7.19066901e-01,\n",
       "         4.63890913e-01, 9.97869937e-01],\n",
       "        [7.37402931e-01, 3.22574986e-02, 2.03543860e-01, 7.78115435e-01,\n",
       "         6.37862747e-01, 3.63021857e-02, 6.81181574e-01, 7.36880046e-01,\n",
       "         8.11828986e-01, 7.92257447e-01],\n",
       "        [2.08988160e-01, 2.83294479e-01, 7.58459700e-02, 8.22619854e-01,\n",
       "         5.54650876e-01, 6.27423202e-01, 5.72987394e-01, 7.67588481e-01,\n",
       "         2.91094289e-01, 3.72377035e-01],\n",
       "        [4.59229373e-01, 2.27659445e-01, 4.22906097e-01, 7.03225341e-02,\n",
       "         8.48783725e-01, 9.40104468e-01, 8.35117381e-01, 9.33989469e-01,\n",
       "         6.30089960e-02, 3.69856969e-01]],\n",
       "\n",
       "       [[1.90438237e-01, 2.23472457e-01, 7.62743119e-02, 3.02358734e-01,\n",
       "         9.22422798e-01, 7.83030345e-01, 5.49157617e-01, 2.93638658e-01,\n",
       "         2.54329546e-01, 3.29172613e-01],\n",
       "        [1.28666271e-01, 1.45470931e-01, 1.53825317e-01, 5.79447005e-02,\n",
       "         6.20138466e-01, 6.85705400e-03, 6.51859841e-01, 1.21749324e-03,\n",
       "         2.16842963e-01, 4.70183337e-01],\n",
       "        [3.42969842e-01, 4.75963626e-01, 3.71949165e-01, 9.00235520e-01,\n",
       "         2.09384710e-01, 7.12795321e-01, 2.79854177e-01, 1.66687631e-01,\n",
       "         3.10422515e-01, 5.90513590e-02],\n",
       "        [6.85855455e-01, 4.22001915e-01, 5.22861955e-01, 1.61870082e-01,\n",
       "         2.69565494e-02, 4.47766338e-01, 4.64890903e-01, 2.62603262e-01,\n",
       "         6.16008662e-02, 7.67552134e-02],\n",
       "        [5.05643960e-01, 7.00530624e-01, 5.88542013e-01, 8.67583168e-01,\n",
       "         3.07386627e-01, 1.63599931e-01, 7.86249081e-01, 8.50874743e-01,\n",
       "         4.19815414e-01, 6.41493906e-01],\n",
       "        [1.30461612e-02, 3.25558680e-01, 4.83572833e-01, 6.66120841e-01,\n",
       "         1.03794138e-02, 7.74313569e-01, 6.37105001e-01, 9.90041272e-01,\n",
       "         3.62259190e-01, 8.34784185e-01]],\n",
       "\n",
       "       [[9.70992473e-01, 8.68178239e-01, 2.77715081e-01, 4.64698809e-01,\n",
       "         9.58287959e-01, 5.16706731e-02, 8.83006346e-02, 2.97664079e-01,\n",
       "         4.99535833e-01, 5.90007675e-01],\n",
       "        [4.20041313e-01, 1.23159008e-01, 9.22234561e-01, 9.60087641e-01,\n",
       "         5.53986169e-01, 3.98917593e-01, 2.59784183e-01, 3.38767304e-01,\n",
       "         1.66274356e-01, 3.54416988e-01],\n",
       "        [2.92645776e-01, 4.52891865e-01, 2.20085515e-01, 3.04657699e-01,\n",
       "         2.29066615e-01, 9.82108890e-01, 5.49981114e-01, 5.58232007e-01,\n",
       "         5.46793376e-01, 4.51193979e-01],\n",
       "        [9.31279010e-01, 3.97485343e-01, 1.13373529e-01, 2.64323430e-01,\n",
       "         4.31095075e-01, 9.94974396e-01, 7.18852817e-01, 5.56884660e-02,\n",
       "         1.66080553e-01, 2.71327268e-01],\n",
       "        [3.79040676e-01, 8.29316206e-01, 5.19398352e-01, 1.80760143e-01,\n",
       "         6.58802131e-01, 3.88563891e-01, 4.32686000e-03, 2.87761929e-01,\n",
       "         8.88986054e-01, 5.88121739e-01],\n",
       "        [1.81667236e-01, 9.40673210e-01, 7.39440872e-01, 3.71929112e-01,\n",
       "         6.70903635e-02, 1.82054251e-01, 5.28224969e-01, 1.58547250e-01,\n",
       "         2.47856425e-02, 9.25309453e-01]],\n",
       "\n",
       "       [[3.18215333e-01, 8.27832851e-01, 5.04591333e-01, 4.97818169e-03,\n",
       "         9.48861829e-01, 9.82889665e-01, 2.07070929e-01, 5.90408036e-01,\n",
       "         2.75619012e-01, 2.27094405e-01],\n",
       "        [8.06510409e-01, 4.93619024e-01, 4.08417326e-01, 4.39624198e-01,\n",
       "         5.83003326e-01, 3.74535821e-02, 5.21086399e-01, 8.85478613e-01,\n",
       "         3.06114098e-01, 8.76416210e-02],\n",
       "        [5.56109032e-02, 8.52650530e-01, 6.75266265e-02, 1.56002852e-01,\n",
       "         3.83832525e-01, 9.49325164e-01, 2.75870459e-01, 6.23246142e-01,\n",
       "         5.33136270e-01, 3.72469399e-01],\n",
       "        [1.29584581e-01, 4.02292384e-03, 5.11136060e-01, 5.65153416e-01,\n",
       "         8.45151579e-02, 1.58751858e-01, 4.30585956e-01, 1.06196161e-01,\n",
       "         1.08312025e-01, 3.52517027e-01],\n",
       "        [6.68958126e-01, 8.15303152e-01, 8.03696296e-01, 9.24510494e-01,\n",
       "         5.74062170e-01, 8.98000703e-01, 8.63849657e-01, 4.03417842e-02,\n",
       "         7.79245543e-02, 3.32168371e-01],\n",
       "        [3.28927576e-01, 4.59849087e-01, 4.26222112e-01, 5.81668419e-01,\n",
       "         9.28361352e-01, 1.24750161e-01, 4.83664176e-01, 7.45361678e-01,\n",
       "         7.49306386e-01, 1.58488095e-01]],\n",
       "\n",
       "       [[5.43073921e-01, 7.54883891e-01, 2.65148737e-01, 9.49886987e-01,\n",
       "         3.72101235e-01, 9.65745838e-02, 6.72572395e-01, 9.56362271e-04,\n",
       "         8.26284689e-01, 4.72796850e-01],\n",
       "        [1.48315826e-01, 4.61056719e-01, 9.96643524e-01, 8.66929189e-01,\n",
       "         9.53718784e-01, 5.39575699e-01, 1.98570415e-01, 6.68943509e-01,\n",
       "         3.40891347e-01, 6.38312719e-01],\n",
       "        [3.26161653e-01, 7.73058776e-01, 6.14164519e-01, 6.61408114e-01,\n",
       "         6.05575440e-01, 5.08855991e-01, 5.06053033e-01, 3.97871548e-01,\n",
       "         8.40314737e-01, 8.73371400e-01],\n",
       "        [6.02867057e-01, 8.21032223e-01, 9.92801075e-01, 5.31651631e-02,\n",
       "         2.51786705e-01, 3.27674035e-02, 4.87519511e-01, 7.98069551e-01,\n",
       "         7.27567036e-01, 6.28817294e-01],\n",
       "        [1.70372999e-01, 9.15582819e-01, 3.51326598e-01, 3.53156316e-01,\n",
       "         3.98464389e-01, 9.43217372e-01, 2.86122202e-01, 4.75027755e-02,\n",
       "         3.26678398e-01, 3.51543077e-01],\n",
       "        [8.47687037e-01, 6.30854485e-01, 3.33049661e-01, 1.12523349e-01,\n",
       "         4.08732193e-01, 4.19720351e-01, 6.60659507e-01, 3.18426231e-02,\n",
       "         1.00836495e-01, 2.94817958e-01]],\n",
       "\n",
       "       [[2.32409623e-01, 1.58076622e-01, 1.98573033e-01, 3.72867673e-01,\n",
       "         2.00237938e-01, 8.91864925e-01, 6.86158106e-01, 4.12836388e-01,\n",
       "         6.22465422e-01, 7.63248096e-01],\n",
       "        [6.99667093e-02, 7.05342324e-01, 4.28554057e-01, 2.15889460e-01,\n",
       "         8.49397221e-01, 6.45573773e-01, 4.13633150e-01, 6.76901209e-01,\n",
       "         2.01211280e-01, 1.23763710e-01],\n",
       "        [5.51289143e-01, 6.28252689e-01, 7.45035822e-01, 1.30231458e-01,\n",
       "         2.49486242e-01, 2.23541578e-01, 3.79118561e-01, 1.98568175e-01,\n",
       "         4.46097460e-01, 8.78437930e-01],\n",
       "        [7.33932755e-01, 7.15765712e-01, 9.41752476e-01, 4.35442106e-01,\n",
       "         5.81664282e-01, 6.94136220e-02, 9.61901535e-01, 2.81123511e-01,\n",
       "         6.99834516e-01, 1.21164473e-01],\n",
       "        [8.82828054e-01, 2.74779696e-01, 6.80255201e-01, 4.56664492e-01,\n",
       "         5.91407478e-01, 9.31219557e-01, 2.04896036e-01, 3.26241756e-01,\n",
       "         3.83067754e-01, 5.35735955e-01],\n",
       "        [5.15440617e-01, 3.67707599e-03, 4.01520208e-01, 1.45346871e-01,\n",
       "         6.23810404e-01, 1.46970551e-01, 1.14274078e-01, 2.27767418e-01,\n",
       "         7.02367458e-01, 3.86885252e-01]],\n",
       "\n",
       "       [[3.13650906e-01, 9.58353031e-01, 2.42706787e-01, 4.92392032e-01,\n",
       "         9.34770125e-01, 8.16336251e-01, 8.93252967e-03, 9.27338890e-01,\n",
       "         6.55172481e-01, 9.66783528e-01],\n",
       "        [9.72089687e-01, 6.62288681e-02, 7.41305545e-02, 8.06017245e-01,\n",
       "         7.60718072e-01, 7.64886299e-01, 4.32358280e-01, 9.60870415e-01,\n",
       "         8.29415381e-01, 3.08894233e-01],\n",
       "        [7.68981179e-01, 5.73842295e-01, 6.48108721e-01, 2.79617540e-03,\n",
       "         7.27820520e-01, 6.91771974e-01, 4.32646805e-01, 7.47059863e-02,\n",
       "         9.28408897e-01, 1.65821509e-01],\n",
       "        [6.82062536e-01, 7.01721643e-02, 4.11439292e-01, 6.64836689e-01,\n",
       "         9.36187058e-01, 2.88245432e-02, 7.38578108e-01, 9.13681911e-01,\n",
       "         5.90238105e-02, 6.00732115e-01],\n",
       "        [7.01808101e-01, 4.55464586e-01, 9.19440105e-01, 4.41298179e-01,\n",
       "         2.05182246e-01, 3.04876715e-01, 6.76173537e-01, 3.69509766e-01,\n",
       "         8.88995957e-01, 6.16192368e-01],\n",
       "        [6.97070300e-02, 3.07857585e-01, 8.02258793e-01, 6.00452784e-01,\n",
       "         5.52927376e-01, 1.66152716e-01, 4.02891143e-01, 4.54293610e-01,\n",
       "         3.01773667e-01, 4.93204788e-01]],\n",
       "\n",
       "       [[4.32775638e-02, 2.16311974e-01, 8.54901714e-01, 7.27707313e-01,\n",
       "         8.98265429e-02, 7.64320159e-01, 2.28720683e-02, 9.79296329e-01,\n",
       "         5.04759252e-01, 8.54067807e-01],\n",
       "        [5.04235423e-01, 5.50064954e-01, 5.43705801e-02, 2.08587984e-01,\n",
       "         7.48901635e-01, 8.20183844e-01, 2.26604084e-01, 4.67896156e-01,\n",
       "         8.64042581e-01, 8.30076820e-01],\n",
       "        [6.36894641e-01, 9.99205120e-01, 9.98296800e-01, 2.16902825e-01,\n",
       "         9.35707849e-01, 3.82279181e-02, 4.60324091e-01, 7.05206156e-01,\n",
       "         3.82532711e-01, 6.56574641e-01],\n",
       "        [9.78370490e-01, 1.08944785e-01, 1.46963379e-01, 5.75408579e-01,\n",
       "         5.27871859e-01, 9.86243874e-03, 8.06089074e-01, 9.58389386e-01,\n",
       "         5.99474673e-01, 1.72460177e-01],\n",
       "        [8.52069283e-01, 4.50676116e-01, 7.56037919e-01, 8.86475954e-02,\n",
       "         8.01294436e-01, 1.54906769e-01, 3.10338260e-01, 9.22909814e-01,\n",
       "         3.32505465e-01, 8.23555487e-01],\n",
       "        [2.04926583e-01, 1.65580148e-01, 1.43332093e-01, 8.95937816e-02,\n",
       "         2.09563917e-01, 8.52598472e-01, 1.72927591e-01, 6.91429328e-01,\n",
       "         7.74436345e-01, 2.67962104e-01]],\n",
       "\n",
       "       [[5.91392875e-01, 8.83943869e-01, 4.63434920e-01, 7.44405335e-01,\n",
       "         7.03927914e-01, 7.99137146e-02, 3.64235196e-01, 7.80813807e-01,\n",
       "         6.80375829e-01, 6.11428757e-01],\n",
       "        [1.96367445e-01, 8.22705316e-01, 6.39940944e-01, 2.71388763e-01,\n",
       "         4.81768806e-01, 9.49127220e-01, 4.03518968e-01, 2.22886775e-01,\n",
       "         3.78832395e-01, 4.56985948e-01],\n",
       "        [8.78051960e-01, 1.72621010e-01, 7.69262910e-02, 2.72292097e-01,\n",
       "         5.21240282e-01, 4.57951992e-01, 9.06703629e-01, 8.13586856e-01,\n",
       "         7.77257914e-01, 5.37897610e-01],\n",
       "        [8.19963995e-01, 5.90315096e-01, 7.47629519e-01, 4.28521882e-01,\n",
       "         7.86967299e-01, 9.81077657e-01, 3.08316539e-01, 1.40822524e-01,\n",
       "         3.49074912e-03, 9.86887423e-01],\n",
       "        [1.62603757e-01, 3.74750793e-01, 4.77878745e-01, 5.68692595e-01,\n",
       "         7.09268604e-01, 9.43107090e-01, 2.52249331e-01, 6.25162602e-01,\n",
       "         3.39615903e-01, 3.57490274e-01],\n",
       "        [1.72370374e-01, 2.01759145e-02, 9.00892988e-01, 2.49153156e-01,\n",
       "         1.15809323e-01, 4.96367560e-01, 1.27273525e-01, 6.08997611e-01,\n",
       "         9.54932764e-01, 9.05728684e-01]]])"
      ]
     },
     "execution_count": 10,
     "metadata": {},
     "output_type": "execute_result"
    }
   ],
   "source": [
    "D"
   ]
  },
  {
   "cell_type": "code",
   "execution_count": 11,
   "metadata": {},
   "outputs": [
    {
     "name": "stdout",
     "output_type": "stream",
     "text": [
      "Model: \"sequential_1\"\n",
      "_________________________________________________________________\n",
      "Layer (type)                 Output Shape              Param #   \n",
      "=================================================================\n",
      "lstm_1 (LSTM)                (None, 6, 16)             1728      \n",
      "_________________________________________________________________\n",
      "max_pooling1d_1 (MaxPooling1 (None, 5, 16)             0         \n",
      "_________________________________________________________________\n",
      "lstm_2 (LSTM)                (None, 10)                1080      \n",
      "_________________________________________________________________\n",
      "dense_1 (Dense)              (None, 1)                 11        \n",
      "=================================================================\n",
      "Total params: 2,819\n",
      "Trainable params: 2,819\n",
      "Non-trainable params: 0\n",
      "_________________________________________________________________\n",
      "None\n",
      "Model: \"sequential_2\"\n",
      "_________________________________________________________________\n",
      "Layer (type)                 Output Shape              Param #   \n",
      "=================================================================\n",
      "lstm_3 (LSTM)                (None, 6, 16)             1728      \n",
      "_________________________________________________________________\n",
      "global_max_pooling1d_1 (Glob (None, 16)                0         \n",
      "_________________________________________________________________\n",
      "dense_2 (Dense)              (None, 1)                 17        \n",
      "=================================================================\n",
      "Total params: 1,745\n",
      "Trainable params: 1,745\n",
      "Non-trainable params: 0\n",
      "_________________________________________________________________\n",
      "None\n"
     ]
    }
   ],
   "source": [
    "model = Sequential()\n",
    "model.add(LSTM(16, input_shape=(6, 10), return_sequences=True))\n",
    "model.add(MaxPooling1D(pool_size=2, strides=1))\n",
    "model.add(LSTM(10))\n",
    "model.add(Dense(1))\n",
    "model.compile(loss='binary_crossentropy', optimizer='sgd')\n",
    "\n",
    "# print the summary to see how the dimension change after the layers are \n",
    "# applied\n",
    "\n",
    "print(model.summary())\n",
    "\n",
    "# try a model with GlobalMaxPooling1D now\n",
    "\n",
    "model = Sequential()\n",
    "model.add(LSTM(16, input_shape=(6, 10), return_sequences=True))\n",
    "model.add(GlobalMaxPooling1D())\n",
    "model.add(Dense(1))\n",
    "model.compile(loss='binary_crossentropy', optimizer='sgd')\n",
    "\n",
    "print(model.summary())\n"
   ]
  },
  {
   "cell_type": "code",
   "execution_count": null,
   "metadata": {},
   "outputs": [],
   "source": [
    "# max pooling, \n",
    "# average pooling\n",
    "# global max pooling\n",
    "# global average pooling"
   ]
  },
  {
   "cell_type": "code",
   "execution_count": 13,
   "metadata": {},
   "outputs": [],
   "source": [
    "GlobalMaxPooling1D?"
   ]
  },
  {
   "cell_type": "code",
   "execution_count": null,
   "metadata": {},
   "outputs": [],
   "source": [
    "# Define the model & its Architecture"
   ]
  },
  {
   "cell_type": "code",
   "execution_count": 207,
   "metadata": {},
   "outputs": [],
   "source": [
    "in_f = Input(shape=(maxlen_nm, ), dtype='int32', name='forward')"
   ]
  },
  {
   "cell_type": "code",
   "execution_count": 208,
   "metadata": {},
   "outputs": [
    {
     "data": {
      "text/plain": [
       "<tf.Tensor 'forward_2:0' shape=(None, 450) dtype=int32>"
      ]
     },
     "execution_count": 208,
     "metadata": {},
     "output_type": "execute_result"
    }
   ],
   "source": [
    "in_f"
   ]
  },
  {
   "cell_type": "code",
   "execution_count": 219,
   "metadata": {},
   "outputs": [],
   "source": [
    "x = layers.Embedding(max_features_nm, emb_dim_nm)(in_f)"
   ]
  },
  {
   "cell_type": "code",
   "execution_count": 222,
   "metadata": {},
   "outputs": [],
   "source": [
    "x = layers.Conv1D(32, 3, activation='relu')(x)"
   ]
  },
  {
   "cell_type": "code",
   "execution_count": 223,
   "metadata": {},
   "outputs": [],
   "source": [
    "layers.Conv1D?"
   ]
  },
  {
   "cell_type": "code",
   "execution_count": null,
   "metadata": {},
   "outputs": [],
   "source": []
  },
  {
   "cell_type": "code",
   "execution_count": 215,
   "metadata": {},
   "outputs": [],
   "source": [
    "layers.Embedding?"
   ]
  },
  {
   "cell_type": "code",
   "execution_count": null,
   "metadata": {},
   "outputs": [],
   "source": []
  },
  {
   "cell_type": "code",
   "execution_count": null,
   "metadata": {},
   "outputs": [],
   "source": [
    "model = Sequential(\n",
    "    [\n",
    "        Input(shape=(maxlen_nm, ), dtypes='int32', name='gds_grp_nm'),\n",
    "        x = layers.\n",
    "        \n",
    "    ]\n",
    ")"
   ]
  },
  {
   "cell_type": "code",
   "execution_count": null,
   "metadata": {},
   "outputs": [],
   "source": [
    "initial_model = keras.Sequential(\n",
    "    [\n",
    "        keras.Input(shape=(250, 250, 3)),\n",
    "        layers.Conv2D(32, 5, strides=2, activation=\"relu\"),\n",
    "        layers.Conv2D(32, 3, activation=\"relu\"),\n",
    "        layers.Conv2D(32, 3, activation=\"relu\"),\n",
    "    ]\n",
    ")"
   ]
  },
  {
   "cell_type": "code",
   "execution_count": null,
   "metadata": {},
   "outputs": [],
   "source": []
  },
  {
   "cell_type": "code",
   "execution_count": null,
   "metadata": {},
   "outputs": [],
   "source": []
  },
  {
   "cell_type": "code",
   "execution_count": null,
   "metadata": {},
   "outputs": [],
   "source": []
  },
  {
   "cell_type": "code",
   "execution_count": null,
   "metadata": {},
   "outputs": [],
   "source": []
  },
  {
   "cell_type": "code",
   "execution_count": null,
   "metadata": {},
   "outputs": [],
   "source": []
  },
  {
   "cell_type": "code",
   "execution_count": null,
   "metadata": {},
   "outputs": [],
   "source": [
    "# Define Sequential model with 3 layers\n",
    "model = keras.Sequential(\n",
    "    [\n",
    "        layers.Dense(2, activation=\"relu\", name=\"layer1\"),\n",
    "        layers.Dense(3, activation=\"relu\", name=\"layer2\"),\n",
    "        layers.Dense(4, name=\"layer3\"),\n",
    "    ]\n",
    ")\n",
    "# Call model on a test input\n",
    "x = tf.ones((3, 3))\n",
    "y = model(x)\n",
    "\n",
    "\n",
    "is equivalent to this function:\n",
    "\n",
    "# Create 3 layers\n",
    "layer1 = layers.Dense(2, activation=\"relu\", name=\"layer1\")\n",
    "layer2 = layers.Dense(3, activation=\"relu\", name=\"layer2\")\n",
    "layer3 = layers.Dense(4, name=\"layer3\")\n",
    "\n",
    "# Call layers on a test input\n",
    "x = tf.ones((3, 3))\n",
    "y = layer3(layer2(layer1(x)))\n",
    "\n",
    "\n",
    "You can also create a Sequential model incrementally via the add() method:\n",
    "\n",
    "model = keras.Sequential()\n",
    "model.add(layers.Dense(2, activation=\"relu\"))\n",
    "model.add(layers.Dense(3, activation=\"relu\"))\n",
    "model.add(layers.Dense(4))\n",
    "\n",
    "\n",
    "Also note that the Sequential constructor accepts a name argument, just like any layer or model in Keras. This is useful to annotate TensorBoard graphs with semantically meaningful names.\n",
    "\n",
    "model = keras.Sequential(name=\"my_sequential\")\n",
    "model.add(layers.Dense(2, activation=\"relu\", name=\"layer1\"))\n",
    "model.add(layers.Dense(3, activation=\"relu\", name=\"layer2\"))\n",
    "model.add(layers.Dense(4, name=\"layer3\"))"
   ]
  },
  {
   "cell_type": "code",
   "execution_count": null,
   "metadata": {},
   "outputs": [],
   "source": [
    "Feature extraction with a Sequential model\n",
    "Once a Sequential model has been built, it behaves like a Functional API model. This means that every layer has an input and output attribute. These attributes can be used to do neat things, like quickly creating a model that extracts the outputs of all intermediate layers in a Sequential model:\n",
    "\n",
    "initial_model = keras.Sequential(\n",
    "    [\n",
    "        keras.Input(shape=(250, 250, 3)),\n",
    "        layers.Conv2D(32, 5, strides=2, activation=\"relu\"),\n",
    "        layers.Conv2D(32, 3, activation=\"relu\"),\n",
    "        layers.Conv2D(32, 3, activation=\"relu\"),\n",
    "    ]\n",
    ")\n",
    "feature_extractor = keras.Model(\n",
    "    inputs=initial_model.inputs,\n",
    "    outputs=[layer.output for layer in initial_model.layers],\n",
    ")\n",
    "\n",
    "# Call feature extractor on test input.\n",
    "x = tf.ones((1, 250, 250, 3))\n",
    "features = feature_extractor(x)\n",
    "Here's a similar example that only extract features from one layer:\n",
    "\n",
    "initial_model = keras.Sequential(\n",
    "    [\n",
    "        keras.Input(shape=(250, 250, 3)),\n",
    "        layers.Conv2D(32, 5, strides=2, activation=\"relu\"),\n",
    "        layers.Conv2D(32, 3, activation=\"relu\", name=\"my_intermediate_layer\"),\n",
    "        layers.Conv2D(32, 3, activation=\"relu\"),\n",
    "    ]\n",
    ")\n",
    "feature_extractor = keras.Model(\n",
    "    inputs=initial_model.inputs,\n",
    "    outputs=initial_model.get_layer(name=\"my_intermediate_layer\").output,\n",
    ")\n",
    "# Call feature extractor on test input.\n",
    "x = tf.ones((1, 250, 250, 3))\n",
    "features = feature_extractor(x)"
   ]
  },
  {
   "cell_type": "code",
   "execution_count": null,
   "metadata": {},
   "outputs": [],
   "source": [
    "### data reading\n",
    "from tensorflow.examples.tutorials.mnist import input_data\n",
    "\n",
    "mnist = input_data.read_data_sets(\"MNIST_data/\", one_hot=True)\n",
    "x_train, y_train = mnist.train.images, mnist.train.labels\n",
    "x_test, y_test = mnist.test.images, mnist.test.labels\n",
    "\n",
    "from keras.models import Sequential, Model\n",
    "from keras.layers import Input, Dense, Activation\n",
    "from keras.optimizers import Adam, SGD\n",
    "from keras import metrics\n",
    "\n",
    "## sequential model \n",
    "seq_model = Sequential([\n",
    "    Dense(512, input_shape=(784,), activation='relu'), \n",
    "    Dense(128, activation='relu'),\n",
    "    Dense(32, activation='relu'),\n",
    "    Dense(10, activation='softmax'),\n",
    "])\n",
    "\n",
    "print(\"#### Sequential Model\")\n",
    "seq_model.summary()\n",
    "seq_model.compile(loss='categorical_crossentropy', \n",
    "              optimizer=Adam(lr=0.001, beta_1=0.9, beta_2=0.999, epsilon=1e-8),\n",
    "              metrics=[metrics.categorical_accuracy])\n",
    "train_history = seq_model.fit(x_train, y_train, epochs=5, batch_size=500, verbose=2)\n",
    "train_history = train_history.history # epoch마다 변화한 loss, metric\n",
    "\n",
    "loss_and_metric = seq_model.evaluate(x_train, y_train, batch_size=128, verbose=0)\n",
    "print(\"train, loss and metric: {}\".format(loss_and_metric))\n",
    "loss_and_metric = seq_model.evaluate(x_test, y_test, batch_size=128, verbose=0)\n",
    "print(\"test, loss and metric: {}\".format(loss_and_metric))"
   ]
  },
  {
   "cell_type": "code",
   "execution_count": null,
   "metadata": {},
   "outputs": [],
   "source": []
  },
  {
   "cell_type": "code",
   "execution_count": null,
   "metadata": {},
   "outputs": [],
   "source": []
  },
  {
   "cell_type": "code",
   "execution_count": null,
   "metadata": {},
   "outputs": [],
   "source": []
  },
  {
   "cell_type": "code",
   "execution_count": null,
   "metadata": {},
   "outputs": [],
   "source": []
  },
  {
   "cell_type": "code",
   "execution_count": null,
   "metadata": {},
   "outputs": [],
   "source": []
  },
  {
   "cell_type": "code",
   "execution_count": null,
   "metadata": {},
   "outputs": [],
   "source": []
  },
  {
   "cell_type": "code",
   "execution_count": null,
   "metadata": {},
   "outputs": [],
   "source": []
  },
  {
   "cell_type": "code",
   "execution_count": null,
   "metadata": {},
   "outputs": [],
   "source": []
  },
  {
   "cell_type": "code",
   "execution_count": null,
   "metadata": {},
   "outputs": [],
   "source": []
  },
  {
   "cell_type": "code",
   "execution_count": null,
   "metadata": {},
   "outputs": [],
   "source": []
  },
  {
   "cell_type": "code",
   "execution_count": null,
   "metadata": {},
   "outputs": [],
   "source": []
  },
  {
   "cell_type": "code",
   "execution_count": null,
   "metadata": {},
   "outputs": [],
   "source": []
  },
  {
   "cell_type": "code",
   "execution_count": null,
   "metadata": {},
   "outputs": [],
   "source": []
  },
  {
   "cell_type": "code",
   "execution_count": null,
   "metadata": {},
   "outputs": [],
   "source": []
  },
  {
   "cell_type": "code",
   "execution_count": null,
   "metadata": {},
   "outputs": [],
   "source": []
  },
  {
   "cell_type": "code",
   "execution_count": null,
   "metadata": {},
   "outputs": [],
   "source": []
  },
  {
   "cell_type": "code",
   "execution_count": null,
   "metadata": {},
   "outputs": [],
   "source": []
  },
  {
   "cell_type": "code",
   "execution_count": null,
   "metadata": {},
   "outputs": [],
   "source": []
  },
  {
   "cell_type": "code",
   "execution_count": null,
   "metadata": {},
   "outputs": [],
   "source": []
  },
  {
   "cell_type": "code",
   "execution_count": null,
   "metadata": {},
   "outputs": [],
   "source": []
  },
  {
   "cell_type": "code",
   "execution_count": null,
   "metadata": {},
   "outputs": [],
   "source": []
  },
  {
   "cell_type": "code",
   "execution_count": null,
   "metadata": {},
   "outputs": [],
   "source": []
  },
  {
   "cell_type": "code",
   "execution_count": null,
   "metadata": {},
   "outputs": [],
   "source": []
  },
  {
   "cell_type": "code",
   "execution_count": null,
   "metadata": {},
   "outputs": [],
   "source": []
  },
  {
   "cell_type": "code",
   "execution_count": null,
   "metadata": {},
   "outputs": [],
   "source": []
  }
 ],
 "metadata": {
  "kernelspec": {
   "display_name": "Python 3",
   "language": "python",
   "name": "python3"
  },
  "language_info": {
   "codemirror_mode": {
    "name": "ipython",
    "version": 3
   },
   "file_extension": ".py",
   "mimetype": "text/x-python",
   "name": "python",
   "nbconvert_exporter": "python",
   "pygments_lexer": "ipython3",
   "version": "3.7.6"
  }
 },
 "nbformat": 4,
 "nbformat_minor": 4
}
