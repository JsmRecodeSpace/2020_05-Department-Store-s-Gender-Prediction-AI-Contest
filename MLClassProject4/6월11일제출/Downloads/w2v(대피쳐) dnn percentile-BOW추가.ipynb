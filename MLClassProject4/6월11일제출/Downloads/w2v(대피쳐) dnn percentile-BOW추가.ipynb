{
 "cells": [
  {
   "cell_type": "markdown",
   "metadata": {},
   "source": [
    "libraries"
   ]
  },
  {
   "cell_type": "code",
   "execution_count": 19,
   "metadata": {},
   "outputs": [],
   "source": [
    "%run import_modules.py  \n",
    "%matplotlib inline\n",
    "\n",
    "# For DNN modeling\n",
    "import tensorflow as tf\n",
    "\n",
    "# Tensorflow warning off\n",
    "os.environ['TF_CPP_MIN_LOG_LEVEL'] = '3' \n",
    "tf.random.set_seed(2020)\n",
    "import keras\n",
    "from keras import backend as K\n",
    "from keras.layers import * #Input, Dense\n",
    "from keras.models import * #Model\n",
    "from keras.optimizers import *\n",
    "from keras.initializers import *\n",
    "from keras.regularizers import *\n",
    "from keras.utils.np_utils import *\n",
    "from keras.utils.vis_utils import * #model_to_dot"
   ]
  },
  {
   "cell_type": "markdown",
   "metadata": {},
   "source": [
    "load data"
   ]
  },
  {
   "cell_type": "code",
   "execution_count": 20,
   "metadata": {},
   "outputs": [],
   "source": [
    "df_train = pd.read_csv('X_train.csv', encoding='cp949')\n",
    "df_test = pd.read_csv('X_test.csv', encoding='cp949')\n",
    "y_train = pd.read_csv('y_train.csv', encoding='cp949').gender\n",
    "IDtest = df_test.cust_id.unique()"
   ]
  },
  {
   "cell_type": "markdown",
   "metadata": {},
   "source": [
    "# w2v 피쳐 사용"
   ]
  },
  {
   "cell_type": "code",
   "execution_count": 21,
   "metadata": {},
   "outputs": [
    {
     "data": {
      "text/html": [
       "<div>\n",
       "<style scoped>\n",
       "    .dataframe tbody tr th:only-of-type {\n",
       "        vertical-align: middle;\n",
       "    }\n",
       "\n",
       "    .dataframe tbody tr th {\n",
       "        vertical-align: top;\n",
       "    }\n",
       "\n",
       "    .dataframe thead th {\n",
       "        text-align: right;\n",
       "    }\n",
       "</style>\n",
       "<table border=\"1\" class=\"dataframe\">\n",
       "  <thead>\n",
       "    <tr style=\"text-align: right;\">\n",
       "      <th></th>\n",
       "      <th>0</th>\n",
       "      <th>1</th>\n",
       "      <th>2</th>\n",
       "      <th>3</th>\n",
       "      <th>4</th>\n",
       "      <th>5</th>\n",
       "      <th>6</th>\n",
       "      <th>7</th>\n",
       "      <th>8</th>\n",
       "      <th>9</th>\n",
       "      <th>...</th>\n",
       "      <th>890</th>\n",
       "      <th>891</th>\n",
       "      <th>892</th>\n",
       "      <th>893</th>\n",
       "      <th>894</th>\n",
       "      <th>895</th>\n",
       "      <th>896</th>\n",
       "      <th>897</th>\n",
       "      <th>898</th>\n",
       "      <th>899</th>\n",
       "    </tr>\n",
       "  </thead>\n",
       "  <tbody>\n",
       "    <tr>\n",
       "      <th>0</th>\n",
       "      <td>0.073661</td>\n",
       "      <td>0.143001</td>\n",
       "      <td>0.062736</td>\n",
       "      <td>0.181693</td>\n",
       "      <td>0.081275</td>\n",
       "      <td>0.121119</td>\n",
       "      <td>0.081626</td>\n",
       "      <td>0.147137</td>\n",
       "      <td>0.077073</td>\n",
       "      <td>0.029350</td>\n",
       "      <td>...</td>\n",
       "      <td>1.831347e-03</td>\n",
       "      <td>1.309530e-03</td>\n",
       "      <td>5.887108e-04</td>\n",
       "      <td>8.706888e-04</td>\n",
       "      <td>2.404028e-03</td>\n",
       "      <td>0.002937</td>\n",
       "      <td>3.724894e-03</td>\n",
       "      <td>1.776510e-03</td>\n",
       "      <td>2.880717e-03</td>\n",
       "      <td>0.001341</td>\n",
       "    </tr>\n",
       "    <tr>\n",
       "      <th>1</th>\n",
       "      <td>-0.014247</td>\n",
       "      <td>0.041688</td>\n",
       "      <td>0.002222</td>\n",
       "      <td>0.088977</td>\n",
       "      <td>0.011558</td>\n",
       "      <td>0.121119</td>\n",
       "      <td>0.088454</td>\n",
       "      <td>0.093546</td>\n",
       "      <td>0.025100</td>\n",
       "      <td>0.017685</td>\n",
       "      <td>...</td>\n",
       "      <td>3.587185e-03</td>\n",
       "      <td>3.635426e-05</td>\n",
       "      <td>1.509667e-04</td>\n",
       "      <td>6.940352e-06</td>\n",
       "      <td>3.204737e-03</td>\n",
       "      <td>0.007679</td>\n",
       "      <td>5.611323e-07</td>\n",
       "      <td>1.787126e-03</td>\n",
       "      <td>1.612345e-05</td>\n",
       "      <td>0.000039</td>\n",
       "    </tr>\n",
       "    <tr>\n",
       "      <th>2</th>\n",
       "      <td>-0.024683</td>\n",
       "      <td>0.247794</td>\n",
       "      <td>-0.009898</td>\n",
       "      <td>0.175974</td>\n",
       "      <td>-0.002187</td>\n",
       "      <td>0.051169</td>\n",
       "      <td>0.039046</td>\n",
       "      <td>0.121887</td>\n",
       "      <td>0.065389</td>\n",
       "      <td>-0.038562</td>\n",
       "      <td>...</td>\n",
       "      <td>4.742717e-03</td>\n",
       "      <td>9.366500e-05</td>\n",
       "      <td>1.692523e-04</td>\n",
       "      <td>2.392999e-06</td>\n",
       "      <td>1.626161e-04</td>\n",
       "      <td>0.000008</td>\n",
       "      <td>3.246493e-04</td>\n",
       "      <td>2.195657e-04</td>\n",
       "      <td>1.540998e-03</td>\n",
       "      <td>0.000559</td>\n",
       "    </tr>\n",
       "    <tr>\n",
       "      <th>3</th>\n",
       "      <td>0.065949</td>\n",
       "      <td>0.143839</td>\n",
       "      <td>0.111519</td>\n",
       "      <td>0.113842</td>\n",
       "      <td>0.063452</td>\n",
       "      <td>0.164563</td>\n",
       "      <td>0.137870</td>\n",
       "      <td>0.147137</td>\n",
       "      <td>0.098674</td>\n",
       "      <td>0.045073</td>\n",
       "      <td>...</td>\n",
       "      <td>2.001211e-03</td>\n",
       "      <td>4.079410e-04</td>\n",
       "      <td>2.533661e-04</td>\n",
       "      <td>8.824553e-04</td>\n",
       "      <td>6.764220e-04</td>\n",
       "      <td>0.001716</td>\n",
       "      <td>1.994024e-03</td>\n",
       "      <td>7.882088e-04</td>\n",
       "      <td>3.139941e-03</td>\n",
       "      <td>0.000492</td>\n",
       "    </tr>\n",
       "    <tr>\n",
       "      <th>4</th>\n",
       "      <td>0.073661</td>\n",
       "      <td>0.130383</td>\n",
       "      <td>-0.009898</td>\n",
       "      <td>0.081558</td>\n",
       "      <td>0.021276</td>\n",
       "      <td>0.082945</td>\n",
       "      <td>0.035784</td>\n",
       "      <td>0.121887</td>\n",
       "      <td>0.125757</td>\n",
       "      <td>-0.031136</td>\n",
       "      <td>...</td>\n",
       "      <td>1.104850e-03</td>\n",
       "      <td>8.646961e-04</td>\n",
       "      <td>4.761621e-04</td>\n",
       "      <td>5.659188e-04</td>\n",
       "      <td>3.072132e-03</td>\n",
       "      <td>0.000440</td>\n",
       "      <td>6.517876e-04</td>\n",
       "      <td>2.672682e-05</td>\n",
       "      <td>1.072253e-03</td>\n",
       "      <td>0.000982</td>\n",
       "    </tr>\n",
       "    <tr>\n",
       "      <th>...</th>\n",
       "      <td>...</td>\n",
       "      <td>...</td>\n",
       "      <td>...</td>\n",
       "      <td>...</td>\n",
       "      <td>...</td>\n",
       "      <td>...</td>\n",
       "      <td>...</td>\n",
       "      <td>...</td>\n",
       "      <td>...</td>\n",
       "      <td>...</td>\n",
       "      <td>...</td>\n",
       "      <td>...</td>\n",
       "      <td>...</td>\n",
       "      <td>...</td>\n",
       "      <td>...</td>\n",
       "      <td>...</td>\n",
       "      <td>...</td>\n",
       "      <td>...</td>\n",
       "      <td>...</td>\n",
       "      <td>...</td>\n",
       "      <td>...</td>\n",
       "    </tr>\n",
       "    <tr>\n",
       "      <th>3495</th>\n",
       "      <td>0.005253</td>\n",
       "      <td>0.130383</td>\n",
       "      <td>0.019988</td>\n",
       "      <td>0.072352</td>\n",
       "      <td>-0.026763</td>\n",
       "      <td>0.020230</td>\n",
       "      <td>0.057501</td>\n",
       "      <td>0.121887</td>\n",
       "      <td>0.065389</td>\n",
       "      <td>0.029350</td>\n",
       "      <td>...</td>\n",
       "      <td>1.426532e-03</td>\n",
       "      <td>1.979043e-03</td>\n",
       "      <td>7.169532e-04</td>\n",
       "      <td>1.335319e-03</td>\n",
       "      <td>9.222854e-04</td>\n",
       "      <td>0.003937</td>\n",
       "      <td>2.473336e-03</td>\n",
       "      <td>2.959961e-03</td>\n",
       "      <td>4.525156e-04</td>\n",
       "      <td>0.001561</td>\n",
       "    </tr>\n",
       "    <tr>\n",
       "      <th>3496</th>\n",
       "      <td>0.011504</td>\n",
       "      <td>0.138310</td>\n",
       "      <td>0.019988</td>\n",
       "      <td>0.124221</td>\n",
       "      <td>0.005628</td>\n",
       "      <td>0.067018</td>\n",
       "      <td>0.057501</td>\n",
       "      <td>0.121887</td>\n",
       "      <td>0.077073</td>\n",
       "      <td>0.029350</td>\n",
       "      <td>...</td>\n",
       "      <td>8.122765e-04</td>\n",
       "      <td>8.646743e-04</td>\n",
       "      <td>2.831878e-04</td>\n",
       "      <td>7.453368e-04</td>\n",
       "      <td>1.030853e-03</td>\n",
       "      <td>0.001731</td>\n",
       "      <td>6.867272e-04</td>\n",
       "      <td>3.435219e-03</td>\n",
       "      <td>8.888706e-04</td>\n",
       "      <td>0.001002</td>\n",
       "    </tr>\n",
       "    <tr>\n",
       "      <th>3497</th>\n",
       "      <td>0.014022</td>\n",
       "      <td>0.095432</td>\n",
       "      <td>-0.143003</td>\n",
       "      <td>0.122673</td>\n",
       "      <td>0.022131</td>\n",
       "      <td>-0.046907</td>\n",
       "      <td>-0.020492</td>\n",
       "      <td>-0.037374</td>\n",
       "      <td>0.033576</td>\n",
       "      <td>-0.100427</td>\n",
       "      <td>...</td>\n",
       "      <td>8.673617e-19</td>\n",
       "      <td>3.469447e-18</td>\n",
       "      <td>0.000000e+00</td>\n",
       "      <td>0.000000e+00</td>\n",
       "      <td>0.000000e+00</td>\n",
       "      <td>0.000000</td>\n",
       "      <td>0.000000e+00</td>\n",
       "      <td>0.000000e+00</td>\n",
       "      <td>0.000000e+00</td>\n",
       "      <td>0.000000</td>\n",
       "    </tr>\n",
       "    <tr>\n",
       "      <th>3498</th>\n",
       "      <td>0.073661</td>\n",
       "      <td>0.042196</td>\n",
       "      <td>-0.035062</td>\n",
       "      <td>0.081558</td>\n",
       "      <td>0.021276</td>\n",
       "      <td>-0.030754</td>\n",
       "      <td>-0.084377</td>\n",
       "      <td>0.018213</td>\n",
       "      <td>0.026492</td>\n",
       "      <td>-0.031136</td>\n",
       "      <td>...</td>\n",
       "      <td>5.551115e-17</td>\n",
       "      <td>1.387779e-17</td>\n",
       "      <td>1.219727e-19</td>\n",
       "      <td>1.249001e-16</td>\n",
       "      <td>3.469447e-18</td>\n",
       "      <td>0.000000</td>\n",
       "      <td>5.551115e-17</td>\n",
       "      <td>1.387779e-17</td>\n",
       "      <td>3.469447e-18</td>\n",
       "      <td>0.000000</td>\n",
       "    </tr>\n",
       "    <tr>\n",
       "      <th>3499</th>\n",
       "      <td>0.073661</td>\n",
       "      <td>0.143001</td>\n",
       "      <td>0.062736</td>\n",
       "      <td>0.181693</td>\n",
       "      <td>0.081275</td>\n",
       "      <td>0.160126</td>\n",
       "      <td>0.081626</td>\n",
       "      <td>0.123478</td>\n",
       "      <td>0.089058</td>\n",
       "      <td>0.016499</td>\n",
       "      <td>...</td>\n",
       "      <td>2.575756e-03</td>\n",
       "      <td>7.792611e-04</td>\n",
       "      <td>7.858393e-04</td>\n",
       "      <td>9.002073e-04</td>\n",
       "      <td>1.718886e-03</td>\n",
       "      <td>0.002800</td>\n",
       "      <td>2.205925e-03</td>\n",
       "      <td>1.270605e-03</td>\n",
       "      <td>2.808711e-03</td>\n",
       "      <td>0.001363</td>\n",
       "    </tr>\n",
       "  </tbody>\n",
       "</table>\n",
       "<p>3500 rows × 900 columns</p>\n",
       "</div>"
      ],
      "text/plain": [
       "           0         1         2         3         4         5         6    \\\n",
       "0     0.073661  0.143001  0.062736  0.181693  0.081275  0.121119  0.081626   \n",
       "1    -0.014247  0.041688  0.002222  0.088977  0.011558  0.121119  0.088454   \n",
       "2    -0.024683  0.247794 -0.009898  0.175974 -0.002187  0.051169  0.039046   \n",
       "3     0.065949  0.143839  0.111519  0.113842  0.063452  0.164563  0.137870   \n",
       "4     0.073661  0.130383 -0.009898  0.081558  0.021276  0.082945  0.035784   \n",
       "...        ...       ...       ...       ...       ...       ...       ...   \n",
       "3495  0.005253  0.130383  0.019988  0.072352 -0.026763  0.020230  0.057501   \n",
       "3496  0.011504  0.138310  0.019988  0.124221  0.005628  0.067018  0.057501   \n",
       "3497  0.014022  0.095432 -0.143003  0.122673  0.022131 -0.046907 -0.020492   \n",
       "3498  0.073661  0.042196 -0.035062  0.081558  0.021276 -0.030754 -0.084377   \n",
       "3499  0.073661  0.143001  0.062736  0.181693  0.081275  0.160126  0.081626   \n",
       "\n",
       "           7         8         9    ...           890           891  \\\n",
       "0     0.147137  0.077073  0.029350  ...  1.831347e-03  1.309530e-03   \n",
       "1     0.093546  0.025100  0.017685  ...  3.587185e-03  3.635426e-05   \n",
       "2     0.121887  0.065389 -0.038562  ...  4.742717e-03  9.366500e-05   \n",
       "3     0.147137  0.098674  0.045073  ...  2.001211e-03  4.079410e-04   \n",
       "4     0.121887  0.125757 -0.031136  ...  1.104850e-03  8.646961e-04   \n",
       "...        ...       ...       ...  ...           ...           ...   \n",
       "3495  0.121887  0.065389  0.029350  ...  1.426532e-03  1.979043e-03   \n",
       "3496  0.121887  0.077073  0.029350  ...  8.122765e-04  8.646743e-04   \n",
       "3497 -0.037374  0.033576 -0.100427  ...  8.673617e-19  3.469447e-18   \n",
       "3498  0.018213  0.026492 -0.031136  ...  5.551115e-17  1.387779e-17   \n",
       "3499  0.123478  0.089058  0.016499  ...  2.575756e-03  7.792611e-04   \n",
       "\n",
       "               892           893           894       895           896  \\\n",
       "0     5.887108e-04  8.706888e-04  2.404028e-03  0.002937  3.724894e-03   \n",
       "1     1.509667e-04  6.940352e-06  3.204737e-03  0.007679  5.611323e-07   \n",
       "2     1.692523e-04  2.392999e-06  1.626161e-04  0.000008  3.246493e-04   \n",
       "3     2.533661e-04  8.824553e-04  6.764220e-04  0.001716  1.994024e-03   \n",
       "4     4.761621e-04  5.659188e-04  3.072132e-03  0.000440  6.517876e-04   \n",
       "...            ...           ...           ...       ...           ...   \n",
       "3495  7.169532e-04  1.335319e-03  9.222854e-04  0.003937  2.473336e-03   \n",
       "3496  2.831878e-04  7.453368e-04  1.030853e-03  0.001731  6.867272e-04   \n",
       "3497  0.000000e+00  0.000000e+00  0.000000e+00  0.000000  0.000000e+00   \n",
       "3498  1.219727e-19  1.249001e-16  3.469447e-18  0.000000  5.551115e-17   \n",
       "3499  7.858393e-04  9.002073e-04  1.718886e-03  0.002800  2.205925e-03   \n",
       "\n",
       "               897           898       899  \n",
       "0     1.776510e-03  2.880717e-03  0.001341  \n",
       "1     1.787126e-03  1.612345e-05  0.000039  \n",
       "2     2.195657e-04  1.540998e-03  0.000559  \n",
       "3     7.882088e-04  3.139941e-03  0.000492  \n",
       "4     2.672682e-05  1.072253e-03  0.000982  \n",
       "...            ...           ...       ...  \n",
       "3495  2.959961e-03  4.525156e-04  0.001561  \n",
       "3496  3.435219e-03  8.888706e-04  0.001002  \n",
       "3497  0.000000e+00  0.000000e+00  0.000000  \n",
       "3498  1.387779e-17  3.469447e-18  0.000000  \n",
       "3499  1.270605e-03  2.808711e-03  0.001363  \n",
       "\n",
       "[3500 rows x 900 columns]"
      ]
     },
     "execution_count": 21,
     "metadata": {},
     "output_type": "execute_result"
    }
   ],
   "source": [
    "### Make corpus\n",
    "p_level = 'gds_grp_mclas_nm'  # 상품 분류 수준\n",
    "\n",
    "# W2V 학습을 하기에는 데이터(즉 corpus)가 부족하여 \n",
    "# 고객별로 구매한 상품 목록으로부터 n배 oversampling을 수행\n",
    "# unique 사용하지 않음.\n",
    "\n",
    "def oversample(x, n=1, seed=0):   \n",
    "    np.random.seed(seed)\n",
    "    ids = x['cust_id'].unique().tolist() \n",
    "    Products = []\n",
    "    \n",
    "    for id_s in ids:    \n",
    "        productList = x.query(f'cust_id == {id_s}')[p_level].tolist()\n",
    "        for i in range(n):\n",
    "            productList = list(np.append(productList, np.random.choice(productList, len(productList)*n, replace=True)))  # 복원추출 사용.\n",
    "        Products.append(productList)\n",
    "    return Products\n",
    "\n",
    "X_train = oversample(df_train, 2)\n",
    "X_test = oversample(df_test, 2)\n",
    "\n",
    "### Training the Word2Vec model\n",
    "num_features = 300 # 단어 벡터 차원 수\n",
    "min_word_count = 1 # 최소 단어 수\n",
    "context = 10 # 학습 윈도우(인접한 단어 리스트) 크기\n",
    "\n",
    "# 초기화 및 모델 학습\n",
    "from gensim.models import word2vec\n",
    "\n",
    "# 모델 학습\n",
    "w2v = word2vec.Word2Vec(X_train, \n",
    "                        size=num_features, \n",
    "                        min_count=min_word_count,\n",
    "                        window=context,\n",
    "                        sg=1, # sg=1, workers=4 사용. sg=1 로 skip-gram방식 채택\n",
    "                        seed=0, workers=4)\n",
    "# 필요없는 메모리 unload\n",
    "w2v.init_sims(replace=True)\n",
    "\n",
    "### Make features\n",
    "# 구매상품에 해당하는 벡터의 최대/분산/표준편차 벡터를 feature로 만드는 전처리기(pipeline에서 사용 가능)\n",
    "class EmbeddingVectorizer(object):\n",
    "    def __init__(self, word2vec):\n",
    "        self.word2vec = word2vec\n",
    "        self.dim = num_features\n",
    "    def fit(self, X, y):\n",
    "        return self\n",
    "    def transform(self, X):\n",
    "        return np.array([\n",
    "            np.hstack([\n",
    "                np.max([self.word2vec[w] for w in words if w in self.word2vec] or [np.zeros(self.dim)], axis=0),\n",
    "                np.std([self.word2vec[w] for w in words if w in self.word2vec] or [np.zeros(self.dim)], axis=0),\n",
    "                np.var([self.word2vec[w] for w in words if w in self.word2vec] or [np.zeros(self.dim)], axis=0)                \n",
    "            ]) \n",
    "            for words in X\n",
    "        ])  \n",
    "    \n",
    "# EmbeddingVectorizer 클래스를 통해서 피쳐뽑기\n",
    "\n",
    "Vectorizer = EmbeddingVectorizer(w2v.wv)\n",
    "Vectorizer.fit(X_train, y_train)\n",
    "\n",
    "X_train_new = pd.DataFrame(Vectorizer.transform(X_train))\n",
    "X_test_new = pd.DataFrame(Vectorizer.transform(X_test))\n",
    "\n",
    "X_train_new"
   ]
  },
  {
   "cell_type": "code",
   "execution_count": 22,
   "metadata": {},
   "outputs": [
    {
     "data": {
      "text/html": [
       "<div>\n",
       "<style scoped>\n",
       "    .dataframe tbody tr th:only-of-type {\n",
       "        vertical-align: middle;\n",
       "    }\n",
       "\n",
       "    .dataframe tbody tr th {\n",
       "        vertical-align: top;\n",
       "    }\n",
       "\n",
       "    .dataframe thead th {\n",
       "        text-align: right;\n",
       "    }\n",
       "</style>\n",
       "<table border=\"1\" class=\"dataframe\">\n",
       "  <thead>\n",
       "    <tr style=\"text-align: right;\">\n",
       "      <th></th>\n",
       "      <th>corpus_goods</th>\n",
       "      <th>corpus_nm</th>\n",
       "      <th>corpus_mclas</th>\n",
       "    </tr>\n",
       "    <tr>\n",
       "      <th>cust_id</th>\n",
       "      <th></th>\n",
       "      <th></th>\n",
       "      <th></th>\n",
       "    </tr>\n",
       "  </thead>\n",
       "  <tbody>\n",
       "    <tr>\n",
       "      <th>0</th>\n",
       "      <td>[127105, 0, 342220, 0, 127105, 0, 342205, 0, 3...</td>\n",
       "      <td>[기초 화장품, 0, 니  트, 0, 기초 화장품, 0, 니  트, 0, 상품군미지...</td>\n",
       "      <td>[화장품, 0, 시티웨어, 0, 화장품, 0, 시티웨어, 0, 기타, 0, 화장품,...</td>\n",
       "    </tr>\n",
       "    <tr>\n",
       "      <th>1</th>\n",
       "      <td>[550231, 0, 550231, 0, 462102, 0]</td>\n",
       "      <td>[아웃도아, 0, 아웃도아, 0, 트래디셔널Ⅰ, 0]</td>\n",
       "      <td>[스포츠, 0, 스포츠, 0, 트래디셔널, 0]</td>\n",
       "    </tr>\n",
       "    <tr>\n",
       "      <th>2</th>\n",
       "      <td>[461119, 1, 461119, 1, 461119, 1, 461119, 1]</td>\n",
       "      <td>[시티캐주얼, 1, 상품군미지정, 1, 상품군미지정, 1, 시티캐주얼, 1]</td>\n",
       "      <td>[남성 캐주얼, 1, 기타, 1, 기타, 1, 남성 캐주얼, 1]</td>\n",
       "    </tr>\n",
       "    <tr>\n",
       "      <th>3</th>\n",
       "      <td>[35145, 1, 821104, 1, 32263, 1, 50114, 1, 5010...</td>\n",
       "      <td>[회, 1, 한실침구, 1, 생선, 1, 일반가공식품, 1, 일반가공식품, 1, 일...</td>\n",
       "      <td>[수산품, 1, 침구/수예, 1, 수산품, 1, 가공식품, 1, 가공식품, 1, 가...</td>\n",
       "    </tr>\n",
       "    <tr>\n",
       "      <th>4</th>\n",
       "      <td>[127109, 0, 150124, 0, 150124, 0]</td>\n",
       "      <td>[기초 화장품, 0, 상품군미지정, 0, 보석, 0]</td>\n",
       "      <td>[화장품, 0, 기타, 0, 보석, 0]</td>\n",
       "    </tr>\n",
       "    <tr>\n",
       "      <th>...</th>\n",
       "      <td>...</td>\n",
       "      <td>...</td>\n",
       "      <td>...</td>\n",
       "    </tr>\n",
       "    <tr>\n",
       "      <th>3495</th>\n",
       "      <td>[143102, 1, 143102, 1]</td>\n",
       "      <td>[L/C골프의류, 1, 상품군미지정, 1]</td>\n",
       "      <td>[골프, 1, 기타, 1]</td>\n",
       "    </tr>\n",
       "    <tr>\n",
       "      <th>3496</th>\n",
       "      <td>[405107, 1, 173197, 1, 381116, 1, 996101, 1, 3...</td>\n",
       "      <td>[N.B정장, 1, 캐릭터 여화, 1, 시니어, 1, 상품군미지정, 1, 인텔리젼스...</td>\n",
       "      <td>[남성정장, 1, 구두, 1, 시티웨어, 1, 기타, 1, 시티웨어, 1, 시티웨어...</td>\n",
       "    </tr>\n",
       "    <tr>\n",
       "      <th>3497</th>\n",
       "      <td>[647178, 0]</td>\n",
       "      <td>[국산주방, 0]</td>\n",
       "      <td>[주방용품, 0]</td>\n",
       "    </tr>\n",
       "    <tr>\n",
       "      <th>3498</th>\n",
       "      <td>[127105, 0, 127105, 0]</td>\n",
       "      <td>[기초 화장품, 0, 기초 화장품, 0]</td>\n",
       "      <td>[화장품, 0, 화장품, 0]</td>\n",
       "    </tr>\n",
       "    <tr>\n",
       "      <th>3499</th>\n",
       "      <td>[17115, 0, 611150, 0, 735124, 0, 66185, 0, 771...</td>\n",
       "      <td>[곡물, 0, 전기밥솥, 0, 기초A, 0, 회, 0, 수입식품, 0, 수입단기행사...</td>\n",
       "      <td>[농산물, 0, 주방가전, 0, 화장품, 0, 수산품, 0, 차/커피, 0, 가공식...</td>\n",
       "    </tr>\n",
       "  </tbody>\n",
       "</table>\n",
       "<p>3500 rows × 3 columns</p>\n",
       "</div>"
      ],
      "text/plain": [
       "                                              corpus_goods  \\\n",
       "cust_id                                                      \n",
       "0        [127105, 0, 342220, 0, 127105, 0, 342205, 0, 3...   \n",
       "1                        [550231, 0, 550231, 0, 462102, 0]   \n",
       "2             [461119, 1, 461119, 1, 461119, 1, 461119, 1]   \n",
       "3        [35145, 1, 821104, 1, 32263, 1, 50114, 1, 5010...   \n",
       "4                        [127109, 0, 150124, 0, 150124, 0]   \n",
       "...                                                    ...   \n",
       "3495                                [143102, 1, 143102, 1]   \n",
       "3496     [405107, 1, 173197, 1, 381116, 1, 996101, 1, 3...   \n",
       "3497                                           [647178, 0]   \n",
       "3498                                [127105, 0, 127105, 0]   \n",
       "3499     [17115, 0, 611150, 0, 735124, 0, 66185, 0, 771...   \n",
       "\n",
       "                                                 corpus_nm  \\\n",
       "cust_id                                                      \n",
       "0        [기초 화장품, 0, 니  트, 0, 기초 화장품, 0, 니  트, 0, 상품군미지...   \n",
       "1                            [아웃도아, 0, 아웃도아, 0, 트래디셔널Ⅰ, 0]   \n",
       "2               [시티캐주얼, 1, 상품군미지정, 1, 상품군미지정, 1, 시티캐주얼, 1]   \n",
       "3        [회, 1, 한실침구, 1, 생선, 1, 일반가공식품, 1, 일반가공식품, 1, 일...   \n",
       "4                            [기초 화장품, 0, 상품군미지정, 0, 보석, 0]   \n",
       "...                                                    ...   \n",
       "3495                               [L/C골프의류, 1, 상품군미지정, 1]   \n",
       "3496     [N.B정장, 1, 캐릭터 여화, 1, 시니어, 1, 상품군미지정, 1, 인텔리젼스...   \n",
       "3497                                             [국산주방, 0]   \n",
       "3498                                [기초 화장품, 0, 기초 화장품, 0]   \n",
       "3499     [곡물, 0, 전기밥솥, 0, 기초A, 0, 회, 0, 수입식품, 0, 수입단기행사...   \n",
       "\n",
       "                                              corpus_mclas  \n",
       "cust_id                                                     \n",
       "0        [화장품, 0, 시티웨어, 0, 화장품, 0, 시티웨어, 0, 기타, 0, 화장품,...  \n",
       "1                               [스포츠, 0, 스포츠, 0, 트래디셔널, 0]  \n",
       "2                     [남성 캐주얼, 1, 기타, 1, 기타, 1, 남성 캐주얼, 1]  \n",
       "3        [수산품, 1, 침구/수예, 1, 수산품, 1, 가공식품, 1, 가공식품, 1, 가...  \n",
       "4                                   [화장품, 0, 기타, 0, 보석, 0]  \n",
       "...                                                    ...  \n",
       "3495                                        [골프, 1, 기타, 1]  \n",
       "3496     [남성정장, 1, 구두, 1, 시티웨어, 1, 기타, 1, 시티웨어, 1, 시티웨어...  \n",
       "3497                                             [주방용품, 0]  \n",
       "3498                                      [화장품, 0, 화장품, 0]  \n",
       "3499     [농산물, 0, 주방가전, 0, 화장품, 0, 수산품, 0, 차/커피, 0, 가공식...  \n",
       "\n",
       "[3500 rows x 3 columns]"
      ]
     },
     "metadata": {},
     "output_type": "display_data"
    }
   ],
   "source": [
    "### Read data\n",
    "\n",
    "df_train = pd.read_csv('X_train.csv', encoding='cp949')\n",
    "df_test = pd.read_csv('X_test.csv', encoding='cp949')\n",
    "y_train = pd.read_csv('y_train.csv')\n",
    "IDtest = df_test.cust_id.unique()\n",
    "\n",
    "\n",
    "y_train.gender = y_train.gender.astype(str)\n",
    "\n",
    "tr = pd.merge(df_train, y_train, on='cust_id')\n",
    "tr2 = pd.concat([df_train, df_test])\n",
    "\n",
    "corpus_goods = []\n",
    "corpus_nm = []\n",
    "corpus_mclas = []\n",
    "\n",
    "for i in range(len(tr)):\n",
    "    \n",
    "    goods = tr.loc[i, 'goods_id']\n",
    "    nm = tr.loc[i, 'gds_grp_nm']\n",
    "    mclas = tr.loc[i, 'gds_grp_mclas_nm']\n",
    "    gen = tr.loc[i, 'gender']\n",
    "    \n",
    "    corpus_goods.append([goods, gen])\n",
    "    corpus_nm.append([nm, gen])\n",
    "    corpus_mclas.append([mclas, gen])\n",
    "    \n",
    "tr['corpus_goods'] = corpus_goods\n",
    "tr['corpus_nm'] = corpus_nm\n",
    "tr['corpus_mclas'] = corpus_mclas\n",
    "\n",
    "corpus_df = pd.DataFrame(tr.groupby('cust_id')['corpus_goods'].agg(lambda x: [j for i in x for j in i]))\n",
    "corpus_df['corpus_nm'] = tr.groupby('cust_id')['corpus_nm'].agg(lambda x: [j for i in x for j in i])\n",
    "corpus_df['corpus_mclas'] = tr.groupby('cust_id')['corpus_mclas'].agg(lambda x: [j for i in x for j in i])\n",
    "\n",
    "display(corpus_df)\n",
    "\n",
    "corpus1 = corpus_df['corpus_goods']\n",
    "corpus2 = corpus_df['corpus_nm']\n",
    "corpus3 = corpus_df['corpus_mclas']\n",
    "\n",
    "def oversample2(data, n=1, seed=0):    \n",
    "    \n",
    "    np.random.seed(seed)\n",
    "    \n",
    "    customerProducts = []\n",
    "    \n",
    "    for cor in data:\n",
    "            \n",
    "        cor = list(np.append(cor, np.random.choice(cor, len(cor) * n, replace=True)))\n",
    "        \n",
    "        customerProducts.append(cor)\n",
    "    \n",
    "    return customerProducts\n",
    "\n",
    "corpus1_sam = oversample2(corpus1, n=20, seed=0)\n",
    "corpus2_sam = oversample2(corpus2, n=20, seed=0)\n",
    "corpus3_sam = oversample2(corpus3, n=20, seed=0)\n",
    "\n",
    "# W2V 학습\n",
    "\n",
    "num_features = 20 # 문자 벡터 차원 수\n",
    "min_word_count = 0 # 최소 문자 수\n",
    "num_workers = 4 # 병렬 처리 스레드 수\n",
    "context = 3 # 문자열 창 크기\n",
    "\n",
    "wv_item1 = word2vec.Word2Vec(corpus1_sam, \n",
    "                          workers=num_workers, \n",
    "                          size=num_features, \n",
    "                          min_count=min_word_count,\n",
    "                          window=context)\n",
    "\n",
    "wv_item2 = word2vec.Word2Vec(corpus2_sam, \n",
    "                          workers=num_workers, \n",
    "                          size=num_features, \n",
    "                          min_count=min_word_count,\n",
    "                          window=context)\n",
    "\n",
    "wv_item3 = word2vec.Word2Vec(corpus3_sam, \n",
    "                          workers=num_workers, \n",
    "                          size=num_features, \n",
    "                          min_count=min_word_count,\n",
    "                          window=context)\n",
    "\n",
    "## goods_id\n",
    "\n",
    "def get_0_similarity_goods(product):\n",
    "    try:\n",
    "        sim = wv_item1.similarity('0', f'{product}')\n",
    "    except:\n",
    "        sim = np.nan\n",
    "    return sim\n",
    "\n",
    "def get_1_similarity_goods(product):\n",
    "    try:\n",
    "        sim = wv_item1.similarity('1', f'{product}')\n",
    "    except:\n",
    "        sim = np.nan\n",
    "    return sim\n",
    "\n",
    "## gds_grp_nm\n",
    "\n",
    "def get_0_similarity_nm(product):\n",
    "    try:\n",
    "        sim = wv_item2.similarity('0', f'{product}')\n",
    "    except:\n",
    "        sim = np.nan\n",
    "    return sim\n",
    "\n",
    "def get_1_similarity_nm(product):\n",
    "    try:\n",
    "        sim = wv_item2.similarity('1', f'{product}')\n",
    "    except:\n",
    "        sim = np.nan\n",
    "    return sim\n",
    "\n",
    "## gds_grp_mclas_nm\n",
    "\n",
    "def get_0_similarity_mclas(product):\n",
    "    try:\n",
    "        sim = wv_item3.similarity('0', f'{product}')\n",
    "    except:\n",
    "        sim = np.nan\n",
    "    return sim\n",
    "\n",
    "def get_1_similarity_mclas(product):\n",
    "    try:\n",
    "        sim = wv_item3.similarity('1', f'{product}')\n",
    "    except:\n",
    "        sim = np.nan\n",
    "    return sim\n",
    "\n",
    "\n",
    "tr2['goods_0_similarity'] = tr2['goods_id'].apply(get_0_similarity_goods)\n",
    "tr2['goods_1_similarity'] = tr2['goods_id'].apply(get_1_similarity_goods)\n",
    "tr2['nm_0_similarity'] = tr2['gds_grp_nm'].apply(get_0_similarity_nm)\n",
    "tr2['nm_1_similarity'] = tr2['gds_grp_nm'].apply(get_1_similarity_nm)\n",
    "tr2['mclas_0_similarity'] = tr2['gds_grp_mclas_nm'].apply(get_0_similarity_mclas)\n",
    "tr2['mclas_1_similarity'] = tr2['gds_grp_mclas_nm'].apply(get_1_similarity_mclas)\n",
    "\n",
    "train_test = pd.DataFrame({'cust_id' : range(5982)}).set_index('cust_id')\n",
    "\n",
    "train_test['goods_0_similarity'] = tr2.groupby('cust_id')['goods_0_similarity'].apply(lambda x: np.nanmean(x))\n",
    "train_test['goods_1_similarity'] = tr2.groupby('cust_id')['goods_1_similarity'].apply(lambda x: np.nanmean(x))\n",
    "train_test['nm_0_similarity'] = tr2.groupby('cust_id')['nm_0_similarity'].apply(lambda x: np.nanmean(x))\n",
    "train_test['nm_1_similarity'] = tr2.groupby('cust_id')['nm_1_similarity'].apply(lambda x: np.nanmean(x))\n",
    "train_test['mclas_0_similarity'] = tr2.groupby('cust_id')['mclas_0_similarity'].apply(lambda x: np.nanmean(x))\n",
    "train_test['mclas_1_similarity'] = tr2.groupby('cust_id')['mclas_1_similarity'].apply(lambda x: np.nanmean(x))\n",
    "\n",
    "\n",
    "X_train_w2v = train_test[:3500]\n",
    "X_test_w2v = train_test[3500:]\n",
    "\n",
    "idx = [i for i in range(3500,5982)]\n",
    "\n",
    "X_test_new['cust_id'] = idx\n",
    "X_test_new = X_test_new.set_index('cust_id')\n",
    "\n",
    "X_train_new = pd.concat([X_train_w2v, X_train_new], axis=1)\n",
    "X_test_new = pd.concat([X_test_w2v, X_test_new], axis=1)\n",
    "X_test_new = X_test_new.fillna(X_test_new.mean())"
   ]
  },
  {
   "cell_type": "markdown",
   "metadata": {},
   "source": [
    "## BOW1"
   ]
  },
  {
   "cell_type": "code",
   "execution_count": 23,
   "metadata": {},
   "outputs": [],
   "source": [
    "# 788 BOW 피쳐(상관관계, 모든전처리, percentile 이후)\n",
    "\n",
    "X_train = pd.read_csv('X_train_after_preprocessing.csv', encoding='cp949')\n",
    "X_test = pd.read_csv('X_test_after_preprocessing.csv', encoding='cp949')\n",
    "y_train = pd.read_csv('y_train.csv', encoding='cp949').gender"
   ]
  },
  {
   "cell_type": "code",
   "execution_count": 32,
   "metadata": {},
   "outputs": [],
   "source": [
    "idx = [i for i in range(3500,5982)]\n",
    "\n",
    "X_test['cust_id'] = idx\n",
    "X_test = X_test.set_index('cust_id')\n",
    "\n",
    "X_train_new = pd.concat([X_train_new, X_train],axis=1)\n",
    "X_test_new = pd.concat([X_test_new, X_test],axis=1)"
   ]
  },
  {
   "cell_type": "code",
   "execution_count": 33,
   "metadata": {},
   "outputs": [],
   "source": [
    "logreg = LogisticRegression(random_state=0, n_jobs=-1)\n",
    "\n",
    "models = [logreg]"
   ]
  },
  {
   "cell_type": "code",
   "execution_count": 34,
   "metadata": {},
   "outputs": [
    {
     "name": "stderr",
     "output_type": "stream",
     "text": [
      "100%|██████████████████████████████████████████████████████████████████████████████████| 95/95 [11:24<00:00,  7.21s/it]\n",
      "No handles with labels found to put in legend.\n"
     ]
    },
    {
     "name": "stdout",
     "output_type": "stream",
     "text": [
      "LogisticRegression (77, 0.7717970985448189)\n"
     ]
    },
    {
     "data": {
      "image/png": "[encoded data removed]",
      "text/plain": [
       "<Figure size 432x288 with 1 Axes>"
      ]
     },
     "metadata": {
      "needs_background": "light"
     },
     "output_type": "display_data"
    }
   ],
   "source": [
    "skf = StratifiedKFold(n_splits=4 , shuffle=False, random_state=50)\n",
    "\n",
    "# 6개의 모델을 이용해서 가장 잘나온 p를 뽑을 것임\n",
    "for model in models:\n",
    "    \n",
    "    cv_scores = []\n",
    "    \n",
    "    # 퍼센타일을 5~100프로 모두 살피기 <- 처음에만 100프로 찍고 이후 조절하기\n",
    "    for percentile in tqdm(range(5,100)):\n",
    "    \n",
    "        X_new = SelectPercentile(percentile = percentile).fit_transform(X_train_new,y_train)\n",
    "       \n",
    "        # cross_val_score 4번의 평균값 (정수시 skf로 자동으로 들어간다)\n",
    "        cv_score = cross_val_score(model, X_new, y_train, scoring='roc_auc', cv=skf).mean()\n",
    "        \n",
    "        cv_scores.append((percentile, cv_score))\n",
    "        \n",
    "    # 베스트 percentile과 점수 출력\n",
    "    best_score = cv_scores[np.argmax([score for _, score in cv_scores])]\n",
    "    print(model.__class__.__name__, best_score)\n",
    "    \n",
    "    # 모델별 percentile에 따른 성능 그림\n",
    "    plt.plot([p for p,_ in cv_scores], [score for _, score in cv_scores])\n",
    "    plt.xlabel('Percent of features')\n",
    "    plt.legend(loc=0)\n",
    "    plt.grid()"
   ]
  },
  {
   "cell_type": "code",
   "execution_count": 35,
   "metadata": {},
   "outputs": [],
   "source": [
    "select_p = SelectPercentile(percentile=best_score[0]).fit(X_train_new, y_train)\n",
    "X_train = select_p.transform(X_train_new)\n",
    "X_test = select_p.transform(X_test_new)"
   ]
  },
  {
   "cell_type": "code",
   "execution_count": 36,
   "metadata": {},
   "outputs": [],
   "source": [
    "X_train, X_valid, y_train, y_valid = train_test_split(X_train, y_train, test_size=0.2, shuffle=True)"
   ]
  },
  {
   "cell_type": "code",
   "execution_count": 37,
   "metadata": {},
   "outputs": [
    {
     "data": {
      "text/plain": [
       "array([[ 0.37867364, -0.05715041,  0.20966873, ..., -0.29152507,\n",
       "        -0.39175273, -0.1127275 ],\n",
       "       [ 0.07758634, -0.12215102,  0.29104076, ...,  0.55159497,\n",
       "         0.19073178, -0.15404818],\n",
       "       [ 0.27840203, -0.13902063,  0.41165197, ...,  0.13370314,\n",
       "         0.12266328, -0.06594497],\n",
       "       ...,\n",
       "       [ 0.22171068,  0.15928626,  0.25361228, ..., -0.16335834,\n",
       "         0.22841814,  0.08854428],\n",
       "       [ 0.03066001,  0.15422905,  0.14090319, ...,  0.41114916,\n",
       "        -0.14484217,  0.07505889],\n",
       "       [ 0.14472225,  0.12691832,  0.12643603, ...,  0.03029854,\n",
       "         0.00956179,  0.09911007]])"
      ]
     },
     "execution_count": 37,
     "metadata": {},
     "output_type": "execute_result"
    }
   ],
   "source": [
    "X_train"
   ]
  },
  {
   "cell_type": "code",
   "execution_count": 38,
   "metadata": {
    "scrolled": true
   },
   "outputs": [
    {
     "data": {
      "text/plain": [
       "array([[-0.14562334,  0.10719953,  0.05285758, ...,  0.32201607,\n",
       "        -0.04525061, -0.01069687],\n",
       "       [ 0.19801814,  0.06391473,  0.29767962, ...,  0.27814712,\n",
       "         0.05287843,  0.15137349],\n",
       "       [ 0.30969061,  0.2307281 ,  0.26682428, ...,  0.54759254,\n",
       "        -0.33862039, -0.19183876],\n",
       "       ...,\n",
       "       [-0.09113634,  0.07615984,  0.05433874, ...,  0.24774476,\n",
       "        -0.05869528, -0.43019876],\n",
       "       [ 0.19981894,  0.13745643,  0.17305795, ...,  0.26010963,\n",
       "         0.21809215,  0.04388484],\n",
       "       [ 0.27517988,  0.28945869,  0.17800564, ..., -0.07337788,\n",
       "        -0.00379592, -0.13430358]])"
      ]
     },
     "execution_count": 38,
     "metadata": {},
     "output_type": "execute_result"
    }
   ],
   "source": [
    "X_test"
   ]
  },
  {
   "cell_type": "code",
   "execution_count": 39,
   "metadata": {},
   "outputs": [
    {
     "name": "stderr",
     "output_type": "stream",
     "text": [
      "  0%|                                                                                            | 0/5 [00:00<?, ?it/s]"
     ]
    },
    {
     "data": {
      "image/png": "[encoded data removed]",
      "text/plain": [
       "<Figure size 432x288 with 1 Axes>"
      ]
     },
     "metadata": {
      "needs_background": "light"
     },
     "output_type": "display_data"
    },
    {
     "name": "stderr",
     "output_type": "stream",
     "text": [
      " 20%|████████████████▊                                                                   | 1/5 [00:01<00:06,  1.59s/it]"
     ]
    },
    {
     "name": "stdout",
     "output_type": "stream",
     "text": [
      "0.7897071490094745\n"
     ]
    },
    {
     "data": {
      "image/png": "[encoded data removed]",
      "text/plain": [
       "<Figure size 432x288 with 1 Axes>"
      ]
     },
     "metadata": {
      "needs_background": "light"
     },
     "output_type": "display_data"
    },
    {
     "name": "stderr",
     "output_type": "stream",
     "text": [
      " 40%|█████████████████████████████████▌                                                  | 2/5 [00:03<00:04,  1.65s/it]"
     ]
    },
    {
     "name": "stdout",
     "output_type": "stream",
     "text": [
      "0.7895434969853575\n"
     ]
    },
    {
     "data": {
      "image/png": "[encoded data removed]",
      "text/plain": [
       "<Figure size 432x288 with 1 Axes>"
      ]
     },
     "metadata": {
      "needs_background": "light"
     },
     "output_type": "display_data"
    },
    {
     "name": "stderr",
     "output_type": "stream",
     "text": [
      " 60%|██████████████████████████████████████████████████▍                                 | 3/5 [00:05<00:03,  1.68s/it]"
     ]
    },
    {
     "name": "stdout",
     "output_type": "stream",
     "text": [
      "0.7851636520241172\n"
     ]
    },
    {
     "data": {
      "image/png": "[encoded data removed]",
      "text/plain": [
       "<Figure size 432x288 with 1 Axes>"
      ]
     },
     "metadata": {
      "needs_background": "light"
     },
     "output_type": "display_data"
    },
    {
     "name": "stderr",
     "output_type": "stream",
     "text": [
      " 80%|███████████████████████████████████████████████████████████████████▏                | 4/5 [00:07<00:01,  1.80s/it]"
     ]
    },
    {
     "name": "stdout",
     "output_type": "stream",
     "text": [
      "0.7860077519379846\n"
     ]
    },
    {
     "data": {
      "image/png": "[encoded data removed]",
      "text/plain": [
       "<Figure size 432x288 with 1 Axes>"
      ]
     },
     "metadata": {
      "needs_background": "light"
     },
     "output_type": "display_data"
    },
    {
     "name": "stderr",
     "output_type": "stream",
     "text": [
      "100%|████████████████████████████████████████████████████████████████████████████████████| 5/5 [00:08<00:00,  1.76s/it]"
     ]
    },
    {
     "name": "stdout",
     "output_type": "stream",
     "text": [
      "0.7935658914728683\n"
     ]
    },
    {
     "name": "stderr",
     "output_type": "stream",
     "text": [
      "\n"
     ]
    }
   ],
   "source": [
    "for i in tqdm(range(5)):       \n",
    "    # model architecture\n",
    "    model = Sequential(name = 'dnn model')\n",
    "    model.add(Dense(32, input_shape=(X_train.shape[1],), activation='relu'))\n",
    "    model.add(Dropout(0.2))\n",
    "    model.add(Dense(4, activation='relu'))\n",
    "    model.add(Dropout(0.2))\n",
    "    model.add(Dense(8, activation='relu'))\n",
    "    model.add(Dense(1, activation='sigmoid'))\n",
    "\n",
    "    # choose the optimizer and the cost function\n",
    "    model.compile(loss='binary_crossentropy', optimizer='adam', metrics=['acc'])\n",
    "\n",
    "    # model.summary()\n",
    "\n",
    "\n",
    "    # train the model -> verbose=0: silent\n",
    "    callbacks = [keras.callbacks.EarlyStopping(monitor='val_loss', patience=5)]\n",
    "\n",
    "    hist = model.fit(X_train, y_train, validation_data=(X_valid, y_valid),\n",
    "        batch_size=64, epochs=200, callbacks=callbacks, verbose=0)\n",
    "\n",
    "    # visualize training history\n",
    "    plt.plot(hist.history['loss'], label='train loss')\n",
    "    plt.plot(hist.history['val_loss'], label='validation loss')\n",
    "    plt.legend()\n",
    "    plt.xlabel('epoch')\n",
    "    plt.title('Loss')\n",
    "    plt.show()\n",
    "\n",
    "\n",
    "    # plt.plot(hist.history['acc'], label='train acc')\n",
    "    # plt.plot(hist.history['val_acc'], label='validation acc')\n",
    "    # plt.legend()\n",
    "    # plt.xlabel('epoch')\n",
    "    # plt.title('acc')\n",
    "    # plt.show()\n",
    "\n",
    "    # evaluate the model performance\n",
    "\n",
    "    #print(model.evaluate(X_test, y_test))\n",
    "    #if roc_auc_score(y_test, model.predict(X_test)) >= 0.755:\n",
    "    #    print(f'1층: {dr1},드롭1: {drop1},2층: {dr2}, 드롭2: {drop2}, 3층: {dr3}')\n",
    "    #    print(roc_auc_score(y_test, model.predict(X_test)))\n",
    "    print(roc_auc_score(y_valid, model.predict(X_valid)))"
   ]
  },
  {
   "cell_type": "code",
   "execution_count": 40,
   "metadata": {},
   "outputs": [
    {
     "name": "stdout",
     "output_type": "stream",
     "text": [
      "(2482,)\n"
     ]
    }
   ],
   "source": [
    "pred = model.predict(X_test).flatten()\n",
    "print(pred.shape)\n"
   ]
  },
  {
   "cell_type": "code",
   "execution_count": 41,
   "metadata": {},
   "outputs": [],
   "source": [
    "ID_dep = [i for i in range(3500,5982)]"
   ]
  },
  {
   "cell_type": "code",
   "execution_count": 42,
   "metadata": {
    "scrolled": false
   },
   "outputs": [],
   "source": [
    "# make submissions\n",
    "\n",
    "# pd.DataFrame({'cust_id': ID_dep, 'gender': pred}).to_csv('submission_w2v대 dnn.csv', index=False, encoding='cp949')\n",
    "# pd.read_csv('submission_w2v대 dnn.csv', encoding='cp949')"
   ]
  },
  {
   "cell_type": "markdown",
   "metadata": {},
   "source": [
    "## +ref_dnn modeling"
   ]
  },
  {
   "cell_type": "code",
   "execution_count": 43,
   "metadata": {},
   "outputs": [],
   "source": [
    "# 모형 학습 시 RMSE를 계산하는 함수\n",
    "import keras.backend as K\n",
    "def rmse(y_true, y_pred):\n",
    "        return K.sqrt(K.mean(K.square(y_pred - y_true)))"
   ]
  },
  {
   "cell_type": "code",
   "execution_count": 44,
   "metadata": {},
   "outputs": [],
   "source": [
    "# 예측값을 저장할 폴더 생성\n",
    "folder = 'Ensemble'\n",
    "if not os.path.isdir(folder):\n",
    "    os.mkdir(folder)"
   ]
  },
  {
   "cell_type": "code",
   "execution_count": 45,
   "metadata": {},
   "outputs": [
    {
     "name": "stderr",
     "output_type": "stream",
     "text": [
      "  0%|                                                                                            | 0/5 [00:00<?, ?it/s]"
     ]
    },
    {
     "data": {
      "image/png": "[encoded data removed]",
      "text/plain": [
       "<Figure size 432x288 with 1 Axes>"
      ]
     },
     "metadata": {
      "needs_background": "light"
     },
     "output_type": "display_data"
    },
    {
     "name": "stderr",
     "output_type": "stream",
     "text": [
      " 20%|████████████████▊                                                                   | 1/5 [00:01<00:07,  1.95s/it]"
     ]
    },
    {
     "name": "stdout",
     "output_type": "stream",
     "text": [
      "0.7923858742463395 SEED: 3968\n"
     ]
    },
    {
     "data": {
      "image/png": "[encoded data removed]",
      "text/plain": [
       "<Figure size 432x288 with 1 Axes>"
      ]
     },
     "metadata": {
      "needs_background": "light"
     },
     "output_type": "display_data"
    },
    {
     "name": "stderr",
     "output_type": "stream",
     "text": [
      " 40%|█████████████████████████████████▌                                                  | 2/5 [00:04<00:06,  2.14s/it]"
     ]
    },
    {
     "name": "stdout",
     "output_type": "stream",
     "text": [
      "0.7949181739879414 SEED: 3985\n"
     ]
    },
    {
     "data": {
      "image/png": "[encoded data removed]",
      "text/plain": [
       "<Figure size 432x288 with 1 Axes>"
      ]
     },
     "metadata": {
      "needs_background": "light"
     },
     "output_type": "display_data"
    },
    {
     "name": "stderr",
     "output_type": "stream",
     "text": [
      " 60%|██████████████████████████████████████████████████▍                                 | 3/5 [00:06<00:04,  2.09s/it]"
     ]
    },
    {
     "name": "stdout",
     "output_type": "stream",
     "text": [
      "0.7919379844961241 SEED: 1879\n"
     ]
    },
    {
     "data": {
      "image/png": "[encoded data removed]",
      "text/plain": [
       "<Figure size 432x288 with 1 Axes>"
      ]
     },
     "metadata": {
      "needs_background": "light"
     },
     "output_type": "display_data"
    },
    {
     "name": "stderr",
     "output_type": "stream",
     "text": [
      " 80%|███████████████████████████████████████████████████████████████████▏                | 4/5 [00:09<00:02,  2.29s/it]"
     ]
    },
    {
     "name": "stdout",
     "output_type": "stream",
     "text": [
      "0.7928768303186908 SEED: 3880\n"
     ]
    },
    {
     "data": {
      "image/png": "[encoded data removed]",
      "text/plain": [
       "<Figure size 432x288 with 1 Axes>"
      ]
     },
     "metadata": {
      "needs_background": "light"
     },
     "output_type": "display_data"
    },
    {
     "name": "stderr",
     "output_type": "stream",
     "text": [
      "100%|████████████████████████████████████████████████████████████████████████████████████| 5/5 [00:10<00:00,  2.12s/it]"
     ]
    },
    {
     "name": "stdout",
     "output_type": "stream",
     "text": [
      "0.7934797588285961 SEED: 9361\n"
     ]
    },
    {
     "name": "stderr",
     "output_type": "stream",
     "text": [
      "\n"
     ]
    }
   ],
   "source": [
    "for i in tqdm(range(5)):    \n",
    "    SEED = np.random.randint(1, 10000)              \n",
    "    random.seed(SEED)       \n",
    "    np.random.seed(SEED)     \n",
    "    if tf.__version__[0] < '2':  \n",
    "        tf.set_random_seed(SEED)\n",
    "    else:\n",
    "        tf.random.set_seed(SEED)\n",
    "\n",
    "    # Define the NN architecture\n",
    "    input = Input(shape=(X_train.shape[1],))\n",
    "    x = Dense(64, activation='elu')(input)\n",
    "    x = Dropout(0.3)(x)\n",
    "    x1 = Dense(64)(x)\n",
    "    x = Add()([x1,x])\n",
    "    x = Dense(32, activation='elu')(x)\n",
    "    x = Dropout(0.3)(x)\n",
    "    x1 = Dense(32)(x)\n",
    "    x = Add()([x1,x])\n",
    "    x = Dense(16, activation='elu')(x)\n",
    "    x = Dropout(0.3)(x)\n",
    "    x1 = Dense(16)(x)\n",
    "    x = Add()([x1,x])\n",
    "    output = Dense(1, activation='elu')(x)\n",
    "    model = Model(input, output)  \n",
    "\n",
    "    # Choose the optimizer and the cost function\n",
    "    model.compile(loss='mse', optimizer='adam', metrics=[rmse])\n",
    "\n",
    "    # Train the model\n",
    "    callbacks = [keras.callbacks.EarlyStopping(monitor='val_loss', patience=5)]\n",
    "    hist = model.fit(X_train, y_train, validation_data=(X_valid, y_valid), batch_size=64, epochs=100, \n",
    "                    callbacks=callbacks, shuffle=False, verbose=0)\n",
    "    \n",
    "    # visualize training history\n",
    "    plt.plot(hist.history['loss'], label='train loss')\n",
    "    plt.plot(hist.history['val_loss'], label='validation loss')\n",
    "    plt.legend()\n",
    "    plt.xlabel('epoch')\n",
    "    plt.title('Loss')\n",
    "    plt.show()\n",
    "\n",
    "    print(roc_auc_score(y_valid, model.predict(X_valid)), 'SEED:', SEED)\n",
    "\n",
    "\n",
    "    # Make submissions\n",
    "#     submission = pd.DataFrame({\n",
    "#         \"item_id\": IDtest, \n",
    "#         \"item_cnt_month\": model.predict(X_test).clip(0, 20).flatten()\n",
    "#     })\n",
    "#     t = pd.Timestamp.now()\n",
    "#     fname = f\"{folder}/dnn_submission_{t.month:02}{t.day:02}_s{SEED:05}(w2v대 dnn).csv\"\n",
    "#     submission.to_csv(fname, index=False)    \n",
    " "
   ]
  },
  {
   "cell_type": "code",
   "execution_count": null,
   "metadata": {},
   "outputs": [],
   "source": [
    "# nf = 0\n",
    "# for f in os.listdir(folder):\n",
    "#     ext = os.path.splitext(f)[-1]\n",
    "#     if ext == '.csv': \n",
    "#         s = pd.read_csv(folder+\"/\"+f)\n",
    "#     else: \n",
    "#         continue\n",
    "#     if len(s.columns) !=2:\n",
    "#         continue\n",
    "#     if nf == 0: \n",
    "#         slist = s\n",
    "#     else: \n",
    "#         slist = pd.merge(slist, s, on=\"item_id\")\n",
    "#     nf += 1\n",
    "\n",
    "# p = 4.5 # 이 값에 따라 성능이 달라짐 (p=1: 산술평균, p>1: 멱평균)    \n",
    "# if nf >= 2:\n",
    "#     pred = 0\n",
    "#     for j in range(nf): pred = pred + slist.iloc[:,j+1]**p \n",
    "#     pred = pred / nf    \n",
    "#     pred = pred**(1/p)\n",
    "\n",
    "#     submission = pd.DataFrame({'cust_id': slist.item_id, 'gender': pred})\n",
    "#     t = pd.Timestamp.now()\n",
    "#     fname = f\"p{p}mean_dnn_submission_{t.month:02}{t.day:02}_{t.hour:02}{t.minute:02}(w2v대 dnn).csv\"\n",
    "#     submission.to_csv(fname, index=False)"
   ]
  },
  {
   "cell_type": "code",
   "execution_count": null,
   "metadata": {},
   "outputs": [],
   "source": [
    "# nf = 0\n",
    "# for f in os.listdir(folder):\n",
    "#     ext = os.path.splitext(f)[-1]\n",
    "#     if ext == '.csv': \n",
    "#         s = pd.read_csv(folder+\"/\"+f)\n",
    "#     else: \n",
    "#         continue\n",
    "#     if len(s.columns) !=2:\n",
    "#         continue\n",
    "#     if nf == 0: \n",
    "#         slist = s\n",
    "#     else: \n",
    "#         slist = pd.merge(slist, s, on=\"item_id\")\n",
    "#     nf += 1\n",
    "\n",
    "# p = 3.5 # 이 값에 따라 성능이 달라짐 (p=1: 산술평균, p>1: 멱평균)    \n",
    "# if nf >= 2:\n",
    "#     pred = 0\n",
    "#     for j in range(nf): pred = pred + slist.iloc[:,j+1]**p \n",
    "#     pred = pred / nf    \n",
    "#     pred = pred**(1/p)\n",
    "\n",
    "#     submission = pd.DataFrame({'cust_id': slist.item_id, 'gender': pred})\n",
    "#     t = pd.Timestamp.now()\n",
    "#     fname = f\"p{p}mean_dnn_submission_{t.month:02}{t.day:02}_{t.hour:02}{t.minute:02}(w2v대 dnn).csv\"\n",
    "#     submission.to_csv(fname, index=False)"
   ]
  },
  {
   "cell_type": "code",
   "execution_count": null,
   "metadata": {},
   "outputs": [],
   "source": []
  }
 ],
 "metadata": {
  "kernelspec": {
   "display_name": "Python 3",
   "language": "python",
   "name": "python3"
  },
  "language_info": {
   "codemirror_mode": {
    "name": "ipython",
    "version": 3
   },
   "file_extension": ".py",
   "mimetype": "text/x-python",
   "name": "python",
   "nbconvert_exporter": "python",
   "pygments_lexer": "ipython3",
   "version": "3.7.6"
  }
 },
 "nbformat": 4,
 "nbformat_minor": 4
}
