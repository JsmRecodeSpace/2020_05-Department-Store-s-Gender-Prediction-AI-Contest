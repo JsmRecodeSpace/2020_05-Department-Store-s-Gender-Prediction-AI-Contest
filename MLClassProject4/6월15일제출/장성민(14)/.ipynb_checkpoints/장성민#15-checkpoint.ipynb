{
 "cells": [
  {
   "cell_type": "markdown",
   "metadata": {
    "_uuid": "93b41229599509f643f1c1df3b86b3f79b66666f"
   },
   "source": [
    "## This model has the following characteristics:\n",
    "* No feature engineering\n",
    "* Applying multiple Conv1Ds to raw transactions"
   ]
  },
  {
   "cell_type": "code",
   "execution_count": 5,
   "metadata": {},
   "outputs": [],
   "source": [
    "# basic \n",
    "\n",
    "import pandas as pd\n",
    "import numpy as np\n",
    "import warnings\n",
    "warnings.filterwarnings('ignore')\n",
    "pd.set_option('display.max_columns', 50, 'display.max_rows', 200)\n",
    "from itertools import combinations\n",
    "\n",
    "# plot\n",
    "\n",
    "import seaborn as sns\n",
    "import matplotlib.pylab as plt\n",
    "from matplotlib import font_manager, rc\n",
    "\n",
    "import platform\n",
    "your_os = platform.system()\n",
    "if your_os == 'Linux':\n",
    "    rc('font', family='NanumGothic')\n",
    "elif your_os == 'Windows':\n",
    "    ttf = \"c:/Windows/Fonts/malgun.ttf\"\n",
    "    font_name = font_manager.FontProperties(fname=ttf).get_name()\n",
    "    rc('font', family=font_name)\n",
    "elif your_os == 'Darwin':\n",
    "    rc('font', family='AppleGothic')\n",
    "rc('axes', unicode_minus=False)\n",
    "\n",
    "\n",
    "# models\n",
    "import time\n",
    "from tqdm import tqdm\n",
    "from sklearn.model_selection import train_test_split\n",
    "from sklearn.model_selection import cross_val_score\n",
    "from sklearn.metrics import roc_auc_score\n",
    "from sklearn.model_selection import StratifiedKFold, KFold\n",
    "\n",
    "from sklearn.preprocessing import OneHotEncoder\n",
    "from sklearn.decomposition import PCA\n",
    "from sklearn.feature_selection import SelectPercentile\n",
    "from scipy.stats.mstats import gmean\n",
    "from sklearn.preprocessing import MinMaxScaler\n",
    "from sklearn.model_selection import ShuffleSplit\n",
    "\n",
    "from sklearn.ensemble import RandomForestClassifier\n",
    "from sklearn.neighbors import KNeighborsClassifier\n",
    "from sklearn.linear_model import LogisticRegression\n",
    "from sklearn.svm import SVC\n",
    "from sklearn.ensemble import GradientBoostingClassifier\n",
    "from lightgbm import LGBMClassifier\n",
    "from xgboost import XGBClassifier\n",
    "from sklearn.neural_network import MLPClassifier\n",
    "from catboost import CatBoostClassifier\n",
    "from sklearn import svm\n",
    "from sklearn.ensemble import ExtraTreesClassifier\n",
    "from catboost import CatBoostClassifier\n",
    "\n",
    "from sklearn.model_selection import GridSearchCV, RandomizedSearchCV\n",
    "from bayes_opt import BayesianOptimization\n",
    "from sklearn.ensemble import VotingClassifier\n",
    "from vecstack import StackingTransformer\n",
    "from vecstack import stacking\n",
    "\n",
    "%run import_modules.py  \n",
    "%matplotlib inline\n",
    "\n",
    "# For DNN modeling\n",
    "import tensorflow as tf\n",
    "\n",
    "# Tensorflow warning off\n",
    "os.environ['TF_CPP_MIN_LOG_LEVEL'] = '3' \n",
    "\n",
    "tf.compat.v1.logging.set_verbosity(tf.compat.v1.logging.ERROR)\n",
    "#  tf.logging.set_verbosity(tf.logging.ERROR) <- logging이 버전업그레이드에서 사용 X라함\n",
    "\n",
    "# from tensorflow import set_random_seed \n",
    "# 위에 코드 안됨에 대한 답변: In Tensoflow2 there is no need to perform\n",
    "# from tensorflow import set_random_seed\n",
    "# in order to run\n",
    "# set_random_seed(x)\n",
    "# (as it was in older version)\n",
    "# Only have to run\n",
    "# import tensorflow\n",
    "# tensorflow.random.set_seed(x)\n",
    "\n",
    "tf.random.set_seed(2020)\n",
    "import keras\n",
    "from keras import backend as K\n",
    "from keras.layers import * #Input, Dense\n",
    "from keras.models import * #Model\n",
    "from keras.optimizers import *\n",
    "from keras.initializers import *\n",
    "from keras.regularizers import *\n",
    "from keras.utils.np_utils import *\n",
    "from keras.utils.vis_utils import * #model_to_dot\n",
    "from keras.callbacks import EarlyStopping\n",
    "from keras.preprocessing import sequence\n",
    "from keras.preprocessing.text import *"
   ]
  },
  {
   "cell_type": "markdown",
   "metadata": {
    "_uuid": "dd7e3527fd56e5b5855c6846ca226f5f860f725b"
   },
   "source": [
    "### Read Data"
   ]
  },
  {
   "cell_type": "code",
   "execution_count": 6,
   "metadata": {
    "_uuid": "794123064b09797f51add356a676fb6a7aed015d"
   },
   "outputs": [
    {
     "data": {
      "text/html": [
       "<div>\n",
       "<style scoped>\n",
       "    .dataframe tbody tr th:only-of-type {\n",
       "        vertical-align: middle;\n",
       "    }\n",
       "\n",
       "    .dataframe tbody tr th {\n",
       "        vertical-align: top;\n",
       "    }\n",
       "\n",
       "    .dataframe thead th {\n",
       "        text-align: right;\n",
       "    }\n",
       "</style>\n",
       "<table border=\"1\" class=\"dataframe\">\n",
       "  <thead>\n",
       "    <tr style=\"text-align: right;\">\n",
       "      <th></th>\n",
       "      <th>cust_id</th>\n",
       "      <th>tran_date</th>\n",
       "      <th>store_nm</th>\n",
       "      <th>goods_id</th>\n",
       "      <th>gds_grp_nm</th>\n",
       "      <th>gds_grp_mclas_nm</th>\n",
       "      <th>amount</th>\n",
       "    </tr>\n",
       "  </thead>\n",
       "  <tbody>\n",
       "    <tr>\n",
       "      <th>0</th>\n",
       "      <td>0</td>\n",
       "      <td>2007-01-19 00:00:00</td>\n",
       "      <td>강남점</td>\n",
       "      <td>127105</td>\n",
       "      <td>기초 화장품</td>\n",
       "      <td>화장품</td>\n",
       "      <td>850000</td>\n",
       "    </tr>\n",
       "    <tr>\n",
       "      <th>1</th>\n",
       "      <td>0</td>\n",
       "      <td>2007-03-30 00:00:00</td>\n",
       "      <td>강남점</td>\n",
       "      <td>342220</td>\n",
       "      <td>니  트</td>\n",
       "      <td>시티웨어</td>\n",
       "      <td>480000</td>\n",
       "    </tr>\n",
       "    <tr>\n",
       "      <th>2</th>\n",
       "      <td>0</td>\n",
       "      <td>2007-03-30 00:00:00</td>\n",
       "      <td>강남점</td>\n",
       "      <td>127105</td>\n",
       "      <td>기초 화장품</td>\n",
       "      <td>화장품</td>\n",
       "      <td>3000000</td>\n",
       "    </tr>\n",
       "    <tr>\n",
       "      <th>3</th>\n",
       "      <td>0</td>\n",
       "      <td>2007-03-30 00:00:00</td>\n",
       "      <td>강남점</td>\n",
       "      <td>342205</td>\n",
       "      <td>니  트</td>\n",
       "      <td>시티웨어</td>\n",
       "      <td>840000</td>\n",
       "    </tr>\n",
       "    <tr>\n",
       "      <th>4</th>\n",
       "      <td>0</td>\n",
       "      <td>2007-03-30 00:00:00</td>\n",
       "      <td>강남점</td>\n",
       "      <td>342220</td>\n",
       "      <td>상품군미지정</td>\n",
       "      <td>기타</td>\n",
       "      <td>20000</td>\n",
       "    </tr>\n",
       "    <tr>\n",
       "      <th>5</th>\n",
       "      <td>0</td>\n",
       "      <td>2007-05-13 00:00:00</td>\n",
       "      <td>강남점</td>\n",
       "      <td>127105</td>\n",
       "      <td>기초 화장품</td>\n",
       "      <td>화장품</td>\n",
       "      <td>3000000</td>\n",
       "    </tr>\n",
       "    <tr>\n",
       "      <th>6</th>\n",
       "      <td>0</td>\n",
       "      <td>2007-05-13 00:00:00</td>\n",
       "      <td>강남점</td>\n",
       "      <td>321101</td>\n",
       "      <td>디자이너부틱</td>\n",
       "      <td>디자이너</td>\n",
       "      <td>11264000</td>\n",
       "    </tr>\n",
       "    <tr>\n",
       "      <th>7</th>\n",
       "      <td>0</td>\n",
       "      <td>2007-05-13 00:00:00</td>\n",
       "      <td>강남점</td>\n",
       "      <td>443204</td>\n",
       "      <td>비지니스군</td>\n",
       "      <td>셔츠</td>\n",
       "      <td>975000</td>\n",
       "    </tr>\n",
       "    <tr>\n",
       "      <th>8</th>\n",
       "      <td>0</td>\n",
       "      <td>2007-06-09 00:00:00</td>\n",
       "      <td>강남점</td>\n",
       "      <td>9112</td>\n",
       "      <td>유제품</td>\n",
       "      <td>축산가공</td>\n",
       "      <td>85000</td>\n",
       "    </tr>\n",
       "    <tr>\n",
       "      <th>9</th>\n",
       "      <td>0</td>\n",
       "      <td>2007-06-09 00:00:00</td>\n",
       "      <td>강남점</td>\n",
       "      <td>72196</td>\n",
       "      <td>건강식품</td>\n",
       "      <td>건강식품</td>\n",
       "      <td>2340000</td>\n",
       "    </tr>\n",
       "  </tbody>\n",
       "</table>\n",
       "</div>"
      ],
      "text/plain": [
       "   cust_id            tran_date store_nm  goods_id gds_grp_nm  \\\n",
       "0        0  2007-01-19 00:00:00      강남점    127105     기초 화장품   \n",
       "1        0  2007-03-30 00:00:00      강남점    342220       니  트   \n",
       "2        0  2007-03-30 00:00:00      강남점    127105     기초 화장품   \n",
       "3        0  2007-03-30 00:00:00      강남점    342205       니  트   \n",
       "4        0  2007-03-30 00:00:00      강남점    342220     상품군미지정   \n",
       "5        0  2007-05-13 00:00:00      강남점    127105     기초 화장품   \n",
       "6        0  2007-05-13 00:00:00      강남점    321101     디자이너부틱   \n",
       "7        0  2007-05-13 00:00:00      강남점    443204      비지니스군   \n",
       "8        0  2007-06-09 00:00:00      강남점      9112        유제품   \n",
       "9        0  2007-06-09 00:00:00      강남점     72196       건강식품   \n",
       "\n",
       "  gds_grp_mclas_nm    amount  \n",
       "0              화장품    850000  \n",
       "1             시티웨어    480000  \n",
       "2              화장품   3000000  \n",
       "3             시티웨어    840000  \n",
       "4               기타     20000  \n",
       "5              화장품   3000000  \n",
       "6             디자이너  11264000  \n",
       "7               셔츠    975000  \n",
       "8             축산가공     85000  \n",
       "9             건강식품   2340000  "
      ]
     },
     "execution_count": 6,
     "metadata": {},
     "output_type": "execute_result"
    }
   ],
   "source": [
    "df_train = pd.read_csv('X_train.csv', encoding='cp949')\n",
    "df_test = pd.read_csv('X_test.csv', encoding='cp949')\n",
    "y_train = pd.read_csv('y_train.csv').gender\n",
    "IDtest = df_test.cust_id.unique()\n",
    "\n",
    "df_train.head(10)"
   ]
  },
  {
   "cell_type": "markdown",
   "metadata": {
    "_uuid": "8fdb273f73bbee0a8f11b33be46446b6825e9b6a"
   },
   "source": [
    "### Transform Data"
   ]
  },
  {
   "cell_type": "code",
   "execution_count": 7,
   "metadata": {},
   "outputs": [],
   "source": [
    "#df_train.goods_id.nunique(), df_train.gds_grp_nm.nunique(), df_train.gds_grp_mclas_nm.nunique()\n",
    "#df_train.store_nm.astype('category').cat.codes\n",
    "#pd.to_datetime(df_train.tran_date).dt.weekday\n",
    "\n",
    "max_features = 100000\n",
    "max_len = 100\n",
    "emb_dim = 128"
   ]
  },
  {
   "cell_type": "markdown",
   "metadata": {},
   "source": [
    "##### low level: goods_id"
   ]
  },
  {
   "cell_type": "code",
   "execution_count": 8,
   "metadata": {},
   "outputs": [
    {
     "data": {
      "text/plain": [
       "((3500, 100), (2482, 100))"
      ]
     },
     "execution_count": 8,
     "metadata": {},
     "output_type": "execute_result"
    }
   ],
   "source": [
    "# Converts a \"goods_id\" to a sequence of indexes in a fixed-size hashing space\n",
    "df_train.goods_id = df_train.goods_id.apply(lambda x: str(x))\n",
    "df_test.goods_id = df_test.goods_id.apply(lambda x: str(x))\n",
    "X_train = df_train.groupby('cust_id')['goods_id'].apply(lambda x: [one_hot(i, max_features)[0] for i in x]).values\n",
    "X_test = df_test.groupby('cust_id')['goods_id'].apply(lambda x: [one_hot(i, max_features)[0] for i in x]).values\n",
    "\n",
    "# Pads sequences to the same length\n",
    "X_train_low = sequence.pad_sequences(X_train, maxlen=max_len)\n",
    "X_test_low = sequence.pad_sequences(X_test, maxlen=max_len)\n",
    "\n",
    "X_train_low.shape, X_test_low.shape"
   ]
  },
  {
   "cell_type": "markdown",
   "metadata": {},
   "source": [
    "##### middle level: gds_grp_nm"
   ]
  },
  {
   "cell_type": "code",
   "execution_count": 9,
   "metadata": {
    "_uuid": "1d8108fcba83b0743ebefafd65d491e79fd1c4bd"
   },
   "outputs": [
    {
     "data": {
      "text/plain": [
       "((3500, 100), (2482, 100))"
      ]
     },
     "execution_count": 9,
     "metadata": {},
     "output_type": "execute_result"
    }
   ],
   "source": [
    "# Converts a \"gds_grp_nm\" to a sequence of indexes in a fixed-size hashing space\n",
    "X_train = df_train.groupby('cust_id')['gds_grp_nm'].apply(lambda x: [one_hot(i, max_features//10)[0] for i in x]).values\n",
    "X_test = df_test.groupby('cust_id')['gds_grp_nm'].apply(lambda x: [one_hot(i, max_features//10)[0] for i in x]).values\n",
    "\n",
    "# Pads sequences to the same length\n",
    "X_train_mid = sequence.pad_sequences(X_train, maxlen=max_len)\n",
    "X_test_mid = sequence.pad_sequences(X_test, maxlen=max_len)\n",
    "\n",
    "X_train_mid.shape, X_test_mid.shape"
   ]
  },
  {
   "cell_type": "markdown",
   "metadata": {},
   "source": [
    "##### high level: gds_grp_mclas_nm"
   ]
  },
  {
   "cell_type": "code",
   "execution_count": 10,
   "metadata": {},
   "outputs": [
    {
     "data": {
      "text/plain": [
       "((3500, 100), (2482, 100))"
      ]
     },
     "execution_count": 10,
     "metadata": {},
     "output_type": "execute_result"
    }
   ],
   "source": [
    "# Converts a \"gds_grp_mclas_nm\" to a sequence of indexes in a fixed-size hashing space\n",
    "X_train = df_train.groupby('cust_id')['gds_grp_mclas_nm'].apply(lambda x: [one_hot(i, max_features//100)[0] for i in x]).values\n",
    "X_test = df_test.groupby('cust_id')['gds_grp_mclas_nm'].apply(lambda x: [one_hot(i, max_features//100)[0] for i in x]).values\n",
    "\n",
    "# Pads sequences to the same length\n",
    "X_train_high = sequence.pad_sequences(X_train, maxlen=max_len)\n",
    "X_test_high = sequence.pad_sequences(X_test, maxlen=max_len)\n",
    "\n",
    "X_train_high.shape, X_test_high.shape"
   ]
  },
  {
   "cell_type": "markdown",
   "metadata": {},
   "source": [
    "##### store"
   ]
  },
  {
   "cell_type": "code",
   "execution_count": 11,
   "metadata": {},
   "outputs": [
    {
     "data": {
      "text/plain": [
       "((3500, 100), (2482, 100))"
      ]
     },
     "execution_count": 11,
     "metadata": {},
     "output_type": "execute_result"
    }
   ],
   "source": [
    "# Converts a \"store_nm\" to a sequence of indexes in a fixed-size hashing space\n",
    "X_train = df_train.groupby('cust_id')['store_nm'].apply(lambda x: [one_hot(i, max_features//100)[0] for i in x]).values\n",
    "X_test = df_test.groupby('cust_id')['store_nm'].apply(lambda x: [one_hot(i, max_features//100)[0] for i in x]).values\n",
    "\n",
    "# Pads sequences to the same length\n",
    "X_train_str = sequence.pad_sequences(X_train, maxlen=max_len)\n",
    "X_test_str = sequence.pad_sequences(X_test, maxlen=max_len)\n",
    "\n",
    "X_train_str.shape, X_test_str.shape"
   ]
  },
  {
   "cell_type": "markdown",
   "metadata": {},
   "source": [
    "##### weekday"
   ]
  },
  {
   "cell_type": "code",
   "execution_count": 12,
   "metadata": {},
   "outputs": [
    {
     "data": {
      "text/plain": [
       "((3500, 100), (2482, 100))"
      ]
     },
     "execution_count": 12,
     "metadata": {},
     "output_type": "execute_result"
    }
   ],
   "source": [
    "# Converts a \"tran_date\" to a sequence of indexes in a fixed-size hashing space\n",
    "df_train.tran_date = pd.to_datetime(df_train.tran_date).dt.weekday\n",
    "df_test.tran_date = pd.to_datetime(df_test.tran_date).dt.weekday\n",
    "X_train = df_train.groupby('cust_id')['tran_date'].apply(lambda x: list(x)).values\n",
    "X_test = df_test.groupby('cust_id')['tran_date'].apply(lambda x: list(x)).values\n",
    "\n",
    "# Pads sequences to the same length\n",
    "X_train_day = sequence.pad_sequences(X_train, maxlen=max_len)\n",
    "X_test_day = sequence.pad_sequences(X_test, maxlen=max_len)\n",
    "\n",
    "X_train_day.shape, X_test_day.shape"
   ]
  },
  {
   "cell_type": "markdown",
   "metadata": {
    "_uuid": "756511749ed6b1dcd34e791c15f041d4e47f9df4"
   },
   "source": [
    "### Build Models"
   ]
  },
  {
   "cell_type": "code",
   "execution_count": 13,
   "metadata": {
    "_uuid": "5e470379b59e72b66cc024f62ba5ac514f7cf15b",
    "scrolled": true
   },
   "outputs": [
    {
     "name": "stdout",
     "output_type": "stream",
     "text": [
      "Model: \"model_1\"\n",
      "__________________________________________________________________________________________________\n",
      "Layer (type)                    Output Shape         Param #     Connected to                     \n",
      "==================================================================================================\n",
      "low (InputLayer)                (None, 100)          0                                            \n",
      "__________________________________________________________________________________________________\n",
      "mid (InputLayer)                (None, 100)          0                                            \n",
      "__________________________________________________________________________________________________\n",
      "high (InputLayer)               (None, 100)          0                                            \n",
      "__________________________________________________________________________________________________\n",
      "store (InputLayer)              (None, 100)          0                                            \n",
      "__________________________________________________________________________________________________\n",
      "day (InputLayer)                (None, 100)          0                                            \n",
      "__________________________________________________________________________________________________\n",
      "embedding_1 (Embedding)         (None, 100, 128)     12800000    low[0][0]                        \n",
      "__________________________________________________________________________________________________\n",
      "embedding_2 (Embedding)         (None, 100, 128)     1280000     mid[0][0]                        \n",
      "__________________________________________________________________________________________________\n",
      "embedding_3 (Embedding)         (None, 100, 128)     128000      high[0][0]                       \n",
      "__________________________________________________________________________________________________\n",
      "embedding_4 (Embedding)         (None, 100, 128)     128000      store[0][0]                      \n",
      "__________________________________________________________________________________________________\n",
      "embedding_5 (Embedding)         (None, 100, 128)     896         day[0][0]                        \n",
      "__________________________________________________________________________________________________\n",
      "conv1d_1 (Conv1D)               (None, 96, 32)       20512       embedding_1[0][0]                \n",
      "__________________________________________________________________________________________________\n",
      "conv1d_3 (Conv1D)               (None, 98, 32)       12320       embedding_2[0][0]                \n",
      "__________________________________________________________________________________________________\n",
      "conv1d_5 (Conv1D)               (None, 100, 32)      4128        embedding_3[0][0]                \n",
      "__________________________________________________________________________________________________\n",
      "conv1d_7 (Conv1D)               (None, 100, 32)      4128        embedding_4[0][0]                \n",
      "__________________________________________________________________________________________________\n",
      "conv1d_9 (Conv1D)               (None, 100, 32)      4128        embedding_5[0][0]                \n",
      "__________________________________________________________________________________________________\n",
      "max_pooling1d_1 (MaxPooling1D)  (None, 19, 32)       0           conv1d_1[0][0]                   \n",
      "__________________________________________________________________________________________________\n",
      "max_pooling1d_2 (MaxPooling1D)  (None, 32, 32)       0           conv1d_3[0][0]                   \n",
      "__________________________________________________________________________________________________\n",
      "max_pooling1d_3 (MaxPooling1D)  (None, 100, 32)      0           conv1d_5[0][0]                   \n",
      "__________________________________________________________________________________________________\n",
      "max_pooling1d_4 (MaxPooling1D)  (None, 100, 32)      0           conv1d_7[0][0]                   \n",
      "__________________________________________________________________________________________________\n",
      "max_pooling1d_5 (MaxPooling1D)  (None, 100, 32)      0           conv1d_9[0][0]                   \n",
      "__________________________________________________________________________________________________\n",
      "conv1d_2 (Conv1D)               (None, 15, 32)       5152        max_pooling1d_1[0][0]            \n",
      "__________________________________________________________________________________________________\n",
      "conv1d_4 (Conv1D)               (None, 30, 32)       3104        max_pooling1d_2[0][0]            \n",
      "__________________________________________________________________________________________________\n",
      "conv1d_6 (Conv1D)               (None, 100, 32)      1056        max_pooling1d_3[0][0]            \n",
      "__________________________________________________________________________________________________\n",
      "conv1d_8 (Conv1D)               (None, 100, 32)      1056        max_pooling1d_4[0][0]            \n",
      "__________________________________________________________________________________________________\n",
      "conv1d_10 (Conv1D)              (None, 100, 32)      1056        max_pooling1d_5[0][0]            \n",
      "__________________________________________________________________________________________________\n",
      "global_max_pooling1d_1 (GlobalM (None, 32)           0           conv1d_2[0][0]                   \n",
      "__________________________________________________________________________________________________\n",
      "global_max_pooling1d_2 (GlobalM (None, 32)           0           conv1d_4[0][0]                   \n",
      "__________________________________________________________________________________________________\n",
      "global_max_pooling1d_3 (GlobalM (None, 32)           0           conv1d_6[0][0]                   \n",
      "__________________________________________________________________________________________________\n",
      "global_max_pooling1d_4 (GlobalM (None, 32)           0           conv1d_8[0][0]                   \n",
      "__________________________________________________________________________________________________\n",
      "global_max_pooling1d_5 (GlobalM (None, 32)           0           conv1d_10[0][0]                  \n",
      "__________________________________________________________________________________________________\n",
      "dropout_1 (Dropout)             (None, 32)           0           global_max_pooling1d_1[0][0]     \n",
      "__________________________________________________________________________________________________\n",
      "dropout_2 (Dropout)             (None, 32)           0           global_max_pooling1d_2[0][0]     \n",
      "__________________________________________________________________________________________________\n",
      "dropout_3 (Dropout)             (None, 32)           0           global_max_pooling1d_3[0][0]     \n",
      "__________________________________________________________________________________________________\n",
      "dropout_4 (Dropout)             (None, 32)           0           global_max_pooling1d_4[0][0]     \n",
      "__________________________________________________________________________________________________\n",
      "dropout_5 (Dropout)             (None, 32)           0           global_max_pooling1d_5[0][0]     \n",
      "__________________________________________________________________________________________________\n",
      "my_layer (Add)                  (None, 32)           0           dropout_1[0][0]                  \n",
      "                                                                 dropout_2[0][0]                  \n",
      "                                                                 dropout_3[0][0]                  \n",
      "                                                                 dropout_4[0][0]                  \n",
      "                                                                 dropout_5[0][0]                  \n",
      "__________________________________________________________________________________________________\n",
      "dense_1 (Dense)                 (None, 1)            33          my_layer[0][0]                   \n",
      "==================================================================================================\n",
      "Total params: 14,393,569\n",
      "Trainable params: 14,393,569\n",
      "Non-trainable params: 0\n",
      "__________________________________________________________________________________________________\n"
     ]
    },
    {
     "name": "stdout",
     "output_type": "stream",
     "text": [
      "Train on 2800 samples, validate on 700 samples\n",
      "Epoch 1/50\n",
      "2800/2800 [==============================] - 9s 3ms/step - loss: 0.7192 - acc: 0.4775 - val_loss: 0.6749 - val_acc: 0.6214\n",
      "Epoch 2/50\n",
      "2800/2800 [==============================] - 8s 3ms/step - loss: 0.6631 - acc: 0.6186 - val_loss: 0.6520 - val_acc: 0.6229\n",
      "Epoch 3/50\n",
      "2800/2800 [==============================] - 8s 3ms/step - loss: 0.6443 - acc: 0.6232 - val_loss: 0.6426 - val_acc: 0.6229\n",
      "Epoch 4/50\n",
      "2800/2800 [==============================] - 9s 3ms/step - loss: 0.6371 - acc: 0.6289 - val_loss: 0.6371 - val_acc: 0.6243\n",
      "Epoch 5/50\n",
      "2800/2800 [==============================] - 9s 3ms/step - loss: 0.6297 - acc: 0.6218 - val_loss: 0.6328 - val_acc: 0.6257\n",
      "Epoch 6/50\n",
      "2800/2800 [==============================] - 8s 3ms/step - loss: 0.6252 - acc: 0.6432 - val_loss: 0.6284 - val_acc: 0.6300\n",
      "Epoch 7/50\n",
      "2800/2800 [==============================] - 8s 3ms/step - loss: 0.6208 - acc: 0.6314 - val_loss: 0.6246 - val_acc: 0.6700\n",
      "Epoch 8/50\n",
      "2800/2800 [==============================] - 8s 3ms/step - loss: 0.6103 - acc: 0.6521 - val_loss: 0.6208 - val_acc: 0.6600\n",
      "Epoch 9/50\n",
      "2800/2800 [==============================] - 8s 3ms/step - loss: 0.6102 - acc: 0.6600 - val_loss: 0.6167 - val_acc: 0.6614\n",
      "Epoch 10/50\n",
      "2800/2800 [==============================] - 8s 3ms/step - loss: 0.6046 - acc: 0.6557 - val_loss: 0.6119 - val_acc: 0.6686\n",
      "Epoch 11/50\n",
      "2800/2800 [==============================] - 8s 3ms/step - loss: 0.5999 - acc: 0.6600 - val_loss: 0.6073 - val_acc: 0.6743\n",
      "Epoch 12/50\n",
      "2800/2800 [==============================] - 8s 3ms/step - loss: 0.5925 - acc: 0.6693 - val_loss: 0.6027 - val_acc: 0.6843\n",
      "Epoch 13/50\n",
      "2800/2800 [==============================] - 8s 3ms/step - loss: 0.5858 - acc: 0.6754 - val_loss: 0.5979 - val_acc: 0.6843\n",
      "Epoch 14/50\n",
      "2800/2800 [==============================] - 8s 3ms/step - loss: 0.5839 - acc: 0.6843 - val_loss: 0.5942 - val_acc: 0.6729\n",
      "Epoch 15/50\n",
      "2800/2800 [==============================] - 8s 3ms/step - loss: 0.5755 - acc: 0.6943 - val_loss: 0.5901 - val_acc: 0.6729\n",
      "Epoch 16/50\n",
      "2800/2800 [==============================] - 9s 3ms/step - loss: 0.5712 - acc: 0.6904 - val_loss: 0.5854 - val_acc: 0.6957\n",
      "Epoch 17/50\n",
      "2800/2800 [==============================] - 9s 3ms/step - loss: 0.5666 - acc: 0.7036 - val_loss: 0.5811 - val_acc: 0.6886\n",
      "Epoch 18/50\n",
      "2800/2800 [==============================] - 8s 3ms/step - loss: 0.5598 - acc: 0.7093 - val_loss: 0.5772 - val_acc: 0.6914\n",
      "Epoch 19/50\n",
      "2800/2800 [==============================] - 9s 3ms/step - loss: 0.5512 - acc: 0.7293 - val_loss: 0.5760 - val_acc: 0.6843\n",
      "Epoch 20/50\n",
      "2800/2800 [==============================] - 9s 3ms/step - loss: 0.5474 - acc: 0.7279 - val_loss: 0.5700 - val_acc: 0.7029\n",
      "Epoch 21/50\n",
      "2800/2800 [==============================] - 9s 3ms/step - loss: 0.5451 - acc: 0.7282 - val_loss: 0.5690 - val_acc: 0.7000\n",
      "Epoch 22/50\n",
      "2800/2800 [==============================] - 9s 3ms/step - loss: 0.5373 - acc: 0.7307 - val_loss: 0.5654 - val_acc: 0.7043\n",
      "Epoch 23/50\n",
      "2800/2800 [==============================] - 9s 3ms/step - loss: 0.5353 - acc: 0.7314 - val_loss: 0.5621 - val_acc: 0.7143\n",
      "Epoch 24/50\n",
      "2800/2800 [==============================] - 9s 3ms/step - loss: 0.5286 - acc: 0.7375 - val_loss: 0.5603 - val_acc: 0.7114\n",
      "Epoch 25/50\n",
      "2800/2800 [==============================] - 9s 3ms/step - loss: 0.5189 - acc: 0.7543 - val_loss: 0.5605 - val_acc: 0.7157\n",
      "Epoch 26/50\n",
      "2800/2800 [==============================] - 9s 3ms/step - loss: 0.5150 - acc: 0.7600 - val_loss: 0.5572 - val_acc: 0.7186\n",
      "Epoch 27/50\n",
      "2800/2800 [==============================] - 9s 3ms/step - loss: 0.5125 - acc: 0.7511 - val_loss: 0.5562 - val_acc: 0.7000\n",
      "Epoch 28/50\n",
      "2800/2800 [==============================] - 9s 3ms/step - loss: 0.5128 - acc: 0.7518 - val_loss: 0.5579 - val_acc: 0.7114\n",
      "Epoch 29/50\n",
      "2800/2800 [==============================] - 9s 3ms/step - loss: 0.5064 - acc: 0.7564 - val_loss: 0.5620 - val_acc: 0.6971\n",
      "Epoch 30/50\n",
      "2800/2800 [==============================] - 9s 3ms/step - loss: 0.4962 - acc: 0.7675 - val_loss: 0.5542 - val_acc: 0.6986\n",
      "Epoch 31/50\n",
      "2800/2800 [==============================] - 9s 3ms/step - loss: 0.4964 - acc: 0.7671 - val_loss: 0.5527 - val_acc: 0.7029\n",
      "Epoch 32/50\n",
      "2800/2800 [==============================] - 9s 3ms/step - loss: 0.4898 - acc: 0.7743 - val_loss: 0.5526 - val_acc: 0.7057\n",
      "Epoch 33/50\n",
      "2800/2800 [==============================] - 9s 3ms/step - loss: 0.4806 - acc: 0.7721 - val_loss: 0.5550 - val_acc: 0.7100\n",
      "Epoch 34/50\n",
      "2800/2800 [==============================] - 9s 3ms/step - loss: 0.4739 - acc: 0.7821 - val_loss: 0.5551 - val_acc: 0.7143\n",
      "Epoch 35/50\n",
      "2800/2800 [==============================] - 9s 3ms/step - loss: 0.4715 - acc: 0.7804 - val_loss: 0.5545 - val_acc: 0.7100\n",
      "Epoch 36/50\n",
      "2800/2800 [==============================] - 9s 3ms/step - loss: 0.4639 - acc: 0.7929 - val_loss: 0.5542 - val_acc: 0.7086\n",
      "Epoch 37/50\n",
      "2800/2800 [==============================] - 9s 3ms/step - loss: 0.4593 - acc: 0.7950 - val_loss: 0.5555 - val_acc: 0.7057\n",
      "Epoch 38/50\n",
      "2800/2800 [==============================] - 9s 3ms/step - loss: 0.4579 - acc: 0.7818 - val_loss: 0.5554 - val_acc: 0.7057\n",
      "Epoch 39/50\n",
      "2800/2800 [==============================] - 11s 4ms/step - loss: 0.4502 - acc: 0.7982 - val_loss: 0.5565 - val_acc: 0.7057\n"
     ]
    },
    {
     "data": {
      "image/png": "[encoded data removed]",
      "text/plain": [
       "<Figure size 432x288 with 1 Axes>"
      ]
     },
     "metadata": {
      "needs_background": "light"
     },
     "output_type": "display_data"
    }
   ],
   "source": [
    "# Define the Model & its Architecture\n",
    "in_low = Input(shape=(max_len,), dtype='int32', name='low')\n",
    "x = Embedding(max_features, emb_dim)(in_low)\n",
    "x = Conv1D(32, 5, activation='elu')(x)\n",
    "x = MaxPooling1D(5)(x)\n",
    "x = Conv1D(32, 5, activation='elu')(x)\n",
    "x = GlobalMaxPooling1D()(x)\n",
    "out_low = Dropout(0.5)(x)\n",
    "\n",
    "in_mid = Input(shape=(max_len,), dtype='int32', name='mid')\n",
    "x = Embedding(max_features//10, emb_dim)(in_mid)\n",
    "x = Conv1D(32, 3, activation='elu')(x)\n",
    "x = MaxPooling1D(3)(x)\n",
    "x = Conv1D(32, 3, activation='elu')(x)\n",
    "x = GlobalMaxPooling1D()(x)\n",
    "out_mid = Dropout(0.5)(x)\n",
    "\n",
    "in_high = Input(shape=(max_len,), dtype='int32', name='high')\n",
    "x = Embedding(max_features//100, emb_dim)(in_high)\n",
    "x = Conv1D(32, 1, activation='elu')(x)\n",
    "x = MaxPooling1D(1)(x)\n",
    "x = Conv1D(32, 1, activation='elu')(x)\n",
    "x = GlobalMaxPooling1D()(x)\n",
    "out_high = Dropout(0.5)(x)\n",
    "\n",
    "in_str = Input(shape=(max_len,), dtype='int32', name='store')\n",
    "x = Embedding(max_features//100, emb_dim)(in_str)\n",
    "x = Conv1D(32, 1, activation='elu')(x)\n",
    "x = MaxPooling1D(1)(x)\n",
    "x = Conv1D(32, 1, activation='elu')(x)\n",
    "x = GlobalMaxPooling1D()(x)\n",
    "out_str = Dropout(0.5)(x)\n",
    "\n",
    "in_day = Input(shape=(max_len,), dtype='int32', name='day')\n",
    "x = Embedding(7, emb_dim)(in_day)\n",
    "x = Conv1D(32, 1, activation='elu')(x)\n",
    "x = MaxPooling1D(1)(x)\n",
    "x = Conv1D(32, 1, activation='elu')(x)\n",
    "x = GlobalMaxPooling1D()(x)\n",
    "out_day = Dropout(0.5)(x)\n",
    "\n",
    "x = add([out_low, out_mid, out_high, out_str, out_day], name='my_layer')\n",
    "out = Dense(1, activation='sigmoid')(x)\n",
    "\n",
    "model = Model([in_low, in_mid, in_high, in_str, in_day], out)\n",
    "model.summary()\n",
    "\n",
    "# Choose the Optimizer and the Cost function\n",
    "model.compile(optimizer=RMSprop(lr=1e-4), loss='binary_crossentropy', metrics=['acc'])\n",
    "\n",
    "# Train the Model\n",
    "history = model.fit([X_train_low, X_train_mid, X_train_high, X_train_str, X_train_day], y_train, epochs=50, batch_size=64, \n",
    "                    validation_split=0.2, callbacks=[EarlyStopping(patience=7)])\n",
    "\n",
    "plt.plot(history.history[\"loss\"], label=\"train loss\")\n",
    "plt.plot(history.history[\"val_loss\"], label=\"validation loss\")\n",
    "plt.legend()\n",
    "plt.title(\"Loss\")\n",
    "plt.show()"
   ]
  },
  {
   "cell_type": "markdown",
   "metadata": {},
   "source": [
    "### Obtain Features from the Conv1dNet"
   ]
  },
  {
   "cell_type": "code",
   "execution_count": 14,
   "metadata": {},
   "outputs": [
    {
     "data": {
      "text/plain": [
       "array([[ 1.3339788 ,  0.22927567,  0.03117573, ...,  0.1935282 ,\n",
       "         0.01519995,  1.3823913 ],\n",
       "       [ 0.02687689, -0.01880687,  0.14746407, ...,  0.17144358,\n",
       "        -0.16282564, -0.17040998],\n",
       "       [-0.00156819, -0.03841672, -0.01157997, ...,  0.30984458,\n",
       "         0.06110284, -0.21499228],\n",
       "       ...,\n",
       "       [-0.19020301, -0.17524606,  0.02371141, ..., -0.01497296,\n",
       "        -0.18437083, -0.1982556 ],\n",
       "       [ 0.05825716, -0.16162024,  0.07123003, ..., -0.05184271,\n",
       "        -0.23348258,  0.01043597],\n",
       "       [ 1.094672  ,  0.30599016, -0.01205099, ...,  0.17291954,\n",
       "         0.05045421,  1.1727023 ]], dtype=float32)"
      ]
     },
     "execution_count": 14,
     "metadata": {},
     "output_type": "execute_result"
    }
   ],
   "source": [
    "layer_name = 'my_layer'\n",
    "intermediate_layer_model = Model(inputs=model.input,\n",
    "                                outputs=model.get_layer(layer_name).output)\n",
    "intermediate_output = intermediate_layer_model.predict([X_train_low, X_train_mid, X_train_high, X_train_str, X_train_day])\n",
    "intermediate_output"
   ]
  },
  {
   "cell_type": "markdown",
   "metadata": {
    "_uuid": "842573936f8fbc2fc01cbbd7ca485be6cb3601bb"
   },
   "source": [
    "### Make Submissions"
   ]
  },
  {
   "cell_type": "code",
   "execution_count": 15,
   "metadata": {
    "_uuid": "7b6db88f3e4dee0f7f2264916edda431ac7bb72b"
   },
   "outputs": [
    {
     "name": "stdout",
     "output_type": "stream",
     "text": [
      "'conv1d_mul_submit.csv' is ready to submit.\n"
     ]
    }
   ],
   "source": [
    "pred = model.predict([X_test_low, X_test_mid, X_test_high, X_test_str, X_test_day])[:,0]\n",
    "fname = 'conv1d_mul_submit.csv'\n",
    "submissions = pd.concat([pd.Series(IDtest, name=\"cust_id\"), pd.Series(pred, name=\"gender\")] ,axis=1)\n",
    "submissions.to_csv(fname, index=False)\n",
    "print(\"'{}' is ready to submit.\" .format(fname))"
   ]
  },
  {
   "cell_type": "markdown",
   "metadata": {
    "_uuid": "db6a418af5947fb6d1546dc8949ac55663504f18"
   },
   "source": [
    "## End"
   ]
  }
 ],
 "metadata": {
  "kernelspec": {
   "display_name": "Python 3",
   "language": "python",
   "name": "python3"
  },
  "language_info": {
   "codemirror_mode": {
    "name": "ipython",
    "version": 3
   },
   "file_extension": ".py",
   "mimetype": "text/x-python",
   "name": "python",
   "nbconvert_exporter": "python",
   "pygments_lexer": "ipython3",
   "version": "3.7.6"
  }
 },
 "nbformat": 4,
 "nbformat_minor": 1
}
