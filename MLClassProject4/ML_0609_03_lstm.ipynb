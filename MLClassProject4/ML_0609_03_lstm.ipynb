{
 "cells": [
  {
   "cell_type": "markdown",
   "metadata": {
    "_uuid": "93b41229599509f643f1c1df3b86b3f79b66666f"
   },
   "source": [
    "## This model has the following characteristics:\n",
    "* No feature engineering\n",
    "* Applying 3 bidirectional LSTM models to raw transactions"
   ]
  },
  {
   "cell_type": "code",
   "execution_count": 1,
   "metadata": {
    "_uuid": "85c00856a546e025e3808d93793f66e590a40567"
   },
   "outputs": [
    {
     "name": "stderr",
     "output_type": "stream",
     "text": [
      "Using TensorFlow backend.\n"
     ]
    }
   ],
   "source": [
    "%run import_modules.py  \n",
    "%matplotlib inline\n",
    "\n",
    "# For DNN modeling\n",
    "import tensorflow as tf\n",
    "\n",
    "# Tensorflow warning off\n",
    "os.environ['TF_CPP_MIN_LOG_LEVEL'] = '3' \n",
    "tf.logging.set_verbosity(tf.logging.ERROR)\n",
    "\n",
    "from tensorflow import set_random_seed\n",
    "import keras\n",
    "from keras import backend as K\n",
    "from keras.layers import * #Input, Dense\n",
    "from keras.models import * #Model\n",
    "from keras.optimizers import *\n",
    "from keras.initializers import *\n",
    "from keras.regularizers import *\n",
    "from keras.utils.np_utils import *\n",
    "from keras.utils.vis_utils import * #model_to_dot\n",
    "from keras.callbacks import EarlyStopping\n",
    "from keras.preprocessing import sequence\n",
    "from keras.preprocessing.text import *\n",
    "from keras.constraints import max_norm"
   ]
  },
  {
   "cell_type": "markdown",
   "metadata": {
    "_uuid": "dd7e3527fd56e5b5855c6846ca226f5f860f725b"
   },
   "source": [
    "### Read Data"
   ]
  },
  {
   "cell_type": "code",
   "execution_count": 2,
   "metadata": {
    "_uuid": "794123064b09797f51add356a676fb6a7aed015d"
   },
   "outputs": [
    {
     "data": {
      "text/html": [
       "<div>\n",
       "<style scoped>\n",
       "    .dataframe tbody tr th:only-of-type {\n",
       "        vertical-align: middle;\n",
       "    }\n",
       "\n",
       "    .dataframe tbody tr th {\n",
       "        vertical-align: top;\n",
       "    }\n",
       "\n",
       "    .dataframe thead th {\n",
       "        text-align: right;\n",
       "    }\n",
       "</style>\n",
       "<table border=\"1\" class=\"dataframe\">\n",
       "  <thead>\n",
       "    <tr style=\"text-align: right;\">\n",
       "      <th></th>\n",
       "      <th>cust_id</th>\n",
       "      <th>tran_date</th>\n",
       "      <th>store_nm</th>\n",
       "      <th>goods_id</th>\n",
       "      <th>gds_grp_nm</th>\n",
       "      <th>gds_grp_mclas_nm</th>\n",
       "      <th>amount</th>\n",
       "    </tr>\n",
       "  </thead>\n",
       "  <tbody>\n",
       "    <tr>\n",
       "      <th>0</th>\n",
       "      <td>0</td>\n",
       "      <td>2007-01-19 00:00:00</td>\n",
       "      <td>강남점</td>\n",
       "      <td>127105</td>\n",
       "      <td>기초 화장품</td>\n",
       "      <td>화장품</td>\n",
       "      <td>850000</td>\n",
       "    </tr>\n",
       "    <tr>\n",
       "      <th>1</th>\n",
       "      <td>0</td>\n",
       "      <td>2007-03-30 00:00:00</td>\n",
       "      <td>강남점</td>\n",
       "      <td>342220</td>\n",
       "      <td>니  트</td>\n",
       "      <td>시티웨어</td>\n",
       "      <td>480000</td>\n",
       "    </tr>\n",
       "    <tr>\n",
       "      <th>2</th>\n",
       "      <td>0</td>\n",
       "      <td>2007-03-30 00:00:00</td>\n",
       "      <td>강남점</td>\n",
       "      <td>127105</td>\n",
       "      <td>기초 화장품</td>\n",
       "      <td>화장품</td>\n",
       "      <td>3000000</td>\n",
       "    </tr>\n",
       "    <tr>\n",
       "      <th>3</th>\n",
       "      <td>0</td>\n",
       "      <td>2007-03-30 00:00:00</td>\n",
       "      <td>강남점</td>\n",
       "      <td>342205</td>\n",
       "      <td>니  트</td>\n",
       "      <td>시티웨어</td>\n",
       "      <td>840000</td>\n",
       "    </tr>\n",
       "    <tr>\n",
       "      <th>4</th>\n",
       "      <td>0</td>\n",
       "      <td>2007-03-30 00:00:00</td>\n",
       "      <td>강남점</td>\n",
       "      <td>342220</td>\n",
       "      <td>상품군미지정</td>\n",
       "      <td>기타</td>\n",
       "      <td>20000</td>\n",
       "    </tr>\n",
       "    <tr>\n",
       "      <th>5</th>\n",
       "      <td>0</td>\n",
       "      <td>2007-05-13 00:00:00</td>\n",
       "      <td>강남점</td>\n",
       "      <td>127105</td>\n",
       "      <td>기초 화장품</td>\n",
       "      <td>화장품</td>\n",
       "      <td>3000000</td>\n",
       "    </tr>\n",
       "    <tr>\n",
       "      <th>6</th>\n",
       "      <td>0</td>\n",
       "      <td>2007-05-13 00:00:00</td>\n",
       "      <td>강남점</td>\n",
       "      <td>321101</td>\n",
       "      <td>디자이너부틱</td>\n",
       "      <td>디자이너</td>\n",
       "      <td>11264000</td>\n",
       "    </tr>\n",
       "    <tr>\n",
       "      <th>7</th>\n",
       "      <td>0</td>\n",
       "      <td>2007-05-13 00:00:00</td>\n",
       "      <td>강남점</td>\n",
       "      <td>443204</td>\n",
       "      <td>비지니스군</td>\n",
       "      <td>셔츠</td>\n",
       "      <td>975000</td>\n",
       "    </tr>\n",
       "    <tr>\n",
       "      <th>8</th>\n",
       "      <td>0</td>\n",
       "      <td>2007-06-09 00:00:00</td>\n",
       "      <td>강남점</td>\n",
       "      <td>9112</td>\n",
       "      <td>유제품</td>\n",
       "      <td>축산가공</td>\n",
       "      <td>85000</td>\n",
       "    </tr>\n",
       "    <tr>\n",
       "      <th>9</th>\n",
       "      <td>0</td>\n",
       "      <td>2007-06-09 00:00:00</td>\n",
       "      <td>강남점</td>\n",
       "      <td>72196</td>\n",
       "      <td>건강식품</td>\n",
       "      <td>건강식품</td>\n",
       "      <td>2340000</td>\n",
       "    </tr>\n",
       "  </tbody>\n",
       "</table>\n",
       "</div>"
      ],
      "text/plain": [
       "   cust_id            tran_date store_nm  goods_id gds_grp_nm  \\\n",
       "0        0  2007-01-19 00:00:00      강남점    127105     기초 화장품   \n",
       "1        0  2007-03-30 00:00:00      강남점    342220       니  트   \n",
       "2        0  2007-03-30 00:00:00      강남점    127105     기초 화장품   \n",
       "3        0  2007-03-30 00:00:00      강남점    342205       니  트   \n",
       "4        0  2007-03-30 00:00:00      강남점    342220     상품군미지정   \n",
       "5        0  2007-05-13 00:00:00      강남점    127105     기초 화장품   \n",
       "6        0  2007-05-13 00:00:00      강남점    321101     디자이너부틱   \n",
       "7        0  2007-05-13 00:00:00      강남점    443204      비지니스군   \n",
       "8        0  2007-06-09 00:00:00      강남점      9112        유제품   \n",
       "9        0  2007-06-09 00:00:00      강남점     72196       건강식품   \n",
       "\n",
       "  gds_grp_mclas_nm    amount  \n",
       "0              화장품    850000  \n",
       "1             시티웨어    480000  \n",
       "2              화장품   3000000  \n",
       "3             시티웨어    840000  \n",
       "4               기타     20000  \n",
       "5              화장품   3000000  \n",
       "6             디자이너  11264000  \n",
       "7               셔츠    975000  \n",
       "8             축산가공     85000  \n",
       "9             건강식품   2340000  "
      ]
     },
     "execution_count": 2,
     "metadata": {},
     "output_type": "execute_result"
    }
   ],
   "source": [
    "df_train = pd.read_csv('X_train.csv', encoding='cp949')\n",
    "df_test = pd.read_csv('X_test.csv', encoding='cp949')\n",
    "y_train = pd.read_csv('y_train.csv').gender\n",
    "IDtest = df_test.cust_id.unique()\n",
    "\n",
    "df_train.head(10)"
   ]
  },
  {
   "cell_type": "markdown",
   "metadata": {
    "_uuid": "8fdb273f73bbee0a8f11b33be46446b6825e9b6a"
   },
   "source": [
    "### Transform Data"
   ]
  },
  {
   "cell_type": "code",
   "execution_count": 3,
   "metadata": {
    "_uuid": "079f898dfc7067c71be246a08f80e7d9a411006b"
   },
   "outputs": [],
   "source": [
    "max_features = 100000\n",
    "max_len = 100\n",
    "emb_dim = 128"
   ]
  },
  {
   "cell_type": "markdown",
   "metadata": {
    "_uuid": "3fe366b881e6a45b945f3849d86420ee2b579d63"
   },
   "source": [
    "##### low level: goods_id"
   ]
  },
  {
   "cell_type": "code",
   "execution_count": 4,
   "metadata": {
    "_uuid": "056f88f94ce7de7b7c5718ff303860c005720930"
   },
   "outputs": [
    {
     "data": {
      "text/plain": [
       "((3500, 100), (2482, 100))"
      ]
     },
     "execution_count": 4,
     "metadata": {},
     "output_type": "execute_result"
    }
   ],
   "source": [
    "# Converts a \"goods_id\" to a sequence of indexes in a fixed-size hashing space\n",
    "df_train.goods_id = df_train.goods_id.apply(lambda x: str(x))\n",
    "df_test.goods_id = df_test.goods_id.apply(lambda x: str(x))\n",
    "X_train = df_train.groupby('cust_id')['goods_id'].apply(lambda x: [one_hot(i, max_features)[0] for i in x]).values\n",
    "X_test = df_test.groupby('cust_id')['goods_id'].apply(lambda x: [one_hot(i, max_features)[0] for i in x]).values\n",
    "\n",
    "# Pads sequences to the same length\n",
    "X_train_low = sequence.pad_sequences(X_train, maxlen=max_len)\n",
    "X_test_low = sequence.pad_sequences(X_test, maxlen=max_len)\n",
    "\n",
    "X_train_low.shape, X_test_low.shape"
   ]
  },
  {
   "cell_type": "markdown",
   "metadata": {
    "_uuid": "e4c057c1c61700fbd2a8480c39c25e69afeaabf4"
   },
   "source": [
    "##### middle level: gds_grp_nm"
   ]
  },
  {
   "cell_type": "code",
   "execution_count": 5,
   "metadata": {
    "_uuid": "1d8108fcba83b0743ebefafd65d491e79fd1c4bd"
   },
   "outputs": [
    {
     "data": {
      "text/plain": [
       "((3500, 100), (2482, 100))"
      ]
     },
     "execution_count": 5,
     "metadata": {},
     "output_type": "execute_result"
    }
   ],
   "source": [
    "# Converts a \"gds_grp_nm\" to a sequence of indexes in a fixed-size hashing space\n",
    "X_train = df_train.groupby('cust_id')['gds_grp_nm'].apply(lambda x: [one_hot(i, max_features//10)[0] for i in x]).values\n",
    "X_test = df_test.groupby('cust_id')['gds_grp_nm'].apply(lambda x: [one_hot(i, max_features//10)[0] for i in x]).values\n",
    "\n",
    "# Pads sequences to the same length\n",
    "X_train_mid = sequence.pad_sequences(X_train, maxlen=max_len)\n",
    "X_test_mid = sequence.pad_sequences(X_test, maxlen=max_len)\n",
    "\n",
    "X_train_mid.shape, X_test_mid.shape"
   ]
  },
  {
   "cell_type": "markdown",
   "metadata": {
    "_uuid": "e87e1bc9f894afdd432af0e814e48d889576b447"
   },
   "source": [
    "##### high level: gds_grp_mclas_nm"
   ]
  },
  {
   "cell_type": "code",
   "execution_count": 6,
   "metadata": {
    "_uuid": "9c4e8aee701ca55165fff051a4d732d039a36ed5"
   },
   "outputs": [
    {
     "data": {
      "text/plain": [
       "((3500, 100), (2482, 100))"
      ]
     },
     "execution_count": 6,
     "metadata": {},
     "output_type": "execute_result"
    }
   ],
   "source": [
    "# Converts a \"gds_grp_mclas_nm\" to a sequence of indexes in a fixed-size hashing space\n",
    "X_train = df_train.groupby('cust_id')['gds_grp_mclas_nm'].apply(lambda x: [one_hot(i, max_features//100)[0] for i in x]).values\n",
    "X_test = df_test.groupby('cust_id')['gds_grp_mclas_nm'].apply(lambda x: [one_hot(i, max_features//100)[0] for i in x]).values\n",
    "\n",
    "# Pads sequences to the same length\n",
    "X_train_high = sequence.pad_sequences(X_train, maxlen=max_len)\n",
    "X_test_high = sequence.pad_sequences(X_test, maxlen=max_len)\n",
    "\n",
    "X_train_high.shape, X_test_high.shape"
   ]
  },
  {
   "cell_type": "markdown",
   "metadata": {
    "_uuid": "756511749ed6b1dcd34e791c15f041d4e47f9df4"
   },
   "source": [
    "### Build Bidirectional LSTMs"
   ]
  },
  {
   "cell_type": "code",
   "execution_count": 7,
   "metadata": {
    "_uuid": "5e470379b59e72b66cc024f62ba5ac514f7cf15b"
   },
   "outputs": [
    {
     "name": "stdout",
     "output_type": "stream",
     "text": [
      "Model: \"model_1\"\n",
      "__________________________________________________________________________________________________\n",
      "Layer (type)                    Output Shape         Param #     Connected to                     \n",
      "==================================================================================================\n",
      "low (InputLayer)                (None, 100)          0                                            \n",
      "__________________________________________________________________________________________________\n",
      "mid (InputLayer)                (None, 100)          0                                            \n",
      "__________________________________________________________________________________________________\n",
      "high (InputLayer)               (None, 100)          0                                            \n",
      "__________________________________________________________________________________________________\n",
      "embedding_1 (Embedding)         (None, 100, 128)     12800000    low[0][0]                        \n",
      "__________________________________________________________________________________________________\n",
      "embedding_2 (Embedding)         (None, 100, 128)     1280000     mid[0][0]                        \n",
      "__________________________________________________________________________________________________\n",
      "embedding_3 (Embedding)         (None, 100, 128)     128000      high[0][0]                       \n",
      "__________________________________________________________________________________________________\n",
      "bidirectional_1 (Bidirectional) (None, 32)           18560       embedding_1[0][0]                \n",
      "__________________________________________________________________________________________________\n",
      "bidirectional_2 (Bidirectional) (None, 32)           18560       embedding_2[0][0]                \n",
      "__________________________________________________________________________________________________\n",
      "bidirectional_3 (Bidirectional) (None, 32)           18560       embedding_3[0][0]                \n",
      "__________________________________________________________________________________________________\n",
      "my_layer (Concatenate)          (None, 96)           0           bidirectional_1[0][0]            \n",
      "                                                                 bidirectional_2[0][0]            \n",
      "                                                                 bidirectional_3[0][0]            \n",
      "__________________________________________________________________________________________________\n",
      "dense_1 (Dense)                 (None, 1)            97          my_layer[0][0]                   \n",
      "==================================================================================================\n",
      "Total params: 14,263,777\n",
      "Trainable params: 14,263,777\n",
      "Non-trainable params: 0\n",
      "__________________________________________________________________________________________________\n",
      "Train on 2800 samples, validate on 700 samples\n",
      "Epoch 1/50\n",
      "2800/2800 [==============================] - 18s 6ms/step - loss: 0.6844 - acc: 0.5975 - val_loss: 0.6755 - val_acc: 0.6229\n",
      "Epoch 2/50\n",
      "2800/2800 [==============================] - 14s 5ms/step - loss: 0.6692 - acc: 0.6243 - val_loss: 0.6645 - val_acc: 0.6229\n",
      "Epoch 3/50\n",
      "2800/2800 [==============================] - 14s 5ms/step - loss: 0.6585 - acc: 0.6243 - val_loss: 0.6556 - val_acc: 0.6229\n",
      "Epoch 4/50\n",
      "2800/2800 [==============================] - 15s 5ms/step - loss: 0.6485 - acc: 0.6243 - val_loss: 0.6466 - val_acc: 0.6229\n",
      "Epoch 5/50\n",
      "2800/2800 [==============================] - 14s 5ms/step - loss: 0.6381 - acc: 0.6246 - val_loss: 0.6375 - val_acc: 0.6229\n",
      "Epoch 6/50\n",
      "2800/2800 [==============================] - 15s 5ms/step - loss: 0.6269 - acc: 0.6361 - val_loss: 0.6279 - val_acc: 0.6343\n",
      "Epoch 7/50\n",
      "2800/2800 [==============================] - 15s 5ms/step - loss: 0.6160 - acc: 0.6575 - val_loss: 0.6197 - val_acc: 0.6514\n",
      "Epoch 8/50\n",
      "2800/2800 [==============================] - 15s 5ms/step - loss: 0.6061 - acc: 0.6575 - val_loss: 0.6132 - val_acc: 0.6629\n",
      "Epoch 9/50\n",
      "2800/2800 [==============================] - 15s 5ms/step - loss: 0.5972 - acc: 0.6607 - val_loss: 0.6070 - val_acc: 0.6557\n",
      "Epoch 10/50\n",
      "2800/2800 [==============================] - 15s 5ms/step - loss: 0.5885 - acc: 0.6711 - val_loss: 0.6010 - val_acc: 0.6614\n",
      "Epoch 11/50\n",
      "2800/2800 [==============================] - 16s 6ms/step - loss: 0.5796 - acc: 0.6868 - val_loss: 0.5962 - val_acc: 0.6700\n",
      "Epoch 12/50\n",
      "2800/2800 [==============================] - 16s 6ms/step - loss: 0.5707 - acc: 0.6986 - val_loss: 0.5904 - val_acc: 0.6743\n",
      "Epoch 13/50\n",
      "2800/2800 [==============================] - 15s 5ms/step - loss: 0.5621 - acc: 0.7118 - val_loss: 0.5865 - val_acc: 0.6800\n",
      "Epoch 14/50\n",
      "2800/2800 [==============================] - 15s 5ms/step - loss: 0.5535 - acc: 0.7221 - val_loss: 0.5832 - val_acc: 0.6829\n",
      "Epoch 15/50\n",
      "2800/2800 [==============================] - 16s 6ms/step - loss: 0.5453 - acc: 0.7311 - val_loss: 0.5800 - val_acc: 0.6814\n",
      "Epoch 16/50\n",
      "2800/2800 [==============================] - 16s 6ms/step - loss: 0.5371 - acc: 0.7371 - val_loss: 0.5770 - val_acc: 0.6914\n",
      "Epoch 17/50\n",
      "2800/2800 [==============================] - 17s 6ms/step - loss: 0.5307 - acc: 0.7468 - val_loss: 0.5765 - val_acc: 0.6957\n",
      "Epoch 18/50\n",
      "2800/2800 [==============================] - 16s 6ms/step - loss: 0.5241 - acc: 0.7557 - val_loss: 0.5761 - val_acc: 0.6986\n",
      "Epoch 19/50\n",
      "2800/2800 [==============================] - 16s 6ms/step - loss: 0.5186 - acc: 0.7621 - val_loss: 0.5739 - val_acc: 0.7014\n",
      "Epoch 20/50\n",
      "2800/2800 [==============================] - 15s 5ms/step - loss: 0.5122 - acc: 0.7593 - val_loss: 0.5731 - val_acc: 0.7029\n",
      "Epoch 21/50\n",
      "2800/2800 [==============================] - 15s 5ms/step - loss: 0.5062 - acc: 0.7629 - val_loss: 0.5747 - val_acc: 0.7043\n",
      "Epoch 22/50\n",
      "2800/2800 [==============================] - 15s 6ms/step - loss: 0.5019 - acc: 0.7732 - val_loss: 0.5738 - val_acc: 0.7043\n",
      "Epoch 23/50\n",
      "2800/2800 [==============================] - 15s 6ms/step - loss: 0.4961 - acc: 0.7732 - val_loss: 0.5762 - val_acc: 0.6943\n",
      "Epoch 24/50\n",
      "2800/2800 [==============================] - 15s 6ms/step - loss: 0.4902 - acc: 0.7732 - val_loss: 0.5769 - val_acc: 0.6957\n",
      "Epoch 25/50\n",
      "2800/2800 [==============================] - 16s 6ms/step - loss: 0.4858 - acc: 0.7732 - val_loss: 0.5754 - val_acc: 0.6971\n"
     ]
    },
    {
     "data": {
      "image/png": "[encoded data removed]",
      "text/plain": [
       "<Figure size 432x288 with 1 Axes>"
      ]
     },
     "metadata": {
      "needs_background": "light"
     },
     "output_type": "display_data"
    }
   ],
   "source": [
    "# Define the Model & its Architecture\n",
    "in_low = Input(shape=(max_len,), dtype='int32', name='low')\n",
    "x = Embedding(max_features, emb_dim)(in_low)\n",
    "out_low = Bidirectional(LSTM(16))(x)\n",
    "\n",
    "in_mid = Input(shape=(max_len,), dtype='int32', name='mid')\n",
    "x = Embedding(max_features//10, emb_dim)(in_mid)\n",
    "out_mid = Bidirectional(LSTM(16))(x)\n",
    "\n",
    "in_high = Input(shape=(max_len,), dtype='int32', name='high')\n",
    "x = Embedding(max_features//100, emb_dim)(in_high)\n",
    "out_high = Bidirectional(LSTM(16))(x)\n",
    "\n",
    "x = concatenate([out_low, out_mid, out_high], name='my_layer')\n",
    "out = Dense(1, activation='sigmoid')(x)\n",
    "\n",
    "model = Model([in_low, in_mid, in_high], out)\n",
    "model.summary()\n",
    "\n",
    "# Choose the Optimizer and the Cost function\n",
    "model.compile(optimizer=RMSprop(lr=1e-4), loss='binary_crossentropy', metrics=['acc'])\n",
    "\n",
    "# Train the Model\n",
    "history = model.fit([X_train_low, X_train_mid, X_train_high], y_train, epochs=50, batch_size=64, \n",
    "                    validation_split=0.2, callbacks=[EarlyStopping(patience=5)])\n",
    "\n",
    "plt.plot(history.history[\"loss\"], label=\"train loss\")\n",
    "plt.plot(history.history[\"val_loss\"], label=\"validation loss\")\n",
    "plt.legend()\n",
    "plt.title(\"Loss\")\n",
    "plt.show()"
   ]
  },
  {
   "cell_type": "markdown",
   "metadata": {
    "_uuid": "842573936f8fbc2fc01cbbd7ca485be6cb3601bb"
   },
   "source": [
    "### Make Submissions"
   ]
  },
  {
   "cell_type": "code",
   "execution_count": 8,
   "metadata": {
    "_uuid": "7b6db88f3e4dee0f7f2264916edda431ac7bb72b"
   },
   "outputs": [
    {
     "name": "stdout",
     "output_type": "stream",
     "text": [
      "'bilstm_submissions.csv' is ready to submit.\n"
     ]
    }
   ],
   "source": [
    "pred = model.predict([X_test_low, X_test_mid, X_test_high])[:,0]\n",
    "fname = 'bilstm_submissions.csv'\n",
    "submissions = pd.concat([pd.Series(IDtest, name=\"cust_id\"), pd.Series(pred, name=\"gender\")] ,axis=1)\n",
    "submissions.to_csv(fname, index=False)\n",
    "print(\"'{}' is ready to submit.\" .format(fname))"
   ]
  },
  {
   "cell_type": "markdown",
   "metadata": {
    "_uuid": "db6a418af5947fb6d1546dc8949ac55663504f18"
   },
   "source": [
    "## End"
   ]
  }
 ],
 "metadata": {
  "kernelspec": {
   "display_name": "Python 3",
   "language": "python",
   "name": "python3"
  },
  "language_info": {
   "codemirror_mode": {
    "name": "ipython",
    "version": 3
   },
   "file_extension": ".py",
   "mimetype": "text/x-python",
   "name": "python",
   "nbconvert_exporter": "python",
   "pygments_lexer": "ipython3",
   "version": "3.7.6"
  }
 },
 "nbformat": 4,
 "nbformat_minor": 1
}
