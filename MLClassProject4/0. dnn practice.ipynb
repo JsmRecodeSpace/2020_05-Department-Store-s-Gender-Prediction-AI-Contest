{
 "cells": [
  {
   "cell_type": "markdown",
   "metadata": {},
   "source": [
    "libraries"
   ]
  },
  {
   "cell_type": "code",
   "execution_count": 2,
   "metadata": {},
   "outputs": [
    {
     "name": "stderr",
     "output_type": "stream",
     "text": [
      "Using TensorFlow backend.\n"
     ]
    }
   ],
   "source": [
    "%run import_modules.py  \n",
    "%matplotlib inline\n",
    "\n",
    "# For DNN modeling\n",
    "import tensorflow as tf\n",
    "\n",
    "# Tensorflow warning off\n",
    "os.environ['TF_CPP_MIN_LOG_LEVEL'] = '3' \n",
    "tf.random.set_seed(2020)\n",
    "import keras\n",
    "from keras import backend as K\n",
    "from keras.layers import * #Input, Dense\n",
    "from keras.models import * #Model\n",
    "from keras.optimizers import *\n",
    "from keras.initializers import *\n",
    "from keras.regularizers import *\n",
    "from keras.utils.np_utils import *\n",
    "from keras.utils.vis_utils import * #model_to_dot"
   ]
  },
  {
   "cell_type": "markdown",
   "metadata": {},
   "source": [
    "load data"
   ]
  },
  {
   "cell_type": "code",
   "execution_count": 3,
   "metadata": {},
   "outputs": [
    {
     "data": {
      "text/plain": [
       "((2450, 62), (1050, 62))"
      ]
     },
     "execution_count": 3,
     "metadata": {},
     "output_type": "execute_result"
    }
   ],
   "source": [
    "X_train, X_test, y_train, y_test, X_dep, ID_dep = pd.read_pickle('case3_train_test.pkl')\n",
    "\n",
    "X_train.shape, X_test.shape"
   ]
  },
  {
   "cell_type": "code",
   "execution_count": 4,
   "metadata": {},
   "outputs": [],
   "source": [
    "i = int(round(X_train.shape[0] * 0.8, 0))\n",
    "X_valid, y_valid = X_train[i:], y_train[i:]\n",
    "X_train, y_train = X_train[:i], y_train[:i]"
   ]
  },
  {
   "cell_type": "markdown",
   "metadata": {},
   "source": [
    "model architecture"
   ]
  },
  {
   "cell_type": "code",
   "execution_count": 5,
   "metadata": {},
   "outputs": [],
   "source": [
    "seed = 1\n",
    "random.seed(seed)\n",
    "np.random.seed(seed)\n",
    "tf.random.set_seed(seed)"
   ]
  },
  {
   "cell_type": "code",
   "execution_count": 6,
   "metadata": {},
   "outputs": [],
   "source": [
    "input = Input(shape=(X_train.shape[1],))\n",
    "x = Dense(16, activation='relu')(input)\n",
    "x = Dropout(0.3)(x)\n",
    "x = Dense(8, activation='relu')(x)\n",
    "x = Dropout(0.2)(x)\n",
    "output = Dense(1, activation='sigmoid')(x)\n",
    "\n",
    "model = Model(input, output)"
   ]
  },
  {
   "cell_type": "code",
   "execution_count": 9,
   "metadata": {},
   "outputs": [
    {
     "name": "stdout",
     "output_type": "stream",
     "text": [
      "Model: \"model_1\"\n",
      "_________________________________________________________________\n",
      "Layer (type)                 Output Shape              Param #   \n",
      "=================================================================\n",
      "input_1 (InputLayer)         (None, 62)                0         \n",
      "_________________________________________________________________\n",
      "dense_1 (Dense)              (None, 16)                1008      \n",
      "_________________________________________________________________\n",
      "dropout_1 (Dropout)          (None, 16)                0         \n",
      "_________________________________________________________________\n",
      "dense_2 (Dense)              (None, 8)                 136       \n",
      "_________________________________________________________________\n",
      "dropout_2 (Dropout)          (None, 8)                 0         \n",
      "_________________________________________________________________\n",
      "dense_3 (Dense)              (None, 1)                 9         \n",
      "=================================================================\n",
      "Total params: 1,153\n",
      "Trainable params: 1,153\n",
      "Non-trainable params: 0\n",
      "_________________________________________________________________\n"
     ]
    }
   ],
   "source": [
    "model.summary()"
   ]
  },
  {
   "cell_type": "markdown",
   "metadata": {},
   "source": [
    "choose the optimizer and the cost function"
   ]
  },
  {
   "cell_type": "code",
   "execution_count": 13,
   "metadata": {},
   "outputs": [],
   "source": [
    "model.compile(loss='binary_crossentropy', optimizer='adam', metrics=['acc'])"
   ]
  },
  {
   "cell_type": "markdown",
   "metadata": {},
   "source": [
    "train the model"
   ]
  },
  {
   "cell_type": "code",
   "execution_count": 17,
   "metadata": {},
   "outputs": [],
   "source": [
    "callbacks = [keras.callbacks.EarlyStopping(monitor='val_loss', patience=25)]"
   ]
  },
  {
   "cell_type": "code",
   "execution_count": 39,
   "metadata": {
    "scrolled": true
   },
   "outputs": [
    {
     "name": "stdout",
     "output_type": "stream",
     "text": [
      "Train on 1960 samples, validate on 490 samples\n",
      "Epoch 1/200\n",
      " - 0s - loss: 0.3102 - acc: 0.8536 - val_loss: 1.0803 - val_acc: 0.7265\n",
      "Epoch 2/200\n",
      " - 0s - loss: 0.3072 - acc: 0.8617 - val_loss: 1.0806 - val_acc: 0.7306\n",
      "Epoch 3/200\n",
      " - 0s - loss: 0.3090 - acc: 0.8622 - val_loss: 1.0938 - val_acc: 0.7306\n",
      "Epoch 4/200\n",
      " - 0s - loss: 0.3257 - acc: 0.8444 - val_loss: 1.0874 - val_acc: 0.7245\n",
      "Epoch 5/200\n",
      " - 0s - loss: 0.3167 - acc: 0.8531 - val_loss: 1.0992 - val_acc: 0.7306\n",
      "Epoch 6/200\n",
      " - 0s - loss: 0.3271 - acc: 0.8474 - val_loss: 1.0871 - val_acc: 0.7347\n",
      "Epoch 7/200\n",
      " - 0s - loss: 0.3180 - acc: 0.8612 - val_loss: 1.0966 - val_acc: 0.7286\n",
      "Epoch 8/200\n",
      " - 0s - loss: 0.3219 - acc: 0.8500 - val_loss: 1.0970 - val_acc: 0.7204\n",
      "Epoch 9/200\n",
      " - 0s - loss: 0.3067 - acc: 0.8658 - val_loss: 1.1054 - val_acc: 0.7265\n",
      "Epoch 10/200\n",
      " - 0s - loss: 0.3154 - acc: 0.8643 - val_loss: 1.1020 - val_acc: 0.7224\n",
      "Epoch 11/200\n",
      " - 0s - loss: 0.3137 - acc: 0.8541 - val_loss: 1.1077 - val_acc: 0.7224\n",
      "Epoch 12/200\n",
      " - 0s - loss: 0.3259 - acc: 0.8500 - val_loss: 1.1032 - val_acc: 0.7204\n",
      "Epoch 13/200\n",
      " - 0s - loss: 0.3104 - acc: 0.8561 - val_loss: 1.1150 - val_acc: 0.7245\n",
      "Epoch 14/200\n",
      " - 0s - loss: 0.3233 - acc: 0.8520 - val_loss: 1.1102 - val_acc: 0.7265\n",
      "Epoch 15/200\n",
      " - 0s - loss: 0.3177 - acc: 0.8541 - val_loss: 1.1210 - val_acc: 0.7286\n",
      "Epoch 16/200\n",
      " - 0s - loss: 0.3180 - acc: 0.8510 - val_loss: 1.1238 - val_acc: 0.7286\n",
      "Epoch 17/200\n",
      " - 0s - loss: 0.3137 - acc: 0.8577 - val_loss: 1.1277 - val_acc: 0.7265\n",
      "Epoch 18/200\n",
      " - 0s - loss: 0.3248 - acc: 0.8500 - val_loss: 1.1229 - val_acc: 0.7265\n",
      "Epoch 19/200\n",
      " - 0s - loss: 0.3167 - acc: 0.8551 - val_loss: 1.1144 - val_acc: 0.7286\n",
      "Epoch 20/200\n",
      " - 0s - loss: 0.3292 - acc: 0.8515 - val_loss: 1.1217 - val_acc: 0.7245\n",
      "Epoch 21/200\n",
      " - 0s - loss: 0.3063 - acc: 0.8622 - val_loss: 1.1412 - val_acc: 0.7286\n",
      "Epoch 22/200\n",
      " - 0s - loss: 0.3044 - acc: 0.8628 - val_loss: 1.1462 - val_acc: 0.7286\n",
      "Epoch 23/200\n",
      " - 0s - loss: 0.3221 - acc: 0.8418 - val_loss: 1.1483 - val_acc: 0.7265\n",
      "Epoch 24/200\n",
      " - 0s - loss: 0.3188 - acc: 0.8526 - val_loss: 1.1480 - val_acc: 0.7245\n",
      "Epoch 25/200\n",
      " - 0s - loss: 0.3234 - acc: 0.8510 - val_loss: 1.1572 - val_acc: 0.7286\n",
      "Epoch 26/200\n",
      " - 0s - loss: 0.2963 - acc: 0.8658 - val_loss: 1.1651 - val_acc: 0.7245\n"
     ]
    }
   ],
   "source": [
    "hist = model.fit(X_train, y_train, validation_data=(X_valid, y_valid),\n",
    "                batch_size=64, epochs=200, callbacks=callbacks, verbose=2)"
   ]
  },
  {
   "cell_type": "markdown",
   "metadata": {},
   "source": [
    "visualize training history"
   ]
  },
  {
   "cell_type": "code",
   "execution_count": 40,
   "metadata": {},
   "outputs": [
    {
     "data": {
      "text/plain": [
       "dict_keys(['val_loss', 'val_acc', 'loss', 'acc'])"
      ]
     },
     "execution_count": 40,
     "metadata": {},
     "output_type": "execute_result"
    }
   ],
   "source": [
    "hist.history.keys()"
   ]
  },
  {
   "cell_type": "code",
   "execution_count": 41,
   "metadata": {},
   "outputs": [
    {
     "data": {
      "image/png": "[encoded data removed]",
      "text/plain": [
       "<Figure size 432x288 with 1 Axes>"
      ]
     },
     "metadata": {
      "needs_background": "light"
     },
     "output_type": "display_data"
    }
   ],
   "source": [
    "plt.plot(hist.history['loss'], label='train loss')\n",
    "plt.plot(hist.history['val_loss'], label='validation loss')\n",
    "plt.legend()\n",
    "plt.xlabel('epoch')\n",
    "plt.title('Loss')\n",
    "plt.show()"
   ]
  },
  {
   "cell_type": "code",
   "execution_count": 42,
   "metadata": {},
   "outputs": [
    {
     "data": {
      "image/png": "[encoded data removed]",
      "text/plain": [
       "<Figure size 432x288 with 1 Axes>"
      ]
     },
     "metadata": {
      "needs_background": "light"
     },
     "output_type": "display_data"
    }
   ],
   "source": [
    "plt.plot(hist.history['acc'], label='train acc')\n",
    "plt.plot(hist.history['val_acc'], label='validation acc')\n",
    "plt.legend()\n",
    "plt.xlabel('epoch')\n",
    "plt.title('acc')\n",
    "plt.show()"
   ]
  },
  {
   "cell_type": "markdown",
   "metadata": {},
   "source": [
    "evaluate the model performance"
   ]
  },
  {
   "cell_type": "code",
   "execution_count": 43,
   "metadata": {},
   "outputs": [
    {
     "name": "stdout",
     "output_type": "stream",
     "text": [
      "1050/1050 [==============================] - 0s 12us/step\n"
     ]
    },
    {
     "data": {
      "text/plain": [
       "[1.4035408215295702, 0.6580952405929565]"
      ]
     },
     "execution_count": 43,
     "metadata": {},
     "output_type": "execute_result"
    }
   ],
   "source": [
    "model.evaluate(X_test, y_test)"
   ]
  },
  {
   "cell_type": "code",
   "execution_count": 44,
   "metadata": {},
   "outputs": [
    {
     "data": {
      "text/plain": [
       "0.6978227596384575"
      ]
     },
     "execution_count": 44,
     "metadata": {},
     "output_type": "execute_result"
    }
   ],
   "source": [
    "roc_auc_score(y_test, model.predict(X_test))"
   ]
  },
  {
   "cell_type": "markdown",
   "metadata": {},
   "source": [
    "predict unseen data"
   ]
  },
  {
   "cell_type": "code",
   "execution_count": 47,
   "metadata": {},
   "outputs": [
    {
     "data": {
      "text/plain": [
       "(2482, 1)"
      ]
     },
     "execution_count": 47,
     "metadata": {},
     "output_type": "execute_result"
    }
   ],
   "source": [
    "model.predict(X_dep).shape"
   ]
  },
  {
   "cell_type": "code",
   "execution_count": 46,
   "metadata": {
    "scrolled": true
   },
   "outputs": [
    {
     "data": {
      "text/plain": [
       "array([[8.8337249e-01],\n",
       "       [6.2584877e-07],\n",
       "       [2.4160340e-01],\n",
       "       ...,\n",
       "       [8.9076996e-01],\n",
       "       [6.0648825e-02],\n",
       "       [5.7417983e-01]], dtype=float32)"
      ]
     },
     "execution_count": 46,
     "metadata": {},
     "output_type": "execute_result"
    }
   ],
   "source": [
    "model.predict(X_dep)"
   ]
  },
  {
   "cell_type": "code",
   "execution_count": 48,
   "metadata": {},
   "outputs": [
    {
     "data": {
      "text/plain": [
       "array([8.8337249e-01, 6.2584877e-07, 2.4160340e-01, ..., 8.9076996e-01,\n",
       "       6.0648825e-02, 5.7417983e-01], dtype=float32)"
      ]
     },
     "execution_count": 48,
     "metadata": {},
     "output_type": "execute_result"
    }
   ],
   "source": [
    "model.predict(X_dep).flatten()"
   ]
  },
  {
   "cell_type": "code",
   "execution_count": 49,
   "metadata": {},
   "outputs": [
    {
     "data": {
      "text/plain": [
       "(2482,)"
      ]
     },
     "execution_count": 49,
     "metadata": {},
     "output_type": "execute_result"
    }
   ],
   "source": [
    "model.predict(X_dep).flatten().shape"
   ]
  },
  {
   "cell_type": "code",
   "execution_count": 53,
   "metadata": {},
   "outputs": [
    {
     "data": {
      "text/plain": [
       "array([1, 0, 0, ..., 1, 0, 1])"
      ]
     },
     "execution_count": 53,
     "metadata": {},
     "output_type": "execute_result"
    }
   ],
   "source": [
    "# get class labels\n",
    "np.where(model.predict(X_dep) > 0.5, 1, 0).flatten()"
   ]
  },
  {
   "cell_type": "code",
   "execution_count": 54,
   "metadata": {},
   "outputs": [
    {
     "data": {
      "text/html": [
       "<div>\n",
       "<style scoped>\n",
       "    .dataframe tbody tr th:only-of-type {\n",
       "        vertical-align: middle;\n",
       "    }\n",
       "\n",
       "    .dataframe tbody tr th {\n",
       "        vertical-align: top;\n",
       "    }\n",
       "\n",
       "    .dataframe thead th {\n",
       "        text-align: right;\n",
       "    }\n",
       "</style>\n",
       "<table border=\"1\" class=\"dataframe\">\n",
       "  <thead>\n",
       "    <tr style=\"text-align: right;\">\n",
       "      <th></th>\n",
       "      <th>cust_id</th>\n",
       "      <th>gender</th>\n",
       "    </tr>\n",
       "  </thead>\n",
       "  <tbody>\n",
       "    <tr>\n",
       "      <th>0</th>\n",
       "      <td>3500</td>\n",
       "      <td>8.833725e-01</td>\n",
       "    </tr>\n",
       "    <tr>\n",
       "      <th>1</th>\n",
       "      <td>3501</td>\n",
       "      <td>6.258488e-07</td>\n",
       "    </tr>\n",
       "    <tr>\n",
       "      <th>2</th>\n",
       "      <td>3502</td>\n",
       "      <td>2.416034e-01</td>\n",
       "    </tr>\n",
       "    <tr>\n",
       "      <th>3</th>\n",
       "      <td>3503</td>\n",
       "      <td>1.608026e-01</td>\n",
       "    </tr>\n",
       "    <tr>\n",
       "      <th>4</th>\n",
       "      <td>3504</td>\n",
       "      <td>5.221696e-01</td>\n",
       "    </tr>\n",
       "    <tr>\n",
       "      <th>...</th>\n",
       "      <td>...</td>\n",
       "      <td>...</td>\n",
       "    </tr>\n",
       "    <tr>\n",
       "      <th>2477</th>\n",
       "      <td>5977</td>\n",
       "      <td>3.008423e-01</td>\n",
       "    </tr>\n",
       "    <tr>\n",
       "      <th>2478</th>\n",
       "      <td>5978</td>\n",
       "      <td>1.833051e-02</td>\n",
       "    </tr>\n",
       "    <tr>\n",
       "      <th>2479</th>\n",
       "      <td>5979</td>\n",
       "      <td>8.907700e-01</td>\n",
       "    </tr>\n",
       "    <tr>\n",
       "      <th>2480</th>\n",
       "      <td>5980</td>\n",
       "      <td>6.064883e-02</td>\n",
       "    </tr>\n",
       "    <tr>\n",
       "      <th>2481</th>\n",
       "      <td>5981</td>\n",
       "      <td>5.741798e-01</td>\n",
       "    </tr>\n",
       "  </tbody>\n",
       "</table>\n",
       "<p>2482 rows × 2 columns</p>\n",
       "</div>"
      ],
      "text/plain": [
       "      cust_id        gender\n",
       "0        3500  8.833725e-01\n",
       "1        3501  6.258488e-07\n",
       "2        3502  2.416034e-01\n",
       "3        3503  1.608026e-01\n",
       "4        3504  5.221696e-01\n",
       "...       ...           ...\n",
       "2477     5977  3.008423e-01\n",
       "2478     5978  1.833051e-02\n",
       "2479     5979  8.907700e-01\n",
       "2480     5980  6.064883e-02\n",
       "2481     5981  5.741798e-01\n",
       "\n",
       "[2482 rows x 2 columns]"
      ]
     },
     "execution_count": 54,
     "metadata": {},
     "output_type": "execute_result"
    }
   ],
   "source": [
    "# make submissions\n",
    "\n",
    "pd.DataFrame({'cust_id': ID_dep, 'gender': model.predict(X_dep).flatten()})"
   ]
  },
  {
   "cell_type": "markdown",
   "metadata": {},
   "source": [
    "save the model for future use"
   ]
  },
  {
   "cell_type": "code",
   "execution_count": 55,
   "metadata": {},
   "outputs": [],
   "source": [
    "# pickle 형식으로 저장\n",
    "with open('nm_model.pkl', 'wb') as f:\n",
    "    pickle.dump(model, f)"
   ]
  },
  {
   "cell_type": "code",
   "execution_count": 56,
   "metadata": {},
   "outputs": [],
   "source": [
    "# 추후 저장한 모형 불러올 때\n",
    "model = pd.read_pickle('nm_model.pkl')"
   ]
  },
  {
   "cell_type": "code",
   "execution_count": 58,
   "metadata": {},
   "outputs": [],
   "source": [
    "# h5 형식으로 저장\n",
    "model.save('nm_model.h5')"
   ]
  },
  {
   "cell_type": "code",
   "execution_count": 59,
   "metadata": {},
   "outputs": [],
   "source": [
    "# 추후 저장한 모형 불러올 때\n",
    "model = load_model('nm_model.h5')"
   ]
  },
  {
   "cell_type": "markdown",
   "metadata": {},
   "source": [
    "1. libraries, read data     \n",
    "2. data engineering   \n",
    "3. model architecture, choose the optimizer and the cost function, train the model   \n",
    "4. visualize training history, evaluate the model performance   \n",
    "5. predict unseen data, save the model for future use   "
   ]
  },
  {
   "cell_type": "code",
   "execution_count": null,
   "metadata": {},
   "outputs": [],
   "source": []
  },
  {
   "cell_type": "code",
   "execution_count": null,
   "metadata": {},
   "outputs": [],
   "source": []
  },
  {
   "cell_type": "code",
   "execution_count": null,
   "metadata": {},
   "outputs": [],
   "source": []
  }
 ],
 "metadata": {
  "kernelspec": {
   "display_name": "Python 3",
   "language": "python",
   "name": "python3"
  },
  "language_info": {
   "codemirror_mode": {
    "name": "ipython",
    "version": 3
   },
   "file_extension": ".py",
   "mimetype": "text/x-python",
   "name": "python",
   "nbconvert_exporter": "python",
   "pygments_lexer": "ipython3",
   "version": "3.7.6"
  }
 },
 "nbformat": 4,
 "nbformat_minor": 4
}
