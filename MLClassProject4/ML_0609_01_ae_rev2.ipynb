{
 "cells": [
  {
   "cell_type": "markdown",
   "metadata": {
    "_uuid": "93b41229599509f643f1c1df3b86b3f79b66666f"
   },
   "source": [
    "<font color='tomato'><font color=\"#CC3D3D\"><p>\n",
    "# This model has the following characteristics:\n",
    "* No feature engineering\n",
    "* Applying BOW to raw transactions\n",
    "* Applying Autoencoder to reduce the number of features"
   ]
  },
  {
   "cell_type": "markdown",
   "metadata": {},
   "source": [
    "<img align='left' src=\"https://blog.keras.io/img/ae/autoencoder_schema.jpg\" width=700 height=500>"
   ]
  },
  {
   "cell_type": "code",
   "execution_count": null,
   "metadata": {},
   "outputs": [],
   "source": [
    "# 뉴럴넷의 PCA 역할을 하는 것이 autoEncoder이다.\n",
    "# 훨씬 자유도가 높다\n",
    "# 입력 뉴런이 100개면 -> 출력뉴런의 수도 100개여야함\n",
    "# 중간의 히든레이어의 뉴런의 수가 입력뉴런보다 작아야함.\n",
    "# 100개 들어가면 히든에서 적어졋다가 다시 출력에서 100개로\n",
    "# 가운데 층이 입력층보다 피쳐가 더 작아 -> 압축된 값이다.\n",
    "# 가운데가 PCA처럼 차원이 축소된 값이 될 것이다.\n",
    "# 가운데로 바꾸는 것을 encoder 출력할때 다시 바꿔주는 것을 decoder\n",
    "# 입력을 어느정도 차원이 작은 쪽으로 만드는 것 encdeor\n",
    "# 다시 원래대로 만드는 과정이 decoder\n",
    "#"
   ]
  },
  {
   "cell_type": "code",
   "execution_count": 3,
   "metadata": {
    "_cell_guid": "79c7e3d0-c299-4dcb-8224-4455121ee9b0",
    "_uuid": "d629ff2d2480ee46fbb7e2d37f6b5fab8052498a"
   },
   "outputs": [
    {
     "name": "stderr",
     "output_type": "stream",
     "text": [
      "Using TensorFlow backend.\n"
     ]
    }
   ],
   "source": [
    "%run import_modules.py  \n",
    "%matplotlib inline\n",
    "\n",
    "# For DNN modeling\n",
    "import tensorflow as tf\n",
    "\n",
    "# Tensorflow warning off\n",
    "os.environ['TF_CPP_MIN_LOG_LEVEL'] = '3' \n",
    "#tf.logging.set_verbosity(tf.logging.ERROR)\n",
    "\n",
    "#from tensorflow import set_random_seed\n",
    "import keras\n",
    "from keras import backend as K\n",
    "from keras.layers import * #Input, Dense\n",
    "from keras.models import * #Model\n",
    "from keras.optimizers import *\n",
    "from keras.initializers import *\n",
    "from keras.regularizers import *\n",
    "from keras.utils.np_utils import *\n",
    "from keras.utils.vis_utils import * #model_to_dot\n",
    "from keras.callbacks import EarlyStopping"
   ]
  },
  {
   "cell_type": "markdown",
   "metadata": {
    "_uuid": "dd7e3527fd56e5b5855c6846ca226f5f860f725b"
   },
   "source": [
    "### Read Data"
   ]
  },
  {
   "cell_type": "code",
   "execution_count": 4,
   "metadata": {
    "_uuid": "794123064b09797f51add356a676fb6a7aed015d"
   },
   "outputs": [
    {
     "data": {
      "text/html": [
       "<div>\n",
       "<style scoped>\n",
       "    .dataframe tbody tr th:only-of-type {\n",
       "        vertical-align: middle;\n",
       "    }\n",
       "\n",
       "    .dataframe tbody tr th {\n",
       "        vertical-align: top;\n",
       "    }\n",
       "\n",
       "    .dataframe thead th {\n",
       "        text-align: right;\n",
       "    }\n",
       "</style>\n",
       "<table border=\"1\" class=\"dataframe\">\n",
       "  <thead>\n",
       "    <tr style=\"text-align: right;\">\n",
       "      <th></th>\n",
       "      <th>cust_id</th>\n",
       "      <th>tran_date</th>\n",
       "      <th>store_nm</th>\n",
       "      <th>goods_id</th>\n",
       "      <th>gds_grp_nm</th>\n",
       "      <th>gds_grp_mclas_nm</th>\n",
       "      <th>amount</th>\n",
       "    </tr>\n",
       "  </thead>\n",
       "  <tbody>\n",
       "    <tr>\n",
       "      <th>0</th>\n",
       "      <td>0</td>\n",
       "      <td>2007-01-19 00:00:00</td>\n",
       "      <td>강남점</td>\n",
       "      <td>127105</td>\n",
       "      <td>기초 화장품</td>\n",
       "      <td>화장품</td>\n",
       "      <td>850000</td>\n",
       "    </tr>\n",
       "    <tr>\n",
       "      <th>1</th>\n",
       "      <td>0</td>\n",
       "      <td>2007-03-30 00:00:00</td>\n",
       "      <td>강남점</td>\n",
       "      <td>342220</td>\n",
       "      <td>니  트</td>\n",
       "      <td>시티웨어</td>\n",
       "      <td>480000</td>\n",
       "    </tr>\n",
       "    <tr>\n",
       "      <th>2</th>\n",
       "      <td>0</td>\n",
       "      <td>2007-03-30 00:00:00</td>\n",
       "      <td>강남점</td>\n",
       "      <td>127105</td>\n",
       "      <td>기초 화장품</td>\n",
       "      <td>화장품</td>\n",
       "      <td>3000000</td>\n",
       "    </tr>\n",
       "    <tr>\n",
       "      <th>3</th>\n",
       "      <td>0</td>\n",
       "      <td>2007-03-30 00:00:00</td>\n",
       "      <td>강남점</td>\n",
       "      <td>342205</td>\n",
       "      <td>니  트</td>\n",
       "      <td>시티웨어</td>\n",
       "      <td>840000</td>\n",
       "    </tr>\n",
       "    <tr>\n",
       "      <th>4</th>\n",
       "      <td>0</td>\n",
       "      <td>2007-03-30 00:00:00</td>\n",
       "      <td>강남점</td>\n",
       "      <td>342220</td>\n",
       "      <td>상품군미지정</td>\n",
       "      <td>기타</td>\n",
       "      <td>20000</td>\n",
       "    </tr>\n",
       "  </tbody>\n",
       "</table>\n",
       "</div>"
      ],
      "text/plain": [
       "   cust_id            tran_date store_nm  goods_id gds_grp_nm  \\\n",
       "0        0  2007-01-19 00:00:00      강남점    127105     기초 화장품   \n",
       "1        0  2007-03-30 00:00:00      강남점    342220       니  트   \n",
       "2        0  2007-03-30 00:00:00      강남점    127105     기초 화장품   \n",
       "3        0  2007-03-30 00:00:00      강남점    342205       니  트   \n",
       "4        0  2007-03-30 00:00:00      강남점    342220     상품군미지정   \n",
       "\n",
       "  gds_grp_mclas_nm   amount  \n",
       "0              화장품   850000  \n",
       "1             시티웨어   480000  \n",
       "2              화장품  3000000  \n",
       "3             시티웨어   840000  \n",
       "4               기타    20000  "
      ]
     },
     "execution_count": 4,
     "metadata": {},
     "output_type": "execute_result"
    }
   ],
   "source": [
    "df_train = pd.read_csv('X_train.csv', encoding='cp949')\n",
    "df_test = pd.read_csv('X_test.csv', encoding='cp949')\n",
    "y_train = pd.read_csv('y_train.csv').gender\n",
    "IDtest = df_test.cust_id.unique()\n",
    "\n",
    "df_train.head()"
   ]
  },
  {
   "cell_type": "markdown",
   "metadata": {
    "_uuid": "8fdb273f73bbee0a8f11b33be46446b6825e9b6a"
   },
   "source": [
    "### Transform Categorical Data using BOW"
   ]
  },
  {
   "cell_type": "code",
   "execution_count": 5,
   "metadata": {
    "_uuid": "e258620d0d00d3a2924a9b041c4fd2bef5ab2ed9",
    "scrolled": true
   },
   "outputs": [
    {
     "data": {
      "text/plain": [
       "((3500, 4179), (2482, 4179))"
      ]
     },
     "execution_count": 5,
     "metadata": {},
     "output_type": "execute_result"
    }
   ],
   "source": [
    "# 구매건수 BOW 만들어서 옆으로 다 붙인 것 -> 화끈하게 압축시칼라 하는 것\n",
    "# PCA할때 혜리가 스토어 지점넣어서 PCA 돌린 것과 같은 개념\n",
    "# 오토인코더는 sparse한 데이터에 먹힌다 PCA와 비슷함\n",
    "# \n",
    "\n",
    "level = 'gds_grp_nm'\n",
    "\n",
    "df_all = pd.concat([df_train, df_test])\n",
    "train1 = pd.pivot_table(df_all, index='cust_id', columns=level, values='amount',\n",
    "                         aggfunc=lambda x: np.where(len(x) >=1, 1, 0), fill_value=0). \\\n",
    "                         reset_index(). \\\n",
    "                         query('cust_id not in @IDtest'). \\\n",
    "                         drop(columns=['cust_id']).values\n",
    "test1 = pd.pivot_table(df_all, index='cust_id', columns=level, values='amount',\n",
    "                         aggfunc=lambda x: np.where(len(x) >=1, 1, 0), fill_value=0). \\\n",
    "                         reset_index(). \\\n",
    "                         query('cust_id in @IDtest'). \\\n",
    "                         drop(columns=['cust_id']).values\n",
    "\n",
    "level = 'gds_grp_mclas_nm'\n",
    "\n",
    "df_all = pd.concat([df_train, df_test])\n",
    "train2 = pd.pivot_table(df_all, index='cust_id', columns=level, values='amount',\n",
    "                         aggfunc=lambda x: np.where(len(x) >=1, 1, 0), fill_value=0). \\\n",
    "                         reset_index(). \\\n",
    "                         query('cust_id not in @IDtest'). \\\n",
    "                         drop(columns=['cust_id']).values\n",
    "test2 = pd.pivot_table(df_all, index='cust_id', columns=level, values='amount',\n",
    "                         aggfunc=lambda x: np.where(len(x) >=1, 1, 0), fill_value=0). \\\n",
    "                         reset_index(). \\\n",
    "                         query('cust_id in @IDtest'). \\\n",
    "                         drop(columns=['cust_id']).values\n",
    "\n",
    "level = 'goods_id'\n",
    "\n",
    "df_all = pd.concat([df_train, df_test])\n",
    "train3 = pd.pivot_table(df_all, index='cust_id', columns=level, values='amount',\n",
    "                         aggfunc=lambda x: np.where(len(x) >=1, 1, 0), fill_value=0). \\\n",
    "                         reset_index(). \\\n",
    "                         query('cust_id not in @IDtest'). \\\n",
    "                         drop(columns=['cust_id']).values\n",
    "test3 = pd.pivot_table(df_all, index='cust_id', columns=level, values='amount',\n",
    "                         aggfunc=lambda x: np.where(len(x) >=1, 1, 0), fill_value=0). \\\n",
    "                         reset_index(). \\\n",
    "                         query('cust_id in @IDtest'). \\\n",
    "                         drop(columns=['cust_id']).values\n",
    "\n",
    "train = np.hstack([train1, train2, train3])\n",
    "test = np.hstack([test1, test2, test3])\n",
    "\n",
    "train.shape, test.shape"
   ]
  },
  {
   "cell_type": "markdown",
   "metadata": {
    "_uuid": "e164a8c9f319c2d69804b54236e55b98fa9fdef5"
   },
   "source": [
    "### Reduce Dimensionality using Autoencoder"
   ]
  },
  {
   "cell_type": "code",
   "execution_count": 6,
   "metadata": {
    "_uuid": "9b9fb17eaecd326dea504e129f4cf43ea7c11cea",
    "scrolled": true
   },
   "outputs": [
    {
     "name": "stdout",
     "output_type": "stream",
     "text": [
      "Model: \"model_1\"\n",
      "_________________________________________________________________\n",
      "Layer (type)                 Output Shape              Param #   \n",
      "=================================================================\n",
      "input_1 (InputLayer)         (None, 4179)              0         \n",
      "_________________________________________________________________\n",
      "dense_1 (Dense)              (None, 512)               2140160   \n",
      "_________________________________________________________________\n",
      "dense_2 (Dense)              (None, 256)               131328    \n",
      "_________________________________________________________________\n",
      "dense_3 (Dense)              (None, 128)               32896     \n",
      "_________________________________________________________________\n",
      "dense_4 (Dense)              (None, 128)               16512     \n",
      "_________________________________________________________________\n",
      "dense_5 (Dense)              (None, 128)               16512     \n",
      "_________________________________________________________________\n",
      "dense_6 (Dense)              (None, 256)               33024     \n",
      "_________________________________________________________________\n",
      "dense_7 (Dense)              (None, 512)               131584    \n",
      "_________________________________________________________________\n",
      "dense_8 (Dense)              (None, 4179)              2143827   \n",
      "=================================================================\n",
      "Total params: 4,645,843\n",
      "Trainable params: 4,645,843\n",
      "Non-trainable params: 0\n",
      "_________________________________________________________________\n",
      "Train on 3500 samples, validate on 2482 samples\n",
      "Epoch 1/20\n",
      "3500/3500 [==============================] - 4s 1ms/step - loss: 0.0097 - val_loss: 0.0095\n",
      "Epoch 2/20\n",
      "3500/3500 [==============================] - 4s 1ms/step - loss: 0.0089 - val_loss: 0.0090\n",
      "Epoch 3/20\n",
      "3500/3500 [==============================] - 4s 1ms/step - loss: 0.0086 - val_loss: 0.0088\n",
      "Epoch 4/20\n",
      "3500/3500 [==============================] - 4s 1ms/step - loss: 0.0083 - val_loss: 0.0085\n",
      "Epoch 5/20\n",
      "3500/3500 [==============================] - 4s 1ms/step - loss: 0.0081 - val_loss: 0.0083\n",
      "Epoch 6/20\n",
      "3500/3500 [==============================] - 5s 1ms/step - loss: 0.0078 - val_loss: 0.0082\n",
      "Epoch 7/20\n",
      "3500/3500 [==============================] - 4s 1ms/step - loss: 0.0077 - val_loss: 0.0081\n",
      "Epoch 8/20\n",
      "3500/3500 [==============================] - 4s 1ms/step - loss: 0.0075 - val_loss: 0.0080\n",
      "Epoch 9/20\n",
      "3500/3500 [==============================] - 5s 1ms/step - loss: 0.0073 - val_loss: 0.0079\n",
      "Epoch 10/20\n",
      "3500/3500 [==============================] - 5s 1ms/step - loss: 0.0072 - val_loss: 0.0078\n",
      "Epoch 11/20\n",
      "3500/3500 [==============================] - 4s 1ms/step - loss: 0.0071 - val_loss: 0.0078\n",
      "Epoch 12/20\n",
      "3500/3500 [==============================] - 4s 1ms/step - loss: 0.0070 - val_loss: 0.0077\n",
      "Epoch 13/20\n",
      "3500/3500 [==============================] - 4s 1ms/step - loss: 0.0069 - val_loss: 0.0077\n",
      "Epoch 14/20\n",
      "3500/3500 [==============================] - 4s 1ms/step - loss: 0.0067 - val_loss: 0.0077\n",
      "Epoch 15/20\n",
      "3500/3500 [==============================] - 4s 1ms/step - loss: 0.0066 - val_loss: 0.0076\n",
      "Epoch 16/20\n",
      "3500/3500 [==============================] - 4s 1ms/step - loss: 0.0065 - val_loss: 0.0076\n",
      "Epoch 17/20\n",
      "3500/3500 [==============================] - 4s 1ms/step - loss: 0.0064 - val_loss: 0.0076\n",
      "Epoch 18/20\n",
      "3500/3500 [==============================] - 5s 1ms/step - loss: 0.0063 - val_loss: 0.0076\n",
      "Epoch 19/20\n",
      "3500/3500 [==============================] - 4s 1ms/step - loss: 0.0062 - val_loss: 0.0076\n",
      "Epoch 20/20\n",
      "3500/3500 [==============================] - 5s 1ms/step - loss: 0.0061 - val_loss: 0.0076\n"
     ]
    },
    {
     "data": {
      "image/png": "[encoded data removed]",
      "text/plain": [
       "<Figure size 432x288 with 1 Axes>"
      ]
     },
     "metadata": {
      "needs_background": "light"
     },
     "output_type": "display_data"
    }
   ],
   "source": [
    "# encoding_dim이 가운데 히든레이어 차원을 몇차원으로 할 것이냐 하는 것\n",
    "\n",
    "\n",
    "# Define the number of features\n",
    "max_features = train.shape[1]\n",
    "\n",
    "# Define the encoder dimension\n",
    "encoding_dim = 128\n",
    "\n",
    "# Input Layer\n",
    "input_dim = Input(shape = (max_features, )) # 피쳐가 얼마나\n",
    "\n",
    "# Encoder Layers\n",
    "encoded1 = Dense(512, activation = 'relu')(input_dim) # 층 쌓기: 뉴런이 512개\n",
    "encoded2 = Dense(256, activation = 'relu')(encoded1) # activation함수를 relu를 씀\n",
    "encoded3 = Dense(128, activation = 'relu')(encoded2) # activation함수 다른거로 바꿔도 됨\n",
    "encoded4 = Dense(encoding_dim, activation = 'relu')(encoded3) # <- 압축된 부분, 차원축소된 부분\n",
    "# 전형적인 모습: 입력뉴런이 굉장히 크다가 점점 줄음. 반씩 줄여감\n",
    "# 64보다 128이 나아서 128로 함 보통 이렇게 함\n",
    "# 그다음 다시 늘림. 줄여가는 과정이 encoder 늘려가는게 decoder\n",
    "\n",
    "# Decoder Layers\n",
    "decoded1 = Dense(128, activation = 'relu')(encoded4)\n",
    "decoded2 = Dense(256, activation = 'relu')(decoded1)\n",
    "decoded3 = Dense(512, activation = 'relu')(decoded2)\n",
    "decoded4 = Dense(max_features, activation = 'linear')(decoded3)\n",
    "# 마지막에 입력층하고 값이 같아야 함. 그래서 최종 뉴런이 max_features임\n",
    "# activation을 linear쓰기도하고 sortmax쓰기도 함\n",
    "# \n",
    "\n",
    "# Combine Encoder and Deocder layers\n",
    "autoencoder = Model(inputs = input_dim, outputs = decoded4)\n",
    "autoencoder.summary()\n",
    "\n",
    "# Compile the model\n",
    "autoencoder.compile(optimizer = 'adam', loss = 'mse')\n",
    "# 아담, linear써서 mse를 씀, softmax를 쓰면 binary crossentropy씀\n",
    "\n",
    "\n",
    "# Train the model\n",
    "history = autoencoder.fit(train, train, epochs=20, batch_size=64, \n",
    "                          shuffle=True, validation_data=(test,test))\n",
    "# X하고 y가 똑같음. 입력값과 출력값이 같아야함. train, train\n",
    "# 셔플은 epoch끝날땓마다 셔플을 할꺼냐 안할꺼냐\n",
    "# validation_data로 쓸꺼냐.\n",
    "# 자체가 비지도 학습이어서 쓰는대로 들어감. 예측해야할 레이블이 없다\n",
    "# early stop 안썻는데 써도 됨.\n",
    "# loss가 떨어지면 잘 하고 있는 것\n",
    "\n",
    "plt.plot(history.history[\"loss\"], label=\"train loss\")\n",
    "plt.plot(history.history[\"val_loss\"], label=\"validation loss\")\n",
    "plt.legend()\n",
    "plt.title(\"Loss\")\n",
    "plt.show()\n",
    "\n",
    "# "
   ]
  },
  {
   "cell_type": "code",
   "execution_count": 7,
   "metadata": {
    "_uuid": "6dd0e229a627e051f3141d4bb3c3d9970953dba0"
   },
   "outputs": [
    {
     "data": {
      "text/plain": [
       "((3500, 128), (2482, 128))"
      ]
     },
     "execution_count": 7,
     "metadata": {},
     "output_type": "execute_result"
    }
   ],
   "source": [
    "# 중간에 차원축소된 부분을 뽑아낼수가 있음\n",
    "# model = Model(inputs=input_dim, outputs=act) 인풋을 냅두고 아웃풋을 바꿈\n",
    "# 4000몇개 들어갓을 때 압축된 피쳐를 쓰겟다는 것 PCA된 거라 생각\n",
    "# 소스코드는 복잡한데 가운데 코드가 제일 좋더라\n",
    "\n",
    "# Use a middle Bottleneck Layer to Reduce Dimension\n",
    "hidden_act = [encoded4] #[encoded1, encoded2, encoded3, decoded1, decoded2]\n",
    "for ix, act in enumerate(hidden_act):\n",
    "    model = Model(inputs=input_dim, outputs=act)\n",
    "    if ix == 0: \n",
    "        X_train = model.predict(train)\n",
    "        X_test = model.predict(test)\n",
    "    else:\n",
    "        X_train = np.hstack([X_train, model.predict(train)])\n",
    "        X_test = np.hstack([X_test, model.predict(test)])\n",
    "        \n",
    "X_train.shape, X_test.shape"
   ]
  },
  {
   "cell_type": "markdown",
   "metadata": {
    "_uuid": "756511749ed6b1dcd34e791c15f041d4e47f9df4"
   },
   "source": [
    "### Build Models"
   ]
  },
  {
   "cell_type": "code",
   "execution_count": 8,
   "metadata": {
    "_uuid": "5e470379b59e72b66cc024f62ba5ac514f7cf15b",
    "scrolled": true
   },
   "outputs": [
    {
     "name": "stdout",
     "output_type": "stream",
     "text": [
      "Model: \"sequential_1\"\n",
      "_________________________________________________________________\n",
      "Layer (type)                 Output Shape              Param #   \n",
      "=================================================================\n",
      "dense_9 (Dense)              (None, 32)                4128      \n",
      "_________________________________________________________________\n",
      "dropout_1 (Dropout)          (None, 32)                0         \n",
      "_________________________________________________________________\n",
      "dense_10 (Dense)             (None, 16)                528       \n",
      "_________________________________________________________________\n",
      "dropout_2 (Dropout)          (None, 16)                0         \n",
      "_________________________________________________________________\n",
      "dense_11 (Dense)             (None, 1)                 17        \n",
      "=================================================================\n",
      "Total params: 4,673\n",
      "Trainable params: 4,673\n",
      "Non-trainable params: 0\n",
      "_________________________________________________________________\n",
      "Train on 2800 samples, validate on 700 samples\n",
      "Epoch 1/100\n",
      "2800/2800 [==============================] - 0s 86us/step - loss: 1.0832 - acc: 0.5961 - val_loss: 0.9661 - val_acc: 0.6229\n",
      "Epoch 2/100\n",
      "2800/2800 [==============================] - 0s 20us/step - loss: 0.9003 - acc: 0.6218 - val_loss: 0.8379 - val_acc: 0.6229\n",
      "Epoch 3/100\n",
      "2800/2800 [==============================] - 0s 24us/step - loss: 0.8070 - acc: 0.6214 - val_loss: 0.7689 - val_acc: 0.6229\n",
      "Epoch 4/100\n",
      "2800/2800 [==============================] - 0s 22us/step - loss: 0.7515 - acc: 0.6232 - val_loss: 0.7233 - val_acc: 0.6229\n",
      "Epoch 5/100\n",
      "2800/2800 [==============================] - 0s 25us/step - loss: 0.7105 - acc: 0.6236 - val_loss: 0.6897 - val_acc: 0.6229\n",
      "Epoch 6/100\n",
      "2800/2800 [==============================] - 0s 29us/step - loss: 0.6865 - acc: 0.6239 - val_loss: 0.6664 - val_acc: 0.6329\n",
      "Epoch 7/100\n",
      "2800/2800 [==============================] - 0s 36us/step - loss: 0.6588 - acc: 0.6396 - val_loss: 0.6459 - val_acc: 0.6643\n",
      "Epoch 8/100\n",
      "2800/2800 [==============================] - 0s 35us/step - loss: 0.6479 - acc: 0.6571 - val_loss: 0.6376 - val_acc: 0.6943\n",
      "Epoch 9/100\n",
      "2800/2800 [==============================] - 0s 31us/step - loss: 0.6404 - acc: 0.6764 - val_loss: 0.6251 - val_acc: 0.6829\n",
      "Epoch 10/100\n",
      "2800/2800 [==============================] - 0s 29us/step - loss: 0.6334 - acc: 0.6936 - val_loss: 0.6229 - val_acc: 0.6886\n",
      "Epoch 11/100\n",
      "2800/2800 [==============================] - 0s 29us/step - loss: 0.6219 - acc: 0.6925 - val_loss: 0.6095 - val_acc: 0.7086\n",
      "Epoch 12/100\n",
      "2800/2800 [==============================] - 0s 30us/step - loss: 0.6128 - acc: 0.6964 - val_loss: 0.6110 - val_acc: 0.7086\n",
      "Epoch 13/100\n",
      "2800/2800 [==============================] - 0s 27us/step - loss: 0.6116 - acc: 0.6914 - val_loss: 0.6015 - val_acc: 0.7086\n",
      "Epoch 14/100\n",
      "2800/2800 [==============================] - 0s 31us/step - loss: 0.6047 - acc: 0.7057 - val_loss: 0.6009 - val_acc: 0.7043\n",
      "Epoch 15/100\n",
      "2800/2800 [==============================] - 0s 29us/step - loss: 0.6076 - acc: 0.7025 - val_loss: 0.5927 - val_acc: 0.7043\n",
      "Epoch 16/100\n",
      "2800/2800 [==============================] - 0s 31us/step - loss: 0.6010 - acc: 0.6932 - val_loss: 0.5990 - val_acc: 0.6914\n",
      "Epoch 17/100\n",
      "2800/2800 [==============================] - 0s 33us/step - loss: 0.5987 - acc: 0.7039 - val_loss: 0.5886 - val_acc: 0.7071\n",
      "Epoch 18/100\n",
      "2800/2800 [==============================] - 0s 30us/step - loss: 0.6020 - acc: 0.6979 - val_loss: 0.5906 - val_acc: 0.7043\n",
      "Epoch 19/100\n",
      "2800/2800 [==============================] - 0s 33us/step - loss: 0.6005 - acc: 0.7089 - val_loss: 0.5905 - val_acc: 0.7014\n",
      "Epoch 20/100\n",
      "2800/2800 [==============================] - 0s 33us/step - loss: 0.5889 - acc: 0.7150 - val_loss: 0.5814 - val_acc: 0.7114\n",
      "Epoch 21/100\n",
      "2800/2800 [==============================] - 0s 26us/step - loss: 0.5838 - acc: 0.7175 - val_loss: 0.5813 - val_acc: 0.7000\n",
      "Epoch 22/100\n",
      "2800/2800 [==============================] - 0s 27us/step - loss: 0.5935 - acc: 0.7018 - val_loss: 0.5816 - val_acc: 0.7100\n",
      "Epoch 23/100\n",
      "2800/2800 [==============================] - 0s 30us/step - loss: 0.5846 - acc: 0.7104 - val_loss: 0.5765 - val_acc: 0.7200\n",
      "Epoch 24/100\n",
      "2800/2800 [==============================] - 0s 32us/step - loss: 0.5857 - acc: 0.7182 - val_loss: 0.5772 - val_acc: 0.7114\n",
      "Epoch 25/100\n",
      "2800/2800 [==============================] - 0s 30us/step - loss: 0.5798 - acc: 0.7143 - val_loss: 0.5795 - val_acc: 0.7057\n",
      "Epoch 26/100\n",
      "2800/2800 [==============================] - 0s 27us/step - loss: 0.5830 - acc: 0.7150 - val_loss: 0.5817 - val_acc: 0.7071\n",
      "Epoch 27/100\n",
      "2800/2800 [==============================] - 0s 31us/step - loss: 0.5763 - acc: 0.7064 - val_loss: 0.5764 - val_acc: 0.7029\n",
      "Epoch 28/100\n",
      "2800/2800 [==============================] - 0s 30us/step - loss: 0.5743 - acc: 0.7150 - val_loss: 0.5719 - val_acc: 0.7157\n",
      "Epoch 29/100\n",
      "2800/2800 [==============================] - 0s 30us/step - loss: 0.5826 - acc: 0.7154 - val_loss: 0.5839 - val_acc: 0.7100\n",
      "Epoch 30/100\n",
      "2800/2800 [==============================] - 0s 24us/step - loss: 0.5776 - acc: 0.7189 - val_loss: 0.5762 - val_acc: 0.7057\n",
      "Epoch 31/100\n",
      "2800/2800 [==============================] - 0s 26us/step - loss: 0.5778 - acc: 0.7189 - val_loss: 0.5774 - val_acc: 0.7100\n",
      "Epoch 32/100\n",
      "2800/2800 [==============================] - 0s 24us/step - loss: 0.5760 - acc: 0.7204 - val_loss: 0.5836 - val_acc: 0.7071\n",
      "Epoch 33/100\n",
      "2800/2800 [==============================] - 0s 24us/step - loss: 0.5801 - acc: 0.7161 - val_loss: 0.5713 - val_acc: 0.7143\n",
      "Epoch 34/100\n",
      "2800/2800 [==============================] - 0s 25us/step - loss: 0.5778 - acc: 0.7150 - val_loss: 0.5805 - val_acc: 0.6971\n",
      "Epoch 35/100\n",
      "2800/2800 [==============================] - 0s 23us/step - loss: 0.5703 - acc: 0.7186 - val_loss: 0.5736 - val_acc: 0.7114\n",
      "Epoch 36/100\n",
      "2800/2800 [==============================] - 0s 20us/step - loss: 0.5700 - acc: 0.7150 - val_loss: 0.5772 - val_acc: 0.7143\n",
      "Epoch 37/100\n",
      "2800/2800 [==============================] - 0s 21us/step - loss: 0.5714 - acc: 0.7236 - val_loss: 0.5717 - val_acc: 0.7114\n",
      "Epoch 38/100\n",
      "2800/2800 [==============================] - 0s 21us/step - loss: 0.5712 - acc: 0.7157 - val_loss: 0.5753 - val_acc: 0.7086\n"
     ]
    },
    {
     "data": {
      "image/png": "[encoded data removed]",
      "text/plain": [
       "<Figure size 432x288 with 1 Axes>"
      ]
     },
     "metadata": {
      "needs_background": "light"
     },
     "output_type": "display_data"
    }
   ],
   "source": [
    "# 뽑아낸 애 가지고 다시 뉴럴넷 학습한것\n",
    "# W2V의 상위권에 있는 정확도가 나옴. 오토 인코더의 피쳐 압축정도가 좋다.\n",
    "# \n",
    "\n",
    "# Define the number of features\n",
    "max_features = X_train.shape[1]\n",
    "\n",
    "# Define the Model architecture\n",
    "model = Sequential()\n",
    "model.add(Dense(32, activation='relu', input_shape=(max_features,), kernel_regularizer=l2(0.01)))\n",
    "model.add(Dropout(0.3))\n",
    "model.add(Dense(16, activation='relu'))\n",
    "model.add(Dropout(0.3))\n",
    "model.add(Dense(1, activation='sigmoid'))\n",
    "\n",
    "model.summary()\n",
    "\n",
    "# Train the Model\n",
    "model.compile(optimizer='adam', loss='binary_crossentropy', metrics=['acc'])\n",
    "history = model.fit(X_train, y_train, epochs=100, batch_size=64, \n",
    "                    validation_split=0.2, callbacks=[EarlyStopping(patience=5)])\n",
    "\n",
    "plt.plot(history.history[\"loss\"], label=\"train loss\")\n",
    "plt.plot(history.history[\"val_loss\"], label=\"validation loss\")\n",
    "plt.legend()\n",
    "plt.title(\"Loss\")\n",
    "plt.show()"
   ]
  },
  {
   "cell_type": "markdown",
   "metadata": {
    "_uuid": "842573936f8fbc2fc01cbbd7ca485be6cb3601bb"
   },
   "source": [
    "### Make Submissions"
   ]
  },
  {
   "cell_type": "code",
   "execution_count": 7,
   "metadata": {
    "_uuid": "7b6db88f3e4dee0f7f2264916edda431ac7bb72b"
   },
   "outputs": [
    {
     "name": "stdout",
     "output_type": "stream",
     "text": [
      "'ae_submission_06091004.csv' is ready to submit.\n"
     ]
    }
   ],
   "source": [
    "pred = model.predict(X_test)[:,0]\n",
    "t = pd.Timestamp.now()\n",
    "fname = f\"ae_submission_{t.month:02}{t.day:02}{t.hour:02}{t.minute:02}.csv\"\n",
    "submissions = pd.concat([pd.Series(IDtest, name=\"cust_id\"), pd.Series(pred, name=\"gender\")] ,axis=1)\n",
    "submissions.to_csv(fname, index=False)\n",
    "print(f\"'{fname}' is ready to submit.\")"
   ]
  },
  {
   "cell_type": "markdown",
   "metadata": {},
   "source": [
    "- 노이즈를 넣었는데 성능이 더 잘 나오더라\n",
    "- 입력 다음에 드롭아웃을 넣어서 학습시켜서 노이스가 들어가서 성능이 좋다\n",
    "- 밑에꺼 하면 더 잘 나올 것임\n",
    "- 케라스에 보면 가우시안 노이즈가 잇음"
   ]
  },
  {
   "cell_type": "markdown",
   "metadata": {},
   "source": [
    "<font color='blue'><p>\n",
    "### 추가 고려사항\n",
    "- Denoising Autoencoder (DAE)가 더 성능이 좋다고 알려져 있음 \n",
    "- DAE 구현방식         \n",
    "<img align='left' src='https://img1.daumcdn.net/thumb/R720x0.q80/?scode=mtistory2&fname=http%3A%2F%2Fcfile24.uf.tistory.com%2Fimage%2F992860505BDC99320A2AA2'>  "
   ]
  },
  {
   "cell_type": "markdown",
   "metadata": {},
   "source": [
    " - 오토 인코더 중에 스파스 인코더가 잇음\n",
    " - 학습하는 과정에서 L1을 쓰게 되면\n",
    "     1. weight 규제화\n",
    "     2. 출력값 규제화 <- 뉴런이 출력되는 것을 끊을 수가 있음\n",
    " - 순수하게 쓰는 것보다 성능이 조금더 잘 나온다가 밝혀진 사실\n",
    " - AE가 PCA보다 더 강력한 방법인것"
   ]
  },
  {
   "cell_type": "markdown",
   "metadata": {},
   "source": [
    "<font color='blue'><p>\n",
    "- Sparse Autoencoder: L1 Activity Regularization 사용       \n",
    "<img align='left' src='https://miro.medium.com/max/1400/1*k9RX5_kDYt2kG0u9ZREu5w.png' width=600>    "
   ]
  },
  {
   "cell_type": "markdown",
   "metadata": {
    "_uuid": "db6a418af5947fb6d1546dc8949ac55663504f18"
   },
   "source": [
    "<font color='tomato'><font color=\"#CC3D3D\"><p>\n",
    "# End"
   ]
  }
 ],
 "metadata": {
  "kernelspec": {
   "display_name": "Python 3",
   "language": "python",
   "name": "python3"
  },
  "language_info": {
   "codemirror_mode": {
    "name": "ipython",
    "version": 3
   },
   "file_extension": ".py",
   "mimetype": "text/x-python",
   "name": "python",
   "nbconvert_exporter": "python",
   "pygments_lexer": "ipython3",
   "version": "3.7.6"
  }
 },
 "nbformat": 4,
 "nbformat_minor": 1
}
